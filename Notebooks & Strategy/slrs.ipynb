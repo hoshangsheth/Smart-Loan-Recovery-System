{
 "cells": [
  {
   "cell_type": "markdown",
   "id": "4e5a5fb5",
   "metadata": {},
   "source": [
    "# Smart Loan Recovery System\n",
    "---\n",
    "\n",
    "## Business Objective:\n",
    " - A financial institution provides various types of loans and is facing challenges in loan recovery. The institution has observed a significant increase in delinquent loans, particularly borrowers who have missed multiple payments. The management wants to optimize the loan recovery process by identifying the best strategies based on borrower profiles, outstanding loan amounts, and past recovery outcomes.\n",
    "\n",
    " - Using historial data, the task is to develop a Loan Recovery Strategy Model that predicts each delinquent borrower's most effective recovery method to maximize the loan recovery while minimizing the costs.\n",
    "---\n",
    "\n",
    "### Below are the problems that needs to be solved:\n",
    "1. Identify borrower segments based on attributes such as: Loan amount, monthly income, payment history and missed payments.\n",
    "2. Optimize collection methods (eg: legal action, settlement offers, debt collectors, phone calls) to increase recovery rates.\n",
    "3. Minimize recovery costs while maximizing the amount recovered.\n",
    "4. Develop an early warning system to flag borrowers who are at high risk of default."
   ]
  },
  {
   "cell_type": "code",
   "execution_count": 59,
   "id": "f74aaccf",
   "metadata": {},
   "outputs": [],
   "source": [
    "# Import required libraries:\n",
    "import pandas as pd                                # Data manipulation and analysis\n",
    "import numpy as np                                 # Numerical analysis"
   ]
  },
  {
   "cell_type": "code",
   "execution_count": 60,
   "id": "ccebd7b5",
   "metadata": {},
   "outputs": [
    {
     "data": {
      "text/html": [
       "<div>\n",
       "<style scoped>\n",
       "    .dataframe tbody tr th:only-of-type {\n",
       "        vertical-align: middle;\n",
       "    }\n",
       "\n",
       "    .dataframe tbody tr th {\n",
       "        vertical-align: top;\n",
       "    }\n",
       "\n",
       "    .dataframe thead th {\n",
       "        text-align: right;\n",
       "    }\n",
       "</style>\n",
       "<table border=\"1\" class=\"dataframe\">\n",
       "  <thead>\n",
       "    <tr style=\"text-align: right;\">\n",
       "      <th></th>\n",
       "      <th>Borrower_ID</th>\n",
       "      <th>Age</th>\n",
       "      <th>Gender</th>\n",
       "      <th>Employment_Type</th>\n",
       "      <th>Monthly_Income</th>\n",
       "      <th>Num_Dependents</th>\n",
       "      <th>Loan_ID</th>\n",
       "      <th>Loan_Amount</th>\n",
       "      <th>Loan_Tenure</th>\n",
       "      <th>Interest_Rate</th>\n",
       "      <th>Loan_Type</th>\n",
       "      <th>Collateral_Value</th>\n",
       "      <th>Outstanding_Loan_Amount</th>\n",
       "      <th>Monthly_EMI</th>\n",
       "      <th>Payment_History</th>\n",
       "      <th>Num_Missed_Payments</th>\n",
       "      <th>Days_Past_Due</th>\n",
       "      <th>Recovery_Status</th>\n",
       "      <th>Collection_Attempts</th>\n",
       "      <th>Collection_Method</th>\n",
       "      <th>Legal_Action_Taken</th>\n",
       "    </tr>\n",
       "  </thead>\n",
       "  <tbody>\n",
       "    <tr>\n",
       "      <th>0</th>\n",
       "      <td>BRW_1</td>\n",
       "      <td>59</td>\n",
       "      <td>Male</td>\n",
       "      <td>Salaried</td>\n",
       "      <td>215422</td>\n",
       "      <td>0</td>\n",
       "      <td>LN_1</td>\n",
       "      <td>1445796</td>\n",
       "      <td>60</td>\n",
       "      <td>12.39</td>\n",
       "      <td>Home</td>\n",
       "      <td>1.727997e+06</td>\n",
       "      <td>2.914130e+05</td>\n",
       "      <td>4856.88</td>\n",
       "      <td>On-Time</td>\n",
       "      <td>0</td>\n",
       "      <td>0</td>\n",
       "      <td>Partially Recovered</td>\n",
       "      <td>1</td>\n",
       "      <td>Settlement Offer</td>\n",
       "      <td>No</td>\n",
       "    </tr>\n",
       "    <tr>\n",
       "      <th>1</th>\n",
       "      <td>BRW_2</td>\n",
       "      <td>49</td>\n",
       "      <td>Female</td>\n",
       "      <td>Salaried</td>\n",
       "      <td>60893</td>\n",
       "      <td>0</td>\n",
       "      <td>LN_2</td>\n",
       "      <td>1044620</td>\n",
       "      <td>12</td>\n",
       "      <td>13.47</td>\n",
       "      <td>Auto</td>\n",
       "      <td>1.180032e+06</td>\n",
       "      <td>6.652042e+05</td>\n",
       "      <td>55433.68</td>\n",
       "      <td>On-Time</td>\n",
       "      <td>0</td>\n",
       "      <td>0</td>\n",
       "      <td>Fully Recovered</td>\n",
       "      <td>2</td>\n",
       "      <td>Settlement Offer</td>\n",
       "      <td>No</td>\n",
       "    </tr>\n",
       "    <tr>\n",
       "      <th>2</th>\n",
       "      <td>BRW_3</td>\n",
       "      <td>35</td>\n",
       "      <td>Male</td>\n",
       "      <td>Salaried</td>\n",
       "      <td>116520</td>\n",
       "      <td>1</td>\n",
       "      <td>LN_3</td>\n",
       "      <td>1923410</td>\n",
       "      <td>72</td>\n",
       "      <td>7.74</td>\n",
       "      <td>Home</td>\n",
       "      <td>2.622540e+06</td>\n",
       "      <td>1.031372e+06</td>\n",
       "      <td>14324.61</td>\n",
       "      <td>Delayed</td>\n",
       "      <td>2</td>\n",
       "      <td>124</td>\n",
       "      <td>Fully Recovered</td>\n",
       "      <td>2</td>\n",
       "      <td>Legal Notice</td>\n",
       "      <td>No</td>\n",
       "    </tr>\n",
       "    <tr>\n",
       "      <th>3</th>\n",
       "      <td>BRW_4</td>\n",
       "      <td>63</td>\n",
       "      <td>Female</td>\n",
       "      <td>Salaried</td>\n",
       "      <td>140818</td>\n",
       "      <td>2</td>\n",
       "      <td>LN_4</td>\n",
       "      <td>1811663</td>\n",
       "      <td>36</td>\n",
       "      <td>12.23</td>\n",
       "      <td>Home</td>\n",
       "      <td>1.145493e+06</td>\n",
       "      <td>2.249739e+05</td>\n",
       "      <td>6249.28</td>\n",
       "      <td>On-Time</td>\n",
       "      <td>1</td>\n",
       "      <td>56</td>\n",
       "      <td>Fully Recovered</td>\n",
       "      <td>2</td>\n",
       "      <td>Calls</td>\n",
       "      <td>No</td>\n",
       "    </tr>\n",
       "    <tr>\n",
       "      <th>4</th>\n",
       "      <td>BRW_5</td>\n",
       "      <td>28</td>\n",
       "      <td>Male</td>\n",
       "      <td>Salaried</td>\n",
       "      <td>76272</td>\n",
       "      <td>1</td>\n",
       "      <td>LN_5</td>\n",
       "      <td>88578</td>\n",
       "      <td>48</td>\n",
       "      <td>16.13</td>\n",
       "      <td>Personal</td>\n",
       "      <td>0.000000e+00</td>\n",
       "      <td>3.918989e+04</td>\n",
       "      <td>816.46</td>\n",
       "      <td>On-Time</td>\n",
       "      <td>1</td>\n",
       "      <td>69</td>\n",
       "      <td>Fully Recovered</td>\n",
       "      <td>0</td>\n",
       "      <td>Debt Collectors</td>\n",
       "      <td>No</td>\n",
       "    </tr>\n",
       "  </tbody>\n",
       "</table>\n",
       "</div>"
      ],
      "text/plain": [
       "  Borrower_ID  Age  Gender Employment_Type  Monthly_Income  Num_Dependents  \\\n",
       "0       BRW_1   59    Male        Salaried          215422               0   \n",
       "1       BRW_2   49  Female        Salaried           60893               0   \n",
       "2       BRW_3   35    Male        Salaried          116520               1   \n",
       "3       BRW_4   63  Female        Salaried          140818               2   \n",
       "4       BRW_5   28    Male        Salaried           76272               1   \n",
       "\n",
       "  Loan_ID  Loan_Amount  Loan_Tenure  Interest_Rate Loan_Type  \\\n",
       "0    LN_1      1445796           60          12.39      Home   \n",
       "1    LN_2      1044620           12          13.47      Auto   \n",
       "2    LN_3      1923410           72           7.74      Home   \n",
       "3    LN_4      1811663           36          12.23      Home   \n",
       "4    LN_5        88578           48          16.13  Personal   \n",
       "\n",
       "   Collateral_Value  Outstanding_Loan_Amount  Monthly_EMI Payment_History  \\\n",
       "0      1.727997e+06             2.914130e+05      4856.88         On-Time   \n",
       "1      1.180032e+06             6.652042e+05     55433.68         On-Time   \n",
       "2      2.622540e+06             1.031372e+06     14324.61         Delayed   \n",
       "3      1.145493e+06             2.249739e+05      6249.28         On-Time   \n",
       "4      0.000000e+00             3.918989e+04       816.46         On-Time   \n",
       "\n",
       "   Num_Missed_Payments  Days_Past_Due      Recovery_Status  \\\n",
       "0                    0              0  Partially Recovered   \n",
       "1                    0              0      Fully Recovered   \n",
       "2                    2            124      Fully Recovered   \n",
       "3                    1             56      Fully Recovered   \n",
       "4                    1             69      Fully Recovered   \n",
       "\n",
       "   Collection_Attempts Collection_Method Legal_Action_Taken  \n",
       "0                    1  Settlement Offer                 No  \n",
       "1                    2  Settlement Offer                 No  \n",
       "2                    2      Legal Notice                 No  \n",
       "3                    2             Calls                 No  \n",
       "4                    0   Debt Collectors                 No  "
      ]
     },
     "execution_count": 60,
     "metadata": {},
     "output_type": "execute_result"
    }
   ],
   "source": [
    "# Load the CSV data file using pandas:\n",
    "df = pd.read_csv(\"loan-recovery.csv\")              # Loaded and stored in variable df\n",
    "\n",
    "# Preview the data:\n",
    "df.head(5)                                         # Displays first 5 rows of the data"
   ]
  },
  {
   "cell_type": "code",
   "execution_count": 61,
   "id": "c78aa334",
   "metadata": {},
   "outputs": [
    {
     "name": "stdout",
     "output_type": "stream",
     "text": [
      "Structure of the data:\n",
      "(500, 21)\n"
     ]
    }
   ],
   "source": [
    "# Shape and Structure of the data:\n",
    "structure = df.shape                               # Matrix is 500 X 21 meaning 500 rows and 21 columns\n",
    "print(f'Structure of the data:\\n{structure}')"
   ]
  },
  {
   "cell_type": "code",
   "execution_count": 62,
   "id": "a8ec910b",
   "metadata": {},
   "outputs": [
    {
     "name": "stdout",
     "output_type": "stream",
     "text": [
      "<class 'pandas.core.frame.DataFrame'>\n",
      "RangeIndex: 500 entries, 0 to 499\n",
      "Data columns (total 21 columns):\n",
      " #   Column                   Non-Null Count  Dtype  \n",
      "---  ------                   --------------  -----  \n",
      " 0   Borrower_ID              500 non-null    object \n",
      " 1   Age                      500 non-null    int64  \n",
      " 2   Gender                   500 non-null    object \n",
      " 3   Employment_Type          500 non-null    object \n",
      " 4   Monthly_Income           500 non-null    int64  \n",
      " 5   Num_Dependents           500 non-null    int64  \n",
      " 6   Loan_ID                  500 non-null    object \n",
      " 7   Loan_Amount              500 non-null    int64  \n",
      " 8   Loan_Tenure              500 non-null    int64  \n",
      " 9   Interest_Rate            500 non-null    float64\n",
      " 10  Loan_Type                500 non-null    object \n",
      " 11  Collateral_Value         500 non-null    float64\n",
      " 12  Outstanding_Loan_Amount  500 non-null    float64\n",
      " 13  Monthly_EMI              500 non-null    float64\n",
      " 14  Payment_History          500 non-null    object \n",
      " 15  Num_Missed_Payments      500 non-null    int64  \n",
      " 16  Days_Past_Due            500 non-null    int64  \n",
      " 17  Recovery_Status          500 non-null    object \n",
      " 18  Collection_Attempts      500 non-null    int64  \n",
      " 19  Collection_Method        500 non-null    object \n",
      " 20  Legal_Action_Taken       500 non-null    object \n",
      "dtypes: float64(4), int64(8), object(9)\n",
      "memory usage: 82.2+ KB\n",
      "None\n"
     ]
    }
   ],
   "source": [
    "# Check information on the data:\n",
    "information = df.info()                            # Provides range of information on columns and rows\n",
    "print(information)"
   ]
  },
  {
   "cell_type": "markdown",
   "id": "7c5a4574",
   "metadata": {},
   "source": [
    "**The information range shows there are no missing values out of the whole 500 rows. Also, the datatypes of the columns are correct.**"
   ]
  },
  {
   "cell_type": "code",
   "execution_count": 63,
   "id": "e20f9003",
   "metadata": {},
   "outputs": [
    {
     "name": "stdout",
     "output_type": "stream",
     "text": [
      "Number of duplicate rows:\n",
      "0\n"
     ]
    }
   ],
   "source": [
    "# Check for duplicate rows:\n",
    "duplicate_rows = df.duplicated().sum()\n",
    "print(f'Number of duplicate rows:\\n{duplicate_rows}')"
   ]
  },
  {
   "cell_type": "code",
   "execution_count": 64,
   "id": "d59bbaab",
   "metadata": {},
   "outputs": [
    {
     "data": {
      "text/html": [
       "<div>\n",
       "<style scoped>\n",
       "    .dataframe tbody tr th:only-of-type {\n",
       "        vertical-align: middle;\n",
       "    }\n",
       "\n",
       "    .dataframe tbody tr th {\n",
       "        vertical-align: top;\n",
       "    }\n",
       "\n",
       "    .dataframe thead th {\n",
       "        text-align: right;\n",
       "    }\n",
       "</style>\n",
       "<table border=\"1\" class=\"dataframe\">\n",
       "  <thead>\n",
       "    <tr style=\"text-align: right;\">\n",
       "      <th></th>\n",
       "      <th>count</th>\n",
       "      <th>mean</th>\n",
       "      <th>std</th>\n",
       "      <th>min</th>\n",
       "      <th>25%</th>\n",
       "      <th>50%</th>\n",
       "      <th>75%</th>\n",
       "      <th>max</th>\n",
       "    </tr>\n",
       "  </thead>\n",
       "  <tbody>\n",
       "    <tr>\n",
       "      <th>Age</th>\n",
       "      <td>500.0</td>\n",
       "      <td>43.12</td>\n",
       "      <td>12.73</td>\n",
       "      <td>21.00</td>\n",
       "      <td>32.00</td>\n",
       "      <td>44.00</td>\n",
       "      <td>53.00</td>\n",
       "      <td>64.00</td>\n",
       "    </tr>\n",
       "    <tr>\n",
       "      <th>Monthly_Income</th>\n",
       "      <td>500.0</td>\n",
       "      <td>134829.92</td>\n",
       "      <td>68969.36</td>\n",
       "      <td>15207.00</td>\n",
       "      <td>76343.25</td>\n",
       "      <td>134929.50</td>\n",
       "      <td>193086.25</td>\n",
       "      <td>249746.00</td>\n",
       "    </tr>\n",
       "    <tr>\n",
       "      <th>Num_Dependents</th>\n",
       "      <td>500.0</td>\n",
       "      <td>1.48</td>\n",
       "      <td>1.15</td>\n",
       "      <td>0.00</td>\n",
       "      <td>0.00</td>\n",
       "      <td>1.00</td>\n",
       "      <td>3.00</td>\n",
       "      <td>3.00</td>\n",
       "    </tr>\n",
       "    <tr>\n",
       "      <th>Loan_Amount</th>\n",
       "      <td>500.0</td>\n",
       "      <td>1024907.03</td>\n",
       "      <td>590755.60</td>\n",
       "      <td>54138.00</td>\n",
       "      <td>462984.75</td>\n",
       "      <td>997124.00</td>\n",
       "      <td>1557952.25</td>\n",
       "      <td>1995325.00</td>\n",
       "    </tr>\n",
       "    <tr>\n",
       "      <th>Loan_Tenure</th>\n",
       "      <td>500.0</td>\n",
       "      <td>46.10</td>\n",
       "      <td>18.24</td>\n",
       "      <td>12.00</td>\n",
       "      <td>36.00</td>\n",
       "      <td>48.00</td>\n",
       "      <td>60.00</td>\n",
       "      <td>72.00</td>\n",
       "    </tr>\n",
       "    <tr>\n",
       "      <th>Interest_Rate</th>\n",
       "      <td>500.0</td>\n",
       "      <td>11.19</td>\n",
       "      <td>3.78</td>\n",
       "      <td>5.02</td>\n",
       "      <td>7.91</td>\n",
       "      <td>10.92</td>\n",
       "      <td>14.58</td>\n",
       "      <td>17.97</td>\n",
       "    </tr>\n",
       "    <tr>\n",
       "      <th>Collateral_Value</th>\n",
       "      <td>500.0</td>\n",
       "      <td>603224.02</td>\n",
       "      <td>745713.07</td>\n",
       "      <td>0.00</td>\n",
       "      <td>0.00</td>\n",
       "      <td>232768.40</td>\n",
       "      <td>1111106.06</td>\n",
       "      <td>2744395.14</td>\n",
       "    </tr>\n",
       "    <tr>\n",
       "      <th>Outstanding_Loan_Amount</th>\n",
       "      <td>500.0</td>\n",
       "      <td>562725.98</td>\n",
       "      <td>472358.06</td>\n",
       "      <td>15712.83</td>\n",
       "      <td>182207.20</td>\n",
       "      <td>413323.97</td>\n",
       "      <td>832478.70</td>\n",
       "      <td>1932395.92</td>\n",
       "    </tr>\n",
       "    <tr>\n",
       "      <th>Monthly_EMI</th>\n",
       "      <td>500.0</td>\n",
       "      <td>15861.54</td>\n",
       "      <td>18709.23</td>\n",
       "      <td>261.88</td>\n",
       "      <td>4039.10</td>\n",
       "      <td>9330.17</td>\n",
       "      <td>20439.48</td>\n",
       "      <td>127849.23</td>\n",
       "    </tr>\n",
       "    <tr>\n",
       "      <th>Num_Missed_Payments</th>\n",
       "      <td>500.0</td>\n",
       "      <td>1.91</td>\n",
       "      <td>2.11</td>\n",
       "      <td>0.00</td>\n",
       "      <td>1.00</td>\n",
       "      <td>2.00</td>\n",
       "      <td>3.00</td>\n",
       "      <td>12.00</td>\n",
       "    </tr>\n",
       "    <tr>\n",
       "      <th>Days_Past_Due</th>\n",
       "      <td>500.0</td>\n",
       "      <td>70.68</td>\n",
       "      <td>60.21</td>\n",
       "      <td>0.00</td>\n",
       "      <td>4.00</td>\n",
       "      <td>66.50</td>\n",
       "      <td>122.25</td>\n",
       "      <td>180.00</td>\n",
       "    </tr>\n",
       "    <tr>\n",
       "      <th>Collection_Attempts</th>\n",
       "      <td>500.0</td>\n",
       "      <td>3.00</td>\n",
       "      <td>2.81</td>\n",
       "      <td>0.00</td>\n",
       "      <td>1.00</td>\n",
       "      <td>2.00</td>\n",
       "      <td>4.00</td>\n",
       "      <td>10.00</td>\n",
       "    </tr>\n",
       "  </tbody>\n",
       "</table>\n",
       "</div>"
      ],
      "text/plain": [
       "                         count        mean        std       min        25%  \\\n",
       "Age                      500.0       43.12      12.73     21.00      32.00   \n",
       "Monthly_Income           500.0   134829.92   68969.36  15207.00   76343.25   \n",
       "Num_Dependents           500.0        1.48       1.15      0.00       0.00   \n",
       "Loan_Amount              500.0  1024907.03  590755.60  54138.00  462984.75   \n",
       "Loan_Tenure              500.0       46.10      18.24     12.00      36.00   \n",
       "Interest_Rate            500.0       11.19       3.78      5.02       7.91   \n",
       "Collateral_Value         500.0   603224.02  745713.07      0.00       0.00   \n",
       "Outstanding_Loan_Amount  500.0   562725.98  472358.06  15712.83  182207.20   \n",
       "Monthly_EMI              500.0    15861.54   18709.23    261.88    4039.10   \n",
       "Num_Missed_Payments      500.0        1.91       2.11      0.00       1.00   \n",
       "Days_Past_Due            500.0       70.68      60.21      0.00       4.00   \n",
       "Collection_Attempts      500.0        3.00       2.81      0.00       1.00   \n",
       "\n",
       "                               50%         75%         max  \n",
       "Age                          44.00       53.00       64.00  \n",
       "Monthly_Income           134929.50   193086.25   249746.00  \n",
       "Num_Dependents                1.00        3.00        3.00  \n",
       "Loan_Amount              997124.00  1557952.25  1995325.00  \n",
       "Loan_Tenure                  48.00       60.00       72.00  \n",
       "Interest_Rate                10.92       14.58       17.97  \n",
       "Collateral_Value         232768.40  1111106.06  2744395.14  \n",
       "Outstanding_Loan_Amount  413323.97   832478.70  1932395.92  \n",
       "Monthly_EMI                9330.17    20439.48   127849.23  \n",
       "Num_Missed_Payments           2.00        3.00       12.00  \n",
       "Days_Past_Due                66.50      122.25      180.00  \n",
       "Collection_Attempts           2.00        4.00       10.00  "
      ]
     },
     "execution_count": 64,
     "metadata": {},
     "output_type": "execute_result"
    }
   ],
   "source": [
    "# Descriptive Statistics:\n",
    "stats = df.describe()\n",
    "stats.round(2).T"
   ]
  },
  {
   "cell_type": "markdown",
   "id": "4dac51b3",
   "metadata": {},
   "source": [
    "### Described Data Insights:\n",
    "- Age:\n",
    "  Borrowers range from 21 to 64 years, indicating a mix of young professionals and mature borrowers.\n",
    "  Average age is 43, showing a mid-career dominant borrower base.\n",
    "\n",
    "- Monthly_Income:\n",
    "  Average monthly income is $1.34L, with a minimum of $15.2K reflecting freshers or entry-level earners.\n",
    "  Income distribution likely skewed by some high earners.\n",
    "\n",
    "- Num_Dependents:\n",
    "  Borrowers support on average 1-2 dependents, with a maximum of 3,\n",
    "  potentially influencing repayment capacity due to family burden.\n",
    "\n",
    "- Loan_Amount:\n",
    "  Loan amounts vary widely from $54K to nearly $20L, averaging about $10L.\n",
    "  Large spread indicates presence of high-value loans requiring separate risk assessment.\n",
    "\n",
    "- Loan_Tenure:\n",
    "  Ranges between 12 to 72 months (1 to 6 years), averaging ~46 months (~4 years).\n",
    "  Longer tenures may ease EMI stress but increase total interest.\n",
    "\n",
    "- Interest_Rate:\n",
    "  Average rate is 11.19%, spanning 5% to nearly 18%.\n",
    "  Higher rates might reflect riskier borrowers or specific loan products.\n",
    "\n",
    "- Collateral_Value:\n",
    "  Many loans have zero collateral, indicating unsecured lending for a significant share.\n",
    "  Collateral values where present can be very high (up to $27.4L), possibly mitigating lender risk.\n",
    "\n",
    "- Outstanding_Loan_Amount:\n",
    "  Average unpaid balance is $5.6L, with some loans having very high outstanding amounts (~$19.3L),\n",
    "  highlighting potential recovery challenges.\n",
    "\n",
    "- Monthly_EMI:\n",
    "  EMI payments range widely ($262 to $1.27L),\n",
    "  suggesting payment stress for some borrowers relative to income.\n",
    "\n",
    "- Num_Missed_Payments:\n",
    "  Average missed payments is ~2, but distribution shows loyal borrowers (0 missed) and chronic defaulters (up to 12 missed).\n",
    "\n",
    "- Days_Past_Due:\n",
    "  Average overdue duration is ~70 days (~2+ months),\n",
    "  with wide variance suggesting prioritization by overdue days could improve collection efficiency.\n",
    "\n",
    "- Collection_Attempts:\n",
    "  Agencies make up to 10 recovery attempts per borrower, averaging 3.\n",
    "  Analyzing effectiveness of these attempts can optimize resource allocation."
   ]
  },
  {
   "cell_type": "markdown",
   "id": "37b0d8a7",
   "metadata": {},
   "source": [
    "# EDA:\n",
    " - Visualize distributions: Loan amounts, income, missed payments.\n",
    " - Analyze correlations (collateral vs recovery).\n",
    " - Check class balance for target variable (Collection_Method).\n",
    " - Segment borrowers (clustering) by risk and loan profile.\n",
    "\n",
    "---"
   ]
  },
  {
   "cell_type": "markdown",
   "id": "ed6ab7b4",
   "metadata": {},
   "source": [
    "## Analyzing Data Distribution and Relationships:"
   ]
  },
  {
   "cell_type": "code",
   "execution_count": 65,
   "id": "37ce0815",
   "metadata": {},
   "outputs": [
    {
     "data": {
      "application/vnd.plotly.v1+json": {
       "config": {
        "plotlyServerURL": "https://plot.ly"
       },
       "data": [
        {
         "alignmentgroup": "True",
         "bingroup": "x",
         "hovertemplate": "Loan Amount (in ₹)=%{x}<br>count=%{y}<extra></extra>",
         "legendgroup": "",
         "marker": {
          "color": "royalblue",
          "opacity": 0.7,
          "pattern": {
           "shape": ""
          }
         },
         "name": "",
         "nbinsx": 30,
         "offsetgroup": "",
         "orientation": "v",
         "showlegend": false,
         "type": "histogram",
         "x": [
          1445796,
          1044620,
          1923410,
          1811663,
          88578,
          664741,
          1514110,
          912147,
          258859,
          161435,
          790389,
          1250114,
          1980750,
          95475,
          896574,
          1839096,
          1256212,
          1252060,
          1192102,
          1149577,
          894081,
          242029,
          478733,
          718516,
          990568,
          1648575,
          1652970,
          1950466,
          1581064,
          1491149,
          267583,
          413898,
          188286,
          277189,
          1225055,
          1518919,
          1234789,
          603172,
          1363428,
          854807,
          1637952,
          1418335,
          1470858,
          1798982,
          322158,
          1818361,
          1495065,
          752495,
          1463562,
          1588814,
          128077,
          1238360,
          1304352,
          365018,
          119087,
          1897305,
          1863205,
          863560,
          1691232,
          793859,
          1439678,
          345064,
          301514,
          978660,
          192180,
          834192,
          485928,
          970114,
          651891,
          1132448,
          1371448,
          407246,
          1587111,
          1482769,
          1905591,
          135774,
          438518,
          1297098,
          1318933,
          462672,
          1976126,
          1164518,
          587977,
          1656140,
          1608141,
          1621128,
          676256,
          463089,
          1898058,
          640504,
          1838380,
          396184,
          595932,
          112021,
          742485,
          510115,
          92291,
          478276,
          444754,
          1003680,
          353664,
          75675,
          723647,
          312318,
          1190844,
          1395718,
          758672,
          679698,
          387369,
          1929822,
          1445811,
          362863,
          179887,
          346063,
          1433875,
          383713,
          1926336,
          1300130,
          1909626,
          608963,
          1593586,
          855351,
          840605,
          421513,
          862832,
          231517,
          120305,
          742924,
          1537606,
          522963,
          1711655,
          1257610,
          528108,
          1053346,
          644821,
          237256,
          526128,
          1073920,
          940023,
          1764514,
          1753924,
          1772560,
          1083668,
          875626,
          1470623,
          1492181,
          1460023,
          292188,
          426047,
          903823,
          287501,
          1418722,
          347675,
          758175,
          1627850,
          1917306,
          313625,
          892840,
          250339,
          1744814,
          984339,
          175355,
          77798,
          665937,
          1425607,
          69477,
          1509058,
          267400,
          1315636,
          439959,
          1609757,
          1606407,
          1074374,
          455105,
          1385055,
          1447330,
          323586,
          1931297,
          1938755,
          873759,
          983703,
          384971,
          1729328,
          181184,
          1185627,
          200653,
          295300,
          634010,
          142036,
          1851498,
          197595,
          903392,
          1871573,
          331696,
          1615188,
          1240456,
          285419,
          1040029,
          204692,
          313031,
          343946,
          1707888,
          538765,
          1868673,
          692927,
          1704802,
          1316389,
          1874964,
          1483466,
          1911057,
          1438509,
          1707390,
          451062,
          533779,
          547952,
          620508,
          882595,
          446981,
          429270,
          1966494,
          1173853,
          1055782,
          1618146,
          533455,
          1989253,
          172332,
          1332807,
          597219,
          139116,
          301671,
          1940641,
          1572494,
          1674777,
          824504,
          1717640,
          1124567,
          564265,
          1808781,
          678380,
          279577,
          760672,
          453777,
          1859977,
          145556,
          1947883,
          1255565,
          1422840,
          445204,
          1605537,
          1995049,
          702755,
          1619192,
          1506048,
          1479210,
          793088,
          700443,
          1388950,
          548682,
          109778,
          1144409,
          859057,
          606376,
          1833586,
          1464657,
          1563083,
          1294951,
          126361,
          1448949,
          1233765,
          1713129,
          572154,
          672006,
          1421430,
          1061930,
          1717740,
          1034558,
          1129525,
          1835818,
          904568,
          1210117,
          1818555,
          111842,
          538019,
          1331506,
          339134,
          721553,
          1390829,
          180356,
          818917,
          787090,
          964565,
          1788446,
          837738,
          1102425,
          62360,
          423216,
          827567,
          669055,
          311445,
          1799736,
          1620234,
          480179,
          104330,
          101707,
          330833,
          1651948,
          1138963,
          1959824,
          1625506,
          1927145,
          1571624,
          236633,
          1947268,
          1769374,
          884874,
          939493,
          446210,
          828799,
          1486564,
          1460295,
          838245,
          929459,
          134381,
          1872744,
          891708,
          1926251,
          243984,
          1158848,
          1594492,
          1795987,
          1046358,
          788096,
          303091,
          902050,
          314064,
          1204697,
          520435,
          651160,
          1966140,
          314237,
          325049,
          696047,
          467567,
          1391701,
          1958911,
          1955829,
          1469920,
          132289,
          690794,
          1701377,
          1511666,
          1804867,
          1499466,
          1411236,
          309480,
          1884907,
          1814622,
          1586643,
          1429932,
          183498,
          1352600,
          1753834,
          1188585,
          773858,
          473159,
          771755,
          94816,
          54138,
          1189752,
          1436665,
          840449,
          846883,
          1816892,
          406007,
          846710,
          271552,
          93764,
          173030,
          968638,
          1947951,
          1718531,
          366462,
          939855,
          1464718,
          110128,
          269128,
          858301,
          1332116,
          55039,
          202353,
          162935,
          1633306,
          1958796,
          1388306,
          103053,
          1280137,
          1837040,
          136346,
          379231,
          455841,
          608685,
          1419391,
          166214,
          535001,
          903329,
          1780085,
          1037410,
          1497075,
          450826,
          486542,
          1375644,
          687431,
          422397,
          412441,
          1885877,
          933520,
          1886022,
          584391,
          1574314,
          1995325,
          476674,
          1058109,
          132409,
          1121824,
          1580952,
          748876,
          1778106,
          1106600,
          525430,
          1333440,
          1970955,
          1273451,
          986800,
          1452549,
          1977716,
          1971672,
          1510049,
          1242503,
          1183754,
          1097380,
          937553,
          1615116,
          856457,
          1496250,
          1162186,
          1693707,
          681525,
          1575753,
          1803767,
          748787,
          1585601,
          1753163,
          1530298,
          1104244,
          1321118,
          228267,
          1958241,
          205489,
          394126,
          1728997,
          1895759,
          358362,
          963081,
          1892360,
          1832988,
          1187411,
          1720357,
          865359,
          1795030,
          151948,
          1283770,
          1652357,
          1565331,
          343851,
          1822750,
          1236944,
          1255046,
          347986,
          63261,
          1175285,
          1718849,
          418760,
          903605,
          1392501,
          325796,
          1365823,
          1386220,
          820692,
          1723200,
          478745,
          687787,
          723812,
          885825,
          1522966,
          1556242,
          740796,
          1408126,
          375203,
          1769890,
          394866
         ],
         "xaxis": "x",
         "yaxis": "y"
        },
        {
         "alignmentgroup": "True",
         "hovertemplate": "Loan Amount (in ₹)=%{x}<extra></extra>",
         "legendgroup": "",
         "marker": {
          "color": "royalblue"
         },
         "name": "",
         "offsetgroup": "",
         "scalegroup": "x",
         "showlegend": false,
         "type": "violin",
         "x": [
          1445796,
          1044620,
          1923410,
          1811663,
          88578,
          664741,
          1514110,
          912147,
          258859,
          161435,
          790389,
          1250114,
          1980750,
          95475,
          896574,
          1839096,
          1256212,
          1252060,
          1192102,
          1149577,
          894081,
          242029,
          478733,
          718516,
          990568,
          1648575,
          1652970,
          1950466,
          1581064,
          1491149,
          267583,
          413898,
          188286,
          277189,
          1225055,
          1518919,
          1234789,
          603172,
          1363428,
          854807,
          1637952,
          1418335,
          1470858,
          1798982,
          322158,
          1818361,
          1495065,
          752495,
          1463562,
          1588814,
          128077,
          1238360,
          1304352,
          365018,
          119087,
          1897305,
          1863205,
          863560,
          1691232,
          793859,
          1439678,
          345064,
          301514,
          978660,
          192180,
          834192,
          485928,
          970114,
          651891,
          1132448,
          1371448,
          407246,
          1587111,
          1482769,
          1905591,
          135774,
          438518,
          1297098,
          1318933,
          462672,
          1976126,
          1164518,
          587977,
          1656140,
          1608141,
          1621128,
          676256,
          463089,
          1898058,
          640504,
          1838380,
          396184,
          595932,
          112021,
          742485,
          510115,
          92291,
          478276,
          444754,
          1003680,
          353664,
          75675,
          723647,
          312318,
          1190844,
          1395718,
          758672,
          679698,
          387369,
          1929822,
          1445811,
          362863,
          179887,
          346063,
          1433875,
          383713,
          1926336,
          1300130,
          1909626,
          608963,
          1593586,
          855351,
          840605,
          421513,
          862832,
          231517,
          120305,
          742924,
          1537606,
          522963,
          1711655,
          1257610,
          528108,
          1053346,
          644821,
          237256,
          526128,
          1073920,
          940023,
          1764514,
          1753924,
          1772560,
          1083668,
          875626,
          1470623,
          1492181,
          1460023,
          292188,
          426047,
          903823,
          287501,
          1418722,
          347675,
          758175,
          1627850,
          1917306,
          313625,
          892840,
          250339,
          1744814,
          984339,
          175355,
          77798,
          665937,
          1425607,
          69477,
          1509058,
          267400,
          1315636,
          439959,
          1609757,
          1606407,
          1074374,
          455105,
          1385055,
          1447330,
          323586,
          1931297,
          1938755,
          873759,
          983703,
          384971,
          1729328,
          181184,
          1185627,
          200653,
          295300,
          634010,
          142036,
          1851498,
          197595,
          903392,
          1871573,
          331696,
          1615188,
          1240456,
          285419,
          1040029,
          204692,
          313031,
          343946,
          1707888,
          538765,
          1868673,
          692927,
          1704802,
          1316389,
          1874964,
          1483466,
          1911057,
          1438509,
          1707390,
          451062,
          533779,
          547952,
          620508,
          882595,
          446981,
          429270,
          1966494,
          1173853,
          1055782,
          1618146,
          533455,
          1989253,
          172332,
          1332807,
          597219,
          139116,
          301671,
          1940641,
          1572494,
          1674777,
          824504,
          1717640,
          1124567,
          564265,
          1808781,
          678380,
          279577,
          760672,
          453777,
          1859977,
          145556,
          1947883,
          1255565,
          1422840,
          445204,
          1605537,
          1995049,
          702755,
          1619192,
          1506048,
          1479210,
          793088,
          700443,
          1388950,
          548682,
          109778,
          1144409,
          859057,
          606376,
          1833586,
          1464657,
          1563083,
          1294951,
          126361,
          1448949,
          1233765,
          1713129,
          572154,
          672006,
          1421430,
          1061930,
          1717740,
          1034558,
          1129525,
          1835818,
          904568,
          1210117,
          1818555,
          111842,
          538019,
          1331506,
          339134,
          721553,
          1390829,
          180356,
          818917,
          787090,
          964565,
          1788446,
          837738,
          1102425,
          62360,
          423216,
          827567,
          669055,
          311445,
          1799736,
          1620234,
          480179,
          104330,
          101707,
          330833,
          1651948,
          1138963,
          1959824,
          1625506,
          1927145,
          1571624,
          236633,
          1947268,
          1769374,
          884874,
          939493,
          446210,
          828799,
          1486564,
          1460295,
          838245,
          929459,
          134381,
          1872744,
          891708,
          1926251,
          243984,
          1158848,
          1594492,
          1795987,
          1046358,
          788096,
          303091,
          902050,
          314064,
          1204697,
          520435,
          651160,
          1966140,
          314237,
          325049,
          696047,
          467567,
          1391701,
          1958911,
          1955829,
          1469920,
          132289,
          690794,
          1701377,
          1511666,
          1804867,
          1499466,
          1411236,
          309480,
          1884907,
          1814622,
          1586643,
          1429932,
          183498,
          1352600,
          1753834,
          1188585,
          773858,
          473159,
          771755,
          94816,
          54138,
          1189752,
          1436665,
          840449,
          846883,
          1816892,
          406007,
          846710,
          271552,
          93764,
          173030,
          968638,
          1947951,
          1718531,
          366462,
          939855,
          1464718,
          110128,
          269128,
          858301,
          1332116,
          55039,
          202353,
          162935,
          1633306,
          1958796,
          1388306,
          103053,
          1280137,
          1837040,
          136346,
          379231,
          455841,
          608685,
          1419391,
          166214,
          535001,
          903329,
          1780085,
          1037410,
          1497075,
          450826,
          486542,
          1375644,
          687431,
          422397,
          412441,
          1885877,
          933520,
          1886022,
          584391,
          1574314,
          1995325,
          476674,
          1058109,
          132409,
          1121824,
          1580952,
          748876,
          1778106,
          1106600,
          525430,
          1333440,
          1970955,
          1273451,
          986800,
          1452549,
          1977716,
          1971672,
          1510049,
          1242503,
          1183754,
          1097380,
          937553,
          1615116,
          856457,
          1496250,
          1162186,
          1693707,
          681525,
          1575753,
          1803767,
          748787,
          1585601,
          1753163,
          1530298,
          1104244,
          1321118,
          228267,
          1958241,
          205489,
          394126,
          1728997,
          1895759,
          358362,
          963081,
          1892360,
          1832988,
          1187411,
          1720357,
          865359,
          1795030,
          151948,
          1283770,
          1652357,
          1565331,
          343851,
          1822750,
          1236944,
          1255046,
          347986,
          63261,
          1175285,
          1718849,
          418760,
          903605,
          1392501,
          325796,
          1365823,
          1386220,
          820692,
          1723200,
          478745,
          687787,
          723812,
          885825,
          1522966,
          1556242,
          740796,
          1408126,
          375203,
          1769890,
          394866
         ],
         "xaxis": "x2",
         "yaxis": "y2"
        },
        {
         "line": {
          "color": "red",
          "width": 2
         },
         "mode": "lines",
         "name": "Density Curve",
         "type": "scatter",
         "x": [
          54138,
          55039,
          62360,
          63261,
          69477,
          75675,
          77798,
          88578,
          92291,
          93764,
          94816,
          95475,
          101707,
          103053,
          104330,
          109778,
          110128,
          111842,
          112021,
          119087,
          120305,
          126361,
          128077,
          132289,
          132409,
          134381,
          135774,
          136346,
          139116,
          142036,
          145556,
          151948,
          161435,
          162935,
          166214,
          172332,
          173030,
          175355,
          179887,
          180356,
          181184,
          183498,
          188286,
          192180,
          197595,
          200653,
          202353,
          204692,
          205489,
          228267,
          231517,
          236633,
          237256,
          242029,
          243984,
          250339,
          258859,
          267400,
          267583,
          269128,
          271552,
          277189,
          279577,
          285419,
          287501,
          292188,
          295300,
          301514,
          301671,
          303091,
          309480,
          311445,
          312318,
          313031,
          313625,
          314064,
          314237,
          322158,
          323586,
          325049,
          325796,
          330833,
          331696,
          339134,
          343851,
          343946,
          345064,
          346063,
          347675,
          347986,
          353664,
          358362,
          362863,
          365018,
          366462,
          375203,
          379231,
          383713,
          384971,
          387369,
          394126,
          394866,
          396184,
          406007,
          407246,
          412441,
          413898,
          418760,
          421513,
          422397,
          423216,
          426047,
          429270,
          438518,
          439959,
          444754,
          445204,
          446210,
          446981,
          450826,
          451062,
          453777,
          455105,
          455841,
          462672,
          463089,
          467567,
          473159,
          476674,
          478276,
          478733,
          478745,
          480179,
          485928,
          486542,
          510115,
          520435,
          522963,
          525430,
          526128,
          528108,
          533455,
          533779,
          535001,
          538019,
          538765,
          547952,
          548682,
          564265,
          572154,
          584391,
          587977,
          595932,
          597219,
          603172,
          606376,
          608685,
          608963,
          620508,
          634010,
          640504,
          644821,
          651160,
          651891,
          664741,
          665937,
          669055,
          672006,
          676256,
          678380,
          679698,
          681525,
          687431,
          687787,
          690794,
          692927,
          696047,
          700443,
          702755,
          718516,
          721553,
          723647,
          723812,
          740796,
          742485,
          742924,
          748787,
          748876,
          752495,
          758175,
          758672,
          760672,
          771755,
          773858,
          787090,
          788096,
          790389,
          793088,
          793859,
          818917,
          820692,
          824504,
          827567,
          828799,
          834192,
          837738,
          838245,
          840449,
          840605,
          846710,
          846883,
          854807,
          855351,
          856457,
          858301,
          859057,
          862832,
          863560,
          865359,
          873759,
          875626,
          882595,
          884874,
          885825,
          891708,
          892840,
          894081,
          896574,
          902050,
          903329,
          903392,
          903605,
          903823,
          904568,
          912147,
          929459,
          933520,
          937553,
          939493,
          939855,
          940023,
          963081,
          964565,
          968638,
          970114,
          978660,
          983703,
          984339,
          986800,
          990568,
          1003680,
          1034558,
          1037410,
          1040029,
          1044620,
          1046358,
          1053346,
          1055782,
          1058109,
          1061930,
          1073920,
          1074374,
          1083668,
          1097380,
          1102425,
          1104244,
          1106600,
          1121824,
          1124567,
          1129525,
          1132448,
          1138963,
          1144409,
          1149577,
          1158848,
          1162186,
          1164518,
          1173853,
          1175285,
          1183754,
          1185627,
          1187411,
          1188585,
          1189752,
          1190844,
          1192102,
          1204697,
          1210117,
          1225055,
          1233765,
          1234789,
          1236944,
          1238360,
          1240456,
          1242503,
          1250114,
          1252060,
          1255046,
          1255565,
          1256212,
          1257610,
          1273451,
          1280137,
          1283770,
          1294951,
          1297098,
          1300130,
          1304352,
          1315636,
          1316389,
          1318933,
          1321118,
          1331506,
          1332116,
          1332807,
          1333440,
          1352600,
          1363428,
          1365823,
          1371448,
          1375644,
          1385055,
          1386220,
          1388306,
          1388950,
          1390829,
          1391701,
          1392501,
          1395718,
          1408126,
          1411236,
          1418335,
          1418722,
          1419391,
          1421430,
          1422840,
          1425607,
          1429932,
          1433875,
          1436665,
          1438509,
          1439678,
          1445796,
          1445811,
          1447330,
          1448949,
          1452549,
          1460023,
          1460295,
          1463562,
          1464657,
          1464718,
          1469920,
          1470623,
          1470858,
          1479210,
          1482769,
          1483466,
          1486564,
          1491149,
          1492181,
          1495065,
          1496250,
          1497075,
          1499466,
          1506048,
          1509058,
          1510049,
          1511666,
          1514110,
          1518919,
          1522966,
          1530298,
          1537606,
          1556242,
          1563083,
          1565331,
          1571624,
          1572494,
          1574314,
          1575753,
          1580952,
          1581064,
          1585601,
          1586643,
          1587111,
          1588814,
          1593586,
          1594492,
          1605537,
          1606407,
          1608141,
          1609757,
          1615116,
          1615188,
          1618146,
          1619192,
          1620234,
          1621128,
          1625506,
          1627850,
          1633306,
          1637952,
          1648575,
          1651948,
          1652357,
          1652970,
          1656140,
          1674777,
          1691232,
          1693707,
          1701377,
          1704802,
          1707390,
          1707888,
          1711655,
          1713129,
          1717640,
          1717740,
          1718531,
          1718849,
          1720357,
          1723200,
          1728997,
          1729328,
          1744814,
          1753163,
          1753834,
          1753924,
          1764514,
          1769374,
          1769890,
          1772560,
          1778106,
          1780085,
          1788446,
          1795030,
          1795987,
          1798982,
          1799736,
          1803767,
          1804867,
          1808781,
          1811663,
          1814622,
          1816892,
          1818361,
          1818555,
          1822750,
          1832988,
          1833586,
          1835818,
          1837040,
          1838380,
          1839096,
          1851498,
          1859977,
          1863205,
          1868673,
          1871573,
          1872744,
          1874964,
          1884907,
          1885877,
          1886022,
          1892360,
          1895759,
          1897305,
          1898058,
          1905591,
          1909626,
          1911057,
          1917306,
          1923410,
          1926251,
          1926336,
          1927145,
          1929822,
          1931297,
          1938755,
          1940641,
          1947268,
          1947883,
          1947951,
          1950466,
          1955829,
          1958241,
          1958796,
          1958911,
          1959824,
          1966140,
          1966494,
          1970955,
          1971672,
          1976126,
          1977716,
          1980750,
          1989253,
          1995049,
          1995325
         ]
        },
        {
         "hovertemplate": "<b>%{hovertext}</b><br><br>Loan_Amount=%{marker.color}<br>Monthly_Income=%{y}<extra></extra>",
         "hovertext": [
          0,
          1,
          2,
          3,
          4,
          5,
          6,
          7,
          8,
          9,
          10,
          11,
          12,
          13,
          14,
          15,
          16,
          17,
          18,
          19,
          20,
          21,
          22,
          23,
          24,
          25,
          26,
          27,
          28,
          29,
          30,
          31,
          32,
          33,
          34,
          35,
          36,
          37,
          38,
          39,
          40,
          41,
          42,
          43,
          44,
          45,
          46,
          47,
          48,
          49,
          50,
          51,
          52,
          53,
          54,
          55,
          56,
          57,
          58,
          59,
          60,
          61,
          62,
          63,
          64,
          65,
          66,
          67,
          68,
          69,
          70,
          71,
          72,
          73,
          74,
          75,
          76,
          77,
          78,
          79,
          80,
          81,
          82,
          83,
          84,
          85,
          86,
          87,
          88,
          89,
          90,
          91,
          92,
          93,
          94,
          95,
          96,
          97,
          98,
          99,
          100,
          101,
          102,
          103,
          104,
          105,
          106,
          107,
          108,
          109,
          110,
          111,
          112,
          113,
          114,
          115,
          116,
          117,
          118,
          119,
          120,
          121,
          122,
          123,
          124,
          125,
          126,
          127,
          128,
          129,
          130,
          131,
          132,
          133,
          134,
          135,
          136,
          137,
          138,
          139,
          140,
          141,
          142,
          143,
          144,
          145,
          146,
          147,
          148,
          149,
          150,
          151,
          152,
          153,
          154,
          155,
          156,
          157,
          158,
          159,
          160,
          161,
          162,
          163,
          164,
          165,
          166,
          167,
          168,
          169,
          170,
          171,
          172,
          173,
          174,
          175,
          176,
          177,
          178,
          179,
          180,
          181,
          182,
          183,
          184,
          185,
          186,
          187,
          188,
          189,
          190,
          191,
          192,
          193,
          194,
          195,
          196,
          197,
          198,
          199,
          200,
          201,
          202,
          203,
          204,
          205,
          206,
          207,
          208,
          209,
          210,
          211,
          212,
          213,
          214,
          215,
          216,
          217,
          218,
          219,
          220,
          221,
          222,
          223,
          224,
          225,
          226,
          227,
          228,
          229,
          230,
          231,
          232,
          233,
          234,
          235,
          236,
          237,
          238,
          239,
          240,
          241,
          242,
          243,
          244,
          245,
          246,
          247,
          248,
          249,
          250,
          251,
          252,
          253,
          254,
          255,
          256,
          257,
          258,
          259,
          260,
          261,
          262,
          263,
          264,
          265,
          266,
          267,
          268,
          269,
          270,
          271,
          272,
          273,
          274,
          275,
          276,
          277,
          278,
          279,
          280,
          281,
          282,
          283,
          284,
          285,
          286,
          287,
          288,
          289,
          290,
          291,
          292,
          293,
          294,
          295,
          296,
          297,
          298,
          299,
          300,
          301,
          302,
          303,
          304,
          305,
          306,
          307,
          308,
          309,
          310,
          311,
          312,
          313,
          314,
          315,
          316,
          317,
          318,
          319,
          320,
          321,
          322,
          323,
          324,
          325,
          326,
          327,
          328,
          329,
          330,
          331,
          332,
          333,
          334,
          335,
          336,
          337,
          338,
          339,
          340,
          341,
          342,
          343,
          344,
          345,
          346,
          347,
          348,
          349,
          350,
          351,
          352,
          353,
          354,
          355,
          356,
          357,
          358,
          359,
          360,
          361,
          362,
          363,
          364,
          365,
          366,
          367,
          368,
          369,
          370,
          371,
          372,
          373,
          374,
          375,
          376,
          377,
          378,
          379,
          380,
          381,
          382,
          383,
          384,
          385,
          386,
          387,
          388,
          389,
          390,
          391,
          392,
          393,
          394,
          395,
          396,
          397,
          398,
          399,
          400,
          401,
          402,
          403,
          404,
          405,
          406,
          407,
          408,
          409,
          410,
          411,
          412,
          413,
          414,
          415,
          416,
          417,
          418,
          419,
          420,
          421,
          422,
          423,
          424,
          425,
          426,
          427,
          428,
          429,
          430,
          431,
          432,
          433,
          434,
          435,
          436,
          437,
          438,
          439,
          440,
          441,
          442,
          443,
          444,
          445,
          446,
          447,
          448,
          449,
          450,
          451,
          452,
          453,
          454,
          455,
          456,
          457,
          458,
          459,
          460,
          461,
          462,
          463,
          464,
          465,
          466,
          467,
          468,
          469,
          470,
          471,
          472,
          473,
          474,
          475,
          476,
          477,
          478,
          479,
          480,
          481,
          482,
          483,
          484,
          485,
          486,
          487,
          488,
          489,
          490,
          491,
          492,
          493,
          494,
          495,
          496,
          497,
          498,
          499
         ],
         "legendgroup": "",
         "marker": {
          "color": [
           1445796,
           1044620,
           1923410,
           1811663,
           88578,
           664741,
           1514110,
           912147,
           258859,
           161435,
           790389,
           1250114,
           1980750,
           95475,
           896574,
           1839096,
           1256212,
           1252060,
           1192102,
           1149577,
           894081,
           242029,
           478733,
           718516,
           990568,
           1648575,
           1652970,
           1950466,
           1581064,
           1491149,
           267583,
           413898,
           188286,
           277189,
           1225055,
           1518919,
           1234789,
           603172,
           1363428,
           854807,
           1637952,
           1418335,
           1470858,
           1798982,
           322158,
           1818361,
           1495065,
           752495,
           1463562,
           1588814,
           128077,
           1238360,
           1304352,
           365018,
           119087,
           1897305,
           1863205,
           863560,
           1691232,
           793859,
           1439678,
           345064,
           301514,
           978660,
           192180,
           834192,
           485928,
           970114,
           651891,
           1132448,
           1371448,
           407246,
           1587111,
           1482769,
           1905591,
           135774,
           438518,
           1297098,
           1318933,
           462672,
           1976126,
           1164518,
           587977,
           1656140,
           1608141,
           1621128,
           676256,
           463089,
           1898058,
           640504,
           1838380,
           396184,
           595932,
           112021,
           742485,
           510115,
           92291,
           478276,
           444754,
           1003680,
           353664,
           75675,
           723647,
           312318,
           1190844,
           1395718,
           758672,
           679698,
           387369,
           1929822,
           1445811,
           362863,
           179887,
           346063,
           1433875,
           383713,
           1926336,
           1300130,
           1909626,
           608963,
           1593586,
           855351,
           840605,
           421513,
           862832,
           231517,
           120305,
           742924,
           1537606,
           522963,
           1711655,
           1257610,
           528108,
           1053346,
           644821,
           237256,
           526128,
           1073920,
           940023,
           1764514,
           1753924,
           1772560,
           1083668,
           875626,
           1470623,
           1492181,
           1460023,
           292188,
           426047,
           903823,
           287501,
           1418722,
           347675,
           758175,
           1627850,
           1917306,
           313625,
           892840,
           250339,
           1744814,
           984339,
           175355,
           77798,
           665937,
           1425607,
           69477,
           1509058,
           267400,
           1315636,
           439959,
           1609757,
           1606407,
           1074374,
           455105,
           1385055,
           1447330,
           323586,
           1931297,
           1938755,
           873759,
           983703,
           384971,
           1729328,
           181184,
           1185627,
           200653,
           295300,
           634010,
           142036,
           1851498,
           197595,
           903392,
           1871573,
           331696,
           1615188,
           1240456,
           285419,
           1040029,
           204692,
           313031,
           343946,
           1707888,
           538765,
           1868673,
           692927,
           1704802,
           1316389,
           1874964,
           1483466,
           1911057,
           1438509,
           1707390,
           451062,
           533779,
           547952,
           620508,
           882595,
           446981,
           429270,
           1966494,
           1173853,
           1055782,
           1618146,
           533455,
           1989253,
           172332,
           1332807,
           597219,
           139116,
           301671,
           1940641,
           1572494,
           1674777,
           824504,
           1717640,
           1124567,
           564265,
           1808781,
           678380,
           279577,
           760672,
           453777,
           1859977,
           145556,
           1947883,
           1255565,
           1422840,
           445204,
           1605537,
           1995049,
           702755,
           1619192,
           1506048,
           1479210,
           793088,
           700443,
           1388950,
           548682,
           109778,
           1144409,
           859057,
           606376,
           1833586,
           1464657,
           1563083,
           1294951,
           126361,
           1448949,
           1233765,
           1713129,
           572154,
           672006,
           1421430,
           1061930,
           1717740,
           1034558,
           1129525,
           1835818,
           904568,
           1210117,
           1818555,
           111842,
           538019,
           1331506,
           339134,
           721553,
           1390829,
           180356,
           818917,
           787090,
           964565,
           1788446,
           837738,
           1102425,
           62360,
           423216,
           827567,
           669055,
           311445,
           1799736,
           1620234,
           480179,
           104330,
           101707,
           330833,
           1651948,
           1138963,
           1959824,
           1625506,
           1927145,
           1571624,
           236633,
           1947268,
           1769374,
           884874,
           939493,
           446210,
           828799,
           1486564,
           1460295,
           838245,
           929459,
           134381,
           1872744,
           891708,
           1926251,
           243984,
           1158848,
           1594492,
           1795987,
           1046358,
           788096,
           303091,
           902050,
           314064,
           1204697,
           520435,
           651160,
           1966140,
           314237,
           325049,
           696047,
           467567,
           1391701,
           1958911,
           1955829,
           1469920,
           132289,
           690794,
           1701377,
           1511666,
           1804867,
           1499466,
           1411236,
           309480,
           1884907,
           1814622,
           1586643,
           1429932,
           183498,
           1352600,
           1753834,
           1188585,
           773858,
           473159,
           771755,
           94816,
           54138,
           1189752,
           1436665,
           840449,
           846883,
           1816892,
           406007,
           846710,
           271552,
           93764,
           173030,
           968638,
           1947951,
           1718531,
           366462,
           939855,
           1464718,
           110128,
           269128,
           858301,
           1332116,
           55039,
           202353,
           162935,
           1633306,
           1958796,
           1388306,
           103053,
           1280137,
           1837040,
           136346,
           379231,
           455841,
           608685,
           1419391,
           166214,
           535001,
           903329,
           1780085,
           1037410,
           1497075,
           450826,
           486542,
           1375644,
           687431,
           422397,
           412441,
           1885877,
           933520,
           1886022,
           584391,
           1574314,
           1995325,
           476674,
           1058109,
           132409,
           1121824,
           1580952,
           748876,
           1778106,
           1106600,
           525430,
           1333440,
           1970955,
           1273451,
           986800,
           1452549,
           1977716,
           1971672,
           1510049,
           1242503,
           1183754,
           1097380,
           937553,
           1615116,
           856457,
           1496250,
           1162186,
           1693707,
           681525,
           1575753,
           1803767,
           748787,
           1585601,
           1753163,
           1530298,
           1104244,
           1321118,
           228267,
           1958241,
           205489,
           394126,
           1728997,
           1895759,
           358362,
           963081,
           1892360,
           1832988,
           1187411,
           1720357,
           865359,
           1795030,
           151948,
           1283770,
           1652357,
           1565331,
           343851,
           1822750,
           1236944,
           1255046,
           347986,
           63261,
           1175285,
           1718849,
           418760,
           903605,
           1392501,
           325796,
           1365823,
           1386220,
           820692,
           1723200,
           478745,
           687787,
           723812,
           885825,
           1522966,
           1556242,
           740796,
           1408126,
           375203,
           1769890,
           394866
          ],
          "coloraxis": "coloraxis",
          "size": [
           1445796,
           1044620,
           1923410,
           1811663,
           88578,
           664741,
           1514110,
           912147,
           258859,
           161435,
           790389,
           1250114,
           1980750,
           95475,
           896574,
           1839096,
           1256212,
           1252060,
           1192102,
           1149577,
           894081,
           242029,
           478733,
           718516,
           990568,
           1648575,
           1652970,
           1950466,
           1581064,
           1491149,
           267583,
           413898,
           188286,
           277189,
           1225055,
           1518919,
           1234789,
           603172,
           1363428,
           854807,
           1637952,
           1418335,
           1470858,
           1798982,
           322158,
           1818361,
           1495065,
           752495,
           1463562,
           1588814,
           128077,
           1238360,
           1304352,
           365018,
           119087,
           1897305,
           1863205,
           863560,
           1691232,
           793859,
           1439678,
           345064,
           301514,
           978660,
           192180,
           834192,
           485928,
           970114,
           651891,
           1132448,
           1371448,
           407246,
           1587111,
           1482769,
           1905591,
           135774,
           438518,
           1297098,
           1318933,
           462672,
           1976126,
           1164518,
           587977,
           1656140,
           1608141,
           1621128,
           676256,
           463089,
           1898058,
           640504,
           1838380,
           396184,
           595932,
           112021,
           742485,
           510115,
           92291,
           478276,
           444754,
           1003680,
           353664,
           75675,
           723647,
           312318,
           1190844,
           1395718,
           758672,
           679698,
           387369,
           1929822,
           1445811,
           362863,
           179887,
           346063,
           1433875,
           383713,
           1926336,
           1300130,
           1909626,
           608963,
           1593586,
           855351,
           840605,
           421513,
           862832,
           231517,
           120305,
           742924,
           1537606,
           522963,
           1711655,
           1257610,
           528108,
           1053346,
           644821,
           237256,
           526128,
           1073920,
           940023,
           1764514,
           1753924,
           1772560,
           1083668,
           875626,
           1470623,
           1492181,
           1460023,
           292188,
           426047,
           903823,
           287501,
           1418722,
           347675,
           758175,
           1627850,
           1917306,
           313625,
           892840,
           250339,
           1744814,
           984339,
           175355,
           77798,
           665937,
           1425607,
           69477,
           1509058,
           267400,
           1315636,
           439959,
           1609757,
           1606407,
           1074374,
           455105,
           1385055,
           1447330,
           323586,
           1931297,
           1938755,
           873759,
           983703,
           384971,
           1729328,
           181184,
           1185627,
           200653,
           295300,
           634010,
           142036,
           1851498,
           197595,
           903392,
           1871573,
           331696,
           1615188,
           1240456,
           285419,
           1040029,
           204692,
           313031,
           343946,
           1707888,
           538765,
           1868673,
           692927,
           1704802,
           1316389,
           1874964,
           1483466,
           1911057,
           1438509,
           1707390,
           451062,
           533779,
           547952,
           620508,
           882595,
           446981,
           429270,
           1966494,
           1173853,
           1055782,
           1618146,
           533455,
           1989253,
           172332,
           1332807,
           597219,
           139116,
           301671,
           1940641,
           1572494,
           1674777,
           824504,
           1717640,
           1124567,
           564265,
           1808781,
           678380,
           279577,
           760672,
           453777,
           1859977,
           145556,
           1947883,
           1255565,
           1422840,
           445204,
           1605537,
           1995049,
           702755,
           1619192,
           1506048,
           1479210,
           793088,
           700443,
           1388950,
           548682,
           109778,
           1144409,
           859057,
           606376,
           1833586,
           1464657,
           1563083,
           1294951,
           126361,
           1448949,
           1233765,
           1713129,
           572154,
           672006,
           1421430,
           1061930,
           1717740,
           1034558,
           1129525,
           1835818,
           904568,
           1210117,
           1818555,
           111842,
           538019,
           1331506,
           339134,
           721553,
           1390829,
           180356,
           818917,
           787090,
           964565,
           1788446,
           837738,
           1102425,
           62360,
           423216,
           827567,
           669055,
           311445,
           1799736,
           1620234,
           480179,
           104330,
           101707,
           330833,
           1651948,
           1138963,
           1959824,
           1625506,
           1927145,
           1571624,
           236633,
           1947268,
           1769374,
           884874,
           939493,
           446210,
           828799,
           1486564,
           1460295,
           838245,
           929459,
           134381,
           1872744,
           891708,
           1926251,
           243984,
           1158848,
           1594492,
           1795987,
           1046358,
           788096,
           303091,
           902050,
           314064,
           1204697,
           520435,
           651160,
           1966140,
           314237,
           325049,
           696047,
           467567,
           1391701,
           1958911,
           1955829,
           1469920,
           132289,
           690794,
           1701377,
           1511666,
           1804867,
           1499466,
           1411236,
           309480,
           1884907,
           1814622,
           1586643,
           1429932,
           183498,
           1352600,
           1753834,
           1188585,
           773858,
           473159,
           771755,
           94816,
           54138,
           1189752,
           1436665,
           840449,
           846883,
           1816892,
           406007,
           846710,
           271552,
           93764,
           173030,
           968638,
           1947951,
           1718531,
           366462,
           939855,
           1464718,
           110128,
           269128,
           858301,
           1332116,
           55039,
           202353,
           162935,
           1633306,
           1958796,
           1388306,
           103053,
           1280137,
           1837040,
           136346,
           379231,
           455841,
           608685,
           1419391,
           166214,
           535001,
           903329,
           1780085,
           1037410,
           1497075,
           450826,
           486542,
           1375644,
           687431,
           422397,
           412441,
           1885877,
           933520,
           1886022,
           584391,
           1574314,
           1995325,
           476674,
           1058109,
           132409,
           1121824,
           1580952,
           748876,
           1778106,
           1106600,
           525430,
           1333440,
           1970955,
           1273451,
           986800,
           1452549,
           1977716,
           1971672,
           1510049,
           1242503,
           1183754,
           1097380,
           937553,
           1615116,
           856457,
           1496250,
           1162186,
           1693707,
           681525,
           1575753,
           1803767,
           748787,
           1585601,
           1753163,
           1530298,
           1104244,
           1321118,
           228267,
           1958241,
           205489,
           394126,
           1728997,
           1895759,
           358362,
           963081,
           1892360,
           1832988,
           1187411,
           1720357,
           865359,
           1795030,
           151948,
           1283770,
           1652357,
           1565331,
           343851,
           1822750,
           1236944,
           1255046,
           347986,
           63261,
           1175285,
           1718849,
           418760,
           903605,
           1392501,
           325796,
           1365823,
           1386220,
           820692,
           1723200,
           478745,
           687787,
           723812,
           885825,
           1522966,
           1556242,
           740796,
           1408126,
           375203,
           1769890,
           394866
          ],
          "sizemode": "area",
          "sizeref": 4988.3125,
          "symbol": "circle"
         },
         "mode": "markers",
         "name": "",
         "orientation": "v",
         "showlegend": false,
         "type": "scatter",
         "x": [
          1445796,
          1044620,
          1923410,
          1811663,
          88578,
          664741,
          1514110,
          912147,
          258859,
          161435,
          790389,
          1250114,
          1980750,
          95475,
          896574,
          1839096,
          1256212,
          1252060,
          1192102,
          1149577,
          894081,
          242029,
          478733,
          718516,
          990568,
          1648575,
          1652970,
          1950466,
          1581064,
          1491149,
          267583,
          413898,
          188286,
          277189,
          1225055,
          1518919,
          1234789,
          603172,
          1363428,
          854807,
          1637952,
          1418335,
          1470858,
          1798982,
          322158,
          1818361,
          1495065,
          752495,
          1463562,
          1588814,
          128077,
          1238360,
          1304352,
          365018,
          119087,
          1897305,
          1863205,
          863560,
          1691232,
          793859,
          1439678,
          345064,
          301514,
          978660,
          192180,
          834192,
          485928,
          970114,
          651891,
          1132448,
          1371448,
          407246,
          1587111,
          1482769,
          1905591,
          135774,
          438518,
          1297098,
          1318933,
          462672,
          1976126,
          1164518,
          587977,
          1656140,
          1608141,
          1621128,
          676256,
          463089,
          1898058,
          640504,
          1838380,
          396184,
          595932,
          112021,
          742485,
          510115,
          92291,
          478276,
          444754,
          1003680,
          353664,
          75675,
          723647,
          312318,
          1190844,
          1395718,
          758672,
          679698,
          387369,
          1929822,
          1445811,
          362863,
          179887,
          346063,
          1433875,
          383713,
          1926336,
          1300130,
          1909626,
          608963,
          1593586,
          855351,
          840605,
          421513,
          862832,
          231517,
          120305,
          742924,
          1537606,
          522963,
          1711655,
          1257610,
          528108,
          1053346,
          644821,
          237256,
          526128,
          1073920,
          940023,
          1764514,
          1753924,
          1772560,
          1083668,
          875626,
          1470623,
          1492181,
          1460023,
          292188,
          426047,
          903823,
          287501,
          1418722,
          347675,
          758175,
          1627850,
          1917306,
          313625,
          892840,
          250339,
          1744814,
          984339,
          175355,
          77798,
          665937,
          1425607,
          69477,
          1509058,
          267400,
          1315636,
          439959,
          1609757,
          1606407,
          1074374,
          455105,
          1385055,
          1447330,
          323586,
          1931297,
          1938755,
          873759,
          983703,
          384971,
          1729328,
          181184,
          1185627,
          200653,
          295300,
          634010,
          142036,
          1851498,
          197595,
          903392,
          1871573,
          331696,
          1615188,
          1240456,
          285419,
          1040029,
          204692,
          313031,
          343946,
          1707888,
          538765,
          1868673,
          692927,
          1704802,
          1316389,
          1874964,
          1483466,
          1911057,
          1438509,
          1707390,
          451062,
          533779,
          547952,
          620508,
          882595,
          446981,
          429270,
          1966494,
          1173853,
          1055782,
          1618146,
          533455,
          1989253,
          172332,
          1332807,
          597219,
          139116,
          301671,
          1940641,
          1572494,
          1674777,
          824504,
          1717640,
          1124567,
          564265,
          1808781,
          678380,
          279577,
          760672,
          453777,
          1859977,
          145556,
          1947883,
          1255565,
          1422840,
          445204,
          1605537,
          1995049,
          702755,
          1619192,
          1506048,
          1479210,
          793088,
          700443,
          1388950,
          548682,
          109778,
          1144409,
          859057,
          606376,
          1833586,
          1464657,
          1563083,
          1294951,
          126361,
          1448949,
          1233765,
          1713129,
          572154,
          672006,
          1421430,
          1061930,
          1717740,
          1034558,
          1129525,
          1835818,
          904568,
          1210117,
          1818555,
          111842,
          538019,
          1331506,
          339134,
          721553,
          1390829,
          180356,
          818917,
          787090,
          964565,
          1788446,
          837738,
          1102425,
          62360,
          423216,
          827567,
          669055,
          311445,
          1799736,
          1620234,
          480179,
          104330,
          101707,
          330833,
          1651948,
          1138963,
          1959824,
          1625506,
          1927145,
          1571624,
          236633,
          1947268,
          1769374,
          884874,
          939493,
          446210,
          828799,
          1486564,
          1460295,
          838245,
          929459,
          134381,
          1872744,
          891708,
          1926251,
          243984,
          1158848,
          1594492,
          1795987,
          1046358,
          788096,
          303091,
          902050,
          314064,
          1204697,
          520435,
          651160,
          1966140,
          314237,
          325049,
          696047,
          467567,
          1391701,
          1958911,
          1955829,
          1469920,
          132289,
          690794,
          1701377,
          1511666,
          1804867,
          1499466,
          1411236,
          309480,
          1884907,
          1814622,
          1586643,
          1429932,
          183498,
          1352600,
          1753834,
          1188585,
          773858,
          473159,
          771755,
          94816,
          54138,
          1189752,
          1436665,
          840449,
          846883,
          1816892,
          406007,
          846710,
          271552,
          93764,
          173030,
          968638,
          1947951,
          1718531,
          366462,
          939855,
          1464718,
          110128,
          269128,
          858301,
          1332116,
          55039,
          202353,
          162935,
          1633306,
          1958796,
          1388306,
          103053,
          1280137,
          1837040,
          136346,
          379231,
          455841,
          608685,
          1419391,
          166214,
          535001,
          903329,
          1780085,
          1037410,
          1497075,
          450826,
          486542,
          1375644,
          687431,
          422397,
          412441,
          1885877,
          933520,
          1886022,
          584391,
          1574314,
          1995325,
          476674,
          1058109,
          132409,
          1121824,
          1580952,
          748876,
          1778106,
          1106600,
          525430,
          1333440,
          1970955,
          1273451,
          986800,
          1452549,
          1977716,
          1971672,
          1510049,
          1242503,
          1183754,
          1097380,
          937553,
          1615116,
          856457,
          1496250,
          1162186,
          1693707,
          681525,
          1575753,
          1803767,
          748787,
          1585601,
          1753163,
          1530298,
          1104244,
          1321118,
          228267,
          1958241,
          205489,
          394126,
          1728997,
          1895759,
          358362,
          963081,
          1892360,
          1832988,
          1187411,
          1720357,
          865359,
          1795030,
          151948,
          1283770,
          1652357,
          1565331,
          343851,
          1822750,
          1236944,
          1255046,
          347986,
          63261,
          1175285,
          1718849,
          418760,
          903605,
          1392501,
          325796,
          1365823,
          1386220,
          820692,
          1723200,
          478745,
          687787,
          723812,
          885825,
          1522966,
          1556242,
          740796,
          1408126,
          375203,
          1769890,
          394866
         ],
         "xaxis": "x",
         "y": [
          215422,
          60893,
          116520,
          140818,
          76272,
          238224,
          82649,
          79674,
          159832,
          167999,
          101475,
          76367,
          244027,
          158660,
          136750,
          247750,
          133154,
          198305,
          59738,
          48397,
          97189,
          91367,
          217332,
          135585,
          91619,
          126453,
          34816,
          188312,
          152348,
          94530,
          169571,
          234648,
          123856,
          228567,
          86635,
          122803,
          231184,
          50946,
          70204,
          197958,
          217724,
          30563,
          107324,
          238536,
          247944,
          24847,
          41155,
          94671,
          131891,
          98310,
          213350,
          164381,
          146691,
          229266,
          196180,
          49707,
          166409,
          96537,
          212576,
          193686,
          237500,
          106155,
          15281,
          173492,
          226968,
          185102,
          147130,
          232285,
          91260,
          174476,
          249554,
          175928,
          155272,
          79178,
          48997,
          171683,
          134273,
          187307,
          181129,
          147311,
          249746,
          211733,
          141945,
          60272,
          104393,
          76212,
          161470,
          135030,
          71503,
          152710,
          21570,
          83785,
          24110,
          94141,
          27115,
          54062,
          37911,
          119061,
          47556,
          224203,
          143335,
          16969,
          58753,
          228883,
          150542,
          136863,
          25225,
          138008,
          169268,
          120823,
          28669,
          183452,
          139398,
          125677,
          63320,
          193486,
          249614,
          161649,
          140354,
          103009,
          201481,
          43625,
          227112,
          39089,
          51487,
          211910,
          243071,
          125448,
          240867,
          65138,
          188895,
          183280,
          69061,
          176731,
          116376,
          177962,
          94134,
          62055,
          34508,
          188359,
          224988,
          173056,
          125169,
          23125,
          51059,
          215641,
          118409,
          163159,
          20704,
          206648,
          219456,
          233200,
          126279,
          218532,
          173280,
          133516,
          231222,
          212096,
          185954,
          171995,
          129044,
          247549,
          44165,
          82203,
          237821,
          19114,
          211037,
          51321,
          88297,
          111652,
          114304,
          171498,
          32772,
          118754,
          18712,
          147439,
          130142,
          106736,
          66924,
          18726,
          104152,
          42723,
          141969,
          249182,
          115494,
          155180,
          223786,
          50643,
          177396,
          118896,
          229432,
          154999,
          108680,
          111546,
          168515,
          94973,
          78449,
          124834,
          222815,
          206305,
          40537,
          247365,
          92576,
          122522,
          37612,
          240049,
          21471,
          181703,
          238131,
          46348,
          210804,
          16177,
          150832,
          47779,
          36636,
          96889,
          68551,
          157628,
          173670,
          157635,
          61819,
          88770,
          237127,
          173038,
          227781,
          205961,
          173059,
          93714,
          204420,
          39596,
          179246,
          79106,
          216039,
          74182,
          239372,
          102163,
          54310,
          71088,
          143803,
          154978,
          51914,
          125350,
          60379,
          224684,
          183722,
          192953,
          61413,
          152084,
          196187,
          22151,
          72716,
          108747,
          238725,
          182450,
          188724,
          218502,
          159539,
          177082,
          136999,
          129793,
          200763,
          210229,
          123177,
          27289,
          191048,
          189668,
          169243,
          246513,
          101365,
          245662,
          129014,
          190211,
          194785,
          175806,
          87588,
          78646,
          18654,
          235094,
          33743,
          63368,
          236097,
          220244,
          152513,
          134735,
          170683,
          134891,
          122971,
          27149,
          115102,
          74189,
          167747,
          86031,
          57668,
          159745,
          222738,
          103204,
          226830,
          211501,
          169741,
          180140,
          234861,
          155507,
          240160,
          198321,
          52384,
          96929,
          142959,
          91153,
          90388,
          46401,
          217903,
          134503,
          247601,
          142834,
          49084,
          125641,
          120111,
          201898,
          182523,
          153299,
          177982,
          51041,
          103920,
          80681,
          249386,
          96571,
          211553,
          214648,
          142556,
          210246,
          41160,
          32633,
          240952,
          32014,
          95532,
          64104,
          187693,
          92231,
          83388,
          31014,
          107578,
          179827,
          55390,
          38711,
          106658,
          72993,
          220768,
          173285,
          203856,
          22421,
          233008,
          245145,
          32727,
          127418,
          19358,
          80108,
          109018,
          139457,
          178189,
          234772,
          46910,
          141888,
          244104,
          70754,
          208510,
          124847,
          175443,
          197573,
          207018,
          53467,
          163697,
          48893,
          91329,
          46007,
          237374,
          185604,
          69253,
          27323,
          126335,
          127356,
          125944,
          219451,
          160282,
          31456,
          46367,
          69624,
          156178,
          249565,
          83008,
          140926,
          130395,
          131492,
          87240,
          79315,
          215321,
          216659,
          25756,
          214083,
          51378,
          150327,
          160556,
          140703,
          71549,
          180575,
          88794,
          246804,
          60113,
          89069,
          244189,
          151321,
          165273,
          140541,
          204648,
          24686,
          68363,
          112543,
          146733,
          190915,
          110673,
          207035,
          57828,
          63604,
          25526,
          83910,
          40592,
          43982,
          15207,
          247041,
          103733,
          245008,
          139982,
          83619,
          175400,
          61479,
          166175,
          185963,
          156826,
          246055,
          96437,
          113540,
          87982,
          117747,
          201994,
          63231,
          44301,
          237724,
          208783,
          187395,
          33752,
          243984,
          228277,
          113452,
          159467,
          232029,
          136237,
          71273,
          106878,
          19895,
          134968,
          130700,
          91559,
          25699,
          211133,
          24715,
          34169,
          133413,
          162235,
          134264,
          20782,
          234249,
          139481,
          230400,
          50585,
          45682,
          193936,
          144992,
          99416,
          201186,
          142810,
          53067,
          188757,
          33073,
          51035,
          211049,
          248782,
          105373,
          98362,
          105517,
          80450,
          25382,
          150509,
          217043,
          210684,
          236427,
          76929,
          248483,
          243590,
          113864,
          158401,
          40169
         ],
         "yaxis": "y"
        }
       ],
       "layout": {
        "annotations": [
         {
          "arrowhead": 2,
          "font": {
           "color": "red",
           "size": 12
          },
          "showarrow": true,
          "text": "Higher Loan Amounts are linked to Higher Income Levels",
          "x": 1596260,
          "y": 249746
         }
        ],
        "barmode": "relative",
        "legend": {
         "tracegroupgap": 0
        },
        "showlegend": true,
        "template": {
         "data": {
          "bar": [
           {
            "error_x": {
             "color": "#2a3f5f"
            },
            "error_y": {
             "color": "#2a3f5f"
            },
            "marker": {
             "line": {
              "color": "white",
              "width": 0.5
             },
             "pattern": {
              "fillmode": "overlay",
              "size": 10,
              "solidity": 0.2
             }
            },
            "type": "bar"
           }
          ],
          "barpolar": [
           {
            "marker": {
             "line": {
              "color": "white",
              "width": 0.5
             },
             "pattern": {
              "fillmode": "overlay",
              "size": 10,
              "solidity": 0.2
             }
            },
            "type": "barpolar"
           }
          ],
          "carpet": [
           {
            "aaxis": {
             "endlinecolor": "#2a3f5f",
             "gridcolor": "#C8D4E3",
             "linecolor": "#C8D4E3",
             "minorgridcolor": "#C8D4E3",
             "startlinecolor": "#2a3f5f"
            },
            "baxis": {
             "endlinecolor": "#2a3f5f",
             "gridcolor": "#C8D4E3",
             "linecolor": "#C8D4E3",
             "minorgridcolor": "#C8D4E3",
             "startlinecolor": "#2a3f5f"
            },
            "type": "carpet"
           }
          ],
          "choropleth": [
           {
            "colorbar": {
             "outlinewidth": 0,
             "ticks": ""
            },
            "type": "choropleth"
           }
          ],
          "contour": [
           {
            "colorbar": {
             "outlinewidth": 0,
             "ticks": ""
            },
            "colorscale": [
             [
              0,
              "#0d0887"
             ],
             [
              0.1111111111111111,
              "#46039f"
             ],
             [
              0.2222222222222222,
              "#7201a8"
             ],
             [
              0.3333333333333333,
              "#9c179e"
             ],
             [
              0.4444444444444444,
              "#bd3786"
             ],
             [
              0.5555555555555556,
              "#d8576b"
             ],
             [
              0.6666666666666666,
              "#ed7953"
             ],
             [
              0.7777777777777778,
              "#fb9f3a"
             ],
             [
              0.8888888888888888,
              "#fdca26"
             ],
             [
              1,
              "#f0f921"
             ]
            ],
            "type": "contour"
           }
          ],
          "contourcarpet": [
           {
            "colorbar": {
             "outlinewidth": 0,
             "ticks": ""
            },
            "type": "contourcarpet"
           }
          ],
          "heatmap": [
           {
            "colorbar": {
             "outlinewidth": 0,
             "ticks": ""
            },
            "colorscale": [
             [
              0,
              "#0d0887"
             ],
             [
              0.1111111111111111,
              "#46039f"
             ],
             [
              0.2222222222222222,
              "#7201a8"
             ],
             [
              0.3333333333333333,
              "#9c179e"
             ],
             [
              0.4444444444444444,
              "#bd3786"
             ],
             [
              0.5555555555555556,
              "#d8576b"
             ],
             [
              0.6666666666666666,
              "#ed7953"
             ],
             [
              0.7777777777777778,
              "#fb9f3a"
             ],
             [
              0.8888888888888888,
              "#fdca26"
             ],
             [
              1,
              "#f0f921"
             ]
            ],
            "type": "heatmap"
           }
          ],
          "heatmapgl": [
           {
            "colorbar": {
             "outlinewidth": 0,
             "ticks": ""
            },
            "colorscale": [
             [
              0,
              "#0d0887"
             ],
             [
              0.1111111111111111,
              "#46039f"
             ],
             [
              0.2222222222222222,
              "#7201a8"
             ],
             [
              0.3333333333333333,
              "#9c179e"
             ],
             [
              0.4444444444444444,
              "#bd3786"
             ],
             [
              0.5555555555555556,
              "#d8576b"
             ],
             [
              0.6666666666666666,
              "#ed7953"
             ],
             [
              0.7777777777777778,
              "#fb9f3a"
             ],
             [
              0.8888888888888888,
              "#fdca26"
             ],
             [
              1,
              "#f0f921"
             ]
            ],
            "type": "heatmapgl"
           }
          ],
          "histogram": [
           {
            "marker": {
             "pattern": {
              "fillmode": "overlay",
              "size": 10,
              "solidity": 0.2
             }
            },
            "type": "histogram"
           }
          ],
          "histogram2d": [
           {
            "colorbar": {
             "outlinewidth": 0,
             "ticks": ""
            },
            "colorscale": [
             [
              0,
              "#0d0887"
             ],
             [
              0.1111111111111111,
              "#46039f"
             ],
             [
              0.2222222222222222,
              "#7201a8"
             ],
             [
              0.3333333333333333,
              "#9c179e"
             ],
             [
              0.4444444444444444,
              "#bd3786"
             ],
             [
              0.5555555555555556,
              "#d8576b"
             ],
             [
              0.6666666666666666,
              "#ed7953"
             ],
             [
              0.7777777777777778,
              "#fb9f3a"
             ],
             [
              0.8888888888888888,
              "#fdca26"
             ],
             [
              1,
              "#f0f921"
             ]
            ],
            "type": "histogram2d"
           }
          ],
          "histogram2dcontour": [
           {
            "colorbar": {
             "outlinewidth": 0,
             "ticks": ""
            },
            "colorscale": [
             [
              0,
              "#0d0887"
             ],
             [
              0.1111111111111111,
              "#46039f"
             ],
             [
              0.2222222222222222,
              "#7201a8"
             ],
             [
              0.3333333333333333,
              "#9c179e"
             ],
             [
              0.4444444444444444,
              "#bd3786"
             ],
             [
              0.5555555555555556,
              "#d8576b"
             ],
             [
              0.6666666666666666,
              "#ed7953"
             ],
             [
              0.7777777777777778,
              "#fb9f3a"
             ],
             [
              0.8888888888888888,
              "#fdca26"
             ],
             [
              1,
              "#f0f921"
             ]
            ],
            "type": "histogram2dcontour"
           }
          ],
          "mesh3d": [
           {
            "colorbar": {
             "outlinewidth": 0,
             "ticks": ""
            },
            "type": "mesh3d"
           }
          ],
          "parcoords": [
           {
            "line": {
             "colorbar": {
              "outlinewidth": 0,
              "ticks": ""
             }
            },
            "type": "parcoords"
           }
          ],
          "pie": [
           {
            "automargin": true,
            "type": "pie"
           }
          ],
          "scatter": [
           {
            "fillpattern": {
             "fillmode": "overlay",
             "size": 10,
             "solidity": 0.2
            },
            "type": "scatter"
           }
          ],
          "scatter3d": [
           {
            "line": {
             "colorbar": {
              "outlinewidth": 0,
              "ticks": ""
             }
            },
            "marker": {
             "colorbar": {
              "outlinewidth": 0,
              "ticks": ""
             }
            },
            "type": "scatter3d"
           }
          ],
          "scattercarpet": [
           {
            "marker": {
             "colorbar": {
              "outlinewidth": 0,
              "ticks": ""
             }
            },
            "type": "scattercarpet"
           }
          ],
          "scattergeo": [
           {
            "marker": {
             "colorbar": {
              "outlinewidth": 0,
              "ticks": ""
             }
            },
            "type": "scattergeo"
           }
          ],
          "scattergl": [
           {
            "marker": {
             "colorbar": {
              "outlinewidth": 0,
              "ticks": ""
             }
            },
            "type": "scattergl"
           }
          ],
          "scattermapbox": [
           {
            "marker": {
             "colorbar": {
              "outlinewidth": 0,
              "ticks": ""
             }
            },
            "type": "scattermapbox"
           }
          ],
          "scatterpolar": [
           {
            "marker": {
             "colorbar": {
              "outlinewidth": 0,
              "ticks": ""
             }
            },
            "type": "scatterpolar"
           }
          ],
          "scatterpolargl": [
           {
            "marker": {
             "colorbar": {
              "outlinewidth": 0,
              "ticks": ""
             }
            },
            "type": "scatterpolargl"
           }
          ],
          "scatterternary": [
           {
            "marker": {
             "colorbar": {
              "outlinewidth": 0,
              "ticks": ""
             }
            },
            "type": "scatterternary"
           }
          ],
          "surface": [
           {
            "colorbar": {
             "outlinewidth": 0,
             "ticks": ""
            },
            "colorscale": [
             [
              0,
              "#0d0887"
             ],
             [
              0.1111111111111111,
              "#46039f"
             ],
             [
              0.2222222222222222,
              "#7201a8"
             ],
             [
              0.3333333333333333,
              "#9c179e"
             ],
             [
              0.4444444444444444,
              "#bd3786"
             ],
             [
              0.5555555555555556,
              "#d8576b"
             ],
             [
              0.6666666666666666,
              "#ed7953"
             ],
             [
              0.7777777777777778,
              "#fb9f3a"
             ],
             [
              0.8888888888888888,
              "#fdca26"
             ],
             [
              1,
              "#f0f921"
             ]
            ],
            "type": "surface"
           }
          ],
          "table": [
           {
            "cells": {
             "fill": {
              "color": "#EBF0F8"
             },
             "line": {
              "color": "white"
             }
            },
            "header": {
             "fill": {
              "color": "#C8D4E3"
             },
             "line": {
              "color": "white"
             }
            },
            "type": "table"
           }
          ]
         },
         "layout": {
          "annotationdefaults": {
           "arrowcolor": "#2a3f5f",
           "arrowhead": 0,
           "arrowwidth": 1
          },
          "autotypenumbers": "strict",
          "coloraxis": {
           "colorbar": {
            "outlinewidth": 0,
            "ticks": ""
           }
          },
          "colorscale": {
           "diverging": [
            [
             0,
             "#8e0152"
            ],
            [
             0.1,
             "#c51b7d"
            ],
            [
             0.2,
             "#de77ae"
            ],
            [
             0.3,
             "#f1b6da"
            ],
            [
             0.4,
             "#fde0ef"
            ],
            [
             0.5,
             "#f7f7f7"
            ],
            [
             0.6,
             "#e6f5d0"
            ],
            [
             0.7,
             "#b8e186"
            ],
            [
             0.8,
             "#7fbc41"
            ],
            [
             0.9,
             "#4d9221"
            ],
            [
             1,
             "#276419"
            ]
           ],
           "sequential": [
            [
             0,
             "#0d0887"
            ],
            [
             0.1111111111111111,
             "#46039f"
            ],
            [
             0.2222222222222222,
             "#7201a8"
            ],
            [
             0.3333333333333333,
             "#9c179e"
            ],
            [
             0.4444444444444444,
             "#bd3786"
            ],
            [
             0.5555555555555556,
             "#d8576b"
            ],
            [
             0.6666666666666666,
             "#ed7953"
            ],
            [
             0.7777777777777778,
             "#fb9f3a"
            ],
            [
             0.8888888888888888,
             "#fdca26"
            ],
            [
             1,
             "#f0f921"
            ]
           ],
           "sequentialminus": [
            [
             0,
             "#0d0887"
            ],
            [
             0.1111111111111111,
             "#46039f"
            ],
            [
             0.2222222222222222,
             "#7201a8"
            ],
            [
             0.3333333333333333,
             "#9c179e"
            ],
            [
             0.4444444444444444,
             "#bd3786"
            ],
            [
             0.5555555555555556,
             "#d8576b"
            ],
            [
             0.6666666666666666,
             "#ed7953"
            ],
            [
             0.7777777777777778,
             "#fb9f3a"
            ],
            [
             0.8888888888888888,
             "#fdca26"
            ],
            [
             1,
             "#f0f921"
            ]
           ]
          },
          "colorway": [
           "#636efa",
           "#EF553B",
           "#00cc96",
           "#ab63fa",
           "#FFA15A",
           "#19d3f3",
           "#FF6692",
           "#B6E880",
           "#FF97FF",
           "#FECB52"
          ],
          "font": {
           "color": "#2a3f5f"
          },
          "geo": {
           "bgcolor": "white",
           "lakecolor": "white",
           "landcolor": "white",
           "showlakes": true,
           "showland": true,
           "subunitcolor": "#C8D4E3"
          },
          "hoverlabel": {
           "align": "left"
          },
          "hovermode": "closest",
          "mapbox": {
           "style": "light"
          },
          "paper_bgcolor": "white",
          "plot_bgcolor": "white",
          "polar": {
           "angularaxis": {
            "gridcolor": "#EBF0F8",
            "linecolor": "#EBF0F8",
            "ticks": ""
           },
           "bgcolor": "white",
           "radialaxis": {
            "gridcolor": "#EBF0F8",
            "linecolor": "#EBF0F8",
            "ticks": ""
           }
          },
          "scene": {
           "xaxis": {
            "backgroundcolor": "white",
            "gridcolor": "#DFE8F3",
            "gridwidth": 2,
            "linecolor": "#EBF0F8",
            "showbackground": true,
            "ticks": "",
            "zerolinecolor": "#EBF0F8"
           },
           "yaxis": {
            "backgroundcolor": "white",
            "gridcolor": "#DFE8F3",
            "gridwidth": 2,
            "linecolor": "#EBF0F8",
            "showbackground": true,
            "ticks": "",
            "zerolinecolor": "#EBF0F8"
           },
           "zaxis": {
            "backgroundcolor": "white",
            "gridcolor": "#DFE8F3",
            "gridwidth": 2,
            "linecolor": "#EBF0F8",
            "showbackground": true,
            "ticks": "",
            "zerolinecolor": "#EBF0F8"
           }
          },
          "shapedefaults": {
           "line": {
            "color": "#2a3f5f"
           }
          },
          "ternary": {
           "aaxis": {
            "gridcolor": "#DFE8F3",
            "linecolor": "#A2B1C6",
            "ticks": ""
           },
           "baxis": {
            "gridcolor": "#DFE8F3",
            "linecolor": "#A2B1C6",
            "ticks": ""
           },
           "bgcolor": "white",
           "caxis": {
            "gridcolor": "#DFE8F3",
            "linecolor": "#A2B1C6",
            "ticks": ""
           }
          },
          "title": {
           "x": 0.05
          },
          "xaxis": {
           "automargin": true,
           "gridcolor": "#EBF0F8",
           "linecolor": "#EBF0F8",
           "ticks": "",
           "title": {
            "standoff": 15
           },
           "zerolinecolor": "#EBF0F8",
           "zerolinewidth": 2
          },
          "yaxis": {
           "automargin": true,
           "gridcolor": "#EBF0F8",
           "linecolor": "#EBF0F8",
           "ticks": "",
           "title": {
            "standoff": 15
           },
           "zerolinecolor": "#EBF0F8",
           "zerolinewidth": 2
          }
         }
        },
        "title": {
         "text": "Loan Amount Distribution & Relationship with Monthly Income"
        },
        "xaxis": {
         "anchor": "y",
         "domain": [
          0,
          1
         ],
         "title": {
          "text": "Loan Amount(in ₹)"
         }
        },
        "xaxis2": {
         "anchor": "y2",
         "domain": [
          0,
          1
         ],
         "matches": "x",
         "showgrid": true,
         "showticklabels": false
        },
        "yaxis": {
         "anchor": "x",
         "domain": [
          0,
          0.8316
         ],
         "title": {
          "text": "Monthly_Income(in ₹)"
         }
        },
        "yaxis2": {
         "anchor": "x2",
         "domain": [
          0.8416,
          1
         ],
         "matches": "y2",
         "showgrid": false,
         "showline": false,
         "showticklabels": false,
         "ticks": ""
        }
       }
      }
     },
     "metadata": {},
     "output_type": "display_data"
    }
   ],
   "source": [
    "# Import Plotly's graph_objects module for low-level graphing and express module for quick plotting\n",
    "import plotly.graph_objects as go\n",
    "import plotly.express as px\n",
    "\n",
    "# Import pandas library for data manipulation and analysis\n",
    "import pandas as pd\n",
    "\n",
    "# Create a histogram of 'Loan_Amount' from the dataframe 'df'\n",
    "# nbins=30 sets the number of bins (bars) in the histogram\n",
    "# marginal='violin' adds a violin plot showing data distribution shape\n",
    "# opacity=0.7 makes bars slightly transparent for visual clarity\n",
    "# title sets the chart title\n",
    "# labels provide friendly axis labels for 'Loan_Amount' and 'Monthly_Income'\n",
    "# color_discrete_sequence defines the color of the histogram bars as royal blue\n",
    "fig = px.histogram(\n",
    "    df, \n",
    "    x='Loan_Amount', \n",
    "    nbins=30, \n",
    "    marginal='violin', \n",
    "    opacity=0.7,\n",
    "    title='Loan Amount Distribution & Relationship with Monthly Income',\n",
    "    labels={'Loan_Amount': 'Loan Amount (in ₹)', 'Monthly_Income': 'Monthly Income'}, \n",
    "    color_discrete_sequence=['royalblue']\n",
    ")\n",
    "\n",
    "# Add a red density curve line on top of the histogram to visualize the probability density function\n",
    "fig.add_trace(go.Scatter(\n",
    "    x=sorted(df['Loan_Amount']),  # X values sorted loan amounts for a smooth curve\n",
    "    y=px.histogram(df, x='Loan_Amount', nbins=30, histnorm='probability density').data[0]['y'],  \n",
    "    # Y values come from normalized histogram (probability density), extracted from px.histogram trace\n",
    "    mode='lines',  # Draw as a continuous line, no markers\n",
    "    name='Density Curve',  # Legend label\n",
    "    line=dict(color='red', width=2)  # Line styling: red color, width of 2\n",
    "))\n",
    "\n",
    "# Create a scatter plot showing relationship between Loan_Amount and Monthly_Income\n",
    "# Points are colored by Loan_Amount using the 'viridis' continuous color scale\n",
    "# Size of points is proportional to Loan_Amount to show magnitude visually\n",
    "# hover_name shows the dataframe index when hovering over points\n",
    "scatter = px.scatter(\n",
    "    df, \n",
    "    x='Loan_Amount', \n",
    "    y='Monthly_Income',\n",
    "    color='Loan_Amount', \n",
    "    color_continuous_scale='viridis',\n",
    "    size=df['Loan_Amount'], \n",
    "    hover_name=df.index\n",
    ")\n",
    "\n",
    "# Add all traces from scatter plot into the original figure (fig)\n",
    "# This overlays the scatter plot on top of the histogram + density curve\n",
    "for trace in scatter.data:\n",
    "    fig.add_trace(trace)\n",
    "\n",
    "# Update layout of the figure to add annotation, axis titles, template, and legend\n",
    "fig.update_layout(\n",
    "    annotations=[  # Add an annotation (text box with arrow)\n",
    "        dict(\n",
    "            x=max(df['Loan_Amount']) * 0.8,  # X position at 80% of max loan amount\n",
    "            y=max(df['Monthly_Income']),    # Y position at max monthly income\n",
    "            text='Higher Loan Amounts are linked to Higher Income Levels',  # Annotation text\n",
    "            showarrow=True,  # Show arrow pointing to the annotation position\n",
    "            arrowhead=2,     # Style of the arrowhead\n",
    "            font=dict(size=12, color='red')  # Font size and color of annotation text\n",
    "        )\n",
    "    ],\n",
    "    xaxis_title='Loan Amount(in ₹)',  # X-axis label\n",
    "    yaxis_title='Monthly_Income(in ₹)',  # Y-axis label\n",
    "    template='plotly_white',  # Use a clean white theme for the plot background\n",
    "    showlegend=True  # Display legend for all traces\n",
    ")\n",
    "\n",
    "# Render and display the final combined interactive figure\n",
    "fig.show()"
   ]
  },
  {
   "cell_type": "markdown",
   "id": "ceea6b24",
   "metadata": {},
   "source": [
    "### Insights:\n",
    "- The plot shows a positive relationship between Loan Amounts and Monthly Income, indicating that individuals with higher income levels tend to secure larger loans.\n",
    "- The density curve at the top shows the distribution of loan amounts, emphasizing that higher loan amounts are more frequent among higher income brackets.\n",
    "- It highlights the proportionality between income and loan size, which shows an income-based approach in loan approvals or customer profiling."
   ]
  },
  {
   "cell_type": "markdown",
   "id": "4a4e4a35",
   "metadata": {},
   "source": [
    "## Analyzing Payment History with Recovery Status:"
   ]
  },
  {
   "cell_type": "code",
   "execution_count": 66,
   "id": "b4eed412",
   "metadata": {},
   "outputs": [
    {
     "data": {
      "application/vnd.plotly.v1+json": {
       "config": {
        "plotlyServerURL": "https://plot.ly"
       },
       "data": [
        {
         "alignmentgroup": "True",
         "bingroup": "x",
         "hovertemplate": "Recovery_Status=Partially Recovered<br>Payment History=%{x}<br>count=%{y}<extra></extra>",
         "legendgroup": "Partially Recovered",
         "marker": {
          "color": "#00cc96",
          "pattern": {
           "shape": ""
          }
         },
         "name": "Partially Recovered",
         "offsetgroup": "Partially Recovered",
         "orientation": "v",
         "showlegend": true,
         "texttemplate": "%{value}",
         "type": "histogram",
         "x": [
          "On-Time",
          "On-Time",
          "On-Time",
          "Delayed",
          "On-Time",
          "On-Time",
          "On-Time",
          "On-Time",
          "Delayed",
          "Delayed",
          "On-Time",
          "On-Time",
          "On-Time",
          "Delayed",
          "On-Time",
          "Delayed",
          "On-Time",
          "Delayed",
          "On-Time",
          "On-Time",
          "On-Time",
          "Missed",
          "On-Time",
          "On-Time",
          "On-Time",
          "On-Time",
          "On-Time",
          "Delayed",
          "Missed",
          "On-Time",
          "On-Time",
          "On-Time",
          "On-Time",
          "On-Time",
          "On-Time",
          "Missed",
          "On-Time",
          "Delayed",
          "Delayed",
          "On-Time",
          "Delayed",
          "Delayed",
          "Delayed",
          "On-Time",
          "Delayed",
          "Delayed",
          "Delayed",
          "Delayed",
          "On-Time",
          "Missed",
          "On-Time",
          "On-Time",
          "On-Time",
          "Missed",
          "Delayed",
          "Delayed",
          "Delayed",
          "Delayed",
          "On-Time",
          "Delayed",
          "On-Time",
          "Delayed",
          "On-Time",
          "On-Time",
          "On-Time",
          "On-Time",
          "Missed",
          "On-Time",
          "On-Time",
          "On-Time",
          "Delayed",
          "On-Time",
          "On-Time",
          "On-Time",
          "On-Time",
          "On-Time",
          "On-Time",
          "Delayed",
          "On-Time",
          "On-Time",
          "On-Time",
          "On-Time",
          "On-Time",
          "On-Time",
          "Delayed",
          "On-Time",
          "On-Time",
          "On-Time",
          "Delayed",
          "Missed",
          "On-Time",
          "On-Time",
          "Delayed",
          "Missed",
          "On-Time",
          "On-Time",
          "Delayed",
          "On-Time",
          "Delayed",
          "Missed",
          "On-Time",
          "On-Time",
          "On-Time",
          "Delayed",
          "On-Time",
          "On-Time",
          "Delayed",
          "Missed",
          "Delayed",
          "On-Time",
          "Delayed",
          "On-Time",
          "On-Time",
          "On-Time",
          "Delayed",
          "On-Time",
          "Delayed",
          "Delayed",
          "On-Time",
          "On-Time",
          "On-Time",
          "On-Time",
          "Delayed",
          "Missed",
          "Delayed",
          "On-Time",
          "On-Time",
          "Missed",
          "On-Time",
          "Delayed",
          "Delayed",
          "Delayed",
          "Delayed",
          "Missed",
          "On-Time",
          "On-Time",
          "Delayed",
          "On-Time",
          "Delayed",
          "On-Time",
          "On-Time",
          "On-Time",
          "On-Time",
          "On-Time",
          "Missed",
          "Delayed",
          "On-Time",
          "On-Time",
          "On-Time",
          "On-Time",
          "On-Time",
          "On-Time",
          "Delayed",
          "On-Time"
         ],
         "xaxis": "x",
         "yaxis": "y"
        },
        {
         "alignmentgroup": "True",
         "bingroup": "x",
         "hovertemplate": "Recovery_Status=Fully Recovered<br>Payment History=%{x}<br>count=%{y}<extra></extra>",
         "legendgroup": "Fully Recovered",
         "marker": {
          "color": "#ab63fa",
          "pattern": {
           "shape": ""
          }
         },
         "name": "Fully Recovered",
         "offsetgroup": "Fully Recovered",
         "orientation": "v",
         "showlegend": true,
         "texttemplate": "%{value}",
         "type": "histogram",
         "x": [
          "On-Time",
          "Delayed",
          "On-Time",
          "On-Time",
          "Delayed",
          "On-Time",
          "On-Time",
          "On-Time",
          "Missed",
          "On-Time",
          "On-Time",
          "Delayed",
          "On-Time",
          "Delayed",
          "Missed",
          "Missed",
          "Delayed",
          "On-Time",
          "On-Time",
          "On-Time",
          "On-Time",
          "On-Time",
          "On-Time",
          "On-Time",
          "On-Time",
          "On-Time",
          "Missed",
          "On-Time",
          "On-Time",
          "On-Time",
          "On-Time",
          "On-Time",
          "Delayed",
          "On-Time",
          "On-Time",
          "Delayed",
          "Delayed",
          "On-Time",
          "Delayed",
          "On-Time",
          "On-Time",
          "On-Time",
          "On-Time",
          "Delayed",
          "On-Time",
          "Missed",
          "On-Time",
          "On-Time",
          "Delayed",
          "Delayed",
          "Delayed",
          "On-Time",
          "On-Time",
          "Delayed",
          "On-Time",
          "On-Time",
          "Delayed",
          "Missed",
          "On-Time",
          "Missed",
          "Delayed",
          "On-Time",
          "On-Time",
          "On-Time",
          "On-Time",
          "On-Time",
          "Delayed",
          "Delayed",
          "On-Time",
          "Delayed",
          "Delayed",
          "On-Time",
          "On-Time",
          "On-Time",
          "On-Time",
          "Delayed",
          "Delayed",
          "Delayed",
          "On-Time",
          "On-Time",
          "Missed",
          "Delayed",
          "Delayed",
          "On-Time",
          "On-Time",
          "Delayed",
          "On-Time",
          "On-Time",
          "On-Time",
          "Delayed",
          "Missed",
          "Missed",
          "On-Time",
          "Delayed",
          "On-Time",
          "On-Time",
          "Missed",
          "On-Time",
          "On-Time",
          "On-Time",
          "On-Time",
          "Delayed",
          "On-Time",
          "On-Time",
          "On-Time",
          "Delayed",
          "Delayed",
          "On-Time",
          "On-Time",
          "On-Time",
          "On-Time",
          "On-Time",
          "Missed",
          "On-Time",
          "On-Time",
          "Delayed",
          "Delayed",
          "On-Time",
          "On-Time",
          "On-Time",
          "On-Time",
          "Delayed",
          "On-Time",
          "Delayed",
          "Delayed",
          "On-Time",
          "Missed",
          "On-Time",
          "On-Time",
          "On-Time",
          "Missed",
          "Delayed",
          "Delayed",
          "Delayed",
          "On-Time",
          "On-Time",
          "On-Time",
          "Missed",
          "Missed",
          "On-Time",
          "On-Time",
          "Delayed",
          "On-Time",
          "Delayed",
          "On-Time",
          "Delayed",
          "Missed",
          "On-Time",
          "Missed",
          "Delayed",
          "On-Time",
          "On-Time",
          "Missed",
          "Delayed",
          "On-Time",
          "On-Time",
          "On-Time",
          "Delayed",
          "On-Time",
          "On-Time",
          "On-Time",
          "On-Time",
          "On-Time",
          "Delayed",
          "On-Time",
          "On-Time",
          "On-Time",
          "On-Time",
          "On-Time",
          "On-Time",
          "On-Time",
          "On-Time",
          "On-Time",
          "On-Time",
          "On-Time",
          "On-Time",
          "On-Time",
          "On-Time",
          "On-Time",
          "On-Time",
          "On-Time",
          "Delayed",
          "On-Time",
          "On-Time",
          "On-Time",
          "On-Time",
          "Delayed",
          "Delayed",
          "On-Time",
          "On-Time",
          "On-Time",
          "Missed",
          "Missed",
          "Delayed",
          "Delayed",
          "On-Time",
          "Missed",
          "Delayed",
          "On-Time",
          "On-Time",
          "On-Time",
          "Missed",
          "On-Time",
          "On-Time",
          "Delayed",
          "On-Time",
          "Delayed",
          "On-Time",
          "Delayed",
          "On-Time",
          "On-Time",
          "On-Time",
          "On-Time",
          "On-Time",
          "On-Time",
          "On-Time",
          "On-Time",
          "On-Time",
          "Delayed",
          "Delayed",
          "Delayed",
          "On-Time",
          "On-Time",
          "Delayed",
          "Missed",
          "On-Time",
          "On-Time",
          "On-Time",
          "Delayed",
          "Delayed",
          "On-Time",
          "On-Time",
          "Delayed",
          "Delayed",
          "On-Time",
          "On-Time",
          "Delayed",
          "Missed",
          "On-Time",
          "Delayed",
          "On-Time",
          "On-Time",
          "Delayed",
          "On-Time",
          "Delayed",
          "On-Time",
          "Missed",
          "On-Time",
          "On-Time",
          "On-Time",
          "On-Time",
          "On-Time",
          "Delayed",
          "On-Time",
          "On-Time",
          "Delayed",
          "On-Time",
          "On-Time",
          "On-Time",
          "On-Time",
          "On-Time",
          "Missed",
          "Delayed",
          "On-Time",
          "On-Time",
          "On-Time",
          "On-Time",
          "On-Time",
          "Delayed",
          "Missed",
          "Missed",
          "On-Time",
          "On-Time",
          "Delayed",
          "On-Time",
          "Missed",
          "Missed",
          "On-Time",
          "Missed",
          "On-Time",
          "On-Time",
          "On-Time",
          "On-Time",
          "On-Time",
          "Delayed",
          "Missed",
          "On-Time",
          "Delayed",
          "Missed",
          "Delayed",
          "Missed",
          "Delayed",
          "Delayed",
          "On-Time",
          "Delayed",
          "Delayed"
         ],
         "xaxis": "x",
         "yaxis": "y"
        },
        {
         "alignmentgroup": "True",
         "bingroup": "x",
         "hovertemplate": "Recovery_Status=Written Off<br>Payment History=%{x}<br>count=%{y}<extra></extra>",
         "legendgroup": "Written Off",
         "marker": {
          "color": "#FFA15A",
          "pattern": {
           "shape": ""
          }
         },
         "name": "Written Off",
         "offsetgroup": "Written Off",
         "orientation": "v",
         "showlegend": true,
         "texttemplate": "%{value}",
         "type": "histogram",
         "x": [
          "Delayed",
          "Delayed",
          "On-Time",
          "Delayed",
          "On-Time",
          "On-Time",
          "On-Time",
          "On-Time",
          "Delayed",
          "On-Time",
          "On-Time",
          "On-Time",
          "Delayed",
          "Delayed",
          "On-Time",
          "Missed",
          "Missed",
          "On-Time",
          "Missed",
          "Delayed",
          "Delayed",
          "On-Time",
          "On-Time",
          "Missed",
          "On-Time",
          "Delayed",
          "On-Time",
          "Delayed",
          "On-Time",
          "On-Time",
          "On-Time",
          "On-Time",
          "On-Time",
          "Delayed",
          "Delayed",
          "On-Time",
          "On-Time",
          "On-Time",
          "Delayed",
          "Delayed",
          "Missed",
          "On-Time",
          "On-Time",
          "On-Time",
          "On-Time",
          "On-Time",
          "On-Time",
          "Delayed",
          "On-Time",
          "On-Time"
         ],
         "xaxis": "x",
         "yaxis": "y"
        }
       ],
       "layout": {
        "barmode": "group",
        "legend": {
         "title": {
          "text": "Recovery_Status"
         },
         "tracegroupgap": 0
        },
        "template": {
         "data": {
          "bar": [
           {
            "error_x": {
             "color": "#2a3f5f"
            },
            "error_y": {
             "color": "#2a3f5f"
            },
            "marker": {
             "line": {
              "color": "white",
              "width": 0.5
             },
             "pattern": {
              "fillmode": "overlay",
              "size": 10,
              "solidity": 0.2
             }
            },
            "type": "bar"
           }
          ],
          "barpolar": [
           {
            "marker": {
             "line": {
              "color": "white",
              "width": 0.5
             },
             "pattern": {
              "fillmode": "overlay",
              "size": 10,
              "solidity": 0.2
             }
            },
            "type": "barpolar"
           }
          ],
          "carpet": [
           {
            "aaxis": {
             "endlinecolor": "#2a3f5f",
             "gridcolor": "#C8D4E3",
             "linecolor": "#C8D4E3",
             "minorgridcolor": "#C8D4E3",
             "startlinecolor": "#2a3f5f"
            },
            "baxis": {
             "endlinecolor": "#2a3f5f",
             "gridcolor": "#C8D4E3",
             "linecolor": "#C8D4E3",
             "minorgridcolor": "#C8D4E3",
             "startlinecolor": "#2a3f5f"
            },
            "type": "carpet"
           }
          ],
          "choropleth": [
           {
            "colorbar": {
             "outlinewidth": 0,
             "ticks": ""
            },
            "type": "choropleth"
           }
          ],
          "contour": [
           {
            "colorbar": {
             "outlinewidth": 0,
             "ticks": ""
            },
            "colorscale": [
             [
              0,
              "#0d0887"
             ],
             [
              0.1111111111111111,
              "#46039f"
             ],
             [
              0.2222222222222222,
              "#7201a8"
             ],
             [
              0.3333333333333333,
              "#9c179e"
             ],
             [
              0.4444444444444444,
              "#bd3786"
             ],
             [
              0.5555555555555556,
              "#d8576b"
             ],
             [
              0.6666666666666666,
              "#ed7953"
             ],
             [
              0.7777777777777778,
              "#fb9f3a"
             ],
             [
              0.8888888888888888,
              "#fdca26"
             ],
             [
              1,
              "#f0f921"
             ]
            ],
            "type": "contour"
           }
          ],
          "contourcarpet": [
           {
            "colorbar": {
             "outlinewidth": 0,
             "ticks": ""
            },
            "type": "contourcarpet"
           }
          ],
          "heatmap": [
           {
            "colorbar": {
             "outlinewidth": 0,
             "ticks": ""
            },
            "colorscale": [
             [
              0,
              "#0d0887"
             ],
             [
              0.1111111111111111,
              "#46039f"
             ],
             [
              0.2222222222222222,
              "#7201a8"
             ],
             [
              0.3333333333333333,
              "#9c179e"
             ],
             [
              0.4444444444444444,
              "#bd3786"
             ],
             [
              0.5555555555555556,
              "#d8576b"
             ],
             [
              0.6666666666666666,
              "#ed7953"
             ],
             [
              0.7777777777777778,
              "#fb9f3a"
             ],
             [
              0.8888888888888888,
              "#fdca26"
             ],
             [
              1,
              "#f0f921"
             ]
            ],
            "type": "heatmap"
           }
          ],
          "heatmapgl": [
           {
            "colorbar": {
             "outlinewidth": 0,
             "ticks": ""
            },
            "colorscale": [
             [
              0,
              "#0d0887"
             ],
             [
              0.1111111111111111,
              "#46039f"
             ],
             [
              0.2222222222222222,
              "#7201a8"
             ],
             [
              0.3333333333333333,
              "#9c179e"
             ],
             [
              0.4444444444444444,
              "#bd3786"
             ],
             [
              0.5555555555555556,
              "#d8576b"
             ],
             [
              0.6666666666666666,
              "#ed7953"
             ],
             [
              0.7777777777777778,
              "#fb9f3a"
             ],
             [
              0.8888888888888888,
              "#fdca26"
             ],
             [
              1,
              "#f0f921"
             ]
            ],
            "type": "heatmapgl"
           }
          ],
          "histogram": [
           {
            "marker": {
             "pattern": {
              "fillmode": "overlay",
              "size": 10,
              "solidity": 0.2
             }
            },
            "type": "histogram"
           }
          ],
          "histogram2d": [
           {
            "colorbar": {
             "outlinewidth": 0,
             "ticks": ""
            },
            "colorscale": [
             [
              0,
              "#0d0887"
             ],
             [
              0.1111111111111111,
              "#46039f"
             ],
             [
              0.2222222222222222,
              "#7201a8"
             ],
             [
              0.3333333333333333,
              "#9c179e"
             ],
             [
              0.4444444444444444,
              "#bd3786"
             ],
             [
              0.5555555555555556,
              "#d8576b"
             ],
             [
              0.6666666666666666,
              "#ed7953"
             ],
             [
              0.7777777777777778,
              "#fb9f3a"
             ],
             [
              0.8888888888888888,
              "#fdca26"
             ],
             [
              1,
              "#f0f921"
             ]
            ],
            "type": "histogram2d"
           }
          ],
          "histogram2dcontour": [
           {
            "colorbar": {
             "outlinewidth": 0,
             "ticks": ""
            },
            "colorscale": [
             [
              0,
              "#0d0887"
             ],
             [
              0.1111111111111111,
              "#46039f"
             ],
             [
              0.2222222222222222,
              "#7201a8"
             ],
             [
              0.3333333333333333,
              "#9c179e"
             ],
             [
              0.4444444444444444,
              "#bd3786"
             ],
             [
              0.5555555555555556,
              "#d8576b"
             ],
             [
              0.6666666666666666,
              "#ed7953"
             ],
             [
              0.7777777777777778,
              "#fb9f3a"
             ],
             [
              0.8888888888888888,
              "#fdca26"
             ],
             [
              1,
              "#f0f921"
             ]
            ],
            "type": "histogram2dcontour"
           }
          ],
          "mesh3d": [
           {
            "colorbar": {
             "outlinewidth": 0,
             "ticks": ""
            },
            "type": "mesh3d"
           }
          ],
          "parcoords": [
           {
            "line": {
             "colorbar": {
              "outlinewidth": 0,
              "ticks": ""
             }
            },
            "type": "parcoords"
           }
          ],
          "pie": [
           {
            "automargin": true,
            "type": "pie"
           }
          ],
          "scatter": [
           {
            "fillpattern": {
             "fillmode": "overlay",
             "size": 10,
             "solidity": 0.2
            },
            "type": "scatter"
           }
          ],
          "scatter3d": [
           {
            "line": {
             "colorbar": {
              "outlinewidth": 0,
              "ticks": ""
             }
            },
            "marker": {
             "colorbar": {
              "outlinewidth": 0,
              "ticks": ""
             }
            },
            "type": "scatter3d"
           }
          ],
          "scattercarpet": [
           {
            "marker": {
             "colorbar": {
              "outlinewidth": 0,
              "ticks": ""
             }
            },
            "type": "scattercarpet"
           }
          ],
          "scattergeo": [
           {
            "marker": {
             "colorbar": {
              "outlinewidth": 0,
              "ticks": ""
             }
            },
            "type": "scattergeo"
           }
          ],
          "scattergl": [
           {
            "marker": {
             "colorbar": {
              "outlinewidth": 0,
              "ticks": ""
             }
            },
            "type": "scattergl"
           }
          ],
          "scattermapbox": [
           {
            "marker": {
             "colorbar": {
              "outlinewidth": 0,
              "ticks": ""
             }
            },
            "type": "scattermapbox"
           }
          ],
          "scatterpolar": [
           {
            "marker": {
             "colorbar": {
              "outlinewidth": 0,
              "ticks": ""
             }
            },
            "type": "scatterpolar"
           }
          ],
          "scatterpolargl": [
           {
            "marker": {
             "colorbar": {
              "outlinewidth": 0,
              "ticks": ""
             }
            },
            "type": "scatterpolargl"
           }
          ],
          "scatterternary": [
           {
            "marker": {
             "colorbar": {
              "outlinewidth": 0,
              "ticks": ""
             }
            },
            "type": "scatterternary"
           }
          ],
          "surface": [
           {
            "colorbar": {
             "outlinewidth": 0,
             "ticks": ""
            },
            "colorscale": [
             [
              0,
              "#0d0887"
             ],
             [
              0.1111111111111111,
              "#46039f"
             ],
             [
              0.2222222222222222,
              "#7201a8"
             ],
             [
              0.3333333333333333,
              "#9c179e"
             ],
             [
              0.4444444444444444,
              "#bd3786"
             ],
             [
              0.5555555555555556,
              "#d8576b"
             ],
             [
              0.6666666666666666,
              "#ed7953"
             ],
             [
              0.7777777777777778,
              "#fb9f3a"
             ],
             [
              0.8888888888888888,
              "#fdca26"
             ],
             [
              1,
              "#f0f921"
             ]
            ],
            "type": "surface"
           }
          ],
          "table": [
           {
            "cells": {
             "fill": {
              "color": "#EBF0F8"
             },
             "line": {
              "color": "white"
             }
            },
            "header": {
             "fill": {
              "color": "#C8D4E3"
             },
             "line": {
              "color": "white"
             }
            },
            "type": "table"
           }
          ]
         },
         "layout": {
          "annotationdefaults": {
           "arrowcolor": "#2a3f5f",
           "arrowhead": 0,
           "arrowwidth": 1
          },
          "autotypenumbers": "strict",
          "coloraxis": {
           "colorbar": {
            "outlinewidth": 0,
            "ticks": ""
           }
          },
          "colorscale": {
           "diverging": [
            [
             0,
             "#8e0152"
            ],
            [
             0.1,
             "#c51b7d"
            ],
            [
             0.2,
             "#de77ae"
            ],
            [
             0.3,
             "#f1b6da"
            ],
            [
             0.4,
             "#fde0ef"
            ],
            [
             0.5,
             "#f7f7f7"
            ],
            [
             0.6,
             "#e6f5d0"
            ],
            [
             0.7,
             "#b8e186"
            ],
            [
             0.8,
             "#7fbc41"
            ],
            [
             0.9,
             "#4d9221"
            ],
            [
             1,
             "#276419"
            ]
           ],
           "sequential": [
            [
             0,
             "#0d0887"
            ],
            [
             0.1111111111111111,
             "#46039f"
            ],
            [
             0.2222222222222222,
             "#7201a8"
            ],
            [
             0.3333333333333333,
             "#9c179e"
            ],
            [
             0.4444444444444444,
             "#bd3786"
            ],
            [
             0.5555555555555556,
             "#d8576b"
            ],
            [
             0.6666666666666666,
             "#ed7953"
            ],
            [
             0.7777777777777778,
             "#fb9f3a"
            ],
            [
             0.8888888888888888,
             "#fdca26"
            ],
            [
             1,
             "#f0f921"
            ]
           ],
           "sequentialminus": [
            [
             0,
             "#0d0887"
            ],
            [
             0.1111111111111111,
             "#46039f"
            ],
            [
             0.2222222222222222,
             "#7201a8"
            ],
            [
             0.3333333333333333,
             "#9c179e"
            ],
            [
             0.4444444444444444,
             "#bd3786"
            ],
            [
             0.5555555555555556,
             "#d8576b"
            ],
            [
             0.6666666666666666,
             "#ed7953"
            ],
            [
             0.7777777777777778,
             "#fb9f3a"
            ],
            [
             0.8888888888888888,
             "#fdca26"
            ],
            [
             1,
             "#f0f921"
            ]
           ]
          },
          "colorway": [
           "#636efa",
           "#EF553B",
           "#00cc96",
           "#ab63fa",
           "#FFA15A",
           "#19d3f3",
           "#FF6692",
           "#B6E880",
           "#FF97FF",
           "#FECB52"
          ],
          "font": {
           "color": "#2a3f5f"
          },
          "geo": {
           "bgcolor": "white",
           "lakecolor": "white",
           "landcolor": "white",
           "showlakes": true,
           "showland": true,
           "subunitcolor": "#C8D4E3"
          },
          "hoverlabel": {
           "align": "left"
          },
          "hovermode": "closest",
          "mapbox": {
           "style": "light"
          },
          "paper_bgcolor": "white",
          "plot_bgcolor": "white",
          "polar": {
           "angularaxis": {
            "gridcolor": "#EBF0F8",
            "linecolor": "#EBF0F8",
            "ticks": ""
           },
           "bgcolor": "white",
           "radialaxis": {
            "gridcolor": "#EBF0F8",
            "linecolor": "#EBF0F8",
            "ticks": ""
           }
          },
          "scene": {
           "xaxis": {
            "backgroundcolor": "white",
            "gridcolor": "#DFE8F3",
            "gridwidth": 2,
            "linecolor": "#EBF0F8",
            "showbackground": true,
            "ticks": "",
            "zerolinecolor": "#EBF0F8"
           },
           "yaxis": {
            "backgroundcolor": "white",
            "gridcolor": "#DFE8F3",
            "gridwidth": 2,
            "linecolor": "#EBF0F8",
            "showbackground": true,
            "ticks": "",
            "zerolinecolor": "#EBF0F8"
           },
           "zaxis": {
            "backgroundcolor": "white",
            "gridcolor": "#DFE8F3",
            "gridwidth": 2,
            "linecolor": "#EBF0F8",
            "showbackground": true,
            "ticks": "",
            "zerolinecolor": "#EBF0F8"
           }
          },
          "shapedefaults": {
           "line": {
            "color": "#2a3f5f"
           }
          },
          "ternary": {
           "aaxis": {
            "gridcolor": "#DFE8F3",
            "linecolor": "#A2B1C6",
            "ticks": ""
           },
           "baxis": {
            "gridcolor": "#DFE8F3",
            "linecolor": "#A2B1C6",
            "ticks": ""
           },
           "bgcolor": "white",
           "caxis": {
            "gridcolor": "#DFE8F3",
            "linecolor": "#A2B1C6",
            "ticks": ""
           }
          },
          "title": {
           "x": 0.05
          },
          "xaxis": {
           "automargin": true,
           "gridcolor": "#EBF0F8",
           "linecolor": "#EBF0F8",
           "ticks": "",
           "title": {
            "standoff": 15
           },
           "zerolinecolor": "#EBF0F8",
           "zerolinewidth": 2
          },
          "yaxis": {
           "automargin": true,
           "gridcolor": "#EBF0F8",
           "linecolor": "#EBF0F8",
           "ticks": "",
           "title": {
            "standoff": 15
           },
           "zerolinecolor": "#EBF0F8",
           "zerolinewidth": 2
          }
         }
        },
        "title": {
         "text": "How Payment history affects Loan Recovery status."
        },
        "xaxis": {
         "anchor": "y",
         "domain": [
          0,
          1
         ],
         "title": {
          "text": "Payment History"
         }
        },
        "yaxis": {
         "anchor": "x",
         "domain": [
          0,
          1
         ],
         "title": {
          "text": "Number of Loans"
         }
        }
       }
      }
     },
     "metadata": {},
     "output_type": "display_data"
    }
   ],
   "source": [
    "# Create a grouped histogram showing how different payment history categories affect loan recovery status\n",
    "fig = px.histogram(\n",
    "    df,  # Data source: your dataframe\n",
    "    x='Payment_History',  # X-axis: categories representing borrower payment behavior\n",
    "    color='Recovery_Status',  # Different bars grouped/colored by whether the loan was recovered or not\n",
    "    barmode='group',  # Bars for each category are placed side-by-side for direct comparison (grouped instead of stacked)\n",
    "    title='How Payment history affects Loan Recovery status.',  # Chart title\n",
    "    labels={\n",
    "        'Payment_History': 'Payment History',  # Rename axis label for clarity\n",
    "        'count': 'Number of Loans'  # Customize the Y-axis label (default is just \"count\")\n",
    "    },\n",
    "    color_discrete_map={\n",
    "        'Recovered': 'green',         # Assign 'Recovered' bars the color green\n",
    "        'Not Recovered': 'red'        # Assign 'Not Recovered' bars the color red\n",
    "    },\n",
    "    text_auto=True                    # Show count labels on each bar\n",
    ")\n",
    "\n",
    "# Update layout for better aesthetics and interpretation\n",
    "fig.update_layout(\n",
    "    xaxis_title='Payment History',  # X-axis label\n",
    "    yaxis_title='Number of Loans',  # Y-axis label\n",
    "    legend_title='Recovery_Status',  # Title for the legend to explain colors\n",
    "    template='plotly_white'  # Use a clean white background theme\n",
    ")\n",
    "\n",
    "# Render the interactive plot in the notebook\n",
    "fig.show()"
   ]
  },
  {
   "cell_type": "markdown",
   "id": "780e7e20",
   "metadata": {},
   "source": [
    "### Insights:\n",
    "- Loans with on-time payments are mostly fully recovered. Delayed payments result in mix of partial and full recoveries, with some written off.\n",
    "- Missed payments have a significantly lower recovery rate, with most loans ending up with either partially recovered or written off."
   ]
  },
  {
   "cell_type": "markdown",
   "id": "6d5b12d0",
   "metadata": {},
   "source": [
    "## Analyzing Loan Recovery based on Missed Payments:"
   ]
  },
  {
   "cell_type": "code",
   "execution_count": 67,
   "id": "68c5fd17",
   "metadata": {},
   "outputs": [
    {
     "data": {
      "text/plain": [
       "Index(['Borrower_ID', 'Age', 'Gender', 'Employment_Type', 'Monthly_Income',\n",
       "       'Num_Dependents', 'Loan_ID', 'Loan_Amount', 'Loan_Tenure',\n",
       "       'Interest_Rate', 'Loan_Type', 'Collateral_Value',\n",
       "       'Outstanding_Loan_Amount', 'Monthly_EMI', 'Payment_History',\n",
       "       'Num_Missed_Payments', 'Days_Past_Due', 'Recovery_Status',\n",
       "       'Collection_Attempts', 'Collection_Method', 'Legal_Action_Taken'],\n",
       "      dtype='object')"
      ]
     },
     "execution_count": 67,
     "metadata": {},
     "output_type": "execute_result"
    }
   ],
   "source": [
    "df.columns"
   ]
  },
  {
   "cell_type": "code",
   "execution_count": 68,
   "id": "127e0c59",
   "metadata": {},
   "outputs": [
    {
     "data": {
      "text/plain": [
       "Fully Recovered        296\n",
       "Partially Recovered    154\n",
       "Written Off             50\n",
       "Name: Recovery_Status, dtype: int64"
      ]
     },
     "execution_count": 68,
     "metadata": {},
     "output_type": "execute_result"
    }
   ],
   "source": [
    "df['Recovery_Status'].value_counts()"
   ]
  },
  {
   "cell_type": "code",
   "execution_count": 69,
   "id": "4be59b8c",
   "metadata": {},
   "outputs": [
    {
     "data": {
      "application/vnd.plotly.v1+json": {
       "config": {
        "plotlyServerURL": "https://plot.ly"
       },
       "data": [
        {
         "alignmentgroup": "True",
         "boxpoints": "all",
         "hovertemplate": "Recovery Status=%{x}<br>Number of Missed Payments=%{y}<extra></extra>",
         "legendgroup": "Partially Recovered",
         "marker": {
          "color": "#00cc96"
         },
         "name": "Partially Recovered",
         "notched": false,
         "offsetgroup": "Partially Recovered",
         "orientation": "v",
         "showlegend": true,
         "type": "box",
         "x": [
          "Partially Recovered",
          "Partially Recovered",
          "Partially Recovered",
          "Partially Recovered",
          "Partially Recovered",
          "Partially Recovered",
          "Partially Recovered",
          "Partially Recovered",
          "Partially Recovered",
          "Partially Recovered",
          "Partially Recovered",
          "Partially Recovered",
          "Partially Recovered",
          "Partially Recovered",
          "Partially Recovered",
          "Partially Recovered",
          "Partially Recovered",
          "Partially Recovered",
          "Partially Recovered",
          "Partially Recovered",
          "Partially Recovered",
          "Partially Recovered",
          "Partially Recovered",
          "Partially Recovered",
          "Partially Recovered",
          "Partially Recovered",
          "Partially Recovered",
          "Partially Recovered",
          "Partially Recovered",
          "Partially Recovered",
          "Partially Recovered",
          "Partially Recovered",
          "Partially Recovered",
          "Partially Recovered",
          "Partially Recovered",
          "Partially Recovered",
          "Partially Recovered",
          "Partially Recovered",
          "Partially Recovered",
          "Partially Recovered",
          "Partially Recovered",
          "Partially Recovered",
          "Partially Recovered",
          "Partially Recovered",
          "Partially Recovered",
          "Partially Recovered",
          "Partially Recovered",
          "Partially Recovered",
          "Partially Recovered",
          "Partially Recovered",
          "Partially Recovered",
          "Partially Recovered",
          "Partially Recovered",
          "Partially Recovered",
          "Partially Recovered",
          "Partially Recovered",
          "Partially Recovered",
          "Partially Recovered",
          "Partially Recovered",
          "Partially Recovered",
          "Partially Recovered",
          "Partially Recovered",
          "Partially Recovered",
          "Partially Recovered",
          "Partially Recovered",
          "Partially Recovered",
          "Partially Recovered",
          "Partially Recovered",
          "Partially Recovered",
          "Partially Recovered",
          "Partially Recovered",
          "Partially Recovered",
          "Partially Recovered",
          "Partially Recovered",
          "Partially Recovered",
          "Partially Recovered",
          "Partially Recovered",
          "Partially Recovered",
          "Partially Recovered",
          "Partially Recovered",
          "Partially Recovered",
          "Partially Recovered",
          "Partially Recovered",
          "Partially Recovered",
          "Partially Recovered",
          "Partially Recovered",
          "Partially Recovered",
          "Partially Recovered",
          "Partially Recovered",
          "Partially Recovered",
          "Partially Recovered",
          "Partially Recovered",
          "Partially Recovered",
          "Partially Recovered",
          "Partially Recovered",
          "Partially Recovered",
          "Partially Recovered",
          "Partially Recovered",
          "Partially Recovered",
          "Partially Recovered",
          "Partially Recovered",
          "Partially Recovered",
          "Partially Recovered",
          "Partially Recovered",
          "Partially Recovered",
          "Partially Recovered",
          "Partially Recovered",
          "Partially Recovered",
          "Partially Recovered",
          "Partially Recovered",
          "Partially Recovered",
          "Partially Recovered",
          "Partially Recovered",
          "Partially Recovered",
          "Partially Recovered",
          "Partially Recovered",
          "Partially Recovered",
          "Partially Recovered",
          "Partially Recovered",
          "Partially Recovered",
          "Partially Recovered",
          "Partially Recovered",
          "Partially Recovered",
          "Partially Recovered",
          "Partially Recovered",
          "Partially Recovered",
          "Partially Recovered",
          "Partially Recovered",
          "Partially Recovered",
          "Partially Recovered",
          "Partially Recovered",
          "Partially Recovered",
          "Partially Recovered",
          "Partially Recovered",
          "Partially Recovered",
          "Partially Recovered",
          "Partially Recovered",
          "Partially Recovered",
          "Partially Recovered",
          "Partially Recovered",
          "Partially Recovered",
          "Partially Recovered",
          "Partially Recovered",
          "Partially Recovered",
          "Partially Recovered",
          "Partially Recovered",
          "Partially Recovered",
          "Partially Recovered",
          "Partially Recovered",
          "Partially Recovered",
          "Partially Recovered",
          "Partially Recovered",
          "Partially Recovered",
          "Partially Recovered"
         ],
         "x0": " ",
         "xaxis": "x",
         "y": [
          0,
          1,
          0,
          0,
          2,
          0,
          2,
          2,
          0,
          3,
          2,
          1,
          0,
          0,
          0,
          3,
          2,
          2,
          2,
          1,
          2,
          0,
          0,
          1,
          2,
          3,
          0,
          3,
          8,
          2,
          0,
          3,
          0,
          2,
          2,
          0,
          2,
          0,
          3,
          1,
          2,
          0,
          0,
          0,
          0,
          1,
          2,
          1,
          1,
          8,
          1,
          1,
          0,
          10,
          0,
          0,
          2,
          1,
          1,
          1,
          2,
          0,
          1,
          3,
          3,
          0,
          0,
          3,
          0,
          0,
          1,
          3,
          0,
          2,
          3,
          2,
          2,
          1,
          3,
          0,
          1,
          1,
          3,
          0,
          0,
          0,
          2,
          1,
          3,
          0,
          1,
          1,
          3,
          2,
          2,
          2,
          0,
          3,
          2,
          4,
          1,
          2,
          2,
          2,
          2,
          0,
          2,
          11,
          0,
          1,
          2,
          3,
          0,
          2,
          2,
          1,
          0,
          2,
          1,
          3,
          1,
          3,
          0,
          3,
          1,
          1,
          0,
          9,
          3,
          3,
          1,
          1,
          3,
          12,
          3,
          3,
          3,
          1,
          3,
          2,
          1,
          3,
          1,
          0,
          2,
          3,
          1,
          1,
          3,
          3,
          3,
          0,
          2,
          3
         ],
         "y0": " ",
         "yaxis": "y"
        },
        {
         "alignmentgroup": "True",
         "boxpoints": "all",
         "hovertemplate": "Recovery Status=%{x}<br>Number of Missed Payments=%{y}<extra></extra>",
         "legendgroup": "Fully Recovered",
         "marker": {
          "color": "#ab63fa"
         },
         "name": "Fully Recovered",
         "notched": false,
         "offsetgroup": "Fully Recovered",
         "orientation": "v",
         "showlegend": true,
         "type": "box",
         "x": [
          "Fully Recovered",
          "Fully Recovered",
          "Fully Recovered",
          "Fully Recovered",
          "Fully Recovered",
          "Fully Recovered",
          "Fully Recovered",
          "Fully Recovered",
          "Fully Recovered",
          "Fully Recovered",
          "Fully Recovered",
          "Fully Recovered",
          "Fully Recovered",
          "Fully Recovered",
          "Fully Recovered",
          "Fully Recovered",
          "Fully Recovered",
          "Fully Recovered",
          "Fully Recovered",
          "Fully Recovered",
          "Fully Recovered",
          "Fully Recovered",
          "Fully Recovered",
          "Fully Recovered",
          "Fully Recovered",
          "Fully Recovered",
          "Fully Recovered",
          "Fully Recovered",
          "Fully Recovered",
          "Fully Recovered",
          "Fully Recovered",
          "Fully Recovered",
          "Fully Recovered",
          "Fully Recovered",
          "Fully Recovered",
          "Fully Recovered",
          "Fully Recovered",
          "Fully Recovered",
          "Fully Recovered",
          "Fully Recovered",
          "Fully Recovered",
          "Fully Recovered",
          "Fully Recovered",
          "Fully Recovered",
          "Fully Recovered",
          "Fully Recovered",
          "Fully Recovered",
          "Fully Recovered",
          "Fully Recovered",
          "Fully Recovered",
          "Fully Recovered",
          "Fully Recovered",
          "Fully Recovered",
          "Fully Recovered",
          "Fully Recovered",
          "Fully Recovered",
          "Fully Recovered",
          "Fully Recovered",
          "Fully Recovered",
          "Fully Recovered",
          "Fully Recovered",
          "Fully Recovered",
          "Fully Recovered",
          "Fully Recovered",
          "Fully Recovered",
          "Fully Recovered",
          "Fully Recovered",
          "Fully Recovered",
          "Fully Recovered",
          "Fully Recovered",
          "Fully Recovered",
          "Fully Recovered",
          "Fully Recovered",
          "Fully Recovered",
          "Fully Recovered",
          "Fully Recovered",
          "Fully Recovered",
          "Fully Recovered",
          "Fully Recovered",
          "Fully Recovered",
          "Fully Recovered",
          "Fully Recovered",
          "Fully Recovered",
          "Fully Recovered",
          "Fully Recovered",
          "Fully Recovered",
          "Fully Recovered",
          "Fully Recovered",
          "Fully Recovered",
          "Fully Recovered",
          "Fully Recovered",
          "Fully Recovered",
          "Fully Recovered",
          "Fully Recovered",
          "Fully Recovered",
          "Fully Recovered",
          "Fully Recovered",
          "Fully Recovered",
          "Fully Recovered",
          "Fully Recovered",
          "Fully Recovered",
          "Fully Recovered",
          "Fully Recovered",
          "Fully Recovered",
          "Fully Recovered",
          "Fully Recovered",
          "Fully Recovered",
          "Fully Recovered",
          "Fully Recovered",
          "Fully Recovered",
          "Fully Recovered",
          "Fully Recovered",
          "Fully Recovered",
          "Fully Recovered",
          "Fully Recovered",
          "Fully Recovered",
          "Fully Recovered",
          "Fully Recovered",
          "Fully Recovered",
          "Fully Recovered",
          "Fully Recovered",
          "Fully Recovered",
          "Fully Recovered",
          "Fully Recovered",
          "Fully Recovered",
          "Fully Recovered",
          "Fully Recovered",
          "Fully Recovered",
          "Fully Recovered",
          "Fully Recovered",
          "Fully Recovered",
          "Fully Recovered",
          "Fully Recovered",
          "Fully Recovered",
          "Fully Recovered",
          "Fully Recovered",
          "Fully Recovered",
          "Fully Recovered",
          "Fully Recovered",
          "Fully Recovered",
          "Fully Recovered",
          "Fully Recovered",
          "Fully Recovered",
          "Fully Recovered",
          "Fully Recovered",
          "Fully Recovered",
          "Fully Recovered",
          "Fully Recovered",
          "Fully Recovered",
          "Fully Recovered",
          "Fully Recovered",
          "Fully Recovered",
          "Fully Recovered",
          "Fully Recovered",
          "Fully Recovered",
          "Fully Recovered",
          "Fully Recovered",
          "Fully Recovered",
          "Fully Recovered",
          "Fully Recovered",
          "Fully Recovered",
          "Fully Recovered",
          "Fully Recovered",
          "Fully Recovered",
          "Fully Recovered",
          "Fully Recovered",
          "Fully Recovered",
          "Fully Recovered",
          "Fully Recovered",
          "Fully Recovered",
          "Fully Recovered",
          "Fully Recovered",
          "Fully Recovered",
          "Fully Recovered",
          "Fully Recovered",
          "Fully Recovered",
          "Fully Recovered",
          "Fully Recovered",
          "Fully Recovered",
          "Fully Recovered",
          "Fully Recovered",
          "Fully Recovered",
          "Fully Recovered",
          "Fully Recovered",
          "Fully Recovered",
          "Fully Recovered",
          "Fully Recovered",
          "Fully Recovered",
          "Fully Recovered",
          "Fully Recovered",
          "Fully Recovered",
          "Fully Recovered",
          "Fully Recovered",
          "Fully Recovered",
          "Fully Recovered",
          "Fully Recovered",
          "Fully Recovered",
          "Fully Recovered",
          "Fully Recovered",
          "Fully Recovered",
          "Fully Recovered",
          "Fully Recovered",
          "Fully Recovered",
          "Fully Recovered",
          "Fully Recovered",
          "Fully Recovered",
          "Fully Recovered",
          "Fully Recovered",
          "Fully Recovered",
          "Fully Recovered",
          "Fully Recovered",
          "Fully Recovered",
          "Fully Recovered",
          "Fully Recovered",
          "Fully Recovered",
          "Fully Recovered",
          "Fully Recovered",
          "Fully Recovered",
          "Fully Recovered",
          "Fully Recovered",
          "Fully Recovered",
          "Fully Recovered",
          "Fully Recovered",
          "Fully Recovered",
          "Fully Recovered",
          "Fully Recovered",
          "Fully Recovered",
          "Fully Recovered",
          "Fully Recovered",
          "Fully Recovered",
          "Fully Recovered",
          "Fully Recovered",
          "Fully Recovered",
          "Fully Recovered",
          "Fully Recovered",
          "Fully Recovered",
          "Fully Recovered",
          "Fully Recovered",
          "Fully Recovered",
          "Fully Recovered",
          "Fully Recovered",
          "Fully Recovered",
          "Fully Recovered",
          "Fully Recovered",
          "Fully Recovered",
          "Fully Recovered",
          "Fully Recovered",
          "Fully Recovered",
          "Fully Recovered",
          "Fully Recovered",
          "Fully Recovered",
          "Fully Recovered",
          "Fully Recovered",
          "Fully Recovered",
          "Fully Recovered",
          "Fully Recovered",
          "Fully Recovered",
          "Fully Recovered",
          "Fully Recovered",
          "Fully Recovered",
          "Fully Recovered",
          "Fully Recovered",
          "Fully Recovered",
          "Fully Recovered",
          "Fully Recovered",
          "Fully Recovered",
          "Fully Recovered",
          "Fully Recovered",
          "Fully Recovered",
          "Fully Recovered",
          "Fully Recovered",
          "Fully Recovered",
          "Fully Recovered",
          "Fully Recovered",
          "Fully Recovered",
          "Fully Recovered",
          "Fully Recovered",
          "Fully Recovered",
          "Fully Recovered",
          "Fully Recovered",
          "Fully Recovered",
          "Fully Recovered",
          "Fully Recovered",
          "Fully Recovered",
          "Fully Recovered",
          "Fully Recovered",
          "Fully Recovered",
          "Fully Recovered",
          "Fully Recovered",
          "Fully Recovered",
          "Fully Recovered",
          "Fully Recovered",
          "Fully Recovered",
          "Fully Recovered",
          "Fully Recovered",
          "Fully Recovered"
         ],
         "x0": " ",
         "xaxis": "x",
         "y": [
          0,
          2,
          1,
          1,
          0,
          3,
          0,
          0,
          3,
          1,
          3,
          1,
          2,
          0,
          11,
          6,
          2,
          1,
          1,
          2,
          0,
          2,
          3,
          0,
          0,
          2,
          11,
          1,
          2,
          0,
          1,
          2,
          1,
          1,
          2,
          0,
          3,
          3,
          2,
          1,
          2,
          3,
          2,
          2,
          1,
          10,
          3,
          3,
          3,
          1,
          1,
          1,
          2,
          3,
          3,
          2,
          1,
          2,
          0,
          1,
          1,
          1,
          3,
          2,
          0,
          2,
          2,
          3,
          1,
          2,
          1,
          0,
          1,
          1,
          2,
          1,
          0,
          3,
          0,
          2,
          12,
          1,
          0,
          0,
          1,
          3,
          1,
          2,
          3,
          1,
          8,
          12,
          1,
          3,
          2,
          3,
          1,
          1,
          1,
          2,
          0,
          1,
          1,
          0,
          0,
          0,
          2,
          3,
          3,
          3,
          3,
          0,
          6,
          2,
          3,
          3,
          0,
          3,
          0,
          3,
          3,
          3,
          1,
          0,
          3,
          0,
          10,
          0,
          0,
          1,
          6,
          3,
          1,
          0,
          1,
          3,
          0,
          6,
          4,
          3,
          2,
          3,
          3,
          1,
          1,
          1,
          9,
          0,
          0,
          1,
          0,
          0,
          9,
          1,
          0,
          3,
          2,
          2,
          1,
          1,
          2,
          1,
          2,
          3,
          0,
          0,
          3,
          0,
          0,
          1,
          2,
          2,
          0,
          1,
          2,
          1,
          3,
          0,
          2,
          0,
          1,
          2,
          0,
          0,
          2,
          2,
          1,
          2,
          1,
          0,
          3,
          4,
          0,
          2,
          2,
          0,
          2,
          2,
          2,
          0,
          2,
          3,
          1,
          0,
          2,
          3,
          0,
          3,
          1,
          1,
          3,
          0,
          3,
          1,
          1,
          1,
          0,
          1,
          3,
          2,
          2,
          0,
          3,
          2,
          0,
          0,
          1,
          0,
          2,
          2,
          3,
          0,
          3,
          1,
          3,
          2,
          0,
          8,
          2,
          3,
          3,
          2,
          3,
          3,
          3,
          2,
          6,
          2,
          3,
          1,
          2,
          0,
          1,
          2,
          0,
          3,
          0,
          3,
          3,
          3,
          1,
          12,
          0,
          1,
          3,
          0,
          1,
          0,
          1,
          12,
          7,
          2,
          3,
          3,
          1,
          10,
          4,
          3,
          4,
          0,
          2,
          2,
          2,
          2,
          1,
          1,
          3,
          2,
          0,
          1,
          6,
          0,
          3,
          3,
          2,
          3
         ],
         "y0": " ",
         "yaxis": "y"
        },
        {
         "alignmentgroup": "True",
         "boxpoints": "all",
         "hovertemplate": "Recovery Status=%{x}<br>Number of Missed Payments=%{y}<extra></extra>",
         "legendgroup": "Written Off",
         "marker": {
          "color": "#FFA15A"
         },
         "name": "Written Off",
         "notched": false,
         "offsetgroup": "Written Off",
         "orientation": "v",
         "showlegend": true,
         "type": "box",
         "x": [
          "Written Off",
          "Written Off",
          "Written Off",
          "Written Off",
          "Written Off",
          "Written Off",
          "Written Off",
          "Written Off",
          "Written Off",
          "Written Off",
          "Written Off",
          "Written Off",
          "Written Off",
          "Written Off",
          "Written Off",
          "Written Off",
          "Written Off",
          "Written Off",
          "Written Off",
          "Written Off",
          "Written Off",
          "Written Off",
          "Written Off",
          "Written Off",
          "Written Off",
          "Written Off",
          "Written Off",
          "Written Off",
          "Written Off",
          "Written Off",
          "Written Off",
          "Written Off",
          "Written Off",
          "Written Off",
          "Written Off",
          "Written Off",
          "Written Off",
          "Written Off",
          "Written Off",
          "Written Off",
          "Written Off",
          "Written Off",
          "Written Off",
          "Written Off",
          "Written Off",
          "Written Off",
          "Written Off",
          "Written Off",
          "Written Off",
          "Written Off"
         ],
         "x0": " ",
         "xaxis": "x",
         "y": [
          1,
          0,
          3,
          1,
          0,
          3,
          3,
          1,
          1,
          0,
          1,
          0,
          3,
          3,
          0,
          3,
          0,
          3,
          3,
          3,
          1,
          1,
          2,
          11,
          2,
          1,
          0,
          2,
          1,
          2,
          2,
          0,
          3,
          1,
          1,
          1,
          3,
          0,
          2,
          1,
          3,
          2,
          3,
          2,
          1,
          0,
          1,
          1,
          3,
          1
         ],
         "y0": " ",
         "yaxis": "y"
        }
       ],
       "layout": {
        "boxmode": "overlay",
        "legend": {
         "title": {
          "text": "Recovery Status"
         },
         "tracegroupgap": 0
        },
        "template": {
         "data": {
          "bar": [
           {
            "error_x": {
             "color": "#2a3f5f"
            },
            "error_y": {
             "color": "#2a3f5f"
            },
            "marker": {
             "line": {
              "color": "white",
              "width": 0.5
             },
             "pattern": {
              "fillmode": "overlay",
              "size": 10,
              "solidity": 0.2
             }
            },
            "type": "bar"
           }
          ],
          "barpolar": [
           {
            "marker": {
             "line": {
              "color": "white",
              "width": 0.5
             },
             "pattern": {
              "fillmode": "overlay",
              "size": 10,
              "solidity": 0.2
             }
            },
            "type": "barpolar"
           }
          ],
          "carpet": [
           {
            "aaxis": {
             "endlinecolor": "#2a3f5f",
             "gridcolor": "#C8D4E3",
             "linecolor": "#C8D4E3",
             "minorgridcolor": "#C8D4E3",
             "startlinecolor": "#2a3f5f"
            },
            "baxis": {
             "endlinecolor": "#2a3f5f",
             "gridcolor": "#C8D4E3",
             "linecolor": "#C8D4E3",
             "minorgridcolor": "#C8D4E3",
             "startlinecolor": "#2a3f5f"
            },
            "type": "carpet"
           }
          ],
          "choropleth": [
           {
            "colorbar": {
             "outlinewidth": 0,
             "ticks": ""
            },
            "type": "choropleth"
           }
          ],
          "contour": [
           {
            "colorbar": {
             "outlinewidth": 0,
             "ticks": ""
            },
            "colorscale": [
             [
              0,
              "#0d0887"
             ],
             [
              0.1111111111111111,
              "#46039f"
             ],
             [
              0.2222222222222222,
              "#7201a8"
             ],
             [
              0.3333333333333333,
              "#9c179e"
             ],
             [
              0.4444444444444444,
              "#bd3786"
             ],
             [
              0.5555555555555556,
              "#d8576b"
             ],
             [
              0.6666666666666666,
              "#ed7953"
             ],
             [
              0.7777777777777778,
              "#fb9f3a"
             ],
             [
              0.8888888888888888,
              "#fdca26"
             ],
             [
              1,
              "#f0f921"
             ]
            ],
            "type": "contour"
           }
          ],
          "contourcarpet": [
           {
            "colorbar": {
             "outlinewidth": 0,
             "ticks": ""
            },
            "type": "contourcarpet"
           }
          ],
          "heatmap": [
           {
            "colorbar": {
             "outlinewidth": 0,
             "ticks": ""
            },
            "colorscale": [
             [
              0,
              "#0d0887"
             ],
             [
              0.1111111111111111,
              "#46039f"
             ],
             [
              0.2222222222222222,
              "#7201a8"
             ],
             [
              0.3333333333333333,
              "#9c179e"
             ],
             [
              0.4444444444444444,
              "#bd3786"
             ],
             [
              0.5555555555555556,
              "#d8576b"
             ],
             [
              0.6666666666666666,
              "#ed7953"
             ],
             [
              0.7777777777777778,
              "#fb9f3a"
             ],
             [
              0.8888888888888888,
              "#fdca26"
             ],
             [
              1,
              "#f0f921"
             ]
            ],
            "type": "heatmap"
           }
          ],
          "heatmapgl": [
           {
            "colorbar": {
             "outlinewidth": 0,
             "ticks": ""
            },
            "colorscale": [
             [
              0,
              "#0d0887"
             ],
             [
              0.1111111111111111,
              "#46039f"
             ],
             [
              0.2222222222222222,
              "#7201a8"
             ],
             [
              0.3333333333333333,
              "#9c179e"
             ],
             [
              0.4444444444444444,
              "#bd3786"
             ],
             [
              0.5555555555555556,
              "#d8576b"
             ],
             [
              0.6666666666666666,
              "#ed7953"
             ],
             [
              0.7777777777777778,
              "#fb9f3a"
             ],
             [
              0.8888888888888888,
              "#fdca26"
             ],
             [
              1,
              "#f0f921"
             ]
            ],
            "type": "heatmapgl"
           }
          ],
          "histogram": [
           {
            "marker": {
             "pattern": {
              "fillmode": "overlay",
              "size": 10,
              "solidity": 0.2
             }
            },
            "type": "histogram"
           }
          ],
          "histogram2d": [
           {
            "colorbar": {
             "outlinewidth": 0,
             "ticks": ""
            },
            "colorscale": [
             [
              0,
              "#0d0887"
             ],
             [
              0.1111111111111111,
              "#46039f"
             ],
             [
              0.2222222222222222,
              "#7201a8"
             ],
             [
              0.3333333333333333,
              "#9c179e"
             ],
             [
              0.4444444444444444,
              "#bd3786"
             ],
             [
              0.5555555555555556,
              "#d8576b"
             ],
             [
              0.6666666666666666,
              "#ed7953"
             ],
             [
              0.7777777777777778,
              "#fb9f3a"
             ],
             [
              0.8888888888888888,
              "#fdca26"
             ],
             [
              1,
              "#f0f921"
             ]
            ],
            "type": "histogram2d"
           }
          ],
          "histogram2dcontour": [
           {
            "colorbar": {
             "outlinewidth": 0,
             "ticks": ""
            },
            "colorscale": [
             [
              0,
              "#0d0887"
             ],
             [
              0.1111111111111111,
              "#46039f"
             ],
             [
              0.2222222222222222,
              "#7201a8"
             ],
             [
              0.3333333333333333,
              "#9c179e"
             ],
             [
              0.4444444444444444,
              "#bd3786"
             ],
             [
              0.5555555555555556,
              "#d8576b"
             ],
             [
              0.6666666666666666,
              "#ed7953"
             ],
             [
              0.7777777777777778,
              "#fb9f3a"
             ],
             [
              0.8888888888888888,
              "#fdca26"
             ],
             [
              1,
              "#f0f921"
             ]
            ],
            "type": "histogram2dcontour"
           }
          ],
          "mesh3d": [
           {
            "colorbar": {
             "outlinewidth": 0,
             "ticks": ""
            },
            "type": "mesh3d"
           }
          ],
          "parcoords": [
           {
            "line": {
             "colorbar": {
              "outlinewidth": 0,
              "ticks": ""
             }
            },
            "type": "parcoords"
           }
          ],
          "pie": [
           {
            "automargin": true,
            "type": "pie"
           }
          ],
          "scatter": [
           {
            "fillpattern": {
             "fillmode": "overlay",
             "size": 10,
             "solidity": 0.2
            },
            "type": "scatter"
           }
          ],
          "scatter3d": [
           {
            "line": {
             "colorbar": {
              "outlinewidth": 0,
              "ticks": ""
             }
            },
            "marker": {
             "colorbar": {
              "outlinewidth": 0,
              "ticks": ""
             }
            },
            "type": "scatter3d"
           }
          ],
          "scattercarpet": [
           {
            "marker": {
             "colorbar": {
              "outlinewidth": 0,
              "ticks": ""
             }
            },
            "type": "scattercarpet"
           }
          ],
          "scattergeo": [
           {
            "marker": {
             "colorbar": {
              "outlinewidth": 0,
              "ticks": ""
             }
            },
            "type": "scattergeo"
           }
          ],
          "scattergl": [
           {
            "marker": {
             "colorbar": {
              "outlinewidth": 0,
              "ticks": ""
             }
            },
            "type": "scattergl"
           }
          ],
          "scattermapbox": [
           {
            "marker": {
             "colorbar": {
              "outlinewidth": 0,
              "ticks": ""
             }
            },
            "type": "scattermapbox"
           }
          ],
          "scatterpolar": [
           {
            "marker": {
             "colorbar": {
              "outlinewidth": 0,
              "ticks": ""
             }
            },
            "type": "scatterpolar"
           }
          ],
          "scatterpolargl": [
           {
            "marker": {
             "colorbar": {
              "outlinewidth": 0,
              "ticks": ""
             }
            },
            "type": "scatterpolargl"
           }
          ],
          "scatterternary": [
           {
            "marker": {
             "colorbar": {
              "outlinewidth": 0,
              "ticks": ""
             }
            },
            "type": "scatterternary"
           }
          ],
          "surface": [
           {
            "colorbar": {
             "outlinewidth": 0,
             "ticks": ""
            },
            "colorscale": [
             [
              0,
              "#0d0887"
             ],
             [
              0.1111111111111111,
              "#46039f"
             ],
             [
              0.2222222222222222,
              "#7201a8"
             ],
             [
              0.3333333333333333,
              "#9c179e"
             ],
             [
              0.4444444444444444,
              "#bd3786"
             ],
             [
              0.5555555555555556,
              "#d8576b"
             ],
             [
              0.6666666666666666,
              "#ed7953"
             ],
             [
              0.7777777777777778,
              "#fb9f3a"
             ],
             [
              0.8888888888888888,
              "#fdca26"
             ],
             [
              1,
              "#f0f921"
             ]
            ],
            "type": "surface"
           }
          ],
          "table": [
           {
            "cells": {
             "fill": {
              "color": "#EBF0F8"
             },
             "line": {
              "color": "white"
             }
            },
            "header": {
             "fill": {
              "color": "#C8D4E3"
             },
             "line": {
              "color": "white"
             }
            },
            "type": "table"
           }
          ]
         },
         "layout": {
          "annotationdefaults": {
           "arrowcolor": "#2a3f5f",
           "arrowhead": 0,
           "arrowwidth": 1
          },
          "autotypenumbers": "strict",
          "coloraxis": {
           "colorbar": {
            "outlinewidth": 0,
            "ticks": ""
           }
          },
          "colorscale": {
           "diverging": [
            [
             0,
             "#8e0152"
            ],
            [
             0.1,
             "#c51b7d"
            ],
            [
             0.2,
             "#de77ae"
            ],
            [
             0.3,
             "#f1b6da"
            ],
            [
             0.4,
             "#fde0ef"
            ],
            [
             0.5,
             "#f7f7f7"
            ],
            [
             0.6,
             "#e6f5d0"
            ],
            [
             0.7,
             "#b8e186"
            ],
            [
             0.8,
             "#7fbc41"
            ],
            [
             0.9,
             "#4d9221"
            ],
            [
             1,
             "#276419"
            ]
           ],
           "sequential": [
            [
             0,
             "#0d0887"
            ],
            [
             0.1111111111111111,
             "#46039f"
            ],
            [
             0.2222222222222222,
             "#7201a8"
            ],
            [
             0.3333333333333333,
             "#9c179e"
            ],
            [
             0.4444444444444444,
             "#bd3786"
            ],
            [
             0.5555555555555556,
             "#d8576b"
            ],
            [
             0.6666666666666666,
             "#ed7953"
            ],
            [
             0.7777777777777778,
             "#fb9f3a"
            ],
            [
             0.8888888888888888,
             "#fdca26"
            ],
            [
             1,
             "#f0f921"
            ]
           ],
           "sequentialminus": [
            [
             0,
             "#0d0887"
            ],
            [
             0.1111111111111111,
             "#46039f"
            ],
            [
             0.2222222222222222,
             "#7201a8"
            ],
            [
             0.3333333333333333,
             "#9c179e"
            ],
            [
             0.4444444444444444,
             "#bd3786"
            ],
            [
             0.5555555555555556,
             "#d8576b"
            ],
            [
             0.6666666666666666,
             "#ed7953"
            ],
            [
             0.7777777777777778,
             "#fb9f3a"
            ],
            [
             0.8888888888888888,
             "#fdca26"
            ],
            [
             1,
             "#f0f921"
            ]
           ]
          },
          "colorway": [
           "#636efa",
           "#EF553B",
           "#00cc96",
           "#ab63fa",
           "#FFA15A",
           "#19d3f3",
           "#FF6692",
           "#B6E880",
           "#FF97FF",
           "#FECB52"
          ],
          "font": {
           "color": "#2a3f5f"
          },
          "geo": {
           "bgcolor": "white",
           "lakecolor": "white",
           "landcolor": "white",
           "showlakes": true,
           "showland": true,
           "subunitcolor": "#C8D4E3"
          },
          "hoverlabel": {
           "align": "left"
          },
          "hovermode": "closest",
          "mapbox": {
           "style": "light"
          },
          "paper_bgcolor": "white",
          "plot_bgcolor": "white",
          "polar": {
           "angularaxis": {
            "gridcolor": "#EBF0F8",
            "linecolor": "#EBF0F8",
            "ticks": ""
           },
           "bgcolor": "white",
           "radialaxis": {
            "gridcolor": "#EBF0F8",
            "linecolor": "#EBF0F8",
            "ticks": ""
           }
          },
          "scene": {
           "xaxis": {
            "backgroundcolor": "white",
            "gridcolor": "#DFE8F3",
            "gridwidth": 2,
            "linecolor": "#EBF0F8",
            "showbackground": true,
            "ticks": "",
            "zerolinecolor": "#EBF0F8"
           },
           "yaxis": {
            "backgroundcolor": "white",
            "gridcolor": "#DFE8F3",
            "gridwidth": 2,
            "linecolor": "#EBF0F8",
            "showbackground": true,
            "ticks": "",
            "zerolinecolor": "#EBF0F8"
           },
           "zaxis": {
            "backgroundcolor": "white",
            "gridcolor": "#DFE8F3",
            "gridwidth": 2,
            "linecolor": "#EBF0F8",
            "showbackground": true,
            "ticks": "",
            "zerolinecolor": "#EBF0F8"
           }
          },
          "shapedefaults": {
           "line": {
            "color": "#2a3f5f"
           }
          },
          "ternary": {
           "aaxis": {
            "gridcolor": "#DFE8F3",
            "linecolor": "#A2B1C6",
            "ticks": ""
           },
           "baxis": {
            "gridcolor": "#DFE8F3",
            "linecolor": "#A2B1C6",
            "ticks": ""
           },
           "bgcolor": "white",
           "caxis": {
            "gridcolor": "#DFE8F3",
            "linecolor": "#A2B1C6",
            "ticks": ""
           }
          },
          "title": {
           "x": 0.05
          },
          "xaxis": {
           "automargin": true,
           "gridcolor": "#EBF0F8",
           "linecolor": "#EBF0F8",
           "ticks": "",
           "title": {
            "standoff": 15
           },
           "zerolinecolor": "#EBF0F8",
           "zerolinewidth": 2
          },
          "yaxis": {
           "automargin": true,
           "gridcolor": "#EBF0F8",
           "linecolor": "#EBF0F8",
           "ticks": "",
           "title": {
            "standoff": 15
           },
           "zerolinecolor": "#EBF0F8",
           "zerolinewidth": 2
          }
         }
        },
        "title": {
         "text": "How Missed Payments affect Loan Recovery Status."
        },
        "xaxis": {
         "anchor": "y",
         "categoryarray": [
          "Partially Recovered",
          "Fully Recovered",
          "Written Off"
         ],
         "categoryorder": "array",
         "domain": [
          0,
          1
         ],
         "title": {
          "text": "Recovery Status"
         }
        },
        "yaxis": {
         "anchor": "x",
         "domain": [
          0,
          1
         ],
         "title": {
          "text": "Number of Missed Payments"
         }
        }
       }
      }
     },
     "metadata": {},
     "output_type": "display_data"
    }
   ],
   "source": [
    "# Create a box plot to visualize the distribution of missed payments across different recovery status (outcomes)\n",
    "fig = px.box(df, x='Recovery_Status',                                # X-axis represents the loan recovery status (Recovered, Not Recovered)\n",
    "             y='Num_Missed_Payments',                                # y-axis represents the number of missed payments by the borrowers\n",
    "             title='How Missed Payments affect Loan Recovery Status.',   # Plot title\n",
    "             labels={'Recovery_Status':'Recovery Status',\n",
    "                     'Num_Missed_Payments':'Number of Missed Payments'},\n",
    "                     color='Recovery_Status',                            # Color code each box by recovery status\n",
    "                     color_discrete_map={'Recovered':'green','Not Recovered':'red'},    # Manually map specific colors to specific statuses\n",
    "            points='all', )                                             # Show all individual data points overlaid on the box plot\n",
    "\n",
    "# Customize layout to improve readability and aesthetics\n",
    "fig.update_layout(\n",
    "    xaxis_title='Recovery Status',               # Label for X-axis\n",
    "    yaxis_title='Number of Missed Payments',     # Label for Y-axis\n",
    "    template='plotly_white'                      # White background\n",
    ")\n",
    "\n",
    "# Render the plot in the output cell\n",
    "fig.show()"
   ]
  },
  {
   "cell_type": "markdown",
   "id": "3d2bf58f",
   "metadata": {},
   "source": [
    "### Insights:\n",
    " - Fully recovered have a median of 2 missed payments suggesting the majority recovered even after some delays.\n",
    " - Recovery is possible with timely intervention\n",
    "\n",
    " - Partially recovered has a slightly higher median value between 2-3/\n",
    " - Has more variation in missed payments, goes as high as 12.\n",
    " - Can segment as at-risk borrowers who miss several payments and only partially repays.\n",
    "\n",
    " - Median is around 2-3 for recovery status : Written off, almost similar to others.\n",
    " - These loans don't always mean missed payments, some could be quick defaults, or due to lack of follow ups and/or wrong borrower profiling."
   ]
  },
  {
   "cell_type": "markdown",
   "id": "1db92d7a",
   "metadata": {},
   "source": [
    "## Analyzing Loan Recovery based on Monthly Income:"
   ]
  },
  {
   "cell_type": "code",
   "execution_count": 70,
   "id": "13e71ccb",
   "metadata": {},
   "outputs": [
    {
     "data": {
      "application/vnd.plotly.v1+json": {
       "config": {
        "plotlyServerURL": "https://plot.ly"
       },
       "data": [
        {
         "customdata": [
          [
           "Partially Recovered"
          ],
          [
           "Partially Recovered"
          ],
          [
           "Partially Recovered"
          ],
          [
           "Partially Recovered"
          ],
          [
           "Partially Recovered"
          ],
          [
           "Partially Recovered"
          ],
          [
           "Partially Recovered"
          ],
          [
           "Partially Recovered"
          ],
          [
           "Partially Recovered"
          ],
          [
           "Partially Recovered"
          ],
          [
           "Partially Recovered"
          ],
          [
           "Partially Recovered"
          ],
          [
           "Partially Recovered"
          ],
          [
           "Partially Recovered"
          ],
          [
           "Partially Recovered"
          ],
          [
           "Partially Recovered"
          ],
          [
           "Partially Recovered"
          ],
          [
           "Partially Recovered"
          ],
          [
           "Partially Recovered"
          ],
          [
           "Partially Recovered"
          ],
          [
           "Partially Recovered"
          ],
          [
           "Partially Recovered"
          ],
          [
           "Partially Recovered"
          ],
          [
           "Partially Recovered"
          ],
          [
           "Partially Recovered"
          ],
          [
           "Partially Recovered"
          ],
          [
           "Partially Recovered"
          ],
          [
           "Partially Recovered"
          ],
          [
           "Partially Recovered"
          ],
          [
           "Partially Recovered"
          ],
          [
           "Partially Recovered"
          ],
          [
           "Partially Recovered"
          ],
          [
           "Partially Recovered"
          ],
          [
           "Partially Recovered"
          ],
          [
           "Partially Recovered"
          ],
          [
           "Partially Recovered"
          ],
          [
           "Partially Recovered"
          ],
          [
           "Partially Recovered"
          ],
          [
           "Partially Recovered"
          ],
          [
           "Partially Recovered"
          ],
          [
           "Partially Recovered"
          ],
          [
           "Partially Recovered"
          ],
          [
           "Partially Recovered"
          ],
          [
           "Partially Recovered"
          ],
          [
           "Partially Recovered"
          ],
          [
           "Partially Recovered"
          ],
          [
           "Partially Recovered"
          ],
          [
           "Partially Recovered"
          ],
          [
           "Partially Recovered"
          ],
          [
           "Partially Recovered"
          ],
          [
           "Partially Recovered"
          ],
          [
           "Partially Recovered"
          ],
          [
           "Partially Recovered"
          ],
          [
           "Partially Recovered"
          ],
          [
           "Partially Recovered"
          ],
          [
           "Partially Recovered"
          ],
          [
           "Partially Recovered"
          ],
          [
           "Partially Recovered"
          ],
          [
           "Partially Recovered"
          ],
          [
           "Partially Recovered"
          ],
          [
           "Partially Recovered"
          ],
          [
           "Partially Recovered"
          ],
          [
           "Partially Recovered"
          ],
          [
           "Partially Recovered"
          ],
          [
           "Partially Recovered"
          ],
          [
           "Partially Recovered"
          ],
          [
           "Partially Recovered"
          ],
          [
           "Partially Recovered"
          ],
          [
           "Partially Recovered"
          ],
          [
           "Partially Recovered"
          ],
          [
           "Partially Recovered"
          ],
          [
           "Partially Recovered"
          ],
          [
           "Partially Recovered"
          ],
          [
           "Partially Recovered"
          ],
          [
           "Partially Recovered"
          ],
          [
           "Partially Recovered"
          ],
          [
           "Partially Recovered"
          ],
          [
           "Partially Recovered"
          ],
          [
           "Partially Recovered"
          ],
          [
           "Partially Recovered"
          ],
          [
           "Partially Recovered"
          ],
          [
           "Partially Recovered"
          ],
          [
           "Partially Recovered"
          ],
          [
           "Partially Recovered"
          ],
          [
           "Partially Recovered"
          ],
          [
           "Partially Recovered"
          ],
          [
           "Partially Recovered"
          ],
          [
           "Partially Recovered"
          ],
          [
           "Partially Recovered"
          ],
          [
           "Partially Recovered"
          ],
          [
           "Partially Recovered"
          ],
          [
           "Partially Recovered"
          ],
          [
           "Partially Recovered"
          ],
          [
           "Partially Recovered"
          ],
          [
           "Partially Recovered"
          ],
          [
           "Partially Recovered"
          ],
          [
           "Partially Recovered"
          ],
          [
           "Partially Recovered"
          ],
          [
           "Partially Recovered"
          ],
          [
           "Partially Recovered"
          ],
          [
           "Partially Recovered"
          ],
          [
           "Partially Recovered"
          ],
          [
           "Partially Recovered"
          ],
          [
           "Partially Recovered"
          ],
          [
           "Partially Recovered"
          ],
          [
           "Partially Recovered"
          ],
          [
           "Partially Recovered"
          ],
          [
           "Partially Recovered"
          ],
          [
           "Partially Recovered"
          ],
          [
           "Partially Recovered"
          ],
          [
           "Partially Recovered"
          ],
          [
           "Partially Recovered"
          ],
          [
           "Partially Recovered"
          ],
          [
           "Partially Recovered"
          ],
          [
           "Partially Recovered"
          ],
          [
           "Partially Recovered"
          ],
          [
           "Partially Recovered"
          ],
          [
           "Partially Recovered"
          ],
          [
           "Partially Recovered"
          ],
          [
           "Partially Recovered"
          ],
          [
           "Partially Recovered"
          ],
          [
           "Partially Recovered"
          ],
          [
           "Partially Recovered"
          ],
          [
           "Partially Recovered"
          ],
          [
           "Partially Recovered"
          ],
          [
           "Partially Recovered"
          ],
          [
           "Partially Recovered"
          ],
          [
           "Partially Recovered"
          ],
          [
           "Partially Recovered"
          ],
          [
           "Partially Recovered"
          ],
          [
           "Partially Recovered"
          ],
          [
           "Partially Recovered"
          ],
          [
           "Partially Recovered"
          ],
          [
           "Partially Recovered"
          ],
          [
           "Partially Recovered"
          ],
          [
           "Partially Recovered"
          ],
          [
           "Partially Recovered"
          ],
          [
           "Partially Recovered"
          ],
          [
           "Partially Recovered"
          ],
          [
           "Partially Recovered"
          ],
          [
           "Partially Recovered"
          ],
          [
           "Partially Recovered"
          ],
          [
           "Partially Recovered"
          ],
          [
           "Partially Recovered"
          ],
          [
           "Partially Recovered"
          ],
          [
           "Partially Recovered"
          ],
          [
           "Partially Recovered"
          ],
          [
           "Partially Recovered"
          ],
          [
           "Partially Recovered"
          ],
          [
           "Partially Recovered"
          ],
          [
           "Partially Recovered"
          ],
          [
           "Partially Recovered"
          ],
          [
           "Partially Recovered"
          ],
          [
           "Partially Recovered"
          ]
         ],
         "hovertemplate": "Recovery_Status=%{customdata[0]}<br>Monthly Income=%{x}<br>Loan Amount=%{marker.size}<extra></extra>",
         "legendgroup": "Partially Recovered",
         "marker": {
          "color": "#00cc96",
          "size": [
           1445796,
           664741,
           1514110,
           161435,
           1648575,
           188286,
           277189,
           1225055,
           1234789,
           854807,
           1418335,
           1798982,
           1818361,
           1495065,
           1238360,
           119087,
           1897305,
           863560,
           1691232,
           192180,
           1132448,
           1587111,
           438518,
           1297098,
           1621128,
           742485,
           92291,
           723647,
           1395718,
           1929822,
           362863,
           383713,
           1926336,
           1593586,
           120305,
           1537606,
           528108,
           1073920,
           940023,
           1753924,
           287501,
           250339,
           665937,
           1425607,
           69477,
           1509058,
           439959,
           1606407,
           1385055,
           1447330,
           323586,
           1938755,
           1729328,
           1185627,
           197595,
           1871573,
           1615188,
           285419,
           204692,
           538765,
           1868673,
           1483466,
           547952,
           882595,
           1966494,
           1717640,
           279577,
           453777,
           1947883,
           1605537,
           1995049,
           702755,
           1619192,
           1144409,
           1833586,
           1210117,
           538019,
           964565,
           669055,
           1799736,
           1138963,
           1625506,
           1571624,
           236633,
           1769374,
           939493,
           446210,
           828799,
           1486564,
           838245,
           1046358,
           303091,
           314064,
           520435,
           651160,
           325049,
           467567,
           690794,
           1701377,
           1511666,
           1499466,
           183498,
           1352600,
           771755,
           54138,
           1189752,
           173030,
           1947951,
           366462,
           939855,
           1464718,
           110128,
           269128,
           1332116,
           1388306,
           608685,
           535001,
           1780085,
           1037410,
           1375644,
           422397,
           412441,
           933520,
           1058109,
           132409,
           1121824,
           1580952,
           525430,
           1970955,
           1273451,
           986800,
           1510049,
           1615116,
           1162186,
           748787,
           228267,
           1958241,
           205489,
           394126,
           1895759,
           1187411,
           865359,
           1283770,
           1822750,
           1236944,
           63261,
           1175285,
           1718849,
           903605,
           1386220,
           478745,
           1556242,
           1408126,
           1769890
          ],
          "sizemode": "area",
          "sizeref": 4988.3125,
          "symbol": "circle"
         },
         "mode": "markers",
         "name": "Partially Recovered",
         "orientation": "v",
         "showlegend": true,
         "type": "scatter",
         "x": [
          215422,
          238224,
          82649,
          167999,
          126453,
          123856,
          228567,
          86635,
          231184,
          197958,
          30563,
          238536,
          24847,
          41155,
          164381,
          196180,
          49707,
          96537,
          212576,
          226968,
          174476,
          155272,
          134273,
          187307,
          76212,
          27115,
          37911,
          58753,
          136863,
          120823,
          183452,
          193486,
          249614,
          201481,
          243071,
          240867,
          69061,
          62055,
          34508,
          224988,
          219456,
          185954,
          82203,
          237821,
          19114,
          211037,
          111652,
          171498,
          18712,
          147439,
          130142,
          66924,
          141969,
          115494,
          229432,
          108680,
          168515,
          78449,
          222815,
          92576,
          122522,
          238131,
          36636,
          68551,
          157635,
          239372,
          154978,
          125350,
          183722,
          196187,
          22151,
          72716,
          108747,
          129793,
          123177,
          63368,
          152513,
          167747,
          211501,
          180140,
          142959,
          90388,
          217903,
          134503,
          142834,
          125641,
          120111,
          201898,
          182523,
          177982,
          41160,
          240952,
          95532,
          187693,
          92231,
          107578,
          55390,
          203856,
          22421,
          233008,
          32727,
          234772,
          46910,
          124847,
          197573,
          207018,
          27323,
          127356,
          219451,
          160282,
          31456,
          46367,
          69624,
          249565,
          79315,
          160556,
          180575,
          246804,
          60113,
          165273,
          204648,
          24686,
          112543,
          63604,
          25526,
          83910,
          40592,
          103733,
          139982,
          83619,
          175400,
          156826,
          117747,
          44301,
          243984,
          71273,
          106878,
          19895,
          134968,
          91559,
          133413,
          134264,
          139481,
          193936,
          144992,
          142810,
          53067,
          188757,
          51035,
          98362,
          25382,
          76929,
          243590,
          158401
         ],
         "xaxis": "x",
         "y": [
          1445796,
          664741,
          1514110,
          161435,
          1648575,
          188286,
          277189,
          1225055,
          1234789,
          854807,
          1418335,
          1798982,
          1818361,
          1495065,
          1238360,
          119087,
          1897305,
          863560,
          1691232,
          192180,
          1132448,
          1587111,
          438518,
          1297098,
          1621128,
          742485,
          92291,
          723647,
          1395718,
          1929822,
          362863,
          383713,
          1926336,
          1593586,
          120305,
          1537606,
          528108,
          1073920,
          940023,
          1753924,
          287501,
          250339,
          665937,
          1425607,
          69477,
          1509058,
          439959,
          1606407,
          1385055,
          1447330,
          323586,
          1938755,
          1729328,
          1185627,
          197595,
          1871573,
          1615188,
          285419,
          204692,
          538765,
          1868673,
          1483466,
          547952,
          882595,
          1966494,
          1717640,
          279577,
          453777,
          1947883,
          1605537,
          1995049,
          702755,
          1619192,
          1144409,
          1833586,
          1210117,
          538019,
          964565,
          669055,
          1799736,
          1138963,
          1625506,
          1571624,
          236633,
          1769374,
          939493,
          446210,
          828799,
          1486564,
          838245,
          1046358,
          303091,
          314064,
          520435,
          651160,
          325049,
          467567,
          690794,
          1701377,
          1511666,
          1499466,
          183498,
          1352600,
          771755,
          54138,
          1189752,
          173030,
          1947951,
          366462,
          939855,
          1464718,
          110128,
          269128,
          1332116,
          1388306,
          608685,
          535001,
          1780085,
          1037410,
          1375644,
          422397,
          412441,
          933520,
          1058109,
          132409,
          1121824,
          1580952,
          525430,
          1970955,
          1273451,
          986800,
          1510049,
          1615116,
          1162186,
          748787,
          228267,
          1958241,
          205489,
          394126,
          1895759,
          1187411,
          865359,
          1283770,
          1822750,
          1236944,
          63261,
          1175285,
          1718849,
          903605,
          1386220,
          478745,
          1556242,
          1408126,
          1769890
         ],
         "yaxis": "y"
        },
        {
         "customdata": [
          [
           "Fully Recovered"
          ],
          [
           "Fully Recovered"
          ],
          [
           "Fully Recovered"
          ],
          [
           "Fully Recovered"
          ],
          [
           "Fully Recovered"
          ],
          [
           "Fully Recovered"
          ],
          [
           "Fully Recovered"
          ],
          [
           "Fully Recovered"
          ],
          [
           "Fully Recovered"
          ],
          [
           "Fully Recovered"
          ],
          [
           "Fully Recovered"
          ],
          [
           "Fully Recovered"
          ],
          [
           "Fully Recovered"
          ],
          [
           "Fully Recovered"
          ],
          [
           "Fully Recovered"
          ],
          [
           "Fully Recovered"
          ],
          [
           "Fully Recovered"
          ],
          [
           "Fully Recovered"
          ],
          [
           "Fully Recovered"
          ],
          [
           "Fully Recovered"
          ],
          [
           "Fully Recovered"
          ],
          [
           "Fully Recovered"
          ],
          [
           "Fully Recovered"
          ],
          [
           "Fully Recovered"
          ],
          [
           "Fully Recovered"
          ],
          [
           "Fully Recovered"
          ],
          [
           "Fully Recovered"
          ],
          [
           "Fully Recovered"
          ],
          [
           "Fully Recovered"
          ],
          [
           "Fully Recovered"
          ],
          [
           "Fully Recovered"
          ],
          [
           "Fully Recovered"
          ],
          [
           "Fully Recovered"
          ],
          [
           "Fully Recovered"
          ],
          [
           "Fully Recovered"
          ],
          [
           "Fully Recovered"
          ],
          [
           "Fully Recovered"
          ],
          [
           "Fully Recovered"
          ],
          [
           "Fully Recovered"
          ],
          [
           "Fully Recovered"
          ],
          [
           "Fully Recovered"
          ],
          [
           "Fully Recovered"
          ],
          [
           "Fully Recovered"
          ],
          [
           "Fully Recovered"
          ],
          [
           "Fully Recovered"
          ],
          [
           "Fully Recovered"
          ],
          [
           "Fully Recovered"
          ],
          [
           "Fully Recovered"
          ],
          [
           "Fully Recovered"
          ],
          [
           "Fully Recovered"
          ],
          [
           "Fully Recovered"
          ],
          [
           "Fully Recovered"
          ],
          [
           "Fully Recovered"
          ],
          [
           "Fully Recovered"
          ],
          [
           "Fully Recovered"
          ],
          [
           "Fully Recovered"
          ],
          [
           "Fully Recovered"
          ],
          [
           "Fully Recovered"
          ],
          [
           "Fully Recovered"
          ],
          [
           "Fully Recovered"
          ],
          [
           "Fully Recovered"
          ],
          [
           "Fully Recovered"
          ],
          [
           "Fully Recovered"
          ],
          [
           "Fully Recovered"
          ],
          [
           "Fully Recovered"
          ],
          [
           "Fully Recovered"
          ],
          [
           "Fully Recovered"
          ],
          [
           "Fully Recovered"
          ],
          [
           "Fully Recovered"
          ],
          [
           "Fully Recovered"
          ],
          [
           "Fully Recovered"
          ],
          [
           "Fully Recovered"
          ],
          [
           "Fully Recovered"
          ],
          [
           "Fully Recovered"
          ],
          [
           "Fully Recovered"
          ],
          [
           "Fully Recovered"
          ],
          [
           "Fully Recovered"
          ],
          [
           "Fully Recovered"
          ],
          [
           "Fully Recovered"
          ],
          [
           "Fully Recovered"
          ],
          [
           "Fully Recovered"
          ],
          [
           "Fully Recovered"
          ],
          [
           "Fully Recovered"
          ],
          [
           "Fully Recovered"
          ],
          [
           "Fully Recovered"
          ],
          [
           "Fully Recovered"
          ],
          [
           "Fully Recovered"
          ],
          [
           "Fully Recovered"
          ],
          [
           "Fully Recovered"
          ],
          [
           "Fully Recovered"
          ],
          [
           "Fully Recovered"
          ],
          [
           "Fully Recovered"
          ],
          [
           "Fully Recovered"
          ],
          [
           "Fully Recovered"
          ],
          [
           "Fully Recovered"
          ],
          [
           "Fully Recovered"
          ],
          [
           "Fully Recovered"
          ],
          [
           "Fully Recovered"
          ],
          [
           "Fully Recovered"
          ],
          [
           "Fully Recovered"
          ],
          [
           "Fully Recovered"
          ],
          [
           "Fully Recovered"
          ],
          [
           "Fully Recovered"
          ],
          [
           "Fully Recovered"
          ],
          [
           "Fully Recovered"
          ],
          [
           "Fully Recovered"
          ],
          [
           "Fully Recovered"
          ],
          [
           "Fully Recovered"
          ],
          [
           "Fully Recovered"
          ],
          [
           "Fully Recovered"
          ],
          [
           "Fully Recovered"
          ],
          [
           "Fully Recovered"
          ],
          [
           "Fully Recovered"
          ],
          [
           "Fully Recovered"
          ],
          [
           "Fully Recovered"
          ],
          [
           "Fully Recovered"
          ],
          [
           "Fully Recovered"
          ],
          [
           "Fully Recovered"
          ],
          [
           "Fully Recovered"
          ],
          [
           "Fully Recovered"
          ],
          [
           "Fully Recovered"
          ],
          [
           "Fully Recovered"
          ],
          [
           "Fully Recovered"
          ],
          [
           "Fully Recovered"
          ],
          [
           "Fully Recovered"
          ],
          [
           "Fully Recovered"
          ],
          [
           "Fully Recovered"
          ],
          [
           "Fully Recovered"
          ],
          [
           "Fully Recovered"
          ],
          [
           "Fully Recovered"
          ],
          [
           "Fully Recovered"
          ],
          [
           "Fully Recovered"
          ],
          [
           "Fully Recovered"
          ],
          [
           "Fully Recovered"
          ],
          [
           "Fully Recovered"
          ],
          [
           "Fully Recovered"
          ],
          [
           "Fully Recovered"
          ],
          [
           "Fully Recovered"
          ],
          [
           "Fully Recovered"
          ],
          [
           "Fully Recovered"
          ],
          [
           "Fully Recovered"
          ],
          [
           "Fully Recovered"
          ],
          [
           "Fully Recovered"
          ],
          [
           "Fully Recovered"
          ],
          [
           "Fully Recovered"
          ],
          [
           "Fully Recovered"
          ],
          [
           "Fully Recovered"
          ],
          [
           "Fully Recovered"
          ],
          [
           "Fully Recovered"
          ],
          [
           "Fully Recovered"
          ],
          [
           "Fully Recovered"
          ],
          [
           "Fully Recovered"
          ],
          [
           "Fully Recovered"
          ],
          [
           "Fully Recovered"
          ],
          [
           "Fully Recovered"
          ],
          [
           "Fully Recovered"
          ],
          [
           "Fully Recovered"
          ],
          [
           "Fully Recovered"
          ],
          [
           "Fully Recovered"
          ],
          [
           "Fully Recovered"
          ],
          [
           "Fully Recovered"
          ],
          [
           "Fully Recovered"
          ],
          [
           "Fully Recovered"
          ],
          [
           "Fully Recovered"
          ],
          [
           "Fully Recovered"
          ],
          [
           "Fully Recovered"
          ],
          [
           "Fully Recovered"
          ],
          [
           "Fully Recovered"
          ],
          [
           "Fully Recovered"
          ],
          [
           "Fully Recovered"
          ],
          [
           "Fully Recovered"
          ],
          [
           "Fully Recovered"
          ],
          [
           "Fully Recovered"
          ],
          [
           "Fully Recovered"
          ],
          [
           "Fully Recovered"
          ],
          [
           "Fully Recovered"
          ],
          [
           "Fully Recovered"
          ],
          [
           "Fully Recovered"
          ],
          [
           "Fully Recovered"
          ],
          [
           "Fully Recovered"
          ],
          [
           "Fully Recovered"
          ],
          [
           "Fully Recovered"
          ],
          [
           "Fully Recovered"
          ],
          [
           "Fully Recovered"
          ],
          [
           "Fully Recovered"
          ],
          [
           "Fully Recovered"
          ],
          [
           "Fully Recovered"
          ],
          [
           "Fully Recovered"
          ],
          [
           "Fully Recovered"
          ],
          [
           "Fully Recovered"
          ],
          [
           "Fully Recovered"
          ],
          [
           "Fully Recovered"
          ],
          [
           "Fully Recovered"
          ],
          [
           "Fully Recovered"
          ],
          [
           "Fully Recovered"
          ],
          [
           "Fully Recovered"
          ],
          [
           "Fully Recovered"
          ],
          [
           "Fully Recovered"
          ],
          [
           "Fully Recovered"
          ],
          [
           "Fully Recovered"
          ],
          [
           "Fully Recovered"
          ],
          [
           "Fully Recovered"
          ],
          [
           "Fully Recovered"
          ],
          [
           "Fully Recovered"
          ],
          [
           "Fully Recovered"
          ],
          [
           "Fully Recovered"
          ],
          [
           "Fully Recovered"
          ],
          [
           "Fully Recovered"
          ],
          [
           "Fully Recovered"
          ],
          [
           "Fully Recovered"
          ],
          [
           "Fully Recovered"
          ],
          [
           "Fully Recovered"
          ],
          [
           "Fully Recovered"
          ],
          [
           "Fully Recovered"
          ],
          [
           "Fully Recovered"
          ],
          [
           "Fully Recovered"
          ],
          [
           "Fully Recovered"
          ],
          [
           "Fully Recovered"
          ],
          [
           "Fully Recovered"
          ],
          [
           "Fully Recovered"
          ],
          [
           "Fully Recovered"
          ],
          [
           "Fully Recovered"
          ],
          [
           "Fully Recovered"
          ],
          [
           "Fully Recovered"
          ],
          [
           "Fully Recovered"
          ],
          [
           "Fully Recovered"
          ],
          [
           "Fully Recovered"
          ],
          [
           "Fully Recovered"
          ],
          [
           "Fully Recovered"
          ],
          [
           "Fully Recovered"
          ],
          [
           "Fully Recovered"
          ],
          [
           "Fully Recovered"
          ],
          [
           "Fully Recovered"
          ],
          [
           "Fully Recovered"
          ],
          [
           "Fully Recovered"
          ],
          [
           "Fully Recovered"
          ],
          [
           "Fully Recovered"
          ],
          [
           "Fully Recovered"
          ],
          [
           "Fully Recovered"
          ],
          [
           "Fully Recovered"
          ],
          [
           "Fully Recovered"
          ],
          [
           "Fully Recovered"
          ],
          [
           "Fully Recovered"
          ],
          [
           "Fully Recovered"
          ],
          [
           "Fully Recovered"
          ],
          [
           "Fully Recovered"
          ],
          [
           "Fully Recovered"
          ],
          [
           "Fully Recovered"
          ],
          [
           "Fully Recovered"
          ],
          [
           "Fully Recovered"
          ],
          [
           "Fully Recovered"
          ],
          [
           "Fully Recovered"
          ],
          [
           "Fully Recovered"
          ],
          [
           "Fully Recovered"
          ],
          [
           "Fully Recovered"
          ],
          [
           "Fully Recovered"
          ],
          [
           "Fully Recovered"
          ],
          [
           "Fully Recovered"
          ],
          [
           "Fully Recovered"
          ],
          [
           "Fully Recovered"
          ],
          [
           "Fully Recovered"
          ],
          [
           "Fully Recovered"
          ],
          [
           "Fully Recovered"
          ],
          [
           "Fully Recovered"
          ],
          [
           "Fully Recovered"
          ],
          [
           "Fully Recovered"
          ],
          [
           "Fully Recovered"
          ],
          [
           "Fully Recovered"
          ],
          [
           "Fully Recovered"
          ],
          [
           "Fully Recovered"
          ],
          [
           "Fully Recovered"
          ],
          [
           "Fully Recovered"
          ],
          [
           "Fully Recovered"
          ],
          [
           "Fully Recovered"
          ],
          [
           "Fully Recovered"
          ],
          [
           "Fully Recovered"
          ],
          [
           "Fully Recovered"
          ],
          [
           "Fully Recovered"
          ],
          [
           "Fully Recovered"
          ],
          [
           "Fully Recovered"
          ],
          [
           "Fully Recovered"
          ],
          [
           "Fully Recovered"
          ],
          [
           "Fully Recovered"
          ],
          [
           "Fully Recovered"
          ],
          [
           "Fully Recovered"
          ],
          [
           "Fully Recovered"
          ],
          [
           "Fully Recovered"
          ],
          [
           "Fully Recovered"
          ],
          [
           "Fully Recovered"
          ],
          [
           "Fully Recovered"
          ],
          [
           "Fully Recovered"
          ],
          [
           "Fully Recovered"
          ],
          [
           "Fully Recovered"
          ],
          [
           "Fully Recovered"
          ],
          [
           "Fully Recovered"
          ],
          [
           "Fully Recovered"
          ]
         ],
         "hovertemplate": "Recovery_Status=%{customdata[0]}<br>Monthly Income=%{x}<br>Loan Amount=%{marker.size}<extra></extra>",
         "legendgroup": "Fully Recovered",
         "marker": {
          "color": "#ab63fa",
          "size": [
           1044620,
           1923410,
           1811663,
           88578,
           912147,
           258859,
           790389,
           1250114,
           95475,
           1839096,
           1256212,
           1252060,
           1149577,
           894081,
           478733,
           718516,
           990568,
           1652970,
           1950466,
           1581064,
           1491149,
           1518919,
           603172,
           1363428,
           1637952,
           1470858,
           322158,
           752495,
           1463562,
           1588814,
           128077,
           365018,
           1863205,
           793859,
           1439678,
           345064,
           834192,
           485928,
           970114,
           651891,
           1482769,
           1905591,
           135774,
           1318933,
           462672,
           1976126,
           1164518,
           587977,
           1656140,
           1608141,
           676256,
           463089,
           1898058,
           640504,
           1838380,
           396184,
           595932,
           112021,
           510115,
           478276,
           444754,
           1003680,
           353664,
           758672,
           679698,
           1445811,
           179887,
           346063,
           1433875,
           1300130,
           1909626,
           608963,
           855351,
           840605,
           421513,
           862832,
           231517,
           742924,
           522963,
           1711655,
           1257610,
           237256,
           526128,
           1764514,
           1772560,
           1083668,
           875626,
           1470623,
           1492181,
           1460023,
           292188,
           426047,
           903823,
           1418722,
           347675,
           758175,
           1917306,
           313625,
           892840,
           1744814,
           984339,
           175355,
           77798,
           267400,
           1315636,
           1609757,
           1074374,
           455105,
           1931297,
           873759,
           983703,
           181184,
           200653,
           295300,
           634010,
           1851498,
           903392,
           331696,
           1240456,
           313031,
           1707888,
           692927,
           1704802,
           1316389,
           1874964,
           1911057,
           1438509,
           1707390,
           451062,
           533779,
           620508,
           446981,
           429270,
           1173853,
           1055782,
           1618146,
           533455,
           1989253,
           172332,
           1332807,
           597219,
           139116,
           301671,
           1940641,
           1572494,
           824504,
           1124567,
           1808781,
           760672,
           1859977,
           145556,
           1422840,
           445204,
           1506048,
           793088,
           700443,
           1388950,
           548682,
           109778,
           859057,
           606376,
           1464657,
           1563083,
           1294951,
           1448949,
           1233765,
           1713129,
           572154,
           672006,
           1421430,
           1061930,
           1034558,
           1129525,
           1835818,
           904568,
           1818555,
           111842,
           1331506,
           339134,
           721553,
           1390829,
           180356,
           818917,
           787090,
           1788446,
           837738,
           1102425,
           62360,
           423216,
           1620234,
           480179,
           104330,
           101707,
           1651948,
           1959824,
           1947268,
           1460295,
           929459,
           134381,
           1872744,
           891708,
           1926251,
           243984,
           1158848,
           1594492,
           1795987,
           1204697,
           1966140,
           314237,
           696047,
           1391701,
           1958911,
           1955829,
           1469920,
           132289,
           1804867,
           1411236,
           309480,
           1884907,
           1814622,
           1586643,
           1429932,
           1753834,
           1188585,
           773858,
           473159,
           94816,
           1436665,
           846883,
           1816892,
           406007,
           846710,
           271552,
           93764,
           1718531,
           858301,
           55039,
           162935,
           1633306,
           1958796,
           103053,
           1280137,
           379231,
           455841,
           166214,
           903329,
           1497075,
           450826,
           687431,
           1885877,
           1886022,
           1574314,
           1995325,
           476674,
           748876,
           1106600,
           1333440,
           1452549,
           1977716,
           1971672,
           1242503,
           1097380,
           937553,
           856457,
           1693707,
           681525,
           1575753,
           1803767,
           1585601,
           1753163,
           1530298,
           1104244,
           1321118,
           1728997,
           358362,
           963081,
           1892360,
           1832988,
           1720357,
           1795030,
           151948,
           1652357,
           1565331,
           343851,
           1255046,
           418760,
           1392501,
           325796,
           820692,
           1723200,
           687787,
           723812,
           885825,
           1522966,
           740796,
           375203
          ],
          "sizemode": "area",
          "sizeref": 4988.3125,
          "symbol": "circle"
         },
         "mode": "markers",
         "name": "Fully Recovered",
         "orientation": "v",
         "showlegend": true,
         "type": "scatter",
         "x": [
          60893,
          116520,
          140818,
          76272,
          79674,
          159832,
          101475,
          76367,
          158660,
          247750,
          133154,
          198305,
          48397,
          97189,
          217332,
          135585,
          91619,
          34816,
          188312,
          152348,
          94530,
          122803,
          50946,
          70204,
          217724,
          107324,
          247944,
          94671,
          131891,
          98310,
          213350,
          229266,
          166409,
          193686,
          237500,
          106155,
          185102,
          147130,
          232285,
          91260,
          79178,
          48997,
          171683,
          181129,
          147311,
          249746,
          211733,
          141945,
          60272,
          104393,
          161470,
          135030,
          71503,
          152710,
          21570,
          83785,
          24110,
          94141,
          54062,
          119061,
          47556,
          224203,
          143335,
          25225,
          138008,
          28669,
          139398,
          125677,
          63320,
          161649,
          140354,
          103009,
          43625,
          227112,
          39089,
          51487,
          211910,
          125448,
          65138,
          188895,
          183280,
          177962,
          94134,
          188359,
          173056,
          125169,
          23125,
          51059,
          215641,
          118409,
          163159,
          20704,
          206648,
          233200,
          126279,
          218532,
          133516,
          231222,
          212096,
          171995,
          129044,
          247549,
          44165,
          51321,
          88297,
          114304,
          32772,
          118754,
          106736,
          18726,
          104152,
          249182,
          155180,
          223786,
          50643,
          118896,
          154999,
          111546,
          94973,
          206305,
          247365,
          37612,
          240049,
          21471,
          181703,
          46348,
          210804,
          16177,
          150832,
          47779,
          96889,
          157628,
          173670,
          61819,
          88770,
          237127,
          173038,
          227781,
          205961,
          173059,
          93714,
          204420,
          39596,
          179246,
          79106,
          74182,
          102163,
          71088,
          51914,
          60379,
          224684,
          61413,
          152084,
          238725,
          188724,
          218502,
          159539,
          177082,
          136999,
          200763,
          210229,
          27289,
          191048,
          189668,
          246513,
          101365,
          245662,
          129014,
          190211,
          194785,
          175806,
          78646,
          18654,
          235094,
          33743,
          236097,
          220244,
          134735,
          170683,
          134891,
          122971,
          27149,
          115102,
          74189,
          86031,
          57668,
          159745,
          222738,
          103204,
          234861,
          155507,
          240160,
          198321,
          96929,
          91153,
          247601,
          153299,
          51041,
          103920,
          80681,
          249386,
          96571,
          211553,
          214648,
          142556,
          210246,
          64104,
          83388,
          31014,
          179827,
          38711,
          106658,
          72993,
          220768,
          173285,
          245145,
          127418,
          19358,
          80108,
          109018,
          139457,
          178189,
          141888,
          244104,
          70754,
          208510,
          175443,
          53467,
          48893,
          91329,
          46007,
          237374,
          185604,
          69253,
          125944,
          156178,
          83008,
          130395,
          131492,
          87240,
          215321,
          216659,
          51378,
          150327,
          71549,
          88794,
          89069,
          244189,
          140541,
          68363,
          146733,
          110673,
          207035,
          57828,
          43982,
          247041,
          245008,
          61479,
          166175,
          185963,
          246055,
          113540,
          87982,
          201994,
          237724,
          208783,
          187395,
          33752,
          228277,
          113452,
          159467,
          232029,
          136237,
          130700,
          25699,
          211133,
          24715,
          34169,
          162235,
          20782,
          234249,
          230400,
          50585,
          45682,
          99416,
          33073,
          211049,
          248782,
          105517,
          80450,
          150509,
          217043,
          210684,
          236427,
          248483,
          113864
         ],
         "xaxis": "x",
         "y": [
          1044620,
          1923410,
          1811663,
          88578,
          912147,
          258859,
          790389,
          1250114,
          95475,
          1839096,
          1256212,
          1252060,
          1149577,
          894081,
          478733,
          718516,
          990568,
          1652970,
          1950466,
          1581064,
          1491149,
          1518919,
          603172,
          1363428,
          1637952,
          1470858,
          322158,
          752495,
          1463562,
          1588814,
          128077,
          365018,
          1863205,
          793859,
          1439678,
          345064,
          834192,
          485928,
          970114,
          651891,
          1482769,
          1905591,
          135774,
          1318933,
          462672,
          1976126,
          1164518,
          587977,
          1656140,
          1608141,
          676256,
          463089,
          1898058,
          640504,
          1838380,
          396184,
          595932,
          112021,
          510115,
          478276,
          444754,
          1003680,
          353664,
          758672,
          679698,
          1445811,
          179887,
          346063,
          1433875,
          1300130,
          1909626,
          608963,
          855351,
          840605,
          421513,
          862832,
          231517,
          742924,
          522963,
          1711655,
          1257610,
          237256,
          526128,
          1764514,
          1772560,
          1083668,
          875626,
          1470623,
          1492181,
          1460023,
          292188,
          426047,
          903823,
          1418722,
          347675,
          758175,
          1917306,
          313625,
          892840,
          1744814,
          984339,
          175355,
          77798,
          267400,
          1315636,
          1609757,
          1074374,
          455105,
          1931297,
          873759,
          983703,
          181184,
          200653,
          295300,
          634010,
          1851498,
          903392,
          331696,
          1240456,
          313031,
          1707888,
          692927,
          1704802,
          1316389,
          1874964,
          1911057,
          1438509,
          1707390,
          451062,
          533779,
          620508,
          446981,
          429270,
          1173853,
          1055782,
          1618146,
          533455,
          1989253,
          172332,
          1332807,
          597219,
          139116,
          301671,
          1940641,
          1572494,
          824504,
          1124567,
          1808781,
          760672,
          1859977,
          145556,
          1422840,
          445204,
          1506048,
          793088,
          700443,
          1388950,
          548682,
          109778,
          859057,
          606376,
          1464657,
          1563083,
          1294951,
          1448949,
          1233765,
          1713129,
          572154,
          672006,
          1421430,
          1061930,
          1034558,
          1129525,
          1835818,
          904568,
          1818555,
          111842,
          1331506,
          339134,
          721553,
          1390829,
          180356,
          818917,
          787090,
          1788446,
          837738,
          1102425,
          62360,
          423216,
          1620234,
          480179,
          104330,
          101707,
          1651948,
          1959824,
          1947268,
          1460295,
          929459,
          134381,
          1872744,
          891708,
          1926251,
          243984,
          1158848,
          1594492,
          1795987,
          1204697,
          1966140,
          314237,
          696047,
          1391701,
          1958911,
          1955829,
          1469920,
          132289,
          1804867,
          1411236,
          309480,
          1884907,
          1814622,
          1586643,
          1429932,
          1753834,
          1188585,
          773858,
          473159,
          94816,
          1436665,
          846883,
          1816892,
          406007,
          846710,
          271552,
          93764,
          1718531,
          858301,
          55039,
          162935,
          1633306,
          1958796,
          103053,
          1280137,
          379231,
          455841,
          166214,
          903329,
          1497075,
          450826,
          687431,
          1885877,
          1886022,
          1574314,
          1995325,
          476674,
          748876,
          1106600,
          1333440,
          1452549,
          1977716,
          1971672,
          1242503,
          1097380,
          937553,
          856457,
          1693707,
          681525,
          1575753,
          1803767,
          1585601,
          1753163,
          1530298,
          1104244,
          1321118,
          1728997,
          358362,
          963081,
          1892360,
          1832988,
          1720357,
          1795030,
          151948,
          1652357,
          1565331,
          343851,
          1255046,
          418760,
          1392501,
          325796,
          820692,
          1723200,
          687787,
          723812,
          885825,
          1522966,
          740796,
          375203
         ],
         "yaxis": "y"
        },
        {
         "customdata": [
          [
           "Written Off"
          ],
          [
           "Written Off"
          ],
          [
           "Written Off"
          ],
          [
           "Written Off"
          ],
          [
           "Written Off"
          ],
          [
           "Written Off"
          ],
          [
           "Written Off"
          ],
          [
           "Written Off"
          ],
          [
           "Written Off"
          ],
          [
           "Written Off"
          ],
          [
           "Written Off"
          ],
          [
           "Written Off"
          ],
          [
           "Written Off"
          ],
          [
           "Written Off"
          ],
          [
           "Written Off"
          ],
          [
           "Written Off"
          ],
          [
           "Written Off"
          ],
          [
           "Written Off"
          ],
          [
           "Written Off"
          ],
          [
           "Written Off"
          ],
          [
           "Written Off"
          ],
          [
           "Written Off"
          ],
          [
           "Written Off"
          ],
          [
           "Written Off"
          ],
          [
           "Written Off"
          ],
          [
           "Written Off"
          ],
          [
           "Written Off"
          ],
          [
           "Written Off"
          ],
          [
           "Written Off"
          ],
          [
           "Written Off"
          ],
          [
           "Written Off"
          ],
          [
           "Written Off"
          ],
          [
           "Written Off"
          ],
          [
           "Written Off"
          ],
          [
           "Written Off"
          ],
          [
           "Written Off"
          ],
          [
           "Written Off"
          ],
          [
           "Written Off"
          ],
          [
           "Written Off"
          ],
          [
           "Written Off"
          ],
          [
           "Written Off"
          ],
          [
           "Written Off"
          ],
          [
           "Written Off"
          ],
          [
           "Written Off"
          ],
          [
           "Written Off"
          ],
          [
           "Written Off"
          ],
          [
           "Written Off"
          ],
          [
           "Written Off"
          ],
          [
           "Written Off"
          ],
          [
           "Written Off"
          ]
         ],
         "hovertemplate": "Recovery_Status=%{customdata[0]}<br>Monthly Income=%{x}<br>Loan Amount=%{marker.size}<extra></extra>",
         "legendgroup": "Written Off",
         "marker": {
          "color": "#FFA15A",
          "size": [
           1980750,
           896574,
           1192102,
           242029,
           267583,
           413898,
           1304352,
           301514,
           978660,
           1371448,
           407246,
           75675,
           312318,
           1190844,
           387369,
           1053346,
           644821,
           1627850,
           384971,
           142036,
           1040029,
           343946,
           1674777,
           564265,
           678380,
           1255565,
           1479210,
           126361,
           1717740,
           827567,
           311445,
           330833,
           1927145,
           884874,
           788096,
           902050,
           840449,
           968638,
           202353,
           1837040,
           136346,
           1419391,
           486542,
           584391,
           1778106,
           1183754,
           1496250,
           347986,
           1365823,
           394866
          ],
          "sizemode": "area",
          "sizeref": 4988.3125,
          "symbol": "circle"
         },
         "mode": "markers",
         "name": "Written Off",
         "orientation": "v",
         "showlegend": true,
         "type": "scatter",
         "x": [
          244027,
          136750,
          59738,
          91367,
          169571,
          234648,
          146691,
          15281,
          173492,
          249554,
          175928,
          16969,
          228883,
          150542,
          169268,
          176731,
          116376,
          173280,
          42723,
          177396,
          124834,
          40537,
          216039,
          54310,
          143803,
          192953,
          182450,
          169243,
          87588,
          226830,
          169741,
          52384,
          46401,
          49084,
          32633,
          32014,
          163697,
          126335,
          140926,
          25756,
          214083,
          140703,
          151321,
          190915,
          15207,
          96437,
          63231,
          201186,
          105373,
          40169
         ],
         "xaxis": "x",
         "y": [
          1980750,
          896574,
          1192102,
          242029,
          267583,
          413898,
          1304352,
          301514,
          978660,
          1371448,
          407246,
          75675,
          312318,
          1190844,
          387369,
          1053346,
          644821,
          1627850,
          384971,
          142036,
          1040029,
          343946,
          1674777,
          564265,
          678380,
          1255565,
          1479210,
          126361,
          1717740,
          827567,
          311445,
          330833,
          1927145,
          884874,
          788096,
          902050,
          840449,
          968638,
          202353,
          1837040,
          136346,
          1419391,
          486542,
          584391,
          1778106,
          1183754,
          1496250,
          347986,
          1365823,
          394866
         ],
         "yaxis": "y"
        }
       ],
       "layout": {
        "annotations": [
         {
          "arrowhead": 2,
          "font": {
           "color": "red",
           "size": 12
          },
          "showarrow": true,
          "text": "High loans may still get recovered if income is high",
          "x": 249746,
          "y": 1995325
         }
        ],
        "legend": {
         "itemsizing": "constant",
         "title": {
          "text": "Recovery_Status"
         },
         "tracegroupgap": 0
        },
        "template": {
         "data": {
          "bar": [
           {
            "error_x": {
             "color": "#2a3f5f"
            },
            "error_y": {
             "color": "#2a3f5f"
            },
            "marker": {
             "line": {
              "color": "white",
              "width": 0.5
             },
             "pattern": {
              "fillmode": "overlay",
              "size": 10,
              "solidity": 0.2
             }
            },
            "type": "bar"
           }
          ],
          "barpolar": [
           {
            "marker": {
             "line": {
              "color": "white",
              "width": 0.5
             },
             "pattern": {
              "fillmode": "overlay",
              "size": 10,
              "solidity": 0.2
             }
            },
            "type": "barpolar"
           }
          ],
          "carpet": [
           {
            "aaxis": {
             "endlinecolor": "#2a3f5f",
             "gridcolor": "#C8D4E3",
             "linecolor": "#C8D4E3",
             "minorgridcolor": "#C8D4E3",
             "startlinecolor": "#2a3f5f"
            },
            "baxis": {
             "endlinecolor": "#2a3f5f",
             "gridcolor": "#C8D4E3",
             "linecolor": "#C8D4E3",
             "minorgridcolor": "#C8D4E3",
             "startlinecolor": "#2a3f5f"
            },
            "type": "carpet"
           }
          ],
          "choropleth": [
           {
            "colorbar": {
             "outlinewidth": 0,
             "ticks": ""
            },
            "type": "choropleth"
           }
          ],
          "contour": [
           {
            "colorbar": {
             "outlinewidth": 0,
             "ticks": ""
            },
            "colorscale": [
             [
              0,
              "#0d0887"
             ],
             [
              0.1111111111111111,
              "#46039f"
             ],
             [
              0.2222222222222222,
              "#7201a8"
             ],
             [
              0.3333333333333333,
              "#9c179e"
             ],
             [
              0.4444444444444444,
              "#bd3786"
             ],
             [
              0.5555555555555556,
              "#d8576b"
             ],
             [
              0.6666666666666666,
              "#ed7953"
             ],
             [
              0.7777777777777778,
              "#fb9f3a"
             ],
             [
              0.8888888888888888,
              "#fdca26"
             ],
             [
              1,
              "#f0f921"
             ]
            ],
            "type": "contour"
           }
          ],
          "contourcarpet": [
           {
            "colorbar": {
             "outlinewidth": 0,
             "ticks": ""
            },
            "type": "contourcarpet"
           }
          ],
          "heatmap": [
           {
            "colorbar": {
             "outlinewidth": 0,
             "ticks": ""
            },
            "colorscale": [
             [
              0,
              "#0d0887"
             ],
             [
              0.1111111111111111,
              "#46039f"
             ],
             [
              0.2222222222222222,
              "#7201a8"
             ],
             [
              0.3333333333333333,
              "#9c179e"
             ],
             [
              0.4444444444444444,
              "#bd3786"
             ],
             [
              0.5555555555555556,
              "#d8576b"
             ],
             [
              0.6666666666666666,
              "#ed7953"
             ],
             [
              0.7777777777777778,
              "#fb9f3a"
             ],
             [
              0.8888888888888888,
              "#fdca26"
             ],
             [
              1,
              "#f0f921"
             ]
            ],
            "type": "heatmap"
           }
          ],
          "heatmapgl": [
           {
            "colorbar": {
             "outlinewidth": 0,
             "ticks": ""
            },
            "colorscale": [
             [
              0,
              "#0d0887"
             ],
             [
              0.1111111111111111,
              "#46039f"
             ],
             [
              0.2222222222222222,
              "#7201a8"
             ],
             [
              0.3333333333333333,
              "#9c179e"
             ],
             [
              0.4444444444444444,
              "#bd3786"
             ],
             [
              0.5555555555555556,
              "#d8576b"
             ],
             [
              0.6666666666666666,
              "#ed7953"
             ],
             [
              0.7777777777777778,
              "#fb9f3a"
             ],
             [
              0.8888888888888888,
              "#fdca26"
             ],
             [
              1,
              "#f0f921"
             ]
            ],
            "type": "heatmapgl"
           }
          ],
          "histogram": [
           {
            "marker": {
             "pattern": {
              "fillmode": "overlay",
              "size": 10,
              "solidity": 0.2
             }
            },
            "type": "histogram"
           }
          ],
          "histogram2d": [
           {
            "colorbar": {
             "outlinewidth": 0,
             "ticks": ""
            },
            "colorscale": [
             [
              0,
              "#0d0887"
             ],
             [
              0.1111111111111111,
              "#46039f"
             ],
             [
              0.2222222222222222,
              "#7201a8"
             ],
             [
              0.3333333333333333,
              "#9c179e"
             ],
             [
              0.4444444444444444,
              "#bd3786"
             ],
             [
              0.5555555555555556,
              "#d8576b"
             ],
             [
              0.6666666666666666,
              "#ed7953"
             ],
             [
              0.7777777777777778,
              "#fb9f3a"
             ],
             [
              0.8888888888888888,
              "#fdca26"
             ],
             [
              1,
              "#f0f921"
             ]
            ],
            "type": "histogram2d"
           }
          ],
          "histogram2dcontour": [
           {
            "colorbar": {
             "outlinewidth": 0,
             "ticks": ""
            },
            "colorscale": [
             [
              0,
              "#0d0887"
             ],
             [
              0.1111111111111111,
              "#46039f"
             ],
             [
              0.2222222222222222,
              "#7201a8"
             ],
             [
              0.3333333333333333,
              "#9c179e"
             ],
             [
              0.4444444444444444,
              "#bd3786"
             ],
             [
              0.5555555555555556,
              "#d8576b"
             ],
             [
              0.6666666666666666,
              "#ed7953"
             ],
             [
              0.7777777777777778,
              "#fb9f3a"
             ],
             [
              0.8888888888888888,
              "#fdca26"
             ],
             [
              1,
              "#f0f921"
             ]
            ],
            "type": "histogram2dcontour"
           }
          ],
          "mesh3d": [
           {
            "colorbar": {
             "outlinewidth": 0,
             "ticks": ""
            },
            "type": "mesh3d"
           }
          ],
          "parcoords": [
           {
            "line": {
             "colorbar": {
              "outlinewidth": 0,
              "ticks": ""
             }
            },
            "type": "parcoords"
           }
          ],
          "pie": [
           {
            "automargin": true,
            "type": "pie"
           }
          ],
          "scatter": [
           {
            "fillpattern": {
             "fillmode": "overlay",
             "size": 10,
             "solidity": 0.2
            },
            "type": "scatter"
           }
          ],
          "scatter3d": [
           {
            "line": {
             "colorbar": {
              "outlinewidth": 0,
              "ticks": ""
             }
            },
            "marker": {
             "colorbar": {
              "outlinewidth": 0,
              "ticks": ""
             }
            },
            "type": "scatter3d"
           }
          ],
          "scattercarpet": [
           {
            "marker": {
             "colorbar": {
              "outlinewidth": 0,
              "ticks": ""
             }
            },
            "type": "scattercarpet"
           }
          ],
          "scattergeo": [
           {
            "marker": {
             "colorbar": {
              "outlinewidth": 0,
              "ticks": ""
             }
            },
            "type": "scattergeo"
           }
          ],
          "scattergl": [
           {
            "marker": {
             "colorbar": {
              "outlinewidth": 0,
              "ticks": ""
             }
            },
            "type": "scattergl"
           }
          ],
          "scattermapbox": [
           {
            "marker": {
             "colorbar": {
              "outlinewidth": 0,
              "ticks": ""
             }
            },
            "type": "scattermapbox"
           }
          ],
          "scatterpolar": [
           {
            "marker": {
             "colorbar": {
              "outlinewidth": 0,
              "ticks": ""
             }
            },
            "type": "scatterpolar"
           }
          ],
          "scatterpolargl": [
           {
            "marker": {
             "colorbar": {
              "outlinewidth": 0,
              "ticks": ""
             }
            },
            "type": "scatterpolargl"
           }
          ],
          "scatterternary": [
           {
            "marker": {
             "colorbar": {
              "outlinewidth": 0,
              "ticks": ""
             }
            },
            "type": "scatterternary"
           }
          ],
          "surface": [
           {
            "colorbar": {
             "outlinewidth": 0,
             "ticks": ""
            },
            "colorscale": [
             [
              0,
              "#0d0887"
             ],
             [
              0.1111111111111111,
              "#46039f"
             ],
             [
              0.2222222222222222,
              "#7201a8"
             ],
             [
              0.3333333333333333,
              "#9c179e"
             ],
             [
              0.4444444444444444,
              "#bd3786"
             ],
             [
              0.5555555555555556,
              "#d8576b"
             ],
             [
              0.6666666666666666,
              "#ed7953"
             ],
             [
              0.7777777777777778,
              "#fb9f3a"
             ],
             [
              0.8888888888888888,
              "#fdca26"
             ],
             [
              1,
              "#f0f921"
             ]
            ],
            "type": "surface"
           }
          ],
          "table": [
           {
            "cells": {
             "fill": {
              "color": "#EBF0F8"
             },
             "line": {
              "color": "white"
             }
            },
            "header": {
             "fill": {
              "color": "#C8D4E3"
             },
             "line": {
              "color": "white"
             }
            },
            "type": "table"
           }
          ]
         },
         "layout": {
          "annotationdefaults": {
           "arrowcolor": "#2a3f5f",
           "arrowhead": 0,
           "arrowwidth": 1
          },
          "autotypenumbers": "strict",
          "coloraxis": {
           "colorbar": {
            "outlinewidth": 0,
            "ticks": ""
           }
          },
          "colorscale": {
           "diverging": [
            [
             0,
             "#8e0152"
            ],
            [
             0.1,
             "#c51b7d"
            ],
            [
             0.2,
             "#de77ae"
            ],
            [
             0.3,
             "#f1b6da"
            ],
            [
             0.4,
             "#fde0ef"
            ],
            [
             0.5,
             "#f7f7f7"
            ],
            [
             0.6,
             "#e6f5d0"
            ],
            [
             0.7,
             "#b8e186"
            ],
            [
             0.8,
             "#7fbc41"
            ],
            [
             0.9,
             "#4d9221"
            ],
            [
             1,
             "#276419"
            ]
           ],
           "sequential": [
            [
             0,
             "#0d0887"
            ],
            [
             0.1111111111111111,
             "#46039f"
            ],
            [
             0.2222222222222222,
             "#7201a8"
            ],
            [
             0.3333333333333333,
             "#9c179e"
            ],
            [
             0.4444444444444444,
             "#bd3786"
            ],
            [
             0.5555555555555556,
             "#d8576b"
            ],
            [
             0.6666666666666666,
             "#ed7953"
            ],
            [
             0.7777777777777778,
             "#fb9f3a"
            ],
            [
             0.8888888888888888,
             "#fdca26"
            ],
            [
             1,
             "#f0f921"
            ]
           ],
           "sequentialminus": [
            [
             0,
             "#0d0887"
            ],
            [
             0.1111111111111111,
             "#46039f"
            ],
            [
             0.2222222222222222,
             "#7201a8"
            ],
            [
             0.3333333333333333,
             "#9c179e"
            ],
            [
             0.4444444444444444,
             "#bd3786"
            ],
            [
             0.5555555555555556,
             "#d8576b"
            ],
            [
             0.6666666666666666,
             "#ed7953"
            ],
            [
             0.7777777777777778,
             "#fb9f3a"
            ],
            [
             0.8888888888888888,
             "#fdca26"
            ],
            [
             1,
             "#f0f921"
            ]
           ]
          },
          "colorway": [
           "#636efa",
           "#EF553B",
           "#00cc96",
           "#ab63fa",
           "#FFA15A",
           "#19d3f3",
           "#FF6692",
           "#B6E880",
           "#FF97FF",
           "#FECB52"
          ],
          "font": {
           "color": "#2a3f5f"
          },
          "geo": {
           "bgcolor": "white",
           "lakecolor": "white",
           "landcolor": "white",
           "showlakes": true,
           "showland": true,
           "subunitcolor": "#C8D4E3"
          },
          "hoverlabel": {
           "align": "left"
          },
          "hovermode": "closest",
          "mapbox": {
           "style": "light"
          },
          "paper_bgcolor": "white",
          "plot_bgcolor": "white",
          "polar": {
           "angularaxis": {
            "gridcolor": "#EBF0F8",
            "linecolor": "#EBF0F8",
            "ticks": ""
           },
           "bgcolor": "white",
           "radialaxis": {
            "gridcolor": "#EBF0F8",
            "linecolor": "#EBF0F8",
            "ticks": ""
           }
          },
          "scene": {
           "xaxis": {
            "backgroundcolor": "white",
            "gridcolor": "#DFE8F3",
            "gridwidth": 2,
            "linecolor": "#EBF0F8",
            "showbackground": true,
            "ticks": "",
            "zerolinecolor": "#EBF0F8"
           },
           "yaxis": {
            "backgroundcolor": "white",
            "gridcolor": "#DFE8F3",
            "gridwidth": 2,
            "linecolor": "#EBF0F8",
            "showbackground": true,
            "ticks": "",
            "zerolinecolor": "#EBF0F8"
           },
           "zaxis": {
            "backgroundcolor": "white",
            "gridcolor": "#DFE8F3",
            "gridwidth": 2,
            "linecolor": "#EBF0F8",
            "showbackground": true,
            "ticks": "",
            "zerolinecolor": "#EBF0F8"
           }
          },
          "shapedefaults": {
           "line": {
            "color": "#2a3f5f"
           }
          },
          "ternary": {
           "aaxis": {
            "gridcolor": "#DFE8F3",
            "linecolor": "#A2B1C6",
            "ticks": ""
           },
           "baxis": {
            "gridcolor": "#DFE8F3",
            "linecolor": "#A2B1C6",
            "ticks": ""
           },
           "bgcolor": "white",
           "caxis": {
            "gridcolor": "#DFE8F3",
            "linecolor": "#A2B1C6",
            "ticks": ""
           }
          },
          "title": {
           "x": 0.05
          },
          "xaxis": {
           "automargin": true,
           "gridcolor": "#EBF0F8",
           "linecolor": "#EBF0F8",
           "ticks": "",
           "title": {
            "standoff": 15
           },
           "zerolinecolor": "#EBF0F8",
           "zerolinewidth": 2
          },
          "yaxis": {
           "automargin": true,
           "gridcolor": "#EBF0F8",
           "linecolor": "#EBF0F8",
           "ticks": "",
           "title": {
            "standoff": 15
           },
           "zerolinecolor": "#EBF0F8",
           "zerolinewidth": 2
          }
         }
        },
        "title": {
         "text": "How Monthly Income and Loan Amount affect Loan Recovery"
        },
        "xaxis": {
         "anchor": "y",
         "domain": [
          0,
          1
         ],
         "title": {
          "text": "Monthly Income"
         }
        },
        "yaxis": {
         "anchor": "x",
         "domain": [
          0,
          1
         ],
         "title": {
          "text": "Loan Amount"
         }
        }
       }
      }
     },
     "metadata": {},
     "output_type": "display_data"
    }
   ],
   "source": [
    "# Create a scatterplot to analyze how monthly income and loan amount affect loan recovery status.\n",
    "\n",
    "fig = px.scatter(df,x='Monthly_Income',                          # X-axis: Borrower's Income\n",
    "                 y='Loan_Amount',                                # Y-axis: Loan amount taken\n",
    "                 color='Recovery_Status',                        # Color points by recovery status(Recovered/Not Recovered)\n",
    "                 size='Loan_Amount',                             # Bubble size reflects the magnitude of loan\n",
    "                 hover_data={'Monthly_Income': True,             # # Show additional info on hover\n",
    "                             'Loan_Amount': True,\n",
    "                             'Recovery_Status': True},\n",
    "                 title='How Monthly Income and Loan Amount affect Loan Recovery',\n",
    "                 labels={'Monthly_Income': 'Monthly Income',\n",
    "                         'Loan_Amount': 'Loan Amount'},\n",
    "                color_discrete_map={'Recovered':'green',         # Manually map specific colors to status\n",
    "                                    'Not Recovered':'red'})\n",
    "\n",
    "# Add annotation at the top-right region to highlight an important insight\n",
    "fig.add_annotation(\n",
    "    x=max(df['Monthly_Income']),                     # Place annotation at max income\n",
    "    y=max(df['Loan_Amount']),                        # Place annotation at max loan amount\n",
    "    text='High loans may still get recovered if income is high',  # Key insight\n",
    "    showarrow=True,                                  # Shows arrow\n",
    "    arrowhead=2,                                     # Arrow style\n",
    "    font=dict(size=12, color='red')                  # Style of annotation text\n",
    ")\n",
    "\n",
    "# Customize axis labels and background\n",
    "fig.update_layout(\n",
    "    xaxis_title='Monthly Income',         # X-axis Label\n",
    "    yaxis_title='Loan Amount',            # Y-axis Label\n",
    "    template='plotly_white'               # Background for clarity\n",
    ")\n",
    "\n",
    "# Display the plot\n",
    "fig.show()"
   ]
  },
  {
   "cell_type": "markdown",
   "id": "c50f98f7",
   "metadata": {},
   "source": [
    "### Insights:\n",
    " - High income does indicate better recovery odds, as even the biggest loans are often fully recovered.\n",
    " - Low income leads to low-to-mid loan amounts which in turn shows a higher levels of Orange(Written-Off) and Green(Partially Recovered).\n",
    " - This suggests default is likely with borrowers having low income regardless of loan size.\n",
    " - The plot clearly shows that even for high loan amounts, a strong monthly income can act as a cushion to prevent defaults.\n",
    "\n",
    "---"
   ]
  },
  {
   "cell_type": "markdown",
   "id": "d2fc97cf",
   "metadata": {},
   "source": [
    "# Feature Engineering:\n",
    " - Engineering few new features based on existing ones to check whether they can upscale model performance.\n",
    " - Features such as EMI to Income ratio, Collateral Coverage and Default Severity."
   ]
  },
  {
   "cell_type": "code",
   "execution_count": 71,
   "id": "c18ae72e",
   "metadata": {},
   "outputs": [
    {
     "data": {
      "text/html": [
       "<div>\n",
       "<style scoped>\n",
       "    .dataframe tbody tr th:only-of-type {\n",
       "        vertical-align: middle;\n",
       "    }\n",
       "\n",
       "    .dataframe tbody tr th {\n",
       "        vertical-align: top;\n",
       "    }\n",
       "\n",
       "    .dataframe thead th {\n",
       "        text-align: right;\n",
       "    }\n",
       "</style>\n",
       "<table border=\"1\" class=\"dataframe\">\n",
       "  <thead>\n",
       "    <tr style=\"text-align: right;\">\n",
       "      <th></th>\n",
       "      <th>Borrower_ID</th>\n",
       "      <th>Age</th>\n",
       "      <th>Gender</th>\n",
       "      <th>Employment_Type</th>\n",
       "      <th>Monthly_Income</th>\n",
       "      <th>Num_Dependents</th>\n",
       "      <th>Loan_ID</th>\n",
       "      <th>Loan_Amount</th>\n",
       "      <th>Loan_Tenure</th>\n",
       "      <th>Interest_Rate</th>\n",
       "      <th>Loan_Type</th>\n",
       "      <th>Collateral_Value</th>\n",
       "      <th>Outstanding_Loan_Amount</th>\n",
       "      <th>Monthly_EMI</th>\n",
       "      <th>Payment_History</th>\n",
       "      <th>Num_Missed_Payments</th>\n",
       "      <th>Days_Past_Due</th>\n",
       "      <th>Recovery_Status</th>\n",
       "      <th>Collection_Attempts</th>\n",
       "      <th>Collection_Method</th>\n",
       "      <th>Legal_Action_Taken</th>\n",
       "    </tr>\n",
       "  </thead>\n",
       "  <tbody>\n",
       "    <tr>\n",
       "      <th>0</th>\n",
       "      <td>BRW_1</td>\n",
       "      <td>59</td>\n",
       "      <td>Male</td>\n",
       "      <td>Salaried</td>\n",
       "      <td>215422</td>\n",
       "      <td>0</td>\n",
       "      <td>LN_1</td>\n",
       "      <td>1445796</td>\n",
       "      <td>60</td>\n",
       "      <td>12.39</td>\n",
       "      <td>Home</td>\n",
       "      <td>1727997.26</td>\n",
       "      <td>291413.01</td>\n",
       "      <td>4856.88</td>\n",
       "      <td>On-Time</td>\n",
       "      <td>0</td>\n",
       "      <td>0</td>\n",
       "      <td>Partially Recovered</td>\n",
       "      <td>1</td>\n",
       "      <td>Settlement Offer</td>\n",
       "      <td>No</td>\n",
       "    </tr>\n",
       "    <tr>\n",
       "      <th>1</th>\n",
       "      <td>BRW_2</td>\n",
       "      <td>49</td>\n",
       "      <td>Female</td>\n",
       "      <td>Salaried</td>\n",
       "      <td>60893</td>\n",
       "      <td>0</td>\n",
       "      <td>LN_2</td>\n",
       "      <td>1044620</td>\n",
       "      <td>12</td>\n",
       "      <td>13.47</td>\n",
       "      <td>Auto</td>\n",
       "      <td>1180032.36</td>\n",
       "      <td>665204.15</td>\n",
       "      <td>55433.68</td>\n",
       "      <td>On-Time</td>\n",
       "      <td>0</td>\n",
       "      <td>0</td>\n",
       "      <td>Fully Recovered</td>\n",
       "      <td>2</td>\n",
       "      <td>Settlement Offer</td>\n",
       "      <td>No</td>\n",
       "    </tr>\n",
       "    <tr>\n",
       "      <th>2</th>\n",
       "      <td>BRW_3</td>\n",
       "      <td>35</td>\n",
       "      <td>Male</td>\n",
       "      <td>Salaried</td>\n",
       "      <td>116520</td>\n",
       "      <td>1</td>\n",
       "      <td>LN_3</td>\n",
       "      <td>1923410</td>\n",
       "      <td>72</td>\n",
       "      <td>7.74</td>\n",
       "      <td>Home</td>\n",
       "      <td>2622539.93</td>\n",
       "      <td>1031372.00</td>\n",
       "      <td>14324.61</td>\n",
       "      <td>Delayed</td>\n",
       "      <td>2</td>\n",
       "      <td>124</td>\n",
       "      <td>Fully Recovered</td>\n",
       "      <td>2</td>\n",
       "      <td>Legal Notice</td>\n",
       "      <td>No</td>\n",
       "    </tr>\n",
       "    <tr>\n",
       "      <th>3</th>\n",
       "      <td>BRW_4</td>\n",
       "      <td>63</td>\n",
       "      <td>Female</td>\n",
       "      <td>Salaried</td>\n",
       "      <td>140818</td>\n",
       "      <td>2</td>\n",
       "      <td>LN_4</td>\n",
       "      <td>1811663</td>\n",
       "      <td>36</td>\n",
       "      <td>12.23</td>\n",
       "      <td>Home</td>\n",
       "      <td>1145492.68</td>\n",
       "      <td>224973.92</td>\n",
       "      <td>6249.28</td>\n",
       "      <td>On-Time</td>\n",
       "      <td>1</td>\n",
       "      <td>56</td>\n",
       "      <td>Fully Recovered</td>\n",
       "      <td>2</td>\n",
       "      <td>Calls</td>\n",
       "      <td>No</td>\n",
       "    </tr>\n",
       "    <tr>\n",
       "      <th>4</th>\n",
       "      <td>BRW_5</td>\n",
       "      <td>28</td>\n",
       "      <td>Male</td>\n",
       "      <td>Salaried</td>\n",
       "      <td>76272</td>\n",
       "      <td>1</td>\n",
       "      <td>LN_5</td>\n",
       "      <td>88578</td>\n",
       "      <td>48</td>\n",
       "      <td>16.13</td>\n",
       "      <td>Personal</td>\n",
       "      <td>0.00</td>\n",
       "      <td>39189.89</td>\n",
       "      <td>816.46</td>\n",
       "      <td>On-Time</td>\n",
       "      <td>1</td>\n",
       "      <td>69</td>\n",
       "      <td>Fully Recovered</td>\n",
       "      <td>0</td>\n",
       "      <td>Debt Collectors</td>\n",
       "      <td>No</td>\n",
       "    </tr>\n",
       "    <tr>\n",
       "      <th>5</th>\n",
       "      <td>BRW_6</td>\n",
       "      <td>41</td>\n",
       "      <td>Male</td>\n",
       "      <td>Salaried</td>\n",
       "      <td>238224</td>\n",
       "      <td>3</td>\n",
       "      <td>LN_6</td>\n",
       "      <td>664741</td>\n",
       "      <td>36</td>\n",
       "      <td>15.86</td>\n",
       "      <td>Auto</td>\n",
       "      <td>982214.63</td>\n",
       "      <td>129965.53</td>\n",
       "      <td>3610.15</td>\n",
       "      <td>On-Time</td>\n",
       "      <td>1</td>\n",
       "      <td>111</td>\n",
       "      <td>Partially Recovered</td>\n",
       "      <td>6</td>\n",
       "      <td>Legal Notice</td>\n",
       "      <td>No</td>\n",
       "    </tr>\n",
       "    <tr>\n",
       "      <th>6</th>\n",
       "      <td>BRW_7</td>\n",
       "      <td>59</td>\n",
       "      <td>Female</td>\n",
       "      <td>Self-Employed</td>\n",
       "      <td>82649</td>\n",
       "      <td>1</td>\n",
       "      <td>LN_7</td>\n",
       "      <td>1514110</td>\n",
       "      <td>60</td>\n",
       "      <td>17.06</td>\n",
       "      <td>Home</td>\n",
       "      <td>1639218.86</td>\n",
       "      <td>875490.42</td>\n",
       "      <td>14591.51</td>\n",
       "      <td>On-Time</td>\n",
       "      <td>0</td>\n",
       "      <td>0</td>\n",
       "      <td>Partially Recovered</td>\n",
       "      <td>8</td>\n",
       "      <td>Debt Collectors</td>\n",
       "      <td>No</td>\n",
       "    </tr>\n",
       "    <tr>\n",
       "      <th>7</th>\n",
       "      <td>BRW_8</td>\n",
       "      <td>39</td>\n",
       "      <td>Male</td>\n",
       "      <td>Salaried</td>\n",
       "      <td>79674</td>\n",
       "      <td>0</td>\n",
       "      <td>LN_8</td>\n",
       "      <td>912147</td>\n",
       "      <td>12</td>\n",
       "      <td>9.76</td>\n",
       "      <td>Personal</td>\n",
       "      <td>0.00</td>\n",
       "      <td>416121.38</td>\n",
       "      <td>34676.78</td>\n",
       "      <td>Delayed</td>\n",
       "      <td>0</td>\n",
       "      <td>0</td>\n",
       "      <td>Fully Recovered</td>\n",
       "      <td>0</td>\n",
       "      <td>Settlement Offer</td>\n",
       "      <td>No</td>\n",
       "    </tr>\n",
       "    <tr>\n",
       "      <th>8</th>\n",
       "      <td>BRW_9</td>\n",
       "      <td>43</td>\n",
       "      <td>Male</td>\n",
       "      <td>Self-Employed</td>\n",
       "      <td>159832</td>\n",
       "      <td>3</td>\n",
       "      <td>LN_9</td>\n",
       "      <td>258859</td>\n",
       "      <td>72</td>\n",
       "      <td>9.13</td>\n",
       "      <td>Home</td>\n",
       "      <td>387116.94</td>\n",
       "      <td>168733.80</td>\n",
       "      <td>2343.53</td>\n",
       "      <td>On-Time</td>\n",
       "      <td>3</td>\n",
       "      <td>124</td>\n",
       "      <td>Fully Recovered</td>\n",
       "      <td>3</td>\n",
       "      <td>Settlement Offer</td>\n",
       "      <td>No</td>\n",
       "    </tr>\n",
       "    <tr>\n",
       "      <th>9</th>\n",
       "      <td>BRW_10</td>\n",
       "      <td>31</td>\n",
       "      <td>Male</td>\n",
       "      <td>Self-Employed</td>\n",
       "      <td>167999</td>\n",
       "      <td>0</td>\n",
       "      <td>LN_10</td>\n",
       "      <td>161435</td>\n",
       "      <td>60</td>\n",
       "      <td>14.74</td>\n",
       "      <td>Personal</td>\n",
       "      <td>0.00</td>\n",
       "      <td>133190.65</td>\n",
       "      <td>2219.84</td>\n",
       "      <td>Delayed</td>\n",
       "      <td>0</td>\n",
       "      <td>0</td>\n",
       "      <td>Partially Recovered</td>\n",
       "      <td>6</td>\n",
       "      <td>Legal Notice</td>\n",
       "      <td>No</td>\n",
       "    </tr>\n",
       "    <tr>\n",
       "      <th>10</th>\n",
       "      <td>BRW_11</td>\n",
       "      <td>31</td>\n",
       "      <td>Male</td>\n",
       "      <td>Business Owner</td>\n",
       "      <td>101475</td>\n",
       "      <td>2</td>\n",
       "      <td>LN_11</td>\n",
       "      <td>790389</td>\n",
       "      <td>24</td>\n",
       "      <td>10.60</td>\n",
       "      <td>Auto</td>\n",
       "      <td>1115645.71</td>\n",
       "      <td>292208.25</td>\n",
       "      <td>12175.34</td>\n",
       "      <td>On-Time</td>\n",
       "      <td>0</td>\n",
       "      <td>0</td>\n",
       "      <td>Fully Recovered</td>\n",
       "      <td>0</td>\n",
       "      <td>Calls</td>\n",
       "      <td>No</td>\n",
       "    </tr>\n",
       "    <tr>\n",
       "      <th>11</th>\n",
       "      <td>BRW_12</td>\n",
       "      <td>44</td>\n",
       "      <td>Female</td>\n",
       "      <td>Self-Employed</td>\n",
       "      <td>76367</td>\n",
       "      <td>0</td>\n",
       "      <td>LN_12</td>\n",
       "      <td>1250114</td>\n",
       "      <td>60</td>\n",
       "      <td>6.14</td>\n",
       "      <td>Home</td>\n",
       "      <td>901978.84</td>\n",
       "      <td>1207474.98</td>\n",
       "      <td>20124.58</td>\n",
       "      <td>On-Time</td>\n",
       "      <td>0</td>\n",
       "      <td>0</td>\n",
       "      <td>Fully Recovered</td>\n",
       "      <td>1</td>\n",
       "      <td>Settlement Offer</td>\n",
       "      <td>No</td>\n",
       "    </tr>\n",
       "    <tr>\n",
       "      <th>12</th>\n",
       "      <td>BRW_13</td>\n",
       "      <td>56</td>\n",
       "      <td>Male</td>\n",
       "      <td>Self-Employed</td>\n",
       "      <td>244027</td>\n",
       "      <td>0</td>\n",
       "      <td>LN_13</td>\n",
       "      <td>1980750</td>\n",
       "      <td>60</td>\n",
       "      <td>8.68</td>\n",
       "      <td>Business</td>\n",
       "      <td>1101617.90</td>\n",
       "      <td>1152937.23</td>\n",
       "      <td>19215.62</td>\n",
       "      <td>Delayed</td>\n",
       "      <td>1</td>\n",
       "      <td>7</td>\n",
       "      <td>Written Off</td>\n",
       "      <td>8</td>\n",
       "      <td>Debt Collectors</td>\n",
       "      <td>No</td>\n",
       "    </tr>\n",
       "    <tr>\n",
       "      <th>13</th>\n",
       "      <td>BRW_14</td>\n",
       "      <td>60</td>\n",
       "      <td>Male</td>\n",
       "      <td>Business Owner</td>\n",
       "      <td>158660</td>\n",
       "      <td>1</td>\n",
       "      <td>LN_14</td>\n",
       "      <td>95475</td>\n",
       "      <td>48</td>\n",
       "      <td>10.44</td>\n",
       "      <td>Personal</td>\n",
       "      <td>0.00</td>\n",
       "      <td>62675.68</td>\n",
       "      <td>1305.74</td>\n",
       "      <td>Missed</td>\n",
       "      <td>3</td>\n",
       "      <td>99</td>\n",
       "      <td>Fully Recovered</td>\n",
       "      <td>2</td>\n",
       "      <td>Debt Collectors</td>\n",
       "      <td>No</td>\n",
       "    </tr>\n",
       "    <tr>\n",
       "      <th>14</th>\n",
       "      <td>BRW_15</td>\n",
       "      <td>44</td>\n",
       "      <td>Male</td>\n",
       "      <td>Business Owner</td>\n",
       "      <td>136750</td>\n",
       "      <td>0</td>\n",
       "      <td>LN_15</td>\n",
       "      <td>896574</td>\n",
       "      <td>36</td>\n",
       "      <td>8.80</td>\n",
       "      <td>Auto</td>\n",
       "      <td>677486.36</td>\n",
       "      <td>638903.24</td>\n",
       "      <td>17747.31</td>\n",
       "      <td>Delayed</td>\n",
       "      <td>0</td>\n",
       "      <td>0</td>\n",
       "      <td>Written Off</td>\n",
       "      <td>9</td>\n",
       "      <td>Legal Notice</td>\n",
       "      <td>No</td>\n",
       "    </tr>\n",
       "  </tbody>\n",
       "</table>\n",
       "</div>"
      ],
      "text/plain": [
       "   Borrower_ID  Age  Gender Employment_Type  Monthly_Income  Num_Dependents  \\\n",
       "0        BRW_1   59    Male        Salaried          215422               0   \n",
       "1        BRW_2   49  Female        Salaried           60893               0   \n",
       "2        BRW_3   35    Male        Salaried          116520               1   \n",
       "3        BRW_4   63  Female        Salaried          140818               2   \n",
       "4        BRW_5   28    Male        Salaried           76272               1   \n",
       "5        BRW_6   41    Male        Salaried          238224               3   \n",
       "6        BRW_7   59  Female   Self-Employed           82649               1   \n",
       "7        BRW_8   39    Male        Salaried           79674               0   \n",
       "8        BRW_9   43    Male   Self-Employed          159832               3   \n",
       "9       BRW_10   31    Male   Self-Employed          167999               0   \n",
       "10      BRW_11   31    Male  Business Owner          101475               2   \n",
       "11      BRW_12   44  Female   Self-Employed           76367               0   \n",
       "12      BRW_13   56    Male   Self-Employed          244027               0   \n",
       "13      BRW_14   60    Male  Business Owner          158660               1   \n",
       "14      BRW_15   44    Male  Business Owner          136750               0   \n",
       "\n",
       "   Loan_ID  Loan_Amount  Loan_Tenure  Interest_Rate Loan_Type  \\\n",
       "0     LN_1      1445796           60          12.39      Home   \n",
       "1     LN_2      1044620           12          13.47      Auto   \n",
       "2     LN_3      1923410           72           7.74      Home   \n",
       "3     LN_4      1811663           36          12.23      Home   \n",
       "4     LN_5        88578           48          16.13  Personal   \n",
       "5     LN_6       664741           36          15.86      Auto   \n",
       "6     LN_7      1514110           60          17.06      Home   \n",
       "7     LN_8       912147           12           9.76  Personal   \n",
       "8     LN_9       258859           72           9.13      Home   \n",
       "9    LN_10       161435           60          14.74  Personal   \n",
       "10   LN_11       790389           24          10.60      Auto   \n",
       "11   LN_12      1250114           60           6.14      Home   \n",
       "12   LN_13      1980750           60           8.68  Business   \n",
       "13   LN_14        95475           48          10.44  Personal   \n",
       "14   LN_15       896574           36           8.80      Auto   \n",
       "\n",
       "    Collateral_Value  Outstanding_Loan_Amount  Monthly_EMI Payment_History  \\\n",
       "0         1727997.26                291413.01      4856.88         On-Time   \n",
       "1         1180032.36                665204.15     55433.68         On-Time   \n",
       "2         2622539.93               1031372.00     14324.61         Delayed   \n",
       "3         1145492.68                224973.92      6249.28         On-Time   \n",
       "4               0.00                 39189.89       816.46         On-Time   \n",
       "5          982214.63                129965.53      3610.15         On-Time   \n",
       "6         1639218.86                875490.42     14591.51         On-Time   \n",
       "7               0.00                416121.38     34676.78         Delayed   \n",
       "8          387116.94                168733.80      2343.53         On-Time   \n",
       "9               0.00                133190.65      2219.84         Delayed   \n",
       "10        1115645.71                292208.25     12175.34         On-Time   \n",
       "11         901978.84               1207474.98     20124.58         On-Time   \n",
       "12        1101617.90               1152937.23     19215.62         Delayed   \n",
       "13              0.00                 62675.68      1305.74          Missed   \n",
       "14         677486.36                638903.24     17747.31         Delayed   \n",
       "\n",
       "    Num_Missed_Payments  Days_Past_Due      Recovery_Status  \\\n",
       "0                     0              0  Partially Recovered   \n",
       "1                     0              0      Fully Recovered   \n",
       "2                     2            124      Fully Recovered   \n",
       "3                     1             56      Fully Recovered   \n",
       "4                     1             69      Fully Recovered   \n",
       "5                     1            111  Partially Recovered   \n",
       "6                     0              0  Partially Recovered   \n",
       "7                     0              0      Fully Recovered   \n",
       "8                     3            124      Fully Recovered   \n",
       "9                     0              0  Partially Recovered   \n",
       "10                    0              0      Fully Recovered   \n",
       "11                    0              0      Fully Recovered   \n",
       "12                    1              7          Written Off   \n",
       "13                    3             99      Fully Recovered   \n",
       "14                    0              0          Written Off   \n",
       "\n",
       "    Collection_Attempts Collection_Method Legal_Action_Taken  \n",
       "0                     1  Settlement Offer                 No  \n",
       "1                     2  Settlement Offer                 No  \n",
       "2                     2      Legal Notice                 No  \n",
       "3                     2             Calls                 No  \n",
       "4                     0   Debt Collectors                 No  \n",
       "5                     6      Legal Notice                 No  \n",
       "6                     8   Debt Collectors                 No  \n",
       "7                     0  Settlement Offer                 No  \n",
       "8                     3  Settlement Offer                 No  \n",
       "9                     6      Legal Notice                 No  \n",
       "10                    0             Calls                 No  \n",
       "11                    1  Settlement Offer                 No  \n",
       "12                    8   Debt Collectors                 No  \n",
       "13                    2   Debt Collectors                 No  \n",
       "14                    9      Legal Notice                 No  "
      ]
     },
     "execution_count": 71,
     "metadata": {},
     "output_type": "execute_result"
    }
   ],
   "source": [
    "# Display the data:\n",
    "pd.set_option('display.max_columns',None)      # To display all the columns instead of an embedded placehoder '...'\n",
    "df.head(15).round(2)                           # Shows first 15 rows with .2float for numerical values"
   ]
  },
  {
   "cell_type": "code",
   "execution_count": 25,
   "id": "819894b4",
   "metadata": {},
   "outputs": [
    {
     "data": {
      "text/html": [
       "<div>\n",
       "<style scoped>\n",
       "    .dataframe tbody tr th:only-of-type {\n",
       "        vertical-align: middle;\n",
       "    }\n",
       "\n",
       "    .dataframe tbody tr th {\n",
       "        vertical-align: top;\n",
       "    }\n",
       "\n",
       "    .dataframe thead th {\n",
       "        text-align: right;\n",
       "    }\n",
       "</style>\n",
       "<table border=\"1\" class=\"dataframe\">\n",
       "  <thead>\n",
       "    <tr style=\"text-align: right;\">\n",
       "      <th></th>\n",
       "      <th>Borrower_ID</th>\n",
       "      <th>Age</th>\n",
       "      <th>Gender</th>\n",
       "      <th>Employment_Type</th>\n",
       "      <th>Monthly_Income</th>\n",
       "      <th>Num_Dependents</th>\n",
       "      <th>Loan_ID</th>\n",
       "      <th>Loan_Amount</th>\n",
       "      <th>Loan_Tenure</th>\n",
       "      <th>Interest_Rate</th>\n",
       "      <th>...</th>\n",
       "      <th>Collateral_Value</th>\n",
       "      <th>Outstanding_Loan_Amount</th>\n",
       "      <th>Monthly_EMI</th>\n",
       "      <th>Payment_History</th>\n",
       "      <th>Num_Missed_Payments</th>\n",
       "      <th>Days_Past_Due</th>\n",
       "      <th>Recovery_Status</th>\n",
       "      <th>Collection_Attempts</th>\n",
       "      <th>Collection_Method</th>\n",
       "      <th>Legal_Action_Taken</th>\n",
       "    </tr>\n",
       "  </thead>\n",
       "  <tbody>\n",
       "    <tr>\n",
       "      <th>0</th>\n",
       "      <td>BRW_1</td>\n",
       "      <td>59</td>\n",
       "      <td>Male</td>\n",
       "      <td>Salaried</td>\n",
       "      <td>215422</td>\n",
       "      <td>0</td>\n",
       "      <td>LN_1</td>\n",
       "      <td>1445796</td>\n",
       "      <td>60</td>\n",
       "      <td>12.39</td>\n",
       "      <td>...</td>\n",
       "      <td>1.727997e+06</td>\n",
       "      <td>2.914130e+05</td>\n",
       "      <td>4856.88</td>\n",
       "      <td>On-Time</td>\n",
       "      <td>0</td>\n",
       "      <td>0</td>\n",
       "      <td>Partially Recovered</td>\n",
       "      <td>1</td>\n",
       "      <td>Settlement Offer</td>\n",
       "      <td>No</td>\n",
       "    </tr>\n",
       "    <tr>\n",
       "      <th>1</th>\n",
       "      <td>BRW_2</td>\n",
       "      <td>49</td>\n",
       "      <td>Female</td>\n",
       "      <td>Salaried</td>\n",
       "      <td>60893</td>\n",
       "      <td>0</td>\n",
       "      <td>LN_2</td>\n",
       "      <td>1044620</td>\n",
       "      <td>12</td>\n",
       "      <td>13.47</td>\n",
       "      <td>...</td>\n",
       "      <td>1.180032e+06</td>\n",
       "      <td>6.652042e+05</td>\n",
       "      <td>55433.68</td>\n",
       "      <td>On-Time</td>\n",
       "      <td>0</td>\n",
       "      <td>0</td>\n",
       "      <td>Fully Recovered</td>\n",
       "      <td>2</td>\n",
       "      <td>Settlement Offer</td>\n",
       "      <td>No</td>\n",
       "    </tr>\n",
       "    <tr>\n",
       "      <th>2</th>\n",
       "      <td>BRW_3</td>\n",
       "      <td>35</td>\n",
       "      <td>Male</td>\n",
       "      <td>Salaried</td>\n",
       "      <td>116520</td>\n",
       "      <td>1</td>\n",
       "      <td>LN_3</td>\n",
       "      <td>1923410</td>\n",
       "      <td>72</td>\n",
       "      <td>7.74</td>\n",
       "      <td>...</td>\n",
       "      <td>2.622540e+06</td>\n",
       "      <td>1.031372e+06</td>\n",
       "      <td>14324.61</td>\n",
       "      <td>Delayed</td>\n",
       "      <td>2</td>\n",
       "      <td>124</td>\n",
       "      <td>Fully Recovered</td>\n",
       "      <td>2</td>\n",
       "      <td>Legal Notice</td>\n",
       "      <td>No</td>\n",
       "    </tr>\n",
       "    <tr>\n",
       "      <th>3</th>\n",
       "      <td>BRW_4</td>\n",
       "      <td>63</td>\n",
       "      <td>Female</td>\n",
       "      <td>Salaried</td>\n",
       "      <td>140818</td>\n",
       "      <td>2</td>\n",
       "      <td>LN_4</td>\n",
       "      <td>1811663</td>\n",
       "      <td>36</td>\n",
       "      <td>12.23</td>\n",
       "      <td>...</td>\n",
       "      <td>1.145493e+06</td>\n",
       "      <td>2.249739e+05</td>\n",
       "      <td>6249.28</td>\n",
       "      <td>On-Time</td>\n",
       "      <td>1</td>\n",
       "      <td>56</td>\n",
       "      <td>Fully Recovered</td>\n",
       "      <td>2</td>\n",
       "      <td>Calls</td>\n",
       "      <td>No</td>\n",
       "    </tr>\n",
       "    <tr>\n",
       "      <th>4</th>\n",
       "      <td>BRW_5</td>\n",
       "      <td>28</td>\n",
       "      <td>Male</td>\n",
       "      <td>Salaried</td>\n",
       "      <td>76272</td>\n",
       "      <td>1</td>\n",
       "      <td>LN_5</td>\n",
       "      <td>88578</td>\n",
       "      <td>48</td>\n",
       "      <td>16.13</td>\n",
       "      <td>...</td>\n",
       "      <td>0.000000e+00</td>\n",
       "      <td>3.918989e+04</td>\n",
       "      <td>816.46</td>\n",
       "      <td>On-Time</td>\n",
       "      <td>1</td>\n",
       "      <td>69</td>\n",
       "      <td>Fully Recovered</td>\n",
       "      <td>0</td>\n",
       "      <td>Debt Collectors</td>\n",
       "      <td>No</td>\n",
       "    </tr>\n",
       "  </tbody>\n",
       "</table>\n",
       "<p>5 rows × 21 columns</p>\n",
       "</div>"
      ],
      "text/plain": [
       "  Borrower_ID  Age  Gender Employment_Type  Monthly_Income  Num_Dependents  \\\n",
       "0       BRW_1   59    Male        Salaried          215422               0   \n",
       "1       BRW_2   49  Female        Salaried           60893               0   \n",
       "2       BRW_3   35    Male        Salaried          116520               1   \n",
       "3       BRW_4   63  Female        Salaried          140818               2   \n",
       "4       BRW_5   28    Male        Salaried           76272               1   \n",
       "\n",
       "  Loan_ID  Loan_Amount  Loan_Tenure  Interest_Rate  ... Collateral_Value  \\\n",
       "0    LN_1      1445796           60          12.39  ...     1.727997e+06   \n",
       "1    LN_2      1044620           12          13.47  ...     1.180032e+06   \n",
       "2    LN_3      1923410           72           7.74  ...     2.622540e+06   \n",
       "3    LN_4      1811663           36          12.23  ...     1.145493e+06   \n",
       "4    LN_5        88578           48          16.13  ...     0.000000e+00   \n",
       "\n",
       "   Outstanding_Loan_Amount  Monthly_EMI  Payment_History Num_Missed_Payments  \\\n",
       "0             2.914130e+05      4856.88          On-Time                   0   \n",
       "1             6.652042e+05     55433.68          On-Time                   0   \n",
       "2             1.031372e+06     14324.61          Delayed                   2   \n",
       "3             2.249739e+05      6249.28          On-Time                   1   \n",
       "4             3.918989e+04       816.46          On-Time                   1   \n",
       "\n",
       "   Days_Past_Due      Recovery_Status Collection_Attempts  Collection_Method  \\\n",
       "0              0  Partially Recovered                   1   Settlement Offer   \n",
       "1              0      Fully Recovered                   2   Settlement Offer   \n",
       "2            124      Fully Recovered                   2       Legal Notice   \n",
       "3             56      Fully Recovered                   2              Calls   \n",
       "4             69      Fully Recovered                   0    Debt Collectors   \n",
       "\n",
       "  Legal_Action_Taken  \n",
       "0                 No  \n",
       "1                 No  \n",
       "2                 No  \n",
       "3                 No  \n",
       "4                 No  \n",
       "\n",
       "[5 rows x 21 columns]"
      ]
     },
     "execution_count": 25,
     "metadata": {},
     "output_type": "execute_result"
    }
   ],
   "source": [
    "# Engineering new features onto a copy of this dataset:\n",
    "df_1 = df.copy()     # copies the dataframe in df_1\n",
    "\n",
    "# Preview the new dataframe:\n",
    "df_1.head()"
   ]
  },
  {
   "cell_type": "markdown",
   "id": "ddb8b081",
   "metadata": {},
   "source": [
    "### Engneering new features in DataFrame_1 => df_1:"
   ]
  },
  {
   "cell_type": "markdown",
   "id": "be261175",
   "metadata": {},
   "source": [
    "#### EMI to Income Ratio:\n",
    "  - Measures the repayment burden of a borrower\n",
    "  - Indicates how much of their monthly income goes into their EMI payments.\n",
    "---\n",
    "  - It matters if this ratio > 0.4, the borrower is in a debt stress zone.\n",
    "  - Lower ratio => Better affordability => Higher Change of Recovery."
   ]
  },
  {
   "cell_type": "code",
   "execution_count": 26,
   "id": "d0e0b8e1",
   "metadata": {},
   "outputs": [],
   "source": [
    "# EMI_to_Income_Ratio:\n",
    "df_1['EMI_to_Income_Ratio'] = df_1['Monthly_EMI'] / df['Monthly_Income']"
   ]
  },
  {
   "cell_type": "code",
   "execution_count": 27,
   "id": "bb6d5b2a",
   "metadata": {},
   "outputs": [
    {
     "data": {
      "text/plain": [
       "0      0.022546\n",
       "1      0.910346\n",
       "2      0.122937\n",
       "3      0.044378\n",
       "4      0.010705\n",
       "         ...   \n",
       "495    0.023114\n",
       "496    0.021715\n",
       "497    0.060385\n",
       "498    0.411755\n",
       "499    0.390347\n",
       "Name: EMI_to_Income_Ratio, Length: 500, dtype: float64"
      ]
     },
     "execution_count": 27,
     "metadata": {},
     "output_type": "execute_result"
    }
   ],
   "source": [
    "# Display the new feature:\n",
    "df_1['EMI_to_Income_Ratio']"
   ]
  },
  {
   "cell_type": "markdown",
   "id": "fd93c67b",
   "metadata": {},
   "source": [
    "#### Collateral Coverage:\n",
    "  - Measures how well the loan is secured by the pledged collateral.\n",
    "  - High coverage = More fallback value for the lender if default happens.\n",
    "---\n",
    "  - If collateral coverage < 1 => Collateral is less than loan amount => Higher risk.\n",
    "  - If collateral coverage > 1 => Considered Safe zone, lender can recover money even on default. "
   ]
  },
  {
   "cell_type": "code",
   "execution_count": 28,
   "id": "76d745a9",
   "metadata": {},
   "outputs": [
    {
     "data": {
      "text/plain": [
       "0      1.195187\n",
       "1      1.129628\n",
       "2      1.363485\n",
       "3      0.632288\n",
       "4      0.000000\n",
       "         ...   \n",
       "495    0.000000\n",
       "496    0.000000\n",
       "497    0.000000\n",
       "498    0.719126\n",
       "499    0.000000\n",
       "Name: Collateral_Coverage, Length: 500, dtype: float64"
      ]
     },
     "execution_count": 28,
     "metadata": {},
     "output_type": "execute_result"
    }
   ],
   "source": [
    "# Collateral Coverage:\n",
    "df_1['Collateral_Coverage'] = df_1['Collateral_Value'] / df_1['Loan_Amount']\n",
    "\n",
    "# Display the feature:\n",
    "df_1['Collateral_Coverage']"
   ]
  },
  {
   "cell_type": "markdown",
   "id": "3824054a",
   "metadata": {},
   "source": [
    "#### Default Severity:\n",
    "  - A Custom metric that quantifies how bad the default is.\n",
    "  - Combines frequency and extent of delay.\n",
    "---\n",
    "  - A borrower who missed 5 payments each delayed by 60 days = 300 Severity.\n",
    "  - Useful for prioritizing which defaults to recover first.\n",
    "  - The higher the severity -> The more resource-intensive recovery needed. "
   ]
  },
  {
   "cell_type": "code",
   "execution_count": 29,
   "id": "8c7ac10a",
   "metadata": {},
   "outputs": [
    {
     "data": {
      "text/plain": [
       "0        0\n",
       "1        0\n",
       "2      248\n",
       "3       56\n",
       "4       69\n",
       "      ... \n",
       "495    338\n",
       "496    204\n",
       "497    420\n",
       "498     27\n",
       "499    116\n",
       "Name: Default_Severity, Length: 500, dtype: int64"
      ]
     },
     "execution_count": 29,
     "metadata": {},
     "output_type": "execute_result"
    }
   ],
   "source": [
    "# Default Severity:\n",
    "df_1['Default_Severity'] = df_1['Num_Missed_Payments'] * df_1['Days_Past_Due']\n",
    "\n",
    "# Display the feature:\n",
    "df_1['Default_Severity']"
   ]
  },
  {
   "cell_type": "code",
   "execution_count": 77,
   "id": "6dec4724",
   "metadata": {},
   "outputs": [
    {
     "data": {
      "text/html": [
       "<div>\n",
       "<style scoped>\n",
       "    .dataframe tbody tr th:only-of-type {\n",
       "        vertical-align: middle;\n",
       "    }\n",
       "\n",
       "    .dataframe tbody tr th {\n",
       "        vertical-align: top;\n",
       "    }\n",
       "\n",
       "    .dataframe thead th {\n",
       "        text-align: right;\n",
       "    }\n",
       "</style>\n",
       "<table border=\"1\" class=\"dataframe\">\n",
       "  <thead>\n",
       "    <tr style=\"text-align: right;\">\n",
       "      <th></th>\n",
       "      <th>Borrower_ID</th>\n",
       "      <th>Age</th>\n",
       "      <th>Gender</th>\n",
       "      <th>Employment_Type</th>\n",
       "      <th>Monthly_Income</th>\n",
       "      <th>Num_Dependents</th>\n",
       "      <th>Loan_ID</th>\n",
       "      <th>Loan_Amount</th>\n",
       "      <th>Loan_Tenure</th>\n",
       "      <th>Interest_Rate</th>\n",
       "      <th>Loan_Type</th>\n",
       "      <th>Collateral_Value</th>\n",
       "      <th>Outstanding_Loan_Amount</th>\n",
       "      <th>Monthly_EMI</th>\n",
       "      <th>Payment_History</th>\n",
       "      <th>Num_Missed_Payments</th>\n",
       "      <th>Days_Past_Due</th>\n",
       "      <th>Recovery_Status</th>\n",
       "      <th>Collection_Attempts</th>\n",
       "      <th>Collection_Method</th>\n",
       "      <th>Legal_Action_Taken</th>\n",
       "      <th>EMI_to_Income_Ratio</th>\n",
       "      <th>Collateral_Coverage</th>\n",
       "      <th>Default_Severity</th>\n",
       "    </tr>\n",
       "  </thead>\n",
       "  <tbody>\n",
       "    <tr>\n",
       "      <th>28</th>\n",
       "      <td>BRW_29</td>\n",
       "      <td>45</td>\n",
       "      <td>Female</td>\n",
       "      <td>Salaried</td>\n",
       "      <td>152348</td>\n",
       "      <td>1</td>\n",
       "      <td>LN_29</td>\n",
       "      <td>1581064</td>\n",
       "      <td>12</td>\n",
       "      <td>9.42</td>\n",
       "      <td>Home</td>\n",
       "      <td>8.903444e+05</td>\n",
       "      <td>1.155409e+06</td>\n",
       "      <td>96284.05</td>\n",
       "      <td>On-Time</td>\n",
       "      <td>2</td>\n",
       "      <td>144</td>\n",
       "      <td>Fully Recovered</td>\n",
       "      <td>2</td>\n",
       "      <td>Debt Collectors</td>\n",
       "      <td>No</td>\n",
       "      <td>0.632001</td>\n",
       "      <td>0.563130</td>\n",
       "      <td>288</td>\n",
       "    </tr>\n",
       "    <tr>\n",
       "      <th>90</th>\n",
       "      <td>BRW_91</td>\n",
       "      <td>44</td>\n",
       "      <td>Female</td>\n",
       "      <td>Salaried</td>\n",
       "      <td>21570</td>\n",
       "      <td>1</td>\n",
       "      <td>LN_91</td>\n",
       "      <td>1838380</td>\n",
       "      <td>72</td>\n",
       "      <td>9.62</td>\n",
       "      <td>Personal</td>\n",
       "      <td>0.000000e+00</td>\n",
       "      <td>1.529225e+06</td>\n",
       "      <td>21239.24</td>\n",
       "      <td>On-Time</td>\n",
       "      <td>3</td>\n",
       "      <td>94</td>\n",
       "      <td>Fully Recovered</td>\n",
       "      <td>3</td>\n",
       "      <td>Settlement Offer</td>\n",
       "      <td>No</td>\n",
       "      <td>0.984666</td>\n",
       "      <td>0.000000</td>\n",
       "      <td>282</td>\n",
       "    </tr>\n",
       "    <tr>\n",
       "      <th>104</th>\n",
       "      <td>BRW_105</td>\n",
       "      <td>61</td>\n",
       "      <td>Female</td>\n",
       "      <td>Salaried</td>\n",
       "      <td>150542</td>\n",
       "      <td>2</td>\n",
       "      <td>LN_105</td>\n",
       "      <td>1190844</td>\n",
       "      <td>12</td>\n",
       "      <td>15.14</td>\n",
       "      <td>Personal</td>\n",
       "      <td>0.000000e+00</td>\n",
       "      <td>1.015521e+06</td>\n",
       "      <td>84626.74</td>\n",
       "      <td>Delayed</td>\n",
       "      <td>3</td>\n",
       "      <td>147</td>\n",
       "      <td>Written Off</td>\n",
       "      <td>10</td>\n",
       "      <td>Legal Notice</td>\n",
       "      <td>No</td>\n",
       "      <td>0.562147</td>\n",
       "      <td>0.000000</td>\n",
       "      <td>441</td>\n",
       "    </tr>\n",
       "    <tr>\n",
       "      <th>148</th>\n",
       "      <td>BRW_149</td>\n",
       "      <td>49</td>\n",
       "      <td>Male</td>\n",
       "      <td>Salaried</td>\n",
       "      <td>20704</td>\n",
       "      <td>3</td>\n",
       "      <td>LN_149</td>\n",
       "      <td>426047</td>\n",
       "      <td>12</td>\n",
       "      <td>12.35</td>\n",
       "      <td>Personal</td>\n",
       "      <td>0.000000e+00</td>\n",
       "      <td>4.234646e+05</td>\n",
       "      <td>35288.72</td>\n",
       "      <td>Missed</td>\n",
       "      <td>12</td>\n",
       "      <td>92</td>\n",
       "      <td>Fully Recovered</td>\n",
       "      <td>2</td>\n",
       "      <td>Calls</td>\n",
       "      <td>No</td>\n",
       "      <td>1.704440</td>\n",
       "      <td>0.000000</td>\n",
       "      <td>1104</td>\n",
       "    </tr>\n",
       "    <tr>\n",
       "      <th>179</th>\n",
       "      <td>BRW_180</td>\n",
       "      <td>57</td>\n",
       "      <td>Female</td>\n",
       "      <td>Salaried</td>\n",
       "      <td>18726</td>\n",
       "      <td>0</td>\n",
       "      <td>LN_180</td>\n",
       "      <td>873759</td>\n",
       "      <td>72</td>\n",
       "      <td>5.61</td>\n",
       "      <td>Auto</td>\n",
       "      <td>8.109839e+05</td>\n",
       "      <td>7.565501e+05</td>\n",
       "      <td>10507.64</td>\n",
       "      <td>On-Time</td>\n",
       "      <td>3</td>\n",
       "      <td>145</td>\n",
       "      <td>Fully Recovered</td>\n",
       "      <td>3</td>\n",
       "      <td>Calls</td>\n",
       "      <td>No</td>\n",
       "      <td>0.561126</td>\n",
       "      <td>0.928155</td>\n",
       "      <td>435</td>\n",
       "    </tr>\n",
       "    <tr>\n",
       "      <th>349</th>\n",
       "      <td>BRW_350</td>\n",
       "      <td>62</td>\n",
       "      <td>Female</td>\n",
       "      <td>Salaried</td>\n",
       "      <td>22421</td>\n",
       "      <td>0</td>\n",
       "      <td>LN_350</td>\n",
       "      <td>1701377</td>\n",
       "      <td>12</td>\n",
       "      <td>6.07</td>\n",
       "      <td>Personal</td>\n",
       "      <td>0.000000e+00</td>\n",
       "      <td>1.372451e+06</td>\n",
       "      <td>114370.94</td>\n",
       "      <td>Delayed</td>\n",
       "      <td>2</td>\n",
       "      <td>152</td>\n",
       "      <td>Partially Recovered</td>\n",
       "      <td>9</td>\n",
       "      <td>Settlement Offer</td>\n",
       "      <td>No</td>\n",
       "      <td>5.101063</td>\n",
       "      <td>0.000000</td>\n",
       "      <td>304</td>\n",
       "    </tr>\n",
       "    <tr>\n",
       "      <th>383</th>\n",
       "      <td>BRW_384</td>\n",
       "      <td>42</td>\n",
       "      <td>Female</td>\n",
       "      <td>Business Owner</td>\n",
       "      <td>31456</td>\n",
       "      <td>3</td>\n",
       "      <td>LN_384</td>\n",
       "      <td>1464718</td>\n",
       "      <td>36</td>\n",
       "      <td>12.83</td>\n",
       "      <td>Personal</td>\n",
       "      <td>0.000000e+00</td>\n",
       "      <td>9.508604e+05</td>\n",
       "      <td>26412.79</td>\n",
       "      <td>Delayed</td>\n",
       "      <td>2</td>\n",
       "      <td>141</td>\n",
       "      <td>Partially Recovered</td>\n",
       "      <td>9</td>\n",
       "      <td>Settlement Offer</td>\n",
       "      <td>No</td>\n",
       "      <td>0.839674</td>\n",
       "      <td>0.000000</td>\n",
       "      <td>282</td>\n",
       "    </tr>\n",
       "    <tr>\n",
       "      <th>463</th>\n",
       "      <td>BRW_464</td>\n",
       "      <td>36</td>\n",
       "      <td>Female</td>\n",
       "      <td>Business Owner</td>\n",
       "      <td>24715</td>\n",
       "      <td>0</td>\n",
       "      <td>LN_464</td>\n",
       "      <td>1892360</td>\n",
       "      <td>60</td>\n",
       "      <td>10.99</td>\n",
       "      <td>Business</td>\n",
       "      <td>1.512435e+06</td>\n",
       "      <td>1.516592e+06</td>\n",
       "      <td>25276.53</td>\n",
       "      <td>Missed</td>\n",
       "      <td>4</td>\n",
       "      <td>147</td>\n",
       "      <td>Fully Recovered</td>\n",
       "      <td>2</td>\n",
       "      <td>Debt Collectors</td>\n",
       "      <td>No</td>\n",
       "      <td>1.022720</td>\n",
       "      <td>0.799232</td>\n",
       "      <td>588</td>\n",
       "    </tr>\n",
       "  </tbody>\n",
       "</table>\n",
       "</div>"
      ],
      "text/plain": [
       "    Borrower_ID  Age  Gender Employment_Type  Monthly_Income  Num_Dependents  \\\n",
       "28       BRW_29   45  Female        Salaried          152348               1   \n",
       "90       BRW_91   44  Female        Salaried           21570               1   \n",
       "104     BRW_105   61  Female        Salaried          150542               2   \n",
       "148     BRW_149   49    Male        Salaried           20704               3   \n",
       "179     BRW_180   57  Female        Salaried           18726               0   \n",
       "349     BRW_350   62  Female        Salaried           22421               0   \n",
       "383     BRW_384   42  Female  Business Owner           31456               3   \n",
       "463     BRW_464   36  Female  Business Owner           24715               0   \n",
       "\n",
       "    Loan_ID  Loan_Amount  Loan_Tenure  Interest_Rate Loan_Type  \\\n",
       "28    LN_29      1581064           12           9.42      Home   \n",
       "90    LN_91      1838380           72           9.62  Personal   \n",
       "104  LN_105      1190844           12          15.14  Personal   \n",
       "148  LN_149       426047           12          12.35  Personal   \n",
       "179  LN_180       873759           72           5.61      Auto   \n",
       "349  LN_350      1701377           12           6.07  Personal   \n",
       "383  LN_384      1464718           36          12.83  Personal   \n",
       "463  LN_464      1892360           60          10.99  Business   \n",
       "\n",
       "     Collateral_Value  Outstanding_Loan_Amount  Monthly_EMI Payment_History  \\\n",
       "28       8.903444e+05             1.155409e+06     96284.05         On-Time   \n",
       "90       0.000000e+00             1.529225e+06     21239.24         On-Time   \n",
       "104      0.000000e+00             1.015521e+06     84626.74         Delayed   \n",
       "148      0.000000e+00             4.234646e+05     35288.72          Missed   \n",
       "179      8.109839e+05             7.565501e+05     10507.64         On-Time   \n",
       "349      0.000000e+00             1.372451e+06    114370.94         Delayed   \n",
       "383      0.000000e+00             9.508604e+05     26412.79         Delayed   \n",
       "463      1.512435e+06             1.516592e+06     25276.53          Missed   \n",
       "\n",
       "     Num_Missed_Payments  Days_Past_Due      Recovery_Status  \\\n",
       "28                     2            144      Fully Recovered   \n",
       "90                     3             94      Fully Recovered   \n",
       "104                    3            147          Written Off   \n",
       "148                   12             92      Fully Recovered   \n",
       "179                    3            145      Fully Recovered   \n",
       "349                    2            152  Partially Recovered   \n",
       "383                    2            141  Partially Recovered   \n",
       "463                    4            147      Fully Recovered   \n",
       "\n",
       "     Collection_Attempts Collection_Method Legal_Action_Taken  \\\n",
       "28                     2   Debt Collectors                 No   \n",
       "90                     3  Settlement Offer                 No   \n",
       "104                   10      Legal Notice                 No   \n",
       "148                    2             Calls                 No   \n",
       "179                    3             Calls                 No   \n",
       "349                    9  Settlement Offer                 No   \n",
       "383                    9  Settlement Offer                 No   \n",
       "463                    2   Debt Collectors                 No   \n",
       "\n",
       "     EMI_to_Income_Ratio  Collateral_Coverage  Default_Severity  \n",
       "28              0.632001             0.563130               288  \n",
       "90              0.984666             0.000000               282  \n",
       "104             0.562147             0.000000               441  \n",
       "148             1.704440             0.000000              1104  \n",
       "179             0.561126             0.928155               435  \n",
       "349             5.101063             0.000000               304  \n",
       "383             0.839674             0.000000               282  \n",
       "463             1.022720             0.799232               588  "
      ]
     },
     "execution_count": 77,
     "metadata": {},
     "output_type": "execute_result"
    }
   ],
   "source": [
    "# An Example of the filtered values showing borrowers with various risk and factors:\n",
    "df_1[\n",
    "    (df_1['EMI_to_Income_Ratio'] > 0.5) &        # Moderate to high loan burden\n",
    "    (df_1['Collateral_Coverage'] < 1) &         # Collateral not enough to cover loan\n",
    "    (df_1['Default_Severity'] > 250)            # Multiple missed payments + large delays\n",
    "]"
   ]
  },
  {
   "cell_type": "markdown",
   "id": "cbf292d6",
   "metadata": {},
   "source": [
    "### Summary Insights: Borrower Risk Analysis\n",
    " - 1. EMI Burden vs Income:\n",
    "     Majority (>4/6) borrowers have a high EMI-to-Income ratio (>0.5), with one extreme case at 5.1x income (BRW_350) - extremely risky.\n",
    "     BRW_149 is in the red zone with 170% EMI burden, which practically consumes double the income.\n",
    "\n",
    " - 2. Collateral Coverage:\n",
    "     5 out of 6 borrowers have zero or insufficient collateral (Coverage < 1), weakening the lender's recovery leverage.\n",
    "     Only BRW_180 shows a near-safe collateral ratio (0.92), offering partial financial backing.\n",
    "\n",
    " - 3. Default Severity:\n",
    "     Default severity (missed payments x days past due) is consistently high, especially:\n",
    "     BRW_149: 1104 - highest risk, 12 missed payments!\n",
    "     Others hover above 250, with significant repayment delays.\n",
    "\n",
    " - 4. Recovery Outcomes:\n",
    "     Surprisingly, even with weak collateral & high EMI burden:\n",
    "     4 fully recovered, 1 partially, only 1 written off (BRW_105).\n",
    "     Points to effective collection (Debt Collectors, Calls, Settlement Offers).\n",
    "\n",
    " - However, legal actions were not initiated in most - possibly a missed lever.\n",
    " ---"
   ]
  },
  {
   "cell_type": "markdown",
   "id": "2116068f",
   "metadata": {},
   "source": [
    "# Correlation Heatmaps and VIF Scores:\n",
    " - Useful to understand features of a dataset.\n",
    " - Helps in avoiding multicollinearity between features.\n"
   ]
  },
  {
   "cell_type": "code",
   "execution_count": 78,
   "id": "17295101",
   "metadata": {},
   "outputs": [
    {
     "name": "stderr",
     "output_type": "stream",
     "text": [
      "C:\\Users\\USER\\AppData\\Local\\Temp\\ipykernel_13464\\1702087822.py:6: FutureWarning:\n",
      "\n",
      "The default value of numeric_only in DataFrame.corr is deprecated. In a future version, it will default to False. Select only valid columns or specify the value of numeric_only to silence this warning.\n",
      "\n"
     ]
    },
    {
     "data": {
      "image/png": "[encoded data removed]",
      "text/plain": [
       "<Figure size 1500x800 with 2 Axes>"
      ]
     },
     "metadata": {},
     "output_type": "display_data"
    }
   ],
   "source": [
    "# 📦 Importing necessary libraries for data visualization\n",
    "import matplotlib.pyplot as plt           # For plotting graphs\n",
    "import seaborn as sns                     # For creating attractive and informative statistical plots\n",
    "\n",
    "# 📈 Calculating the correlation matrix for numerical features in df_1\n",
    "df_1_corr = df_1.corr()                   # Computes pairwise correlation of numeric columns\n",
    "\n",
    "# 📊 Creating a heatmap to visualize correlations\n",
    "plt.figure(figsize=(15,8))              # Set the size of the entire plot (12x12 inches)\n",
    "sns.heatmap(df_1_corr,                   # Pass the correlation matrix\n",
    "            cmap='coolwarm',             # Color palette: cool = negative correlation, warm = positive\n",
    "            annot=True,                  # Display the correlation values inside the boxes\n",
    "            linewidths=0.2)              # Line thickness between boxes\n",
    "plt.show()                               # Render the heatmap"
   ]
  },
  {
   "cell_type": "markdown",
   "id": "65ac9acd",
   "metadata": {
    "vscode": {
     "languageId": "markdown"
    }
   },
   "source": [
    "### Key Insights & TakeAways:\n",
    "- High Positive Correlation:\n",
    "  - 1. Loan Amount & Outstanding Loan Amount => 0.75\n",
    "      - Naturally expected, as larger loans often have larger outstanding balances.\n",
    "  - 2. Loan Amount & Collateral Value => 0.50\n",
    "      - Higher loans tend to require more collateral, helps in risk mitigation strategies.\n",
    "  - 3. Monthly EMI & Loan Amount => 0.51\n",
    "      - Bigger loans typically lead to bigger EMI's.\n",
    "  - 4. Number of Missed Payments & Default Severity => 0.83\n",
    "      - Strongly correlated showing more missed payments can lead to greater default severity.\n",
    "  - 5. Days Past Due & Default Severity => 0.63\n",
    "      - Longer delays could possibly lead to higher rate of default.\n",
    "  - 6. Monthly EMI & EMI to Income Ratio => 0.63\n",
    "      - Higher EMI's relative to income stresses the borrower's repayment capacity.\n",
    "- High Negative Correlation:\n",
    "  - Monthly Income & EMI to Income Ratio => -0.37\n",
    "      - As expected, higher income reduces the EMI burden ratio.\n",
    "  - Loan Tenure & Monthly EMI => -0.49\n",
    "      - Longer tenures reduces monthly EMI."
   ]
  },
  {
   "cell_type": "markdown",
   "id": "19d24225",
   "metadata": {},
   "source": [
    "# K-Means Clustering for creating Borrower Segments:"
   ]
  },
  {
   "cell_type": "code",
   "execution_count": 30,
   "id": "0605e75d",
   "metadata": {},
   "outputs": [],
   "source": [
    "# Importing essential libraries:\n",
    "import pandas as pd                      # For data manipulation and analysis\n",
    "import numpy as np                       # For numerical operations and array handling\n",
    "from sklearn.model_selection import train_test_split  # To split data into training and testing sets\n",
    "from sklearn.preprocessing import StandardScaler      # For standardizing features (zero mean, unit variance)\n",
    "\n",
    "# Splitting the dataset into training and testing sets:\n",
    "train_data, test_data = train_test_split(\n",
    "    df_1,                 # The full preprocessed dataset\n",
    "    test_size=0.3,        # Reserve 30% of data for testing, 70% for training\n",
    "    random_state=42       # Ensures reproducibility of the split (consistent results each run)\n",
    ")"
   ]
  },
  {
   "cell_type": "markdown",
   "id": "12b329eb",
   "metadata": {},
   "source": [
    "#### Scale Features:"
   ]
  },
  {
   "cell_type": "code",
   "execution_count": 31,
   "id": "8deb27b6",
   "metadata": {},
   "outputs": [],
   "source": [
    "# Import StandardScaler for feature normalization:\n",
    "from sklearn.preprocessing import StandardScaler\n",
    "\n",
    "# Define the list of features to scale for clustering or model input:\n",
    "cluster_features = [\n",
    "    'Age', 'Monthly_Income', 'Num_Dependents', 'Loan_Amount', 'Loan_Tenure',\n",
    "    'Interest_Rate', 'Collateral_Value', 'Outstanding_Loan_Amount',\n",
    "    'Monthly_EMI', 'Num_Missed_Payments', 'Days_Past_Due',\n",
    "    'EMI_to_Income_Ratio', 'Collateral_Coverage', 'Default_Severity'\n",
    "]\n",
    "\n",
    "# Initialize the StandardScaler:\n",
    "scaler = StandardScaler()\n",
    "\n",
    "# Fit the scaler on training data and transform it:\n",
    "train_scaled = scaler.fit_transform(train_data[cluster_features])"
   ]
  },
  {
   "cell_type": "markdown",
   "id": "48baed04",
   "metadata": {},
   "source": [
    "#### Apply K-Means for Clustering:"
   ]
  },
  {
   "cell_type": "code",
   "execution_count": 32,
   "id": "f34c48a6",
   "metadata": {},
   "outputs": [],
   "source": [
    "# Apply KMeans only on Train Data:\n",
    "from sklearn.cluster import KMeans\n",
    "# Initialize the KMeans clustering model:\n",
    "kmeans = KMeans(n_clusters=4,                # Number of clusters to form (based on domain knowledge)\n",
    "                random_state=42,             # Ensures reproducible clustering results\n",
    "                n_init=10)                   # Number of time the algorithm will be run with different centroid seeds\n",
    "\n",
    "# Fit the model on scaled training features and assign cluster labels:\n",
    "train_data['Borrower_Segment'] = kmeans.fit_predict(train_scaled)"
   ]
  },
  {
   "cell_type": "code",
   "execution_count": 33,
   "id": "43d6b011",
   "metadata": {},
   "outputs": [],
   "source": [
    "# Scale the test data using the same scaler fitted on training data:\n",
    "test_scaled = scaler.transform(test_data[cluster_features])\n",
    "\n",
    "# Predict the cluster labels (segments) for the test data:\n",
    "# It assigns each test data point to the nearest cluster centroid found during training\n",
    "test_data['Borrower_Segment'] = kmeans.predict(test_scaled)"
   ]
  },
  {
   "cell_type": "markdown",
   "id": "2deeaabc",
   "metadata": {},
   "source": [
    "#### Using Average Groupby Function to assist with Segment Names:"
   ]
  },
  {
   "cell_type": "code",
   "execution_count": null,
   "id": "a7e99bf8",
   "metadata": {},
   "outputs": [
    {
     "name": "stdout",
     "output_type": "stream",
     "text": [
      "                    Age  Monthly_Income  Num_Dependents  Loan_Amount  \\\n",
      "Borrower_Segment                                                       \n",
      "0                 39.42       148914.85            1.88   1174268.92   \n",
      "1                 45.89       119740.81            1.33   1630724.30   \n",
      "2                 41.02       136662.52            1.42    817683.60   \n",
      "3                 45.38       140149.49            1.38    966383.25   \n",
      "\n",
      "                  Loan_Tenure  Interest_Rate  Collateral_Value  \\\n",
      "Borrower_Segment                                                 \n",
      "0                       45.69          10.20         778879.66   \n",
      "1                       33.33          10.34        1505491.09   \n",
      "2                       46.00          11.51         840583.06   \n",
      "3                       50.17          10.86          28655.12   \n",
      "\n",
      "                  Outstanding_Loan_Amount  Monthly_EMI  Num_Missed_Payments  \\\n",
      "Borrower_Segment                                                              \n",
      "0                               740440.49     18463.45                 7.50   \n",
      "1                              1231878.28     46724.19                 2.00   \n",
      "2                               308397.96      7637.29                 1.49   \n",
      "3                               512289.76     11321.50                 1.19   \n",
      "\n",
      "                  Days_Past_Due  EMI_to_Income_Ratio  Collateral_Coverage  \\\n",
      "Borrower_Segment                                                            \n",
      "0                        119.85                 0.15                 0.65   \n",
      "1                         76.26                 0.64                 0.93   \n",
      "2                         70.14                 0.08                 1.03   \n",
      "3                         59.34                 0.12                 0.02   \n",
      "\n",
      "                  Default_Severity  \n",
      "Borrower_Segment                    \n",
      "0                           790.69  \n",
      "1                           175.72  \n",
      "2                           136.20  \n",
      "3                           103.13  \n"
     ]
    },
    {
     "name": "stderr",
     "output_type": "stream",
     "text": [
      "C:\\Users\\USER\\AppData\\Local\\Temp\\ipykernel_13464\\2668255413.py:2: FutureWarning:\n",
      "\n",
      "Indexing with multiple keys (implicitly converted to a tuple of keys) will be deprecated, use a list instead.\n",
      "\n"
     ]
    }
   ],
   "source": [
    "# Analyze cluster characteristics to assign meaningful labels (segment names):\n",
    "\n",
    "# Group training data by the assigned 'Borrower_Segment'\n",
    "segmented = train_data.groupby('Borrower_Segment')['Age', 'Monthly_Income', 'Num_Dependents', 'Loan_Amount', 'Loan_Tenure',\n",
    "    'Interest_Rate', 'Collateral_Value', 'Outstanding_Loan_Amount',\n",
    "    'Monthly_EMI', 'Num_Missed_Payments', 'Days_Past_Due',\n",
    "    'EMI_to_Income_Ratio', 'Collateral_Coverage', 'Default_Severity'].mean().round(2)\n",
    "\n",
    "# View the segment summary: Each row = one segment, each column = average feature value\n",
    "print(segmented)"
   ]
  },
  {
   "cell_type": "code",
   "execution_count": 34,
   "id": "fb16e11f",
   "metadata": {},
   "outputs": [],
   "source": [
    "# Define a mapping from numerical cluster labels to human-readable segment names:\n",
    "segment_mapping = {\n",
    "    0: 'Moderate Income, High Loan Burden',\n",
    "    1: 'High Income, Low Default Risk',\n",
    "    2: 'Moderate Income, Medium Risk',\n",
    "    3: 'High Loan, Higher Default Risk'\n",
    "}\n",
    "\n",
    "# Apply the segment mapping to both Train and Test datasets:\n",
    "train_data['Segment_Name'] = train_data['Borrower_Segment'].map(segment_mapping)\n",
    "test_data['Segment_Name'] = test_data['Borrower_Segment'].map(segment_mapping)"
   ]
  },
  {
   "cell_type": "markdown",
   "id": "c98b905d",
   "metadata": {},
   "source": [
    "### Building an Early Detection System for Loan Defaults based on the Risk Scores (High Risk Flag)"
   ]
  },
  {
   "cell_type": "code",
   "execution_count": 35,
   "id": "725d765c",
   "metadata": {},
   "outputs": [],
   "source": [
    "# Creating High Risk Scores Target:\n",
    "train_data['High_Risk_Flag'] = train_data['Segment_Name'].apply(lambda x: 1 if x in ['High Loan, Higher Default Risk', 'Moderate Income, High Loan Burden'] else 0)\n",
    "test_data['High_Risk_Flag'] = test_data['Segment_Name'].apply(lambda x: 1 if x in ['High Loan, Higher Default Risk', 'Moderate Income, High Loan Burden'] else 0)"
   ]
  },
  {
   "cell_type": "markdown",
   "id": "5ecbb730",
   "metadata": {},
   "source": [
    "### Model Building Stage: Training the Model"
   ]
  },
  {
   "cell_type": "code",
   "execution_count": 36,
   "id": "e882026c",
   "metadata": {},
   "outputs": [
    {
     "data": {
      "text/html": [
       "<style>#sk-container-id-1 {\n",
       "  /* Definition of color scheme common for light and dark mode */\n",
       "  --sklearn-color-text: #000;\n",
       "  --sklearn-color-text-muted: #666;\n",
       "  --sklearn-color-line: gray;\n",
       "  /* Definition of color scheme for unfitted estimators */\n",
       "  --sklearn-color-unfitted-level-0: #fff5e6;\n",
       "  --sklearn-color-unfitted-level-1: #f6e4d2;\n",
       "  --sklearn-color-unfitted-level-2: #ffe0b3;\n",
       "  --sklearn-color-unfitted-level-3: chocolate;\n",
       "  /* Definition of color scheme for fitted estimators */\n",
       "  --sklearn-color-fitted-level-0: #f0f8ff;\n",
       "  --sklearn-color-fitted-level-1: #d4ebff;\n",
       "  --sklearn-color-fitted-level-2: #b3dbfd;\n",
       "  --sklearn-color-fitted-level-3: cornflowerblue;\n",
       "\n",
       "  /* Specific color for light theme */\n",
       "  --sklearn-color-text-on-default-background: var(--sg-text-color, var(--theme-code-foreground, var(--jp-content-font-color1, black)));\n",
       "  --sklearn-color-background: var(--sg-background-color, var(--theme-background, var(--jp-layout-color0, white)));\n",
       "  --sklearn-color-border-box: var(--sg-text-color, var(--theme-code-foreground, var(--jp-content-font-color1, black)));\n",
       "  --sklearn-color-icon: #696969;\n",
       "\n",
       "  @media (prefers-color-scheme: dark) {\n",
       "    /* Redefinition of color scheme for dark theme */\n",
       "    --sklearn-color-text-on-default-background: var(--sg-text-color, var(--theme-code-foreground, var(--jp-content-font-color1, white)));\n",
       "    --sklearn-color-background: var(--sg-background-color, var(--theme-background, var(--jp-layout-color0, #111)));\n",
       "    --sklearn-color-border-box: var(--sg-text-color, var(--theme-code-foreground, var(--jp-content-font-color1, white)));\n",
       "    --sklearn-color-icon: #878787;\n",
       "  }\n",
       "}\n",
       "\n",
       "#sk-container-id-1 {\n",
       "  color: var(--sklearn-color-text);\n",
       "}\n",
       "\n",
       "#sk-container-id-1 pre {\n",
       "  padding: 0;\n",
       "}\n",
       "\n",
       "#sk-container-id-1 input.sk-hidden--visually {\n",
       "  border: 0;\n",
       "  clip: rect(1px 1px 1px 1px);\n",
       "  clip: rect(1px, 1px, 1px, 1px);\n",
       "  height: 1px;\n",
       "  margin: -1px;\n",
       "  overflow: hidden;\n",
       "  padding: 0;\n",
       "  position: absolute;\n",
       "  width: 1px;\n",
       "}\n",
       "\n",
       "#sk-container-id-1 div.sk-dashed-wrapped {\n",
       "  border: 1px dashed var(--sklearn-color-line);\n",
       "  margin: 0 0.4em 0.5em 0.4em;\n",
       "  box-sizing: border-box;\n",
       "  padding-bottom: 0.4em;\n",
       "  background-color: var(--sklearn-color-background);\n",
       "}\n",
       "\n",
       "#sk-container-id-1 div.sk-container {\n",
       "  /* jupyter's `normalize.less` sets `[hidden] { display: none; }`\n",
       "     but bootstrap.min.css set `[hidden] { display: none !important; }`\n",
       "     so we also need the `!important` here to be able to override the\n",
       "     default hidden behavior on the sphinx rendered scikit-learn.org.\n",
       "     See: https://github.com/scikit-learn/scikit-learn/issues/21755 */\n",
       "  display: inline-block !important;\n",
       "  position: relative;\n",
       "}\n",
       "\n",
       "#sk-container-id-1 div.sk-text-repr-fallback {\n",
       "  display: none;\n",
       "}\n",
       "\n",
       "div.sk-parallel-item,\n",
       "div.sk-serial,\n",
       "div.sk-item {\n",
       "  /* draw centered vertical line to link estimators */\n",
       "  background-image: linear-gradient(var(--sklearn-color-text-on-default-background), var(--sklearn-color-text-on-default-background));\n",
       "  background-size: 2px 100%;\n",
       "  background-repeat: no-repeat;\n",
       "  background-position: center center;\n",
       "}\n",
       "\n",
       "/* Parallel-specific style estimator block */\n",
       "\n",
       "#sk-container-id-1 div.sk-parallel-item::after {\n",
       "  content: \"\";\n",
       "  width: 100%;\n",
       "  border-bottom: 2px solid var(--sklearn-color-text-on-default-background);\n",
       "  flex-grow: 1;\n",
       "}\n",
       "\n",
       "#sk-container-id-1 div.sk-parallel {\n",
       "  display: flex;\n",
       "  align-items: stretch;\n",
       "  justify-content: center;\n",
       "  background-color: var(--sklearn-color-background);\n",
       "  position: relative;\n",
       "}\n",
       "\n",
       "#sk-container-id-1 div.sk-parallel-item {\n",
       "  display: flex;\n",
       "  flex-direction: column;\n",
       "}\n",
       "\n",
       "#sk-container-id-1 div.sk-parallel-item:first-child::after {\n",
       "  align-self: flex-end;\n",
       "  width: 50%;\n",
       "}\n",
       "\n",
       "#sk-container-id-1 div.sk-parallel-item:last-child::after {\n",
       "  align-self: flex-start;\n",
       "  width: 50%;\n",
       "}\n",
       "\n",
       "#sk-container-id-1 div.sk-parallel-item:only-child::after {\n",
       "  width: 0;\n",
       "}\n",
       "\n",
       "/* Serial-specific style estimator block */\n",
       "\n",
       "#sk-container-id-1 div.sk-serial {\n",
       "  display: flex;\n",
       "  flex-direction: column;\n",
       "  align-items: center;\n",
       "  background-color: var(--sklearn-color-background);\n",
       "  padding-right: 1em;\n",
       "  padding-left: 1em;\n",
       "}\n",
       "\n",
       "\n",
       "/* Toggleable style: style used for estimator/Pipeline/ColumnTransformer box that is\n",
       "clickable and can be expanded/collapsed.\n",
       "- Pipeline and ColumnTransformer use this feature and define the default style\n",
       "- Estimators will overwrite some part of the style using the `sk-estimator` class\n",
       "*/\n",
       "\n",
       "/* Pipeline and ColumnTransformer style (default) */\n",
       "\n",
       "#sk-container-id-1 div.sk-toggleable {\n",
       "  /* Default theme specific background. It is overwritten whether we have a\n",
       "  specific estimator or a Pipeline/ColumnTransformer */\n",
       "  background-color: var(--sklearn-color-background);\n",
       "}\n",
       "\n",
       "/* Toggleable label */\n",
       "#sk-container-id-1 label.sk-toggleable__label {\n",
       "  cursor: pointer;\n",
       "  display: flex;\n",
       "  width: 100%;\n",
       "  margin-bottom: 0;\n",
       "  padding: 0.5em;\n",
       "  box-sizing: border-box;\n",
       "  text-align: center;\n",
       "  align-items: start;\n",
       "  justify-content: space-between;\n",
       "  gap: 0.5em;\n",
       "}\n",
       "\n",
       "#sk-container-id-1 label.sk-toggleable__label .caption {\n",
       "  font-size: 0.6rem;\n",
       "  font-weight: lighter;\n",
       "  color: var(--sklearn-color-text-muted);\n",
       "}\n",
       "\n",
       "#sk-container-id-1 label.sk-toggleable__label-arrow:before {\n",
       "  /* Arrow on the left of the label */\n",
       "  content: \"▸\";\n",
       "  float: left;\n",
       "  margin-right: 0.25em;\n",
       "  color: var(--sklearn-color-icon);\n",
       "}\n",
       "\n",
       "#sk-container-id-1 label.sk-toggleable__label-arrow:hover:before {\n",
       "  color: var(--sklearn-color-text);\n",
       "}\n",
       "\n",
       "/* Toggleable content - dropdown */\n",
       "\n",
       "#sk-container-id-1 div.sk-toggleable__content {\n",
       "  display: none;\n",
       "  text-align: left;\n",
       "  /* unfitted */\n",
       "  background-color: var(--sklearn-color-unfitted-level-0);\n",
       "}\n",
       "\n",
       "#sk-container-id-1 div.sk-toggleable__content.fitted {\n",
       "  /* fitted */\n",
       "  background-color: var(--sklearn-color-fitted-level-0);\n",
       "}\n",
       "\n",
       "#sk-container-id-1 div.sk-toggleable__content pre {\n",
       "  margin: 0.2em;\n",
       "  border-radius: 0.25em;\n",
       "  color: var(--sklearn-color-text);\n",
       "  /* unfitted */\n",
       "  background-color: var(--sklearn-color-unfitted-level-0);\n",
       "}\n",
       "\n",
       "#sk-container-id-1 div.sk-toggleable__content.fitted pre {\n",
       "  /* unfitted */\n",
       "  background-color: var(--sklearn-color-fitted-level-0);\n",
       "}\n",
       "\n",
       "#sk-container-id-1 input.sk-toggleable__control:checked~div.sk-toggleable__content {\n",
       "  /* Expand drop-down */\n",
       "  display: block;\n",
       "  width: 100%;\n",
       "  overflow: visible;\n",
       "}\n",
       "\n",
       "#sk-container-id-1 input.sk-toggleable__control:checked~label.sk-toggleable__label-arrow:before {\n",
       "  content: \"▾\";\n",
       "}\n",
       "\n",
       "/* Pipeline/ColumnTransformer-specific style */\n",
       "\n",
       "#sk-container-id-1 div.sk-label input.sk-toggleable__control:checked~label.sk-toggleable__label {\n",
       "  color: var(--sklearn-color-text);\n",
       "  background-color: var(--sklearn-color-unfitted-level-2);\n",
       "}\n",
       "\n",
       "#sk-container-id-1 div.sk-label.fitted input.sk-toggleable__control:checked~label.sk-toggleable__label {\n",
       "  background-color: var(--sklearn-color-fitted-level-2);\n",
       "}\n",
       "\n",
       "/* Estimator-specific style */\n",
       "\n",
       "/* Colorize estimator box */\n",
       "#sk-container-id-1 div.sk-estimator input.sk-toggleable__control:checked~label.sk-toggleable__label {\n",
       "  /* unfitted */\n",
       "  background-color: var(--sklearn-color-unfitted-level-2);\n",
       "}\n",
       "\n",
       "#sk-container-id-1 div.sk-estimator.fitted input.sk-toggleable__control:checked~label.sk-toggleable__label {\n",
       "  /* fitted */\n",
       "  background-color: var(--sklearn-color-fitted-level-2);\n",
       "}\n",
       "\n",
       "#sk-container-id-1 div.sk-label label.sk-toggleable__label,\n",
       "#sk-container-id-1 div.sk-label label {\n",
       "  /* The background is the default theme color */\n",
       "  color: var(--sklearn-color-text-on-default-background);\n",
       "}\n",
       "\n",
       "/* On hover, darken the color of the background */\n",
       "#sk-container-id-1 div.sk-label:hover label.sk-toggleable__label {\n",
       "  color: var(--sklearn-color-text);\n",
       "  background-color: var(--sklearn-color-unfitted-level-2);\n",
       "}\n",
       "\n",
       "/* Label box, darken color on hover, fitted */\n",
       "#sk-container-id-1 div.sk-label.fitted:hover label.sk-toggleable__label.fitted {\n",
       "  color: var(--sklearn-color-text);\n",
       "  background-color: var(--sklearn-color-fitted-level-2);\n",
       "}\n",
       "\n",
       "/* Estimator label */\n",
       "\n",
       "#sk-container-id-1 div.sk-label label {\n",
       "  font-family: monospace;\n",
       "  font-weight: bold;\n",
       "  display: inline-block;\n",
       "  line-height: 1.2em;\n",
       "}\n",
       "\n",
       "#sk-container-id-1 div.sk-label-container {\n",
       "  text-align: center;\n",
       "}\n",
       "\n",
       "/* Estimator-specific */\n",
       "#sk-container-id-1 div.sk-estimator {\n",
       "  font-family: monospace;\n",
       "  border: 1px dotted var(--sklearn-color-border-box);\n",
       "  border-radius: 0.25em;\n",
       "  box-sizing: border-box;\n",
       "  margin-bottom: 0.5em;\n",
       "  /* unfitted */\n",
       "  background-color: var(--sklearn-color-unfitted-level-0);\n",
       "}\n",
       "\n",
       "#sk-container-id-1 div.sk-estimator.fitted {\n",
       "  /* fitted */\n",
       "  background-color: var(--sklearn-color-fitted-level-0);\n",
       "}\n",
       "\n",
       "/* on hover */\n",
       "#sk-container-id-1 div.sk-estimator:hover {\n",
       "  /* unfitted */\n",
       "  background-color: var(--sklearn-color-unfitted-level-2);\n",
       "}\n",
       "\n",
       "#sk-container-id-1 div.sk-estimator.fitted:hover {\n",
       "  /* fitted */\n",
       "  background-color: var(--sklearn-color-fitted-level-2);\n",
       "}\n",
       "\n",
       "/* Specification for estimator info (e.g. \"i\" and \"?\") */\n",
       "\n",
       "/* Common style for \"i\" and \"?\" */\n",
       "\n",
       ".sk-estimator-doc-link,\n",
       "a:link.sk-estimator-doc-link,\n",
       "a:visited.sk-estimator-doc-link {\n",
       "  float: right;\n",
       "  font-size: smaller;\n",
       "  line-height: 1em;\n",
       "  font-family: monospace;\n",
       "  background-color: var(--sklearn-color-background);\n",
       "  border-radius: 1em;\n",
       "  height: 1em;\n",
       "  width: 1em;\n",
       "  text-decoration: none !important;\n",
       "  margin-left: 0.5em;\n",
       "  text-align: center;\n",
       "  /* unfitted */\n",
       "  border: var(--sklearn-color-unfitted-level-1) 1pt solid;\n",
       "  color: var(--sklearn-color-unfitted-level-1);\n",
       "}\n",
       "\n",
       ".sk-estimator-doc-link.fitted,\n",
       "a:link.sk-estimator-doc-link.fitted,\n",
       "a:visited.sk-estimator-doc-link.fitted {\n",
       "  /* fitted */\n",
       "  border: var(--sklearn-color-fitted-level-1) 1pt solid;\n",
       "  color: var(--sklearn-color-fitted-level-1);\n",
       "}\n",
       "\n",
       "/* On hover */\n",
       "div.sk-estimator:hover .sk-estimator-doc-link:hover,\n",
       ".sk-estimator-doc-link:hover,\n",
       "div.sk-label-container:hover .sk-estimator-doc-link:hover,\n",
       ".sk-estimator-doc-link:hover {\n",
       "  /* unfitted */\n",
       "  background-color: var(--sklearn-color-unfitted-level-3);\n",
       "  color: var(--sklearn-color-background);\n",
       "  text-decoration: none;\n",
       "}\n",
       "\n",
       "div.sk-estimator.fitted:hover .sk-estimator-doc-link.fitted:hover,\n",
       ".sk-estimator-doc-link.fitted:hover,\n",
       "div.sk-label-container:hover .sk-estimator-doc-link.fitted:hover,\n",
       ".sk-estimator-doc-link.fitted:hover {\n",
       "  /* fitted */\n",
       "  background-color: var(--sklearn-color-fitted-level-3);\n",
       "  color: var(--sklearn-color-background);\n",
       "  text-decoration: none;\n",
       "}\n",
       "\n",
       "/* Span, style for the box shown on hovering the info icon */\n",
       ".sk-estimator-doc-link span {\n",
       "  display: none;\n",
       "  z-index: 9999;\n",
       "  position: relative;\n",
       "  font-weight: normal;\n",
       "  right: .2ex;\n",
       "  padding: .5ex;\n",
       "  margin: .5ex;\n",
       "  width: min-content;\n",
       "  min-width: 20ex;\n",
       "  max-width: 50ex;\n",
       "  color: var(--sklearn-color-text);\n",
       "  box-shadow: 2pt 2pt 4pt #999;\n",
       "  /* unfitted */\n",
       "  background: var(--sklearn-color-unfitted-level-0);\n",
       "  border: .5pt solid var(--sklearn-color-unfitted-level-3);\n",
       "}\n",
       "\n",
       ".sk-estimator-doc-link.fitted span {\n",
       "  /* fitted */\n",
       "  background: var(--sklearn-color-fitted-level-0);\n",
       "  border: var(--sklearn-color-fitted-level-3);\n",
       "}\n",
       "\n",
       ".sk-estimator-doc-link:hover span {\n",
       "  display: block;\n",
       "}\n",
       "\n",
       "/* \"?\"-specific style due to the `<a>` HTML tag */\n",
       "\n",
       "#sk-container-id-1 a.estimator_doc_link {\n",
       "  float: right;\n",
       "  font-size: 1rem;\n",
       "  line-height: 1em;\n",
       "  font-family: monospace;\n",
       "  background-color: var(--sklearn-color-background);\n",
       "  border-radius: 1rem;\n",
       "  height: 1rem;\n",
       "  width: 1rem;\n",
       "  text-decoration: none;\n",
       "  /* unfitted */\n",
       "  color: var(--sklearn-color-unfitted-level-1);\n",
       "  border: var(--sklearn-color-unfitted-level-1) 1pt solid;\n",
       "}\n",
       "\n",
       "#sk-container-id-1 a.estimator_doc_link.fitted {\n",
       "  /* fitted */\n",
       "  border: var(--sklearn-color-fitted-level-1) 1pt solid;\n",
       "  color: var(--sklearn-color-fitted-level-1);\n",
       "}\n",
       "\n",
       "/* On hover */\n",
       "#sk-container-id-1 a.estimator_doc_link:hover {\n",
       "  /* unfitted */\n",
       "  background-color: var(--sklearn-color-unfitted-level-3);\n",
       "  color: var(--sklearn-color-background);\n",
       "  text-decoration: none;\n",
       "}\n",
       "\n",
       "#sk-container-id-1 a.estimator_doc_link.fitted:hover {\n",
       "  /* fitted */\n",
       "  background-color: var(--sklearn-color-fitted-level-3);\n",
       "}\n",
       "\n",
       ".estimator-table summary {\n",
       "    padding: .5rem;\n",
       "    font-family: monospace;\n",
       "    cursor: pointer;\n",
       "}\n",
       "\n",
       ".estimator-table details[open] {\n",
       "    padding-left: 0.1rem;\n",
       "    padding-right: 0.1rem;\n",
       "    padding-bottom: 0.3rem;\n",
       "}\n",
       "\n",
       ".estimator-table .parameters-table {\n",
       "    margin-left: auto !important;\n",
       "    margin-right: auto !important;\n",
       "}\n",
       "\n",
       ".estimator-table .parameters-table tr:nth-child(odd) {\n",
       "    background-color: #fff;\n",
       "}\n",
       "\n",
       ".estimator-table .parameters-table tr:nth-child(even) {\n",
       "    background-color: #f6f6f6;\n",
       "}\n",
       "\n",
       ".estimator-table .parameters-table tr:hover {\n",
       "    background-color: #e0e0e0;\n",
       "}\n",
       "\n",
       ".estimator-table table td {\n",
       "    border: 1px solid rgba(106, 105, 104, 0.232);\n",
       "}\n",
       "\n",
       ".user-set td {\n",
       "    color:rgb(255, 94, 0);\n",
       "    text-align: left;\n",
       "}\n",
       "\n",
       ".user-set td.value pre {\n",
       "    color:rgb(255, 94, 0) !important;\n",
       "    background-color: transparent !important;\n",
       "}\n",
       "\n",
       ".default td {\n",
       "    color: black;\n",
       "    text-align: left;\n",
       "}\n",
       "\n",
       ".user-set td i,\n",
       ".default td i {\n",
       "    color: black;\n",
       "}\n",
       "\n",
       ".copy-paste-icon {\n",
       "    background-image: url(data:image/svg+xml;base64,PHN2ZyB4bWxucz0iaHR0cDovL3d3dy53My5vcmcvMjAwMC9zdmciIHZpZXdCb3g9IjAgMCA0NDggNTEyIj48IS0tIUZvbnQgQXdlc29tZSBGcmVlIDYuNy4yIGJ5IEBmb250YXdlc29tZSAtIGh0dHBzOi8vZm9udGF3ZXNvbWUuY29tIExpY2Vuc2UgLSBodHRwczovL2ZvbnRhd2Vzb21lLmNvbS9saWNlbnNlL2ZyZWUgQ29weXJpZ2h0IDIwMjUgRm9udGljb25zLCBJbmMuLS0+PHBhdGggZD0iTTIwOCAwTDMzMi4xIDBjMTIuNyAwIDI0LjkgNS4xIDMzLjkgMTQuMWw2Ny45IDY3LjljOSA5IDE0LjEgMjEuMiAxNC4xIDMzLjlMNDQ4IDMzNmMwIDI2LjUtMjEuNSA0OC00OCA0OGwtMTkyIDBjLTI2LjUgMC00OC0yMS41LTQ4LTQ4bDAtMjg4YzAtMjYuNSAyMS41LTQ4IDQ4LTQ4ek00OCAxMjhsODAgMCAwIDY0LTY0IDAgMCAyNTYgMTkyIDAgMC0zMiA2NCAwIDAgNDhjMCAyNi41LTIxLjUgNDgtNDggNDhMNDggNTEyYy0yNi41IDAtNDgtMjEuNS00OC00OEwwIDE3NmMwLTI2LjUgMjEuNS00OCA0OC00OHoiLz48L3N2Zz4=);\n",
       "    background-repeat: no-repeat;\n",
       "    background-size: 14px 14px;\n",
       "    background-position: 0;\n",
       "    display: inline-block;\n",
       "    width: 14px;\n",
       "    height: 14px;\n",
       "    cursor: pointer;\n",
       "}\n",
       "</style><body><div id=\"sk-container-id-1\" class=\"sk-top-container\"><div class=\"sk-text-repr-fallback\"><pre>XGBClassifier(base_score=None, booster=None, callbacks=None,\n",
       "              colsample_bylevel=None, colsample_bynode=None,\n",
       "              colsample_bytree=None, device=None, early_stopping_rounds=None,\n",
       "              enable_categorical=False, eval_metric=&#x27;logloss&#x27;,\n",
       "              feature_types=None, feature_weights=None, gamma=None,\n",
       "              grow_policy=None, importance_type=None,\n",
       "              interaction_constraints=None, learning_rate=None, max_bin=None,\n",
       "              max_cat_threshold=None, max_cat_to_onehot=None,\n",
       "              max_delta_step=None, max_depth=None, max_leaves=None,\n",
       "              min_child_weight=None, missing=nan, monotone_constraints=None,\n",
       "              multi_strategy=None, n_estimators=None, n_jobs=None,\n",
       "              num_parallel_tree=None, ...)</pre><b>In a Jupyter environment, please rerun this cell to show the HTML representation or trust the notebook. <br />On GitHub, the HTML representation is unable to render, please try loading this page with nbviewer.org.</b></div><div class=\"sk-container\" hidden><div class=\"sk-item\"><div class=\"sk-estimator fitted sk-toggleable\"><input class=\"sk-toggleable__control sk-hidden--visually\" id=\"sk-estimator-id-1\" type=\"checkbox\" checked><label for=\"sk-estimator-id-1\" class=\"sk-toggleable__label fitted sk-toggleable__label-arrow\"><div><div>XGBClassifier</div></div><div><a class=\"sk-estimator-doc-link fitted\" rel=\"noreferrer\" target=\"_blank\" href=\"https://xgboost.readthedocs.io/en/release_3.0.0/python/python_api.html#xgboost.XGBClassifier\">?<span>Documentation for XGBClassifier</span></a><span class=\"sk-estimator-doc-link fitted\">i<span>Fitted</span></span></div></label><div class=\"sk-toggleable__content fitted\" data-param-prefix=\"\">\n",
       "        <div class=\"estimator-table\">\n",
       "            <details>\n",
       "                <summary>Parameters</summary>\n",
       "                <table class=\"parameters-table\">\n",
       "                  <tbody>\n",
       "                    \n",
       "        <tr class=\"default\">\n",
       "            <td><i class=\"copy-paste-icon\"\n",
       "                 onclick=\"copyToClipboard('objective',\n",
       "                          this.parentElement.nextElementSibling)\"\n",
       "            ></i></td>\n",
       "            <td class=\"param\">objective&nbsp;</td>\n",
       "            <td class=\"value\">&#x27;binary:logistic&#x27;</td>\n",
       "        </tr>\n",
       "    \n",
       "\n",
       "        <tr class=\"user-set\">\n",
       "            <td><i class=\"copy-paste-icon\"\n",
       "                 onclick=\"copyToClipboard('base_score',\n",
       "                          this.parentElement.nextElementSibling)\"\n",
       "            ></i></td>\n",
       "            <td class=\"param\">base_score&nbsp;</td>\n",
       "            <td class=\"value\">None</td>\n",
       "        </tr>\n",
       "    \n",
       "\n",
       "        <tr class=\"user-set\">\n",
       "            <td><i class=\"copy-paste-icon\"\n",
       "                 onclick=\"copyToClipboard('booster',\n",
       "                          this.parentElement.nextElementSibling)\"\n",
       "            ></i></td>\n",
       "            <td class=\"param\">booster&nbsp;</td>\n",
       "            <td class=\"value\">None</td>\n",
       "        </tr>\n",
       "    \n",
       "\n",
       "        <tr class=\"user-set\">\n",
       "            <td><i class=\"copy-paste-icon\"\n",
       "                 onclick=\"copyToClipboard('callbacks',\n",
       "                          this.parentElement.nextElementSibling)\"\n",
       "            ></i></td>\n",
       "            <td class=\"param\">callbacks&nbsp;</td>\n",
       "            <td class=\"value\">None</td>\n",
       "        </tr>\n",
       "    \n",
       "\n",
       "        <tr class=\"user-set\">\n",
       "            <td><i class=\"copy-paste-icon\"\n",
       "                 onclick=\"copyToClipboard('colsample_bylevel',\n",
       "                          this.parentElement.nextElementSibling)\"\n",
       "            ></i></td>\n",
       "            <td class=\"param\">colsample_bylevel&nbsp;</td>\n",
       "            <td class=\"value\">None</td>\n",
       "        </tr>\n",
       "    \n",
       "\n",
       "        <tr class=\"user-set\">\n",
       "            <td><i class=\"copy-paste-icon\"\n",
       "                 onclick=\"copyToClipboard('colsample_bynode',\n",
       "                          this.parentElement.nextElementSibling)\"\n",
       "            ></i></td>\n",
       "            <td class=\"param\">colsample_bynode&nbsp;</td>\n",
       "            <td class=\"value\">None</td>\n",
       "        </tr>\n",
       "    \n",
       "\n",
       "        <tr class=\"user-set\">\n",
       "            <td><i class=\"copy-paste-icon\"\n",
       "                 onclick=\"copyToClipboard('colsample_bytree',\n",
       "                          this.parentElement.nextElementSibling)\"\n",
       "            ></i></td>\n",
       "            <td class=\"param\">colsample_bytree&nbsp;</td>\n",
       "            <td class=\"value\">None</td>\n",
       "        </tr>\n",
       "    \n",
       "\n",
       "        <tr class=\"user-set\">\n",
       "            <td><i class=\"copy-paste-icon\"\n",
       "                 onclick=\"copyToClipboard('device',\n",
       "                          this.parentElement.nextElementSibling)\"\n",
       "            ></i></td>\n",
       "            <td class=\"param\">device&nbsp;</td>\n",
       "            <td class=\"value\">None</td>\n",
       "        </tr>\n",
       "    \n",
       "\n",
       "        <tr class=\"user-set\">\n",
       "            <td><i class=\"copy-paste-icon\"\n",
       "                 onclick=\"copyToClipboard('early_stopping_rounds',\n",
       "                          this.parentElement.nextElementSibling)\"\n",
       "            ></i></td>\n",
       "            <td class=\"param\">early_stopping_rounds&nbsp;</td>\n",
       "            <td class=\"value\">None</td>\n",
       "        </tr>\n",
       "    \n",
       "\n",
       "        <tr class=\"user-set\">\n",
       "            <td><i class=\"copy-paste-icon\"\n",
       "                 onclick=\"copyToClipboard('enable_categorical',\n",
       "                          this.parentElement.nextElementSibling)\"\n",
       "            ></i></td>\n",
       "            <td class=\"param\">enable_categorical&nbsp;</td>\n",
       "            <td class=\"value\">False</td>\n",
       "        </tr>\n",
       "    \n",
       "\n",
       "        <tr class=\"user-set\">\n",
       "            <td><i class=\"copy-paste-icon\"\n",
       "                 onclick=\"copyToClipboard('eval_metric',\n",
       "                          this.parentElement.nextElementSibling)\"\n",
       "            ></i></td>\n",
       "            <td class=\"param\">eval_metric&nbsp;</td>\n",
       "            <td class=\"value\">&#x27;logloss&#x27;</td>\n",
       "        </tr>\n",
       "    \n",
       "\n",
       "        <tr class=\"user-set\">\n",
       "            <td><i class=\"copy-paste-icon\"\n",
       "                 onclick=\"copyToClipboard('feature_types',\n",
       "                          this.parentElement.nextElementSibling)\"\n",
       "            ></i></td>\n",
       "            <td class=\"param\">feature_types&nbsp;</td>\n",
       "            <td class=\"value\">None</td>\n",
       "        </tr>\n",
       "    \n",
       "\n",
       "        <tr class=\"user-set\">\n",
       "            <td><i class=\"copy-paste-icon\"\n",
       "                 onclick=\"copyToClipboard('feature_weights',\n",
       "                          this.parentElement.nextElementSibling)\"\n",
       "            ></i></td>\n",
       "            <td class=\"param\">feature_weights&nbsp;</td>\n",
       "            <td class=\"value\">None</td>\n",
       "        </tr>\n",
       "    \n",
       "\n",
       "        <tr class=\"user-set\">\n",
       "            <td><i class=\"copy-paste-icon\"\n",
       "                 onclick=\"copyToClipboard('gamma',\n",
       "                          this.parentElement.nextElementSibling)\"\n",
       "            ></i></td>\n",
       "            <td class=\"param\">gamma&nbsp;</td>\n",
       "            <td class=\"value\">None</td>\n",
       "        </tr>\n",
       "    \n",
       "\n",
       "        <tr class=\"user-set\">\n",
       "            <td><i class=\"copy-paste-icon\"\n",
       "                 onclick=\"copyToClipboard('grow_policy',\n",
       "                          this.parentElement.nextElementSibling)\"\n",
       "            ></i></td>\n",
       "            <td class=\"param\">grow_policy&nbsp;</td>\n",
       "            <td class=\"value\">None</td>\n",
       "        </tr>\n",
       "    \n",
       "\n",
       "        <tr class=\"user-set\">\n",
       "            <td><i class=\"copy-paste-icon\"\n",
       "                 onclick=\"copyToClipboard('importance_type',\n",
       "                          this.parentElement.nextElementSibling)\"\n",
       "            ></i></td>\n",
       "            <td class=\"param\">importance_type&nbsp;</td>\n",
       "            <td class=\"value\">None</td>\n",
       "        </tr>\n",
       "    \n",
       "\n",
       "        <tr class=\"user-set\">\n",
       "            <td><i class=\"copy-paste-icon\"\n",
       "                 onclick=\"copyToClipboard('interaction_constraints',\n",
       "                          this.parentElement.nextElementSibling)\"\n",
       "            ></i></td>\n",
       "            <td class=\"param\">interaction_constraints&nbsp;</td>\n",
       "            <td class=\"value\">None</td>\n",
       "        </tr>\n",
       "    \n",
       "\n",
       "        <tr class=\"user-set\">\n",
       "            <td><i class=\"copy-paste-icon\"\n",
       "                 onclick=\"copyToClipboard('learning_rate',\n",
       "                          this.parentElement.nextElementSibling)\"\n",
       "            ></i></td>\n",
       "            <td class=\"param\">learning_rate&nbsp;</td>\n",
       "            <td class=\"value\">None</td>\n",
       "        </tr>\n",
       "    \n",
       "\n",
       "        <tr class=\"user-set\">\n",
       "            <td><i class=\"copy-paste-icon\"\n",
       "                 onclick=\"copyToClipboard('max_bin',\n",
       "                          this.parentElement.nextElementSibling)\"\n",
       "            ></i></td>\n",
       "            <td class=\"param\">max_bin&nbsp;</td>\n",
       "            <td class=\"value\">None</td>\n",
       "        </tr>\n",
       "    \n",
       "\n",
       "        <tr class=\"user-set\">\n",
       "            <td><i class=\"copy-paste-icon\"\n",
       "                 onclick=\"copyToClipboard('max_cat_threshold',\n",
       "                          this.parentElement.nextElementSibling)\"\n",
       "            ></i></td>\n",
       "            <td class=\"param\">max_cat_threshold&nbsp;</td>\n",
       "            <td class=\"value\">None</td>\n",
       "        </tr>\n",
       "    \n",
       "\n",
       "        <tr class=\"user-set\">\n",
       "            <td><i class=\"copy-paste-icon\"\n",
       "                 onclick=\"copyToClipboard('max_cat_to_onehot',\n",
       "                          this.parentElement.nextElementSibling)\"\n",
       "            ></i></td>\n",
       "            <td class=\"param\">max_cat_to_onehot&nbsp;</td>\n",
       "            <td class=\"value\">None</td>\n",
       "        </tr>\n",
       "    \n",
       "\n",
       "        <tr class=\"user-set\">\n",
       "            <td><i class=\"copy-paste-icon\"\n",
       "                 onclick=\"copyToClipboard('max_delta_step',\n",
       "                          this.parentElement.nextElementSibling)\"\n",
       "            ></i></td>\n",
       "            <td class=\"param\">max_delta_step&nbsp;</td>\n",
       "            <td class=\"value\">None</td>\n",
       "        </tr>\n",
       "    \n",
       "\n",
       "        <tr class=\"user-set\">\n",
       "            <td><i class=\"copy-paste-icon\"\n",
       "                 onclick=\"copyToClipboard('max_depth',\n",
       "                          this.parentElement.nextElementSibling)\"\n",
       "            ></i></td>\n",
       "            <td class=\"param\">max_depth&nbsp;</td>\n",
       "            <td class=\"value\">None</td>\n",
       "        </tr>\n",
       "    \n",
       "\n",
       "        <tr class=\"user-set\">\n",
       "            <td><i class=\"copy-paste-icon\"\n",
       "                 onclick=\"copyToClipboard('max_leaves',\n",
       "                          this.parentElement.nextElementSibling)\"\n",
       "            ></i></td>\n",
       "            <td class=\"param\">max_leaves&nbsp;</td>\n",
       "            <td class=\"value\">None</td>\n",
       "        </tr>\n",
       "    \n",
       "\n",
       "        <tr class=\"user-set\">\n",
       "            <td><i class=\"copy-paste-icon\"\n",
       "                 onclick=\"copyToClipboard('min_child_weight',\n",
       "                          this.parentElement.nextElementSibling)\"\n",
       "            ></i></td>\n",
       "            <td class=\"param\">min_child_weight&nbsp;</td>\n",
       "            <td class=\"value\">None</td>\n",
       "        </tr>\n",
       "    \n",
       "\n",
       "        <tr class=\"user-set\">\n",
       "            <td><i class=\"copy-paste-icon\"\n",
       "                 onclick=\"copyToClipboard('missing',\n",
       "                          this.parentElement.nextElementSibling)\"\n",
       "            ></i></td>\n",
       "            <td class=\"param\">missing&nbsp;</td>\n",
       "            <td class=\"value\">nan</td>\n",
       "        </tr>\n",
       "    \n",
       "\n",
       "        <tr class=\"user-set\">\n",
       "            <td><i class=\"copy-paste-icon\"\n",
       "                 onclick=\"copyToClipboard('monotone_constraints',\n",
       "                          this.parentElement.nextElementSibling)\"\n",
       "            ></i></td>\n",
       "            <td class=\"param\">monotone_constraints&nbsp;</td>\n",
       "            <td class=\"value\">None</td>\n",
       "        </tr>\n",
       "    \n",
       "\n",
       "        <tr class=\"user-set\">\n",
       "            <td><i class=\"copy-paste-icon\"\n",
       "                 onclick=\"copyToClipboard('multi_strategy',\n",
       "                          this.parentElement.nextElementSibling)\"\n",
       "            ></i></td>\n",
       "            <td class=\"param\">multi_strategy&nbsp;</td>\n",
       "            <td class=\"value\">None</td>\n",
       "        </tr>\n",
       "    \n",
       "\n",
       "        <tr class=\"user-set\">\n",
       "            <td><i class=\"copy-paste-icon\"\n",
       "                 onclick=\"copyToClipboard('n_estimators',\n",
       "                          this.parentElement.nextElementSibling)\"\n",
       "            ></i></td>\n",
       "            <td class=\"param\">n_estimators&nbsp;</td>\n",
       "            <td class=\"value\">None</td>\n",
       "        </tr>\n",
       "    \n",
       "\n",
       "        <tr class=\"user-set\">\n",
       "            <td><i class=\"copy-paste-icon\"\n",
       "                 onclick=\"copyToClipboard('n_jobs',\n",
       "                          this.parentElement.nextElementSibling)\"\n",
       "            ></i></td>\n",
       "            <td class=\"param\">n_jobs&nbsp;</td>\n",
       "            <td class=\"value\">None</td>\n",
       "        </tr>\n",
       "    \n",
       "\n",
       "        <tr class=\"user-set\">\n",
       "            <td><i class=\"copy-paste-icon\"\n",
       "                 onclick=\"copyToClipboard('num_parallel_tree',\n",
       "                          this.parentElement.nextElementSibling)\"\n",
       "            ></i></td>\n",
       "            <td class=\"param\">num_parallel_tree&nbsp;</td>\n",
       "            <td class=\"value\">None</td>\n",
       "        </tr>\n",
       "    \n",
       "\n",
       "        <tr class=\"user-set\">\n",
       "            <td><i class=\"copy-paste-icon\"\n",
       "                 onclick=\"copyToClipboard('random_state',\n",
       "                          this.parentElement.nextElementSibling)\"\n",
       "            ></i></td>\n",
       "            <td class=\"param\">random_state&nbsp;</td>\n",
       "            <td class=\"value\">42</td>\n",
       "        </tr>\n",
       "    \n",
       "\n",
       "        <tr class=\"user-set\">\n",
       "            <td><i class=\"copy-paste-icon\"\n",
       "                 onclick=\"copyToClipboard('reg_alpha',\n",
       "                          this.parentElement.nextElementSibling)\"\n",
       "            ></i></td>\n",
       "            <td class=\"param\">reg_alpha&nbsp;</td>\n",
       "            <td class=\"value\">None</td>\n",
       "        </tr>\n",
       "    \n",
       "\n",
       "        <tr class=\"user-set\">\n",
       "            <td><i class=\"copy-paste-icon\"\n",
       "                 onclick=\"copyToClipboard('reg_lambda',\n",
       "                          this.parentElement.nextElementSibling)\"\n",
       "            ></i></td>\n",
       "            <td class=\"param\">reg_lambda&nbsp;</td>\n",
       "            <td class=\"value\">None</td>\n",
       "        </tr>\n",
       "    \n",
       "\n",
       "        <tr class=\"user-set\">\n",
       "            <td><i class=\"copy-paste-icon\"\n",
       "                 onclick=\"copyToClipboard('sampling_method',\n",
       "                          this.parentElement.nextElementSibling)\"\n",
       "            ></i></td>\n",
       "            <td class=\"param\">sampling_method&nbsp;</td>\n",
       "            <td class=\"value\">None</td>\n",
       "        </tr>\n",
       "    \n",
       "\n",
       "        <tr class=\"user-set\">\n",
       "            <td><i class=\"copy-paste-icon\"\n",
       "                 onclick=\"copyToClipboard('scale_pos_weight',\n",
       "                          this.parentElement.nextElementSibling)\"\n",
       "            ></i></td>\n",
       "            <td class=\"param\">scale_pos_weight&nbsp;</td>\n",
       "            <td class=\"value\">None</td>\n",
       "        </tr>\n",
       "    \n",
       "\n",
       "        <tr class=\"user-set\">\n",
       "            <td><i class=\"copy-paste-icon\"\n",
       "                 onclick=\"copyToClipboard('subsample',\n",
       "                          this.parentElement.nextElementSibling)\"\n",
       "            ></i></td>\n",
       "            <td class=\"param\">subsample&nbsp;</td>\n",
       "            <td class=\"value\">None</td>\n",
       "        </tr>\n",
       "    \n",
       "\n",
       "        <tr class=\"user-set\">\n",
       "            <td><i class=\"copy-paste-icon\"\n",
       "                 onclick=\"copyToClipboard('tree_method',\n",
       "                          this.parentElement.nextElementSibling)\"\n",
       "            ></i></td>\n",
       "            <td class=\"param\">tree_method&nbsp;</td>\n",
       "            <td class=\"value\">None</td>\n",
       "        </tr>\n",
       "    \n",
       "\n",
       "        <tr class=\"user-set\">\n",
       "            <td><i class=\"copy-paste-icon\"\n",
       "                 onclick=\"copyToClipboard('validate_parameters',\n",
       "                          this.parentElement.nextElementSibling)\"\n",
       "            ></i></td>\n",
       "            <td class=\"param\">validate_parameters&nbsp;</td>\n",
       "            <td class=\"value\">None</td>\n",
       "        </tr>\n",
       "    \n",
       "\n",
       "        <tr class=\"user-set\">\n",
       "            <td><i class=\"copy-paste-icon\"\n",
       "                 onclick=\"copyToClipboard('verbosity',\n",
       "                          this.parentElement.nextElementSibling)\"\n",
       "            ></i></td>\n",
       "            <td class=\"param\">verbosity&nbsp;</td>\n",
       "            <td class=\"value\">None</td>\n",
       "        </tr>\n",
       "    \n",
       "                  </tbody>\n",
       "                </table>\n",
       "            </details>\n",
       "        </div>\n",
       "    </div></div></div></div></div><script>function copyToClipboard(text, element) {\n",
       "    // Get the parameter prefix from the closest toggleable content\n",
       "    const toggleableContent = element.closest('.sk-toggleable__content');\n",
       "    const paramPrefix = toggleableContent ? toggleableContent.dataset.paramPrefix : '';\n",
       "    const fullParamName = paramPrefix ? `${paramPrefix}${text}` : text;\n",
       "\n",
       "    const originalStyle = element.style;\n",
       "    const computedStyle = window.getComputedStyle(element);\n",
       "    const originalWidth = computedStyle.width;\n",
       "    const originalHTML = element.innerHTML.replace('Copied!', '');\n",
       "\n",
       "    navigator.clipboard.writeText(fullParamName)\n",
       "        .then(() => {\n",
       "            element.style.width = originalWidth;\n",
       "            element.style.color = 'green';\n",
       "            element.innerHTML = \"Copied!\";\n",
       "\n",
       "            setTimeout(() => {\n",
       "                element.innerHTML = originalHTML;\n",
       "                element.style = originalStyle;\n",
       "            }, 2000);\n",
       "        })\n",
       "        .catch(err => {\n",
       "            console.error('Failed to copy:', err);\n",
       "            element.style.color = 'red';\n",
       "            element.innerHTML = \"Failed!\";\n",
       "            setTimeout(() => {\n",
       "                element.innerHTML = originalHTML;\n",
       "                element.style = originalStyle;\n",
       "            }, 2000);\n",
       "        });\n",
       "    return false;\n",
       "}\n",
       "\n",
       "document.querySelectorAll('.fa-regular.fa-copy').forEach(function(element) {\n",
       "    const toggleableContent = element.closest('.sk-toggleable__content');\n",
       "    const paramPrefix = toggleableContent ? toggleableContent.dataset.paramPrefix : '';\n",
       "    const paramName = element.parentElement.nextElementSibling.textContent.trim();\n",
       "    const fullParamName = paramPrefix ? `${paramPrefix}${paramName}` : paramName;\n",
       "\n",
       "    element.setAttribute('title', fullParamName);\n",
       "});\n",
       "</script></body>"
      ],
      "text/plain": [
       "XGBClassifier(base_score=None, booster=None, callbacks=None,\n",
       "              colsample_bylevel=None, colsample_bynode=None,\n",
       "              colsample_bytree=None, device=None, early_stopping_rounds=None,\n",
       "              enable_categorical=False, eval_metric='logloss',\n",
       "              feature_types=None, feature_weights=None, gamma=None,\n",
       "              grow_policy=None, importance_type=None,\n",
       "              interaction_constraints=None, learning_rate=None, max_bin=None,\n",
       "              max_cat_threshold=None, max_cat_to_onehot=None,\n",
       "              max_delta_step=None, max_depth=None, max_leaves=None,\n",
       "              min_child_weight=None, missing=nan, monotone_constraints=None,\n",
       "              multi_strategy=None, n_estimators=None, n_jobs=None,\n",
       "              num_parallel_tree=None, ...)"
      ]
     },
     "execution_count": 36,
     "metadata": {},
     "output_type": "execute_result"
    }
   ],
   "source": [
    "# Import XGBoost Classifier:\n",
    "from xgboost import XGBClassifier\n",
    "\n",
    "# Define the feature set for training:\n",
    "features = [\n",
    "    'Age', 'Monthly_Income', 'Num_Dependents', 'Loan_Amount', 'Loan_Tenure',\n",
    "    'Interest_Rate', 'Collateral_Value', 'Outstanding_Loan_Amount',\n",
    "    'Monthly_EMI', 'Num_Missed_Payments', 'Days_Past_Due',\n",
    "    'EMI_to_Income_Ratio', 'Collateral_Coverage', 'Default_Severity'\n",
    "]\n",
    "\n",
    "# Initialize the XGBoost Classifier:\n",
    "# - random_state ensures reproducible results\n",
    "# - eval_metric='logloss' is suitable for binary classification\n",
    "xgb = XGBClassifier(random_state=42, eval_metric='logloss')\n",
    "\n",
    "# Train the model using selected features and target labels:\n",
    "xgb.fit(train_data[features], train_data['High_Risk_Flag'])"
   ]
  },
  {
   "cell_type": "code",
   "execution_count": 37,
   "id": "cf69b6fb",
   "metadata": {},
   "outputs": [],
   "source": [
    "# Predict risk probabilities for the test set using the trained XGBoost model:\n",
    "test_data['Predicted_Risk_Score'] = xgb.predict_proba(test_data[features])[:,1]\n",
    "\n",
    "# 'Predicted_Risk_Score' now holds risk probability between 0 and 1\n",
    "# - Closer to 1 → more likely to be high-risk defaulter\n",
    "# - Closer to 0 → safer borrower"
   ]
  },
  {
   "cell_type": "code",
   "execution_count": 38,
   "id": "418860b4",
   "metadata": {},
   "outputs": [
    {
     "data": {
      "text/html": [
       "<div>\n",
       "<style scoped>\n",
       "    .dataframe tbody tr th:only-of-type {\n",
       "        vertical-align: middle;\n",
       "    }\n",
       "\n",
       "    .dataframe tbody tr th {\n",
       "        vertical-align: top;\n",
       "    }\n",
       "\n",
       "    .dataframe thead th {\n",
       "        text-align: right;\n",
       "    }\n",
       "</style>\n",
       "<table border=\"1\" class=\"dataframe\">\n",
       "  <thead>\n",
       "    <tr style=\"text-align: right;\">\n",
       "      <th></th>\n",
       "      <th>Borrower_ID</th>\n",
       "      <th>Age</th>\n",
       "      <th>Gender</th>\n",
       "      <th>Employment_Type</th>\n",
       "      <th>Monthly_Income</th>\n",
       "      <th>Num_Dependents</th>\n",
       "      <th>Loan_ID</th>\n",
       "      <th>Loan_Amount</th>\n",
       "      <th>Loan_Tenure</th>\n",
       "      <th>Interest_Rate</th>\n",
       "      <th>...</th>\n",
       "      <th>Collection_Attempts</th>\n",
       "      <th>Collection_Method</th>\n",
       "      <th>Legal_Action_Taken</th>\n",
       "      <th>EMI_to_Income_Ratio</th>\n",
       "      <th>Collateral_Coverage</th>\n",
       "      <th>Default_Severity</th>\n",
       "      <th>Borrower_Segment</th>\n",
       "      <th>Segment_Name</th>\n",
       "      <th>High_Risk_Flag</th>\n",
       "      <th>Predicted_Risk_Score</th>\n",
       "    </tr>\n",
       "  </thead>\n",
       "  <tbody>\n",
       "    <tr>\n",
       "      <th>361</th>\n",
       "      <td>BRW_362</td>\n",
       "      <td>55</td>\n",
       "      <td>Female</td>\n",
       "      <td>Salaried</td>\n",
       "      <td>141888</td>\n",
       "      <td>0</td>\n",
       "      <td>LN_362</td>\n",
       "      <td>1753834</td>\n",
       "      <td>72</td>\n",
       "      <td>17.81</td>\n",
       "      <td>...</td>\n",
       "      <td>2</td>\n",
       "      <td>Debt Collectors</td>\n",
       "      <td>No</td>\n",
       "      <td>0.14</td>\n",
       "      <td>0.91</td>\n",
       "      <td>234</td>\n",
       "      <td>1</td>\n",
       "      <td>High Income, Low Default Risk</td>\n",
       "      <td>0</td>\n",
       "      <td>0.00</td>\n",
       "    </tr>\n",
       "    <tr>\n",
       "      <th>73</th>\n",
       "      <td>BRW_74</td>\n",
       "      <td>28</td>\n",
       "      <td>Male</td>\n",
       "      <td>Salaried</td>\n",
       "      <td>79178</td>\n",
       "      <td>3</td>\n",
       "      <td>LN_74</td>\n",
       "      <td>1482769</td>\n",
       "      <td>72</td>\n",
       "      <td>6.39</td>\n",
       "      <td>...</td>\n",
       "      <td>3</td>\n",
       "      <td>Calls</td>\n",
       "      <td>No</td>\n",
       "      <td>0.07</td>\n",
       "      <td>0.00</td>\n",
       "      <td>14</td>\n",
       "      <td>3</td>\n",
       "      <td>High Loan, Higher Default Risk</td>\n",
       "      <td>1</td>\n",
       "      <td>1.00</td>\n",
       "    </tr>\n",
       "    <tr>\n",
       "      <th>374</th>\n",
       "      <td>BRW_375</td>\n",
       "      <td>35</td>\n",
       "      <td>Female</td>\n",
       "      <td>Self-Employed</td>\n",
       "      <td>237374</td>\n",
       "      <td>0</td>\n",
       "      <td>LN_375</td>\n",
       "      <td>846710</td>\n",
       "      <td>36</td>\n",
       "      <td>12.84</td>\n",
       "      <td>...</td>\n",
       "      <td>0</td>\n",
       "      <td>Legal Notice</td>\n",
       "      <td>No</td>\n",
       "      <td>0.07</td>\n",
       "      <td>1.23</td>\n",
       "      <td>0</td>\n",
       "      <td>2</td>\n",
       "      <td>Moderate Income, Medium Risk</td>\n",
       "      <td>0</td>\n",
       "      <td>0.00</td>\n",
       "    </tr>\n",
       "    <tr>\n",
       "      <th>155</th>\n",
       "      <td>BRW_156</td>\n",
       "      <td>22</td>\n",
       "      <td>Female</td>\n",
       "      <td>Self-Employed</td>\n",
       "      <td>133516</td>\n",
       "      <td>3</td>\n",
       "      <td>LN_156</td>\n",
       "      <td>1917306</td>\n",
       "      <td>24</td>\n",
       "      <td>7.66</td>\n",
       "      <td>...</td>\n",
       "      <td>2</td>\n",
       "      <td>Debt Collectors</td>\n",
       "      <td>No</td>\n",
       "      <td>0.43</td>\n",
       "      <td>0.00</td>\n",
       "      <td>166</td>\n",
       "      <td>1</td>\n",
       "      <td>High Income, Low Default Risk</td>\n",
       "      <td>0</td>\n",
       "      <td>0.06</td>\n",
       "    </tr>\n",
       "    <tr>\n",
       "      <th>104</th>\n",
       "      <td>BRW_105</td>\n",
       "      <td>61</td>\n",
       "      <td>Female</td>\n",
       "      <td>Salaried</td>\n",
       "      <td>150542</td>\n",
       "      <td>2</td>\n",
       "      <td>LN_105</td>\n",
       "      <td>1190844</td>\n",
       "      <td>12</td>\n",
       "      <td>15.14</td>\n",
       "      <td>...</td>\n",
       "      <td>10</td>\n",
       "      <td>Legal Notice</td>\n",
       "      <td>No</td>\n",
       "      <td>0.56</td>\n",
       "      <td>0.00</td>\n",
       "      <td>441</td>\n",
       "      <td>1</td>\n",
       "      <td>High Income, Low Default Risk</td>\n",
       "      <td>0</td>\n",
       "      <td>0.63</td>\n",
       "    </tr>\n",
       "  </tbody>\n",
       "</table>\n",
       "<p>5 rows × 28 columns</p>\n",
       "</div>"
      ],
      "text/plain": [
       "    Borrower_ID  Age  Gender Employment_Type  Monthly_Income  Num_Dependents  \\\n",
       "361     BRW_362   55  Female        Salaried          141888               0   \n",
       "73       BRW_74   28    Male        Salaried           79178               3   \n",
       "374     BRW_375   35  Female   Self-Employed          237374               0   \n",
       "155     BRW_156   22  Female   Self-Employed          133516               3   \n",
       "104     BRW_105   61  Female        Salaried          150542               2   \n",
       "\n",
       "    Loan_ID  Loan_Amount  Loan_Tenure  Interest_Rate  ... Collection_Attempts  \\\n",
       "361  LN_362      1753834           72          17.81  ...                   2   \n",
       "73    LN_74      1482769           72           6.39  ...                   3   \n",
       "374  LN_375       846710           36          12.84  ...                   0   \n",
       "155  LN_156      1917306           24           7.66  ...                   2   \n",
       "104  LN_105      1190844           12          15.14  ...                  10   \n",
       "\n",
       "     Collection_Method  Legal_Action_Taken  EMI_to_Income_Ratio  \\\n",
       "361    Debt Collectors                  No                 0.14   \n",
       "73               Calls                  No                 0.07   \n",
       "374       Legal Notice                  No                 0.07   \n",
       "155    Debt Collectors                  No                 0.43   \n",
       "104       Legal Notice                  No                 0.56   \n",
       "\n",
       "    Collateral_Coverage  Default_Severity  Borrower_Segment  \\\n",
       "361                0.91               234                 1   \n",
       "73                 0.00                14                 3   \n",
       "374                1.23                 0                 2   \n",
       "155                0.00               166                 1   \n",
       "104                0.00               441                 1   \n",
       "\n",
       "                       Segment_Name  High_Risk_Flag Predicted_Risk_Score  \n",
       "361   High Income, Low Default Risk               0                 0.00  \n",
       "73   High Loan, Higher Default Risk               1                 1.00  \n",
       "374    Moderate Income, Medium Risk               0                 0.00  \n",
       "155   High Income, Low Default Risk               0                 0.06  \n",
       "104   High Income, Low Default Risk               0                 0.63  \n",
       "\n",
       "[5 rows x 28 columns]"
      ]
     },
     "execution_count": 38,
     "metadata": {},
     "output_type": "execute_result"
    }
   ],
   "source": [
    "# Grabs the first 5 rows of your test set for quick inspection.\n",
    "# Rounds all numeric columns to 2 decimal places for better readability (great for presentations or debugging).\n",
    "test_data.head(5).round(2)"
   ]
  },
  {
   "cell_type": "markdown",
   "id": "bc1a3fae",
   "metadata": {},
   "source": [
    "## Evaluate the Model:"
   ]
  },
  {
   "cell_type": "code",
   "execution_count": 39,
   "id": "03f3a3e7",
   "metadata": {},
   "outputs": [],
   "source": [
    "# Defining the features:\n",
    "features = [\n",
    "    'Age', 'Monthly_Income', 'Num_Dependents', 'Loan_Amount', 'Loan_Tenure',\n",
    "    'Interest_Rate', 'Collateral_Value', 'Outstanding_Loan_Amount',\n",
    "    'Monthly_EMI', 'Num_Missed_Payments', 'Days_Past_Due',\n",
    "    'EMI_to_Income_Ratio', 'Collateral_Coverage', 'Default_Severity'\n",
    "]"
   ]
  },
  {
   "cell_type": "code",
   "execution_count": 40,
   "id": "0d0e797f",
   "metadata": {},
   "outputs": [],
   "source": [
    "# Predicting Labels and Probabilities:\n",
    "\n",
    "# Predict Labels:\n",
    "test_data['Predicted_High_Risk'] = xgb.predict(test_data[features])"
   ]
  },
  {
   "cell_type": "code",
   "execution_count": 41,
   "id": "29dac7c9",
   "metadata": {},
   "outputs": [
    {
     "name": "stdout",
     "output_type": "stream",
     "text": [
      "Confusion Matrix:\n",
      " [[75  7]\n",
      " [ 3 65]]\n",
      "\n",
      "Classification Report:\n",
      "               precision    recall  f1-score   support\n",
      "\n",
      "           0       0.96      0.91      0.94        82\n",
      "           1       0.90      0.96      0.93        68\n",
      "\n",
      "    accuracy                           0.93       150\n",
      "   macro avg       0.93      0.94      0.93       150\n",
      "weighted avg       0.93      0.93      0.93       150\n",
      "\n",
      "\n",
      "ROC AUC Score: 0.9870875179340028\n"
     ]
    }
   ],
   "source": [
    "# Evaluate Model using Test Data:\n",
    "from sklearn.metrics import classification_report, confusion_matrix, roc_auc_score\n",
    "\n",
    "print(\"Confusion Matrix:\\n\", confusion_matrix(test_data['High_Risk_Flag'], test_data['Predicted_High_Risk']))\n",
    "\n",
    "print(\"\\nClassification Report:\\n\", classification_report(test_data['High_Risk_Flag'], test_data['Predicted_High_Risk']))\n",
    "\n",
    "print(\"\\nROC AUC Score:\", roc_auc_score(test_data['High_Risk_Flag'], test_data['Predicted_Risk_Score']))"
   ]
  },
  {
   "cell_type": "markdown",
   "id": "b7f5ba44",
   "metadata": {},
   "source": [
    "## Key Insights:\n",
    " - True Positives(TP) => 65 - Correctly predicted risky defaulters.\n",
    " - True Negatives(TN) => 75 - Correctly flagged safe borrowers.\n",
    " - False Postives(FP) => 7 - Predicted risk where it wasn't.\n",
    " - False Negatives(FN) => 3 - Missed a few real risks.\n",
    "\n",
    "---\n",
    "\n",
    " - High recall for Class 1: Catching the risky borrowers, which is the goal.\n",
    " - Strong F1 Score: Great balance between precision & recall.\n",
    " - Balanced class handling: No bias towards either class.\n",
    "\n",
    "---\n",
    "\n",
    " - AUC = 0.99\n",
    "   - XGBoost model is ranking risky vs. safe borrowers with near-perfect separation."
   ]
  },
  {
   "cell_type": "code",
   "execution_count": 109,
   "id": "5a910889",
   "metadata": {},
   "outputs": [
    {
     "data": {
      "image/png": "[encoded data removed]",
      "text/plain": [
       "<Figure size 800x600 with 1 Axes>"
      ]
     },
     "metadata": {},
     "output_type": "display_data"
    }
   ],
   "source": [
    "# ROC-Curve:\n",
    "\n",
    "from sklearn.metrics import roc_curve\n",
    "import matplotlib.pyplot as plt\n",
    "\n",
    "fpr, tpr, thresholds = roc_curve(test_data['High_Risk_Flag'], test_data['Predicted_Risk_Score'])\n",
    "\n",
    "plt.figure(figsize=(8,6))\n",
    "plt.plot(fpr, tpr, label=f'AUC = {roc_auc_score(test_data['High_Risk_Flag'], test_data['Predicted_Risk_Score']):.2f}')\n",
    "plt.plot([0,1], [0,1], 'k--')\n",
    "plt.xlabel('False Positive Rate')\n",
    "plt.ylabel('True Positive Rate')\n",
    "plt.title('ROC Curve on Test Data')\n",
    "plt.legend()\n",
    "plt.grid()\n",
    "plt.show()\n"
   ]
  },
  {
   "cell_type": "markdown",
   "id": "80f87491",
   "metadata": {},
   "source": [
    "## Dynamic Recovery Strategy based on Risk Scores:\n"
   ]
  },
  {
   "cell_type": "code",
   "execution_count": 42,
   "id": "c2e71267",
   "metadata": {},
   "outputs": [],
   "source": [
    "# Creating a new column for the dynamic recovery strategy based on risk scores\n",
    "def assign_recovery_strategy(risk_score):\n",
    "    if risk_score > 0.75:\n",
    "        return (\"Initiate legal proceedings with asset seizure notices, \"\n",
    "                \"escalate to external recovery agencies, and enforce loan recovery under default clauses.\")\n",
    "    elif 0.50 <= risk_score <= 0.75:\n",
    "        return (\"Offer structured settlements with penal interest adjustments, \"\n",
    "                \"negotiate revised EMI plans, and initiate soft legal notices.\")\n",
    "    else:\n",
    "        return (\"Send automated payment reminders, schedule regular financial health reviews, \"\n",
    "                \"and maintain active borrower engagement for early warnings.\")"
   ]
  },
  {
   "cell_type": "code",
   "execution_count": 43,
   "id": "d53d0dd5",
   "metadata": {},
   "outputs": [],
   "source": [
    "# Applying it to Test Data:\n",
    "test_data['Recommend_Recovery_Strategy'] = test_data['Predicted_Risk_Score'].apply(assign_recovery_strategy)"
   ]
  },
  {
   "cell_type": "code",
   "execution_count": 44,
   "id": "bdea2e92",
   "metadata": {},
   "outputs": [],
   "source": [
    "# Set display options:\n",
    "pd.set_option('display.max_colwidth',None)\n",
    "pd.set_option('display.max_columns',None)"
   ]
  },
  {
   "cell_type": "code",
   "execution_count": 45,
   "id": "cbef78af",
   "metadata": {},
   "outputs": [
    {
     "data": {
      "text/html": [
       "<div>\n",
       "<style scoped>\n",
       "    .dataframe tbody tr th:only-of-type {\n",
       "        vertical-align: middle;\n",
       "    }\n",
       "\n",
       "    .dataframe tbody tr th {\n",
       "        vertical-align: top;\n",
       "    }\n",
       "\n",
       "    .dataframe thead th {\n",
       "        text-align: right;\n",
       "    }\n",
       "</style>\n",
       "<table border=\"1\" class=\"dataframe\">\n",
       "  <thead>\n",
       "    <tr style=\"text-align: right;\">\n",
       "      <th></th>\n",
       "      <th>Borrower_ID</th>\n",
       "      <th>Predicted_Risk_Score</th>\n",
       "      <th>Recommend_Recovery_Strategy</th>\n",
       "    </tr>\n",
       "  </thead>\n",
       "  <tbody>\n",
       "    <tr>\n",
       "      <th>361</th>\n",
       "      <td>BRW_362</td>\n",
       "      <td>0.004774</td>\n",
       "      <td>Send automated payment reminders, schedule regular financial health reviews, and maintain active borrower engagement for early warnings.</td>\n",
       "    </tr>\n",
       "    <tr>\n",
       "      <th>73</th>\n",
       "      <td>BRW_74</td>\n",
       "      <td>0.999344</td>\n",
       "      <td>Initiate legal proceedings with asset seizure notices, escalate to external recovery agencies, and enforce loan recovery under default clauses.</td>\n",
       "    </tr>\n",
       "    <tr>\n",
       "      <th>374</th>\n",
       "      <td>BRW_375</td>\n",
       "      <td>0.002313</td>\n",
       "      <td>Send automated payment reminders, schedule regular financial health reviews, and maintain active borrower engagement for early warnings.</td>\n",
       "    </tr>\n",
       "    <tr>\n",
       "      <th>155</th>\n",
       "      <td>BRW_156</td>\n",
       "      <td>0.063435</td>\n",
       "      <td>Send automated payment reminders, schedule regular financial health reviews, and maintain active borrower engagement for early warnings.</td>\n",
       "    </tr>\n",
       "    <tr>\n",
       "      <th>104</th>\n",
       "      <td>BRW_105</td>\n",
       "      <td>0.632764</td>\n",
       "      <td>Offer structured settlements with penal interest adjustments, negotiate revised EMI plans, and initiate soft legal notices.</td>\n",
       "    </tr>\n",
       "    <tr>\n",
       "      <th>394</th>\n",
       "      <td>BRW_395</td>\n",
       "      <td>0.003092</td>\n",
       "      <td>Send automated payment reminders, schedule regular financial health reviews, and maintain active borrower engagement for early warnings.</td>\n",
       "    </tr>\n",
       "    <tr>\n",
       "      <th>377</th>\n",
       "      <td>BRW_378</td>\n",
       "      <td>0.002018</td>\n",
       "      <td>Send automated payment reminders, schedule regular financial health reviews, and maintain active borrower engagement for early warnings.</td>\n",
       "    </tr>\n",
       "    <tr>\n",
       "      <th>124</th>\n",
       "      <td>BRW_125</td>\n",
       "      <td>0.984535</td>\n",
       "      <td>Initiate legal proceedings with asset seizure notices, escalate to external recovery agencies, and enforce loan recovery under default clauses.</td>\n",
       "    </tr>\n",
       "    <tr>\n",
       "      <th>68</th>\n",
       "      <td>BRW_69</td>\n",
       "      <td>0.001175</td>\n",
       "      <td>Send automated payment reminders, schedule regular financial health reviews, and maintain active borrower engagement for early warnings.</td>\n",
       "    </tr>\n",
       "    <tr>\n",
       "      <th>450</th>\n",
       "      <td>BRW_451</td>\n",
       "      <td>0.994687</td>\n",
       "      <td>Initiate legal proceedings with asset seizure notices, escalate to external recovery agencies, and enforce loan recovery under default clauses.</td>\n",
       "    </tr>\n",
       "  </tbody>\n",
       "</table>\n",
       "</div>"
      ],
      "text/plain": [
       "    Borrower_ID  Predicted_Risk_Score  \\\n",
       "361     BRW_362              0.004774   \n",
       "73       BRW_74              0.999344   \n",
       "374     BRW_375              0.002313   \n",
       "155     BRW_156              0.063435   \n",
       "104     BRW_105              0.632764   \n",
       "394     BRW_395              0.003092   \n",
       "377     BRW_378              0.002018   \n",
       "124     BRW_125              0.984535   \n",
       "68       BRW_69              0.001175   \n",
       "450     BRW_451              0.994687   \n",
       "\n",
       "                                                                                                                         Recommend_Recovery_Strategy  \n",
       "361         Send automated payment reminders, schedule regular financial health reviews, and maintain active borrower engagement for early warnings.  \n",
       "73   Initiate legal proceedings with asset seizure notices, escalate to external recovery agencies, and enforce loan recovery under default clauses.  \n",
       "374         Send automated payment reminders, schedule regular financial health reviews, and maintain active borrower engagement for early warnings.  \n",
       "155         Send automated payment reminders, schedule regular financial health reviews, and maintain active borrower engagement for early warnings.  \n",
       "104                      Offer structured settlements with penal interest adjustments, negotiate revised EMI plans, and initiate soft legal notices.  \n",
       "394         Send automated payment reminders, schedule regular financial health reviews, and maintain active borrower engagement for early warnings.  \n",
       "377         Send automated payment reminders, schedule regular financial health reviews, and maintain active borrower engagement for early warnings.  \n",
       "124  Initiate legal proceedings with asset seizure notices, escalate to external recovery agencies, and enforce loan recovery under default clauses.  \n",
       "68          Send automated payment reminders, schedule regular financial health reviews, and maintain active borrower engagement for early warnings.  \n",
       "450  Initiate legal proceedings with asset seizure notices, escalate to external recovery agencies, and enforce loan recovery under default clauses.  "
      ]
     },
     "execution_count": 45,
     "metadata": {},
     "output_type": "execute_result"
    }
   ],
   "source": [
    "# Checking the results:\n",
    "test_data[['Borrower_ID', 'Predicted_Risk_Score', 'Recommend_Recovery_Strategy']].head(10)"
   ]
  },
  {
   "cell_type": "markdown",
   "id": "32e597dd",
   "metadata": {},
   "source": [
    "# Testing on two different sets of Unseen Data:"
   ]
  },
  {
   "cell_type": "code",
   "execution_count": 46,
   "id": "3cd372e9",
   "metadata": {},
   "outputs": [
    {
     "data": {
      "text/html": [
       "<div>\n",
       "<style scoped>\n",
       "    .dataframe tbody tr th:only-of-type {\n",
       "        vertical-align: middle;\n",
       "    }\n",
       "\n",
       "    .dataframe tbody tr th {\n",
       "        vertical-align: top;\n",
       "    }\n",
       "\n",
       "    .dataframe thead th {\n",
       "        text-align: right;\n",
       "    }\n",
       "</style>\n",
       "<table border=\"1\" class=\"dataframe\">\n",
       "  <thead>\n",
       "    <tr style=\"text-align: right;\">\n",
       "      <th></th>\n",
       "      <th>Borrower_ID</th>\n",
       "      <th>Age</th>\n",
       "      <th>Gender</th>\n",
       "      <th>Employment_Type</th>\n",
       "      <th>Monthly_Income</th>\n",
       "      <th>Num_Dependents</th>\n",
       "      <th>Loan_ID</th>\n",
       "      <th>Loan_Amount</th>\n",
       "      <th>Loan_Tenure</th>\n",
       "      <th>Interest_Rate</th>\n",
       "      <th>Loan_Type</th>\n",
       "      <th>Collateral_Value</th>\n",
       "      <th>Outstanding_Loan_Amount</th>\n",
       "      <th>Monthly_EMI</th>\n",
       "      <th>Payment_History</th>\n",
       "      <th>Num_Missed_Payments</th>\n",
       "      <th>Days_Past_Due</th>\n",
       "      <th>Recovery_Status</th>\n",
       "      <th>Collection_Attempts</th>\n",
       "      <th>Collection_Method</th>\n",
       "      <th>Legal_Action_Taken</th>\n",
       "      <th>EMI_to_Income_Ratio</th>\n",
       "      <th>Collateral_Coverage</th>\n",
       "      <th>Default_Severity</th>\n",
       "      <th>Borrower_Segment</th>\n",
       "      <th>Segment_Name</th>\n",
       "      <th>High_Risk_Flag</th>\n",
       "      <th>Predicted_Risk_Score</th>\n",
       "      <th>Predicted_High_Risk</th>\n",
       "      <th>Recommend_Recovery_Strategy</th>\n",
       "    </tr>\n",
       "  </thead>\n",
       "  <tbody>\n",
       "    <tr>\n",
       "      <th>361</th>\n",
       "      <td>BRW_362</td>\n",
       "      <td>55</td>\n",
       "      <td>Female</td>\n",
       "      <td>Salaried</td>\n",
       "      <td>141888</td>\n",
       "      <td>0</td>\n",
       "      <td>LN_362</td>\n",
       "      <td>1753834</td>\n",
       "      <td>72</td>\n",
       "      <td>17.81</td>\n",
       "      <td>Auto</td>\n",
       "      <td>1.601439e+06</td>\n",
       "      <td>1.475467e+06</td>\n",
       "      <td>20492.60</td>\n",
       "      <td>On-Time</td>\n",
       "      <td>3</td>\n",
       "      <td>78</td>\n",
       "      <td>Fully Recovered</td>\n",
       "      <td>2</td>\n",
       "      <td>Debt Collectors</td>\n",
       "      <td>No</td>\n",
       "      <td>0.144428</td>\n",
       "      <td>0.913107</td>\n",
       "      <td>234</td>\n",
       "      <td>1</td>\n",
       "      <td>High Income, Low Default Risk</td>\n",
       "      <td>0</td>\n",
       "      <td>0.004774</td>\n",
       "      <td>0</td>\n",
       "      <td>Send automated payment reminders, schedule regular financial health reviews, and maintain active borrower engagement for early warnings.</td>\n",
       "    </tr>\n",
       "    <tr>\n",
       "      <th>73</th>\n",
       "      <td>BRW_74</td>\n",
       "      <td>28</td>\n",
       "      <td>Male</td>\n",
       "      <td>Salaried</td>\n",
       "      <td>79178</td>\n",
       "      <td>3</td>\n",
       "      <td>LN_74</td>\n",
       "      <td>1482769</td>\n",
       "      <td>72</td>\n",
       "      <td>6.39</td>\n",
       "      <td>Personal</td>\n",
       "      <td>0.000000e+00</td>\n",
       "      <td>3.812657e+05</td>\n",
       "      <td>5295.36</td>\n",
       "      <td>On-Time</td>\n",
       "      <td>2</td>\n",
       "      <td>7</td>\n",
       "      <td>Fully Recovered</td>\n",
       "      <td>3</td>\n",
       "      <td>Calls</td>\n",
       "      <td>No</td>\n",
       "      <td>0.066879</td>\n",
       "      <td>0.000000</td>\n",
       "      <td>14</td>\n",
       "      <td>3</td>\n",
       "      <td>High Loan, Higher Default Risk</td>\n",
       "      <td>1</td>\n",
       "      <td>0.999344</td>\n",
       "      <td>1</td>\n",
       "      <td>Initiate legal proceedings with asset seizure notices, escalate to external recovery agencies, and enforce loan recovery under default clauses.</td>\n",
       "    </tr>\n",
       "    <tr>\n",
       "      <th>374</th>\n",
       "      <td>BRW_375</td>\n",
       "      <td>35</td>\n",
       "      <td>Female</td>\n",
       "      <td>Self-Employed</td>\n",
       "      <td>237374</td>\n",
       "      <td>0</td>\n",
       "      <td>LN_375</td>\n",
       "      <td>846710</td>\n",
       "      <td>36</td>\n",
       "      <td>12.84</td>\n",
       "      <td>Home</td>\n",
       "      <td>1.037463e+06</td>\n",
       "      <td>6.279152e+05</td>\n",
       "      <td>17442.09</td>\n",
       "      <td>On-Time</td>\n",
       "      <td>0</td>\n",
       "      <td>0</td>\n",
       "      <td>Fully Recovered</td>\n",
       "      <td>0</td>\n",
       "      <td>Legal Notice</td>\n",
       "      <td>No</td>\n",
       "      <td>0.073479</td>\n",
       "      <td>1.225287</td>\n",
       "      <td>0</td>\n",
       "      <td>2</td>\n",
       "      <td>Moderate Income, Medium Risk</td>\n",
       "      <td>0</td>\n",
       "      <td>0.002313</td>\n",
       "      <td>0</td>\n",
       "      <td>Send automated payment reminders, schedule regular financial health reviews, and maintain active borrower engagement for early warnings.</td>\n",
       "    </tr>\n",
       "    <tr>\n",
       "      <th>155</th>\n",
       "      <td>BRW_156</td>\n",
       "      <td>22</td>\n",
       "      <td>Female</td>\n",
       "      <td>Self-Employed</td>\n",
       "      <td>133516</td>\n",
       "      <td>3</td>\n",
       "      <td>LN_156</td>\n",
       "      <td>1917306</td>\n",
       "      <td>24</td>\n",
       "      <td>7.66</td>\n",
       "      <td>Personal</td>\n",
       "      <td>0.000000e+00</td>\n",
       "      <td>1.374051e+06</td>\n",
       "      <td>57252.12</td>\n",
       "      <td>Missed</td>\n",
       "      <td>1</td>\n",
       "      <td>166</td>\n",
       "      <td>Fully Recovered</td>\n",
       "      <td>2</td>\n",
       "      <td>Debt Collectors</td>\n",
       "      <td>No</td>\n",
       "      <td>0.428803</td>\n",
       "      <td>0.000000</td>\n",
       "      <td>166</td>\n",
       "      <td>1</td>\n",
       "      <td>High Income, Low Default Risk</td>\n",
       "      <td>0</td>\n",
       "      <td>0.063435</td>\n",
       "      <td>0</td>\n",
       "      <td>Send automated payment reminders, schedule regular financial health reviews, and maintain active borrower engagement for early warnings.</td>\n",
       "    </tr>\n",
       "    <tr>\n",
       "      <th>104</th>\n",
       "      <td>BRW_105</td>\n",
       "      <td>61</td>\n",
       "      <td>Female</td>\n",
       "      <td>Salaried</td>\n",
       "      <td>150542</td>\n",
       "      <td>2</td>\n",
       "      <td>LN_105</td>\n",
       "      <td>1190844</td>\n",
       "      <td>12</td>\n",
       "      <td>15.14</td>\n",
       "      <td>Personal</td>\n",
       "      <td>0.000000e+00</td>\n",
       "      <td>1.015521e+06</td>\n",
       "      <td>84626.74</td>\n",
       "      <td>Delayed</td>\n",
       "      <td>3</td>\n",
       "      <td>147</td>\n",
       "      <td>Written Off</td>\n",
       "      <td>10</td>\n",
       "      <td>Legal Notice</td>\n",
       "      <td>No</td>\n",
       "      <td>0.562147</td>\n",
       "      <td>0.000000</td>\n",
       "      <td>441</td>\n",
       "      <td>1</td>\n",
       "      <td>High Income, Low Default Risk</td>\n",
       "      <td>0</td>\n",
       "      <td>0.632764</td>\n",
       "      <td>1</td>\n",
       "      <td>Offer structured settlements with penal interest adjustments, negotiate revised EMI plans, and initiate soft legal notices.</td>\n",
       "    </tr>\n",
       "  </tbody>\n",
       "</table>\n",
       "</div>"
      ],
      "text/plain": [
       "    Borrower_ID  Age  Gender Employment_Type  Monthly_Income  Num_Dependents  \\\n",
       "361     BRW_362   55  Female        Salaried          141888               0   \n",
       "73       BRW_74   28    Male        Salaried           79178               3   \n",
       "374     BRW_375   35  Female   Self-Employed          237374               0   \n",
       "155     BRW_156   22  Female   Self-Employed          133516               3   \n",
       "104     BRW_105   61  Female        Salaried          150542               2   \n",
       "\n",
       "    Loan_ID  Loan_Amount  Loan_Tenure  Interest_Rate Loan_Type  \\\n",
       "361  LN_362      1753834           72          17.81      Auto   \n",
       "73    LN_74      1482769           72           6.39  Personal   \n",
       "374  LN_375       846710           36          12.84      Home   \n",
       "155  LN_156      1917306           24           7.66  Personal   \n",
       "104  LN_105      1190844           12          15.14  Personal   \n",
       "\n",
       "     Collateral_Value  Outstanding_Loan_Amount  Monthly_EMI Payment_History  \\\n",
       "361      1.601439e+06             1.475467e+06     20492.60         On-Time   \n",
       "73       0.000000e+00             3.812657e+05      5295.36         On-Time   \n",
       "374      1.037463e+06             6.279152e+05     17442.09         On-Time   \n",
       "155      0.000000e+00             1.374051e+06     57252.12          Missed   \n",
       "104      0.000000e+00             1.015521e+06     84626.74         Delayed   \n",
       "\n",
       "     Num_Missed_Payments  Days_Past_Due  Recovery_Status  Collection_Attempts  \\\n",
       "361                    3             78  Fully Recovered                    2   \n",
       "73                     2              7  Fully Recovered                    3   \n",
       "374                    0              0  Fully Recovered                    0   \n",
       "155                    1            166  Fully Recovered                    2   \n",
       "104                    3            147      Written Off                   10   \n",
       "\n",
       "    Collection_Method Legal_Action_Taken  EMI_to_Income_Ratio  \\\n",
       "361   Debt Collectors                 No             0.144428   \n",
       "73              Calls                 No             0.066879   \n",
       "374      Legal Notice                 No             0.073479   \n",
       "155   Debt Collectors                 No             0.428803   \n",
       "104      Legal Notice                 No             0.562147   \n",
       "\n",
       "     Collateral_Coverage  Default_Severity  Borrower_Segment  \\\n",
       "361             0.913107               234                 1   \n",
       "73              0.000000                14                 3   \n",
       "374             1.225287                 0                 2   \n",
       "155             0.000000               166                 1   \n",
       "104             0.000000               441                 1   \n",
       "\n",
       "                       Segment_Name  High_Risk_Flag  Predicted_Risk_Score  \\\n",
       "361   High Income, Low Default Risk               0              0.004774   \n",
       "73   High Loan, Higher Default Risk               1              0.999344   \n",
       "374    Moderate Income, Medium Risk               0              0.002313   \n",
       "155   High Income, Low Default Risk               0              0.063435   \n",
       "104   High Income, Low Default Risk               0              0.632764   \n",
       "\n",
       "     Predicted_High_Risk  \\\n",
       "361                    0   \n",
       "73                     1   \n",
       "374                    0   \n",
       "155                    0   \n",
       "104                    1   \n",
       "\n",
       "                                                                                                                         Recommend_Recovery_Strategy  \n",
       "361         Send automated payment reminders, schedule regular financial health reviews, and maintain active borrower engagement for early warnings.  \n",
       "73   Initiate legal proceedings with asset seizure notices, escalate to external recovery agencies, and enforce loan recovery under default clauses.  \n",
       "374         Send automated payment reminders, schedule regular financial health reviews, and maintain active borrower engagement for early warnings.  \n",
       "155         Send automated payment reminders, schedule regular financial health reviews, and maintain active borrower engagement for early warnings.  \n",
       "104                      Offer structured settlements with penal interest adjustments, negotiate revised EMI plans, and initiate soft legal notices.  "
      ]
     },
     "execution_count": 46,
     "metadata": {},
     "output_type": "execute_result"
    }
   ],
   "source": [
    "# Preview the Test Data:\n",
    "test_data.head(5)"
   ]
  },
  {
   "cell_type": "code",
   "execution_count": 62,
   "id": "baf4814f",
   "metadata": {},
   "outputs": [],
   "source": [
    "import pandas as pd\n",
    "\n",
    "# HIGH-RISK BORROWER SAMPLE (Predicted Risk Score Expected > 0.90)\n",
    "# This profile represents a borrower with poor repayment behavior, no collateral, high EMI burden,\n",
    "# and extended delay in repayment - all strong indicators of high default risk.\n",
    "high_risk_sample = pd.DataFrame([{\n",
    "    'Age': 24,  # Young age, less financial maturity\n",
    "    'Monthly_Income': 18000,  # Very low income\n",
    "    'Num_Dependents': 3,  # High family burden\n",
    "    'Loan_Amount': 1650000,  # Large loan amount\n",
    "    'Loan_Tenure': 72,  # Long tenure\n",
    "    'Interest_Rate': 16.8,  # High interest rate\n",
    "    'Collateral_Value': 0,  # No collateral\n",
    "    'Outstanding_Loan_Amount': 1560000,  # Almost full amount pending\n",
    "    'Monthly_EMI': 16000,  # High monthly burden\n",
    "    'Num_Missed_Payments': 4,  # Frequent missed payments\n",
    "    'Days_Past_Due': 180,  # Very high delay\n",
    "    'EMI_to_Income_Ratio': 1.125,  # Paying more EMI than income - severe stress\n",
    "    'Collateral_Coverage': 0,  # No backing asset\n",
    "    'Default_Severity': 300  # Already shows heavy default behavior\n",
    "}])\n",
    "\n",
    "# LOW-RISK BORROWER SAMPLE (Predicted Risk Score Expected < 0.30)\n",
    "# This profile has strong financials, good repayment behavior, and high collateral - very low risk.\n",
    "low_risk_sample = pd.DataFrame([{\n",
    "    'Age': 42,  # Financially mature borrower\n",
    "    'Monthly_Income': 250000,  # Very high stable income\n",
    "    'Num_Dependents': 1,  # Low burden\n",
    "    'Loan_Amount': 400000,  # Small loan size\n",
    "    'Loan_Tenure': 36,  # Medium duration\n",
    "    'Interest_Rate': 9.2,  # Reasonable interest\n",
    "    'Collateral_Value': 200000,  # Strong collateral value\n",
    "    'Outstanding_Loan_Amount': 300000,  # Most of loan paid\n",
    "    'Monthly_EMI': 12000,  # Easily manageable\n",
    "    'Num_Missed_Payments': 0,  # Perfect payment record\n",
    "    'Days_Past_Due': 0,  # No delay at all\n",
    "    'EMI_to_Income_Ratio': 0.048,  # Negligible monthly stress\n",
    "    'Collateral_Coverage': 3.75,  # Collateral is nearly 4x the remaining loan\n",
    "    'Default_Severity': 0  # No history of default\n",
    "}])\n"
   ]
  },
  {
   "cell_type": "code",
   "execution_count": 67,
   "id": "95a1b655",
   "metadata": {},
   "outputs": [],
   "source": [
    "import pickle\n",
    "\n",
    "# Load the path (Testing after saving):\n",
    "with open('D:/ML Projects/Smart Loan Recovery System/PKL Files/xgb.pkl', 'rb') as f:\n",
    "    xgb_model = pickle.load(f)"
   ]
  },
  {
   "cell_type": "code",
   "execution_count": 69,
   "id": "e9cd967e",
   "metadata": {},
   "outputs": [
    {
     "data": {
      "image/png": "[encoded data removed]",
      "text/plain": [
       "<Figure size 640x480 with 1 Axes>"
      ]
     },
     "metadata": {},
     "output_type": "display_data"
    }
   ],
   "source": [
    "import matplotlib.pyplot as plt\n",
    "import xgboost as xgb\n",
    "\n",
    "# Plot feature importance\n",
    "xgb.plot_importance(xgb_model, importance_type='gain', max_num_features=15, height=0.5)\n",
    "plt.title(\"Feature Importance by Gain\")\n",
    "plt.show()"
   ]
  },
  {
   "cell_type": "code",
   "execution_count": 64,
   "id": "726533c4",
   "metadata": {},
   "outputs": [
    {
     "name": "stdout",
     "output_type": "stream",
     "text": [
      "High Risk Borrower Probability:\n",
      "0.9485\n",
      "Low Risk Borrower Probability:\n",
      "0.0014\n"
     ]
    }
   ],
   "source": [
    "# Predicting the probability of being high-risk (class 1) for both profiles\n",
    "high_risk = xgb_model.predict_proba(high_risk_sample)[:, 1]  # Probability borrower will default\n",
    "low_risk = xgb_model.predict_proba(low_risk_sample)[:, 1]    # Probability borrower will default\n",
    "\n",
    "# Displaying the results\n",
    "print(f\"High Risk Borrower Probability:\\n{high_risk[0]:.4f}\")  # Should be close to 1.00\n",
    "print(f\"Low Risk Borrower Probability:\\n{low_risk[0]:.4f}\")   # Should be close to 0.00"
   ]
  },
  {
   "cell_type": "code",
   "execution_count": 50,
   "id": "c566547a",
   "metadata": {},
   "outputs": [],
   "source": [
    "# Load Smart Loan Recovery System (Testing after saving):\n",
    "from recovery_strategy import assign_recovery_strategy"
   ]
  },
  {
   "cell_type": "code",
   "execution_count": 51,
   "id": "090fcca4",
   "metadata": {},
   "outputs": [
    {
     "name": "stdout",
     "output_type": "stream",
     "text": [
      "Recommend Recovery Strategy for High Risk Borrower:\n",
      "Initiate legal proceedings with asset seizure notices, escalate to external recovery agencies, and enforce loan recovery under default clauses.\n",
      "\n",
      "Recommend Recovery Strategy for Low Risk Borrower:\n",
      "Send automated payment reminders, schedule regular financial health reviews, and maintain active borrower engagement for early warnings.\n"
     ]
    }
   ],
   "source": [
    "# Pass the scalar risk score (float) from the array to the strategy function\n",
    "high_risk_strategy = assign_recovery_strategy(high_risk)\n",
    "low_risk_strategy = assign_recovery_strategy(low_risk)\n",
    "\n",
    "# Display the recommended strategy based on predicted risk scores\n",
    "print(f\"Recommend Recovery Strategy for High Risk Borrower:\\n{high_risk_strategy}\\n\")\n",
    "print(f\"Recommend Recovery Strategy for Low Risk Borrower:\\n{low_risk_strategy}\")\n"
   ]
  },
  {
   "cell_type": "markdown",
   "id": "a7afecf6",
   "metadata": {},
   "source": [
    "# For Deployment Purposes:\n"
   ]
  },
  {
   "cell_type": "code",
   "execution_count": 52,
   "id": "dcb79dff",
   "metadata": {},
   "outputs": [
    {
     "data": {
      "text/html": [
       "<div>\n",
       "<style scoped>\n",
       "    .dataframe tbody tr th:only-of-type {\n",
       "        vertical-align: middle;\n",
       "    }\n",
       "\n",
       "    .dataframe tbody tr th {\n",
       "        vertical-align: top;\n",
       "    }\n",
       "\n",
       "    .dataframe thead th {\n",
       "        text-align: right;\n",
       "    }\n",
       "</style>\n",
       "<table border=\"1\" class=\"dataframe\">\n",
       "  <thead>\n",
       "    <tr style=\"text-align: right;\">\n",
       "      <th></th>\n",
       "      <th>Borrower_ID</th>\n",
       "      <th>Age</th>\n",
       "      <th>Gender</th>\n",
       "      <th>Employment_Type</th>\n",
       "      <th>Monthly_Income</th>\n",
       "      <th>Num_Dependents</th>\n",
       "      <th>Loan_ID</th>\n",
       "      <th>Loan_Amount</th>\n",
       "      <th>Loan_Tenure</th>\n",
       "      <th>Interest_Rate</th>\n",
       "      <th>Loan_Type</th>\n",
       "      <th>Collateral_Value</th>\n",
       "      <th>Outstanding_Loan_Amount</th>\n",
       "      <th>Monthly_EMI</th>\n",
       "      <th>Payment_History</th>\n",
       "      <th>Num_Missed_Payments</th>\n",
       "      <th>Days_Past_Due</th>\n",
       "      <th>Recovery_Status</th>\n",
       "      <th>Collection_Attempts</th>\n",
       "      <th>Collection_Method</th>\n",
       "      <th>Legal_Action_Taken</th>\n",
       "      <th>EMI_to_Income_Ratio</th>\n",
       "      <th>Collateral_Coverage</th>\n",
       "      <th>Default_Severity</th>\n",
       "      <th>Borrower_Segment</th>\n",
       "      <th>Segment_Name</th>\n",
       "      <th>High_Risk_Flag</th>\n",
       "    </tr>\n",
       "  </thead>\n",
       "  <tbody>\n",
       "    <tr>\n",
       "      <th>5</th>\n",
       "      <td>BRW_6</td>\n",
       "      <td>41</td>\n",
       "      <td>Male</td>\n",
       "      <td>Salaried</td>\n",
       "      <td>238224</td>\n",
       "      <td>3</td>\n",
       "      <td>LN_6</td>\n",
       "      <td>664741</td>\n",
       "      <td>36</td>\n",
       "      <td>15.86</td>\n",
       "      <td>Auto</td>\n",
       "      <td>9.822146e+05</td>\n",
       "      <td>129965.525042</td>\n",
       "      <td>3610.15</td>\n",
       "      <td>On-Time</td>\n",
       "      <td>1</td>\n",
       "      <td>111</td>\n",
       "      <td>Partially Recovered</td>\n",
       "      <td>6</td>\n",
       "      <td>Legal Notice</td>\n",
       "      <td>No</td>\n",
       "      <td>0.015154</td>\n",
       "      <td>1.477590</td>\n",
       "      <td>111</td>\n",
       "      <td>2</td>\n",
       "      <td>Moderate Income, Medium Risk</td>\n",
       "      <td>0</td>\n",
       "    </tr>\n",
       "    <tr>\n",
       "      <th>116</th>\n",
       "      <td>BRW_117</td>\n",
       "      <td>64</td>\n",
       "      <td>Male</td>\n",
       "      <td>Self-Employed</td>\n",
       "      <td>249614</td>\n",
       "      <td>0</td>\n",
       "      <td>LN_117</td>\n",
       "      <td>1926336</td>\n",
       "      <td>72</td>\n",
       "      <td>7.90</td>\n",
       "      <td>Home</td>\n",
       "      <td>1.119518e+06</td>\n",
       "      <td>680411.848349</td>\n",
       "      <td>9450.16</td>\n",
       "      <td>On-Time</td>\n",
       "      <td>0</td>\n",
       "      <td>0</td>\n",
       "      <td>Partially Recovered</td>\n",
       "      <td>1</td>\n",
       "      <td>Calls</td>\n",
       "      <td>No</td>\n",
       "      <td>0.037859</td>\n",
       "      <td>0.581164</td>\n",
       "      <td>0</td>\n",
       "      <td>3</td>\n",
       "      <td>High Loan, Higher Default Risk</td>\n",
       "      <td>1</td>\n",
       "    </tr>\n",
       "    <tr>\n",
       "      <th>45</th>\n",
       "      <td>BRW_46</td>\n",
       "      <td>29</td>\n",
       "      <td>Female</td>\n",
       "      <td>Salaried</td>\n",
       "      <td>24847</td>\n",
       "      <td>0</td>\n",
       "      <td>LN_46</td>\n",
       "      <td>1818361</td>\n",
       "      <td>72</td>\n",
       "      <td>7.58</td>\n",
       "      <td>Auto</td>\n",
       "      <td>2.460683e+06</td>\n",
       "      <td>319736.833397</td>\n",
       "      <td>4440.79</td>\n",
       "      <td>On-Time</td>\n",
       "      <td>0</td>\n",
       "      <td>0</td>\n",
       "      <td>Partially Recovered</td>\n",
       "      <td>7</td>\n",
       "      <td>Debt Collectors</td>\n",
       "      <td>No</td>\n",
       "      <td>0.178725</td>\n",
       "      <td>1.353242</td>\n",
       "      <td>0</td>\n",
       "      <td>2</td>\n",
       "      <td>Moderate Income, Medium Risk</td>\n",
       "      <td>0</td>\n",
       "    </tr>\n",
       "    <tr>\n",
       "      <th>16</th>\n",
       "      <td>BRW_17</td>\n",
       "      <td>42</td>\n",
       "      <td>Male</td>\n",
       "      <td>Salaried</td>\n",
       "      <td>133154</td>\n",
       "      <td>3</td>\n",
       "      <td>LN_17</td>\n",
       "      <td>1256212</td>\n",
       "      <td>24</td>\n",
       "      <td>8.82</td>\n",
       "      <td>Auto</td>\n",
       "      <td>8.436674e+05</td>\n",
       "      <td>703320.021156</td>\n",
       "      <td>29305.00</td>\n",
       "      <td>On-Time</td>\n",
       "      <td>3</td>\n",
       "      <td>171</td>\n",
       "      <td>Fully Recovered</td>\n",
       "      <td>3</td>\n",
       "      <td>Calls</td>\n",
       "      <td>No</td>\n",
       "      <td>0.220084</td>\n",
       "      <td>0.671596</td>\n",
       "      <td>513</td>\n",
       "      <td>0</td>\n",
       "      <td>Moderate Income, High Loan Burden</td>\n",
       "      <td>1</td>\n",
       "    </tr>\n",
       "    <tr>\n",
       "      <th>462</th>\n",
       "      <td>BRW_463</td>\n",
       "      <td>44</td>\n",
       "      <td>Male</td>\n",
       "      <td>Salaried</td>\n",
       "      <td>211133</td>\n",
       "      <td>2</td>\n",
       "      <td>LN_463</td>\n",
       "      <td>963081</td>\n",
       "      <td>12</td>\n",
       "      <td>17.02</td>\n",
       "      <td>Auto</td>\n",
       "      <td>1.014662e+06</td>\n",
       "      <td>541900.377300</td>\n",
       "      <td>45158.36</td>\n",
       "      <td>Missed</td>\n",
       "      <td>10</td>\n",
       "      <td>68</td>\n",
       "      <td>Fully Recovered</td>\n",
       "      <td>3</td>\n",
       "      <td>Settlement Offer</td>\n",
       "      <td>No</td>\n",
       "      <td>0.213886</td>\n",
       "      <td>1.053559</td>\n",
       "      <td>680</td>\n",
       "      <td>0</td>\n",
       "      <td>Moderate Income, High Loan Burden</td>\n",
       "      <td>1</td>\n",
       "    </tr>\n",
       "  </tbody>\n",
       "</table>\n",
       "</div>"
      ],
      "text/plain": [
       "    Borrower_ID  Age  Gender Employment_Type  Monthly_Income  Num_Dependents  \\\n",
       "5         BRW_6   41    Male        Salaried          238224               3   \n",
       "116     BRW_117   64    Male   Self-Employed          249614               0   \n",
       "45       BRW_46   29  Female        Salaried           24847               0   \n",
       "16       BRW_17   42    Male        Salaried          133154               3   \n",
       "462     BRW_463   44    Male        Salaried          211133               2   \n",
       "\n",
       "    Loan_ID  Loan_Amount  Loan_Tenure  Interest_Rate Loan_Type  \\\n",
       "5      LN_6       664741           36          15.86      Auto   \n",
       "116  LN_117      1926336           72           7.90      Home   \n",
       "45    LN_46      1818361           72           7.58      Auto   \n",
       "16    LN_17      1256212           24           8.82      Auto   \n",
       "462  LN_463       963081           12          17.02      Auto   \n",
       "\n",
       "     Collateral_Value  Outstanding_Loan_Amount  Monthly_EMI Payment_History  \\\n",
       "5        9.822146e+05            129965.525042      3610.15         On-Time   \n",
       "116      1.119518e+06            680411.848349      9450.16         On-Time   \n",
       "45       2.460683e+06            319736.833397      4440.79         On-Time   \n",
       "16       8.436674e+05            703320.021156     29305.00         On-Time   \n",
       "462      1.014662e+06            541900.377300     45158.36          Missed   \n",
       "\n",
       "     Num_Missed_Payments  Days_Past_Due      Recovery_Status  \\\n",
       "5                      1            111  Partially Recovered   \n",
       "116                    0              0  Partially Recovered   \n",
       "45                     0              0  Partially Recovered   \n",
       "16                     3            171      Fully Recovered   \n",
       "462                   10             68      Fully Recovered   \n",
       "\n",
       "     Collection_Attempts Collection_Method Legal_Action_Taken  \\\n",
       "5                      6      Legal Notice                 No   \n",
       "116                    1             Calls                 No   \n",
       "45                     7   Debt Collectors                 No   \n",
       "16                     3             Calls                 No   \n",
       "462                    3  Settlement Offer                 No   \n",
       "\n",
       "     EMI_to_Income_Ratio  Collateral_Coverage  Default_Severity  \\\n",
       "5               0.015154             1.477590               111   \n",
       "116             0.037859             0.581164                 0   \n",
       "45              0.178725             1.353242                 0   \n",
       "16              0.220084             0.671596               513   \n",
       "462             0.213886             1.053559               680   \n",
       "\n",
       "     Borrower_Segment                       Segment_Name  High_Risk_Flag  \n",
       "5                   2       Moderate Income, Medium Risk               0  \n",
       "116                 3     High Loan, Higher Default Risk               1  \n",
       "45                  2       Moderate Income, Medium Risk               0  \n",
       "16                  0  Moderate Income, High Loan Burden               1  \n",
       "462                 0  Moderate Income, High Loan Burden               1  "
      ]
     },
     "execution_count": 52,
     "metadata": {},
     "output_type": "execute_result"
    }
   ],
   "source": [
    "# Train Data:\n",
    "train_data.head(5)"
   ]
  },
  {
   "cell_type": "code",
   "execution_count": 53,
   "id": "f518c857",
   "metadata": {},
   "outputs": [
    {
     "data": {
      "text/html": [
       "<div>\n",
       "<style scoped>\n",
       "    .dataframe tbody tr th:only-of-type {\n",
       "        vertical-align: middle;\n",
       "    }\n",
       "\n",
       "    .dataframe tbody tr th {\n",
       "        vertical-align: top;\n",
       "    }\n",
       "\n",
       "    .dataframe thead th {\n",
       "        text-align: right;\n",
       "    }\n",
       "</style>\n",
       "<table border=\"1\" class=\"dataframe\">\n",
       "  <thead>\n",
       "    <tr style=\"text-align: right;\">\n",
       "      <th></th>\n",
       "      <th>Borrower_ID</th>\n",
       "      <th>Age</th>\n",
       "      <th>Gender</th>\n",
       "      <th>Employment_Type</th>\n",
       "      <th>Monthly_Income</th>\n",
       "      <th>Num_Dependents</th>\n",
       "      <th>Loan_ID</th>\n",
       "      <th>Loan_Amount</th>\n",
       "      <th>Loan_Tenure</th>\n",
       "      <th>Interest_Rate</th>\n",
       "      <th>Loan_Type</th>\n",
       "      <th>Collateral_Value</th>\n",
       "      <th>Outstanding_Loan_Amount</th>\n",
       "      <th>Monthly_EMI</th>\n",
       "      <th>Payment_History</th>\n",
       "      <th>Num_Missed_Payments</th>\n",
       "      <th>Days_Past_Due</th>\n",
       "      <th>Recovery_Status</th>\n",
       "      <th>Collection_Attempts</th>\n",
       "      <th>Collection_Method</th>\n",
       "      <th>Legal_Action_Taken</th>\n",
       "      <th>EMI_to_Income_Ratio</th>\n",
       "      <th>Collateral_Coverage</th>\n",
       "      <th>Default_Severity</th>\n",
       "      <th>Borrower_Segment</th>\n",
       "      <th>Segment_Name</th>\n",
       "      <th>High_Risk_Flag</th>\n",
       "      <th>Predicted_Risk_Score</th>\n",
       "      <th>Predicted_High_Risk</th>\n",
       "      <th>Recommend_Recovery_Strategy</th>\n",
       "    </tr>\n",
       "  </thead>\n",
       "  <tbody>\n",
       "    <tr>\n",
       "      <th>361</th>\n",
       "      <td>BRW_362</td>\n",
       "      <td>55</td>\n",
       "      <td>Female</td>\n",
       "      <td>Salaried</td>\n",
       "      <td>141888</td>\n",
       "      <td>0</td>\n",
       "      <td>LN_362</td>\n",
       "      <td>1753834</td>\n",
       "      <td>72</td>\n",
       "      <td>17.81</td>\n",
       "      <td>Auto</td>\n",
       "      <td>1.601439e+06</td>\n",
       "      <td>1.475467e+06</td>\n",
       "      <td>20492.60</td>\n",
       "      <td>On-Time</td>\n",
       "      <td>3</td>\n",
       "      <td>78</td>\n",
       "      <td>Fully Recovered</td>\n",
       "      <td>2</td>\n",
       "      <td>Debt Collectors</td>\n",
       "      <td>No</td>\n",
       "      <td>0.144428</td>\n",
       "      <td>0.913107</td>\n",
       "      <td>234</td>\n",
       "      <td>1</td>\n",
       "      <td>High Income, Low Default Risk</td>\n",
       "      <td>0</td>\n",
       "      <td>0.004774</td>\n",
       "      <td>0</td>\n",
       "      <td>Send automated payment reminders, schedule regular financial health reviews, and maintain active borrower engagement for early warnings.</td>\n",
       "    </tr>\n",
       "    <tr>\n",
       "      <th>73</th>\n",
       "      <td>BRW_74</td>\n",
       "      <td>28</td>\n",
       "      <td>Male</td>\n",
       "      <td>Salaried</td>\n",
       "      <td>79178</td>\n",
       "      <td>3</td>\n",
       "      <td>LN_74</td>\n",
       "      <td>1482769</td>\n",
       "      <td>72</td>\n",
       "      <td>6.39</td>\n",
       "      <td>Personal</td>\n",
       "      <td>0.000000e+00</td>\n",
       "      <td>3.812657e+05</td>\n",
       "      <td>5295.36</td>\n",
       "      <td>On-Time</td>\n",
       "      <td>2</td>\n",
       "      <td>7</td>\n",
       "      <td>Fully Recovered</td>\n",
       "      <td>3</td>\n",
       "      <td>Calls</td>\n",
       "      <td>No</td>\n",
       "      <td>0.066879</td>\n",
       "      <td>0.000000</td>\n",
       "      <td>14</td>\n",
       "      <td>3</td>\n",
       "      <td>High Loan, Higher Default Risk</td>\n",
       "      <td>1</td>\n",
       "      <td>0.999344</td>\n",
       "      <td>1</td>\n",
       "      <td>Initiate legal proceedings with asset seizure notices, escalate to external recovery agencies, and enforce loan recovery under default clauses.</td>\n",
       "    </tr>\n",
       "    <tr>\n",
       "      <th>374</th>\n",
       "      <td>BRW_375</td>\n",
       "      <td>35</td>\n",
       "      <td>Female</td>\n",
       "      <td>Self-Employed</td>\n",
       "      <td>237374</td>\n",
       "      <td>0</td>\n",
       "      <td>LN_375</td>\n",
       "      <td>846710</td>\n",
       "      <td>36</td>\n",
       "      <td>12.84</td>\n",
       "      <td>Home</td>\n",
       "      <td>1.037463e+06</td>\n",
       "      <td>6.279152e+05</td>\n",
       "      <td>17442.09</td>\n",
       "      <td>On-Time</td>\n",
       "      <td>0</td>\n",
       "      <td>0</td>\n",
       "      <td>Fully Recovered</td>\n",
       "      <td>0</td>\n",
       "      <td>Legal Notice</td>\n",
       "      <td>No</td>\n",
       "      <td>0.073479</td>\n",
       "      <td>1.225287</td>\n",
       "      <td>0</td>\n",
       "      <td>2</td>\n",
       "      <td>Moderate Income, Medium Risk</td>\n",
       "      <td>0</td>\n",
       "      <td>0.002313</td>\n",
       "      <td>0</td>\n",
       "      <td>Send automated payment reminders, schedule regular financial health reviews, and maintain active borrower engagement for early warnings.</td>\n",
       "    </tr>\n",
       "    <tr>\n",
       "      <th>155</th>\n",
       "      <td>BRW_156</td>\n",
       "      <td>22</td>\n",
       "      <td>Female</td>\n",
       "      <td>Self-Employed</td>\n",
       "      <td>133516</td>\n",
       "      <td>3</td>\n",
       "      <td>LN_156</td>\n",
       "      <td>1917306</td>\n",
       "      <td>24</td>\n",
       "      <td>7.66</td>\n",
       "      <td>Personal</td>\n",
       "      <td>0.000000e+00</td>\n",
       "      <td>1.374051e+06</td>\n",
       "      <td>57252.12</td>\n",
       "      <td>Missed</td>\n",
       "      <td>1</td>\n",
       "      <td>166</td>\n",
       "      <td>Fully Recovered</td>\n",
       "      <td>2</td>\n",
       "      <td>Debt Collectors</td>\n",
       "      <td>No</td>\n",
       "      <td>0.428803</td>\n",
       "      <td>0.000000</td>\n",
       "      <td>166</td>\n",
       "      <td>1</td>\n",
       "      <td>High Income, Low Default Risk</td>\n",
       "      <td>0</td>\n",
       "      <td>0.063435</td>\n",
       "      <td>0</td>\n",
       "      <td>Send automated payment reminders, schedule regular financial health reviews, and maintain active borrower engagement for early warnings.</td>\n",
       "    </tr>\n",
       "    <tr>\n",
       "      <th>104</th>\n",
       "      <td>BRW_105</td>\n",
       "      <td>61</td>\n",
       "      <td>Female</td>\n",
       "      <td>Salaried</td>\n",
       "      <td>150542</td>\n",
       "      <td>2</td>\n",
       "      <td>LN_105</td>\n",
       "      <td>1190844</td>\n",
       "      <td>12</td>\n",
       "      <td>15.14</td>\n",
       "      <td>Personal</td>\n",
       "      <td>0.000000e+00</td>\n",
       "      <td>1.015521e+06</td>\n",
       "      <td>84626.74</td>\n",
       "      <td>Delayed</td>\n",
       "      <td>3</td>\n",
       "      <td>147</td>\n",
       "      <td>Written Off</td>\n",
       "      <td>10</td>\n",
       "      <td>Legal Notice</td>\n",
       "      <td>No</td>\n",
       "      <td>0.562147</td>\n",
       "      <td>0.000000</td>\n",
       "      <td>441</td>\n",
       "      <td>1</td>\n",
       "      <td>High Income, Low Default Risk</td>\n",
       "      <td>0</td>\n",
       "      <td>0.632764</td>\n",
       "      <td>1</td>\n",
       "      <td>Offer structured settlements with penal interest adjustments, negotiate revised EMI plans, and initiate soft legal notices.</td>\n",
       "    </tr>\n",
       "  </tbody>\n",
       "</table>\n",
       "</div>"
      ],
      "text/plain": [
       "    Borrower_ID  Age  Gender Employment_Type  Monthly_Income  Num_Dependents  \\\n",
       "361     BRW_362   55  Female        Salaried          141888               0   \n",
       "73       BRW_74   28    Male        Salaried           79178               3   \n",
       "374     BRW_375   35  Female   Self-Employed          237374               0   \n",
       "155     BRW_156   22  Female   Self-Employed          133516               3   \n",
       "104     BRW_105   61  Female        Salaried          150542               2   \n",
       "\n",
       "    Loan_ID  Loan_Amount  Loan_Tenure  Interest_Rate Loan_Type  \\\n",
       "361  LN_362      1753834           72          17.81      Auto   \n",
       "73    LN_74      1482769           72           6.39  Personal   \n",
       "374  LN_375       846710           36          12.84      Home   \n",
       "155  LN_156      1917306           24           7.66  Personal   \n",
       "104  LN_105      1190844           12          15.14  Personal   \n",
       "\n",
       "     Collateral_Value  Outstanding_Loan_Amount  Monthly_EMI Payment_History  \\\n",
       "361      1.601439e+06             1.475467e+06     20492.60         On-Time   \n",
       "73       0.000000e+00             3.812657e+05      5295.36         On-Time   \n",
       "374      1.037463e+06             6.279152e+05     17442.09         On-Time   \n",
       "155      0.000000e+00             1.374051e+06     57252.12          Missed   \n",
       "104      0.000000e+00             1.015521e+06     84626.74         Delayed   \n",
       "\n",
       "     Num_Missed_Payments  Days_Past_Due  Recovery_Status  Collection_Attempts  \\\n",
       "361                    3             78  Fully Recovered                    2   \n",
       "73                     2              7  Fully Recovered                    3   \n",
       "374                    0              0  Fully Recovered                    0   \n",
       "155                    1            166  Fully Recovered                    2   \n",
       "104                    3            147      Written Off                   10   \n",
       "\n",
       "    Collection_Method Legal_Action_Taken  EMI_to_Income_Ratio  \\\n",
       "361   Debt Collectors                 No             0.144428   \n",
       "73              Calls                 No             0.066879   \n",
       "374      Legal Notice                 No             0.073479   \n",
       "155   Debt Collectors                 No             0.428803   \n",
       "104      Legal Notice                 No             0.562147   \n",
       "\n",
       "     Collateral_Coverage  Default_Severity  Borrower_Segment  \\\n",
       "361             0.913107               234                 1   \n",
       "73              0.000000                14                 3   \n",
       "374             1.225287                 0                 2   \n",
       "155             0.000000               166                 1   \n",
       "104             0.000000               441                 1   \n",
       "\n",
       "                       Segment_Name  High_Risk_Flag  Predicted_Risk_Score  \\\n",
       "361   High Income, Low Default Risk               0              0.004774   \n",
       "73   High Loan, Higher Default Risk               1              0.999344   \n",
       "374    Moderate Income, Medium Risk               0              0.002313   \n",
       "155   High Income, Low Default Risk               0              0.063435   \n",
       "104   High Income, Low Default Risk               0              0.632764   \n",
       "\n",
       "     Predicted_High_Risk  \\\n",
       "361                    0   \n",
       "73                     1   \n",
       "374                    0   \n",
       "155                    0   \n",
       "104                    1   \n",
       "\n",
       "                                                                                                                         Recommend_Recovery_Strategy  \n",
       "361         Send automated payment reminders, schedule regular financial health reviews, and maintain active borrower engagement for early warnings.  \n",
       "73   Initiate legal proceedings with asset seizure notices, escalate to external recovery agencies, and enforce loan recovery under default clauses.  \n",
       "374         Send automated payment reminders, schedule regular financial health reviews, and maintain active borrower engagement for early warnings.  \n",
       "155         Send automated payment reminders, schedule regular financial health reviews, and maintain active borrower engagement for early warnings.  \n",
       "104                      Offer structured settlements with penal interest adjustments, negotiate revised EMI plans, and initiate soft legal notices.  "
      ]
     },
     "execution_count": 53,
     "metadata": {},
     "output_type": "execute_result"
    }
   ],
   "source": [
    "# Test Data:\n",
    "test_data.head(5)"
   ]
  },
  {
   "cell_type": "code",
   "execution_count": 55,
   "id": "b7f93a47",
   "metadata": {},
   "outputs": [
    {
     "name": "stdout",
     "output_type": "stream",
     "text": [
      "Saved the final dataset: (500, 30)\n"
     ]
    }
   ],
   "source": [
    "# Create a new merged DataFrame and save as reference_data.pkl\n",
    "\n",
    "reference_data = pd.concat([train_data, test_data], ignore_index=True)\n",
    "reference_data.to_pickle(\"reference_data.pkl\")\n",
    "reference_data.to_csv(\"reference_data.csv\")\n",
    "\n",
    "print(f\"Saved the final dataset: {reference_data.shape}\")"
   ]
  },
  {
   "cell_type": "code",
   "execution_count": 123,
   "id": "7e6d393d",
   "metadata": {},
   "outputs": [
    {
     "name": "stdout",
     "output_type": "stream",
     "text": [
      "Trained Model Saved Successfully!\n"
     ]
    }
   ],
   "source": [
    "# Save the Trained Model:\n",
    "import pickle\n",
    "\n",
    "with open('xgb.pkl', 'wb') as f:\n",
    "    pickle.dump(xgb, f)\n",
    "\n",
    "print(\"Trained Model Saved Successfully!\")"
   ]
  },
  {
   "cell_type": "code",
   "execution_count": 124,
   "id": "5965066f",
   "metadata": {},
   "outputs": [
    {
     "name": "stdout",
     "output_type": "stream",
     "text": [
      "Scalar was saved!\n"
     ]
    }
   ],
   "source": [
    "# Save Scaler:\n",
    "\n",
    "with open('scaler.pkl', 'wb') as f:\n",
    "    pickle.dump(scaler, f)\n",
    "\n",
    "print(\"Scalar was saved!\")"
   ]
  },
  {
   "cell_type": "code",
   "execution_count": 126,
   "id": "e8975a87",
   "metadata": {},
   "outputs": [
    {
     "name": "stdout",
     "output_type": "stream",
     "text": [
      "Features are Saved and ready to go!\n"
     ]
    }
   ],
   "source": [
    "# Save Features:\n",
    "\n",
    "features = [\n",
    "    'Age', 'Monthly_Income', 'Num_Dependents', 'Loan_Amount', 'Loan_Tenure',\n",
    "    'Interest_Rate', 'Collateral_Value', 'Outstanding_Loan_Amount',\n",
    "    'Monthly_EMI', 'Num_Missed_Payments', 'Days_Past_Due',\n",
    "    'EMI_to_Income_Ratio', 'Collateral_Coverage', 'Default_Severity'\n",
    "]\n",
    "\n",
    "with open('features.pkl', 'wb') as f:\n",
    "    pickle.dump(features, f)\n",
    "\n",
    "print(\"Features are Saved and ready to go!\")"
   ]
  },
  {
   "cell_type": "code",
   "execution_count": 128,
   "id": "c6dc6d96",
   "metadata": {},
   "outputs": [
    {
     "name": "stdout",
     "output_type": "stream",
     "text": [
      "KMeans saved for Segmentation!\n"
     ]
    }
   ],
   "source": [
    "# Save K-Means Model (For Segmentation):\n",
    "\n",
    "with open('kmeans.pkl', 'wb') as f:\n",
    "    pickle.dump(kmeans, f)\n",
    "\n",
    "print(\"KMeans saved for Segmentation!\")\n"
   ]
  },
  {
   "cell_type": "code",
   "execution_count": 130,
   "id": "20fcb675",
   "metadata": {},
   "outputs": [
    {
     "name": "stdout",
     "output_type": "stream",
     "text": [
      "Segment Mapping is Saved!\n"
     ]
    }
   ],
   "source": [
    "# Save Segment Mapping:\n",
    "\n",
    "segment_names = {\n",
    "    0: 'Moderate Income, High Loan Burden',\n",
    "    1: 'High Income, Low Default Risk',\n",
    "    2: 'Moderate Income, Medium Risk',\n",
    "    3: 'High Loan, Higher Default Risk'\n",
    "}\n",
    "\n",
    "with open('segment_names.pkl', 'wb') as f:\n",
    "    pickle.dump(segment_names, f)\n",
    "\n",
    "print(\"Segment Mapping is Saved!\")"
   ]
  },
  {
   "cell_type": "code",
   "execution_count": 19,
   "id": "c05675dd",
   "metadata": {},
   "outputs": [
    {
     "name": "stdout",
     "output_type": "stream",
     "text": [
      "Gender Mapping Saved!\n"
     ]
    }
   ],
   "source": [
    "# Saving Gender Mapping:\n",
    "\n",
    "gender_map = {'Male': 0, 'Female': 1}\n",
    "with open('gender_map.pkl', 'wb') as f:\n",
    "    pickle.dump(gender_map, f)\n",
    "\n",
    "print(\"Gender Mapping Saved!\")"
   ]
  },
  {
   "cell_type": "code",
   "execution_count": 20,
   "id": "a220cf48",
   "metadata": {},
   "outputs": [
    {
     "ename": "NameError",
     "evalue": "name 'train_data' is not defined",
     "output_type": "error",
     "traceback": [
      "\u001b[1;31m---------------------------------------------------------------------------\u001b[0m",
      "\u001b[1;31mNameError\u001b[0m                                 Traceback (most recent call last)",
      "Cell \u001b[1;32mIn[20], line 1\u001b[0m\n\u001b[1;32m----> 1\u001b[0m train_data\u001b[38;5;241m.\u001b[39mhead(\u001b[38;5;241m5\u001b[39m)\n",
      "\u001b[1;31mNameError\u001b[0m: name 'train_data' is not defined"
     ]
    }
   ],
   "source": [
    "train_data.head(5)"
   ]
  },
  {
   "cell_type": "markdown",
   "id": "4c736055",
   "metadata": {},
   "source": [
    "---"
   ]
  }
 ],
 "metadata": {
  "kernelspec": {
   "display_name": "base",
   "language": "python",
   "name": "python3"
  },
  "language_info": {
   "codemirror_mode": {
    "name": "ipython",
    "version": 3
   },
   "file_extension": ".py",
   "mimetype": "text/x-python",
   "name": "python",
   "nbconvert_exporter": "python",
   "pygments_lexer": "ipython3",
   "version": "3.12.4"
  }
 },
 "nbformat": 4,
 "nbformat_minor": 5
}
